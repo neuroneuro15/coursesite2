{
 "cells": [
  {
   "cell_type": "code",
   "execution_count": 1,
   "metadata": {
    "collapsed": true,
    "slideshow": {
     "slide_type": "skip"
    }
   },
   "outputs": [],
   "source": [
    "%matplotlib notebook"
   ]
  },
  {
   "cell_type": "code",
   "execution_count": 2,
   "metadata": {
    "collapsed": true,
    "slideshow": {
     "slide_type": "skip"
    }
   },
   "outputs": [],
   "source": [
    "import matplotlib.pyplot as plt\n",
    "import pandas as pd\n"
   ]
  },
  {
   "cell_type": "code",
   "execution_count": 3,
   "metadata": {
    "collapsed": true,
    "slideshow": {
     "slide_type": "skip"
    }
   },
   "outputs": [],
   "source": [
    "plt.style.use('ggplot')"
   ]
  },
  {
   "cell_type": "code",
   "execution_count": 4,
   "metadata": {
    "collapsed": true,
    "slideshow": {
     "slide_type": "skip"
    }
   },
   "outputs": [],
   "source": [
    "from IPython.display import Image, HTML"
   ]
  },
  {
   "cell_type": "markdown",
   "metadata": {
    "slideshow": {
     "slide_type": "slide"
    }
   },
   "source": [
    "# Introduction to Scientific Programming in Python\n",
    "\n",
    "## Lecture 1"
   ]
  },
  {
   "cell_type": "markdown",
   "metadata": {
    "slideshow": {
     "slide_type": "slide"
    }
   },
   "source": [
    "# For the Course, You Need:\n",
    "\n",
    "  - A laptop computer with **Python 3** installed\n",
    "  - The following Python packages installed (taken care of if Anaconda was installed):\n",
    "    - **NumPy**  (import numpy)\n",
    "    - **Pandas**  (import pandas)\n",
    "    - **Scipy**  (import scipy)\n",
    "    - **Matplotlib**  (import matplotlib)\n",
    "  - **IPython** and **Jupyter Notebook** should be installed"
   ]
  },
  {
   "cell_type": "markdown",
   "metadata": {
    "slideshow": {
     "slide_type": "subslide"
    }
   },
   "source": [
    "# Course Expectations\n",
    "\n",
    "By the end of the course, you should:\n",
    "  - be familiar with core programming concepts and approaches to solving problems.\n",
    "  - be familiar with the core tools in python for performing scientific analysis.\n",
    "  - be comfortable discovering and using new python packages beyond the core tools."
   ]
  },
  {
   "cell_type": "markdown",
   "metadata": {
    "slideshow": {
     "slide_type": "subslide"
    }
   },
   "source": [
    "## Course Plan\n",
    "  - **Weeks 1-2**: Core Python Review and Intro to IPython and Jupyter Notebook\n",
    "  - **Weeks 3-4**: Building Matrices in NumPy\n",
    "  - **Weeks 5-6**: Reading Data Files and Plotting in Matplotlib\n",
    "  - **Weeks 7-8**: Building DataFrames and Plotting in Pandas and Seaborn\n",
    "  - **Week 9**: Statistics in Scipy Stats\n",
    "  - **Week 10**: Review and Group Presentations\n",
    "  \n",
    "Reach Goals: Statistical Modeling in statsmodels, psych stimulus experiments in PsychoPy"
   ]
  },
  {
   "cell_type": "markdown",
   "metadata": {
    "slideshow": {
     "slide_type": "slide"
    }
   },
   "source": [
    "# What is Python?\n",
    "\n",
    "## Python is a General-Purpose Scripting Language"
   ]
  },
  {
   "cell_type": "code",
   "execution_count": 5,
   "metadata": {
    "collapsed": false
   },
   "outputs": [
    {
     "name": "stdout",
     "output_type": "stream",
     "text": [
      "In fact, this presentation is being run in Python!\n",
      "5\n"
     ]
    }
   ],
   "source": [
    "print('In fact, this presentation is being run in Python!')\n",
    "a = 3 + 2\n",
    "Image(url='https://upload.wikimedia.org/wikipedia/commons/thumb/c/c3/Python-logo-notext.svg/1024px-Python-logo-notext.svg.png',\n",
    "     width=200)\n",
    "\n",
    "print(a)\n",
    "\n"
   ]
  },
  {
   "cell_type": "markdown",
   "metadata": {
    "slideshow": {
     "slide_type": "subslide"
    }
   },
   "source": [
    "## General Purpose\n",
    "  - Quicker Learning: Easy to Perform Different Tasks in the Same Environment\n",
    "  - Code Complexity doesn't change when your task changes\n",
    "  \n",
    "## Scripting Language\n",
    "  - Code compiles down to additional intermediate programming languages before running.\n",
    "  - Makes code easier to read, often at the cost of performance.\n",
    "  - Human Time is often more valuable than Computer Time\n",
    "  - CPython vs Jython vs PyPy"
   ]
  },
  {
   "cell_type": "markdown",
   "metadata": {
    "slideshow": {
     "slide_type": "subslide"
    }
   },
   "source": [
    "# Quick Aside: Python vs Matlab\n",
    "\n",
    "(For More info, please see http://www.pyzo.org/_images/pythonvsmatlab.png)"
   ]
  },
  {
   "cell_type": "code",
   "execution_count": 6,
   "metadata": {
    "collapsed": false
   },
   "outputs": [
    {
     "data": {
      "text/html": [
       "<img src=\"http://www.pyzo.org/_images/pythonvsmatlab.png\" width=\"1000\"/>"
      ],
      "text/plain": [
       "<IPython.core.display.Image object>"
      ]
     },
     "execution_count": 6,
     "metadata": {},
     "output_type": "execute_result"
    }
   ],
   "source": [
    "Image(url='http://www.pyzo.org/_images/pythonvsmatlab.png',\n",
    "      width=1000)"
   ]
  },
  {
   "cell_type": "markdown",
   "metadata": {
    "slideshow": {
     "slide_type": "slide"
    }
   },
   "source": [
    "# Scientific Programming Exercise\n",
    "\n",
    "Scientific Programming is the combined set of tasks that scientists must perform to analyze and understand their data.  This includes, but is not limited to:\n",
    "  - Accessing Data\n",
    "  - Transforming Data\n",
    "  - Statistical Analysis of Data\n",
    "  - Plotting Data\n",
    "  - Creating Figures for Publication\n",
    "  \n",
    "**Take Home Message**: Scientific Programming is all about __scientific data__."
   ]
  },
  {
   "cell_type": "markdown",
   "metadata": {
    "slideshow": {
     "slide_type": "subslide"
    }
   },
   "source": [
    "# Informal Class Poll: Raise Your Hand If:\n"
   ]
  },
  {
   "cell_type": "markdown",
   "metadata": {
    "slideshow": {
     "slide_type": "fragment"
    }
   },
   "source": [
    "##  You are a Bachelor's Student."
   ]
  },
  {
   "cell_type": "code",
   "execution_count": 40,
   "metadata": {
    "collapsed": true
   },
   "outputs": [],
   "source": [
    "education_level = {'bachelor': 0,\n",
    "                   'master': 2,\n",
    "                   'phd': 10,\n",
    "                   'postdoc': 4}"
   ]
  },
  {
   "cell_type": "markdown",
   "metadata": {
    "slideshow": {
     "slide_type": "fragment"
    }
   },
   "source": [
    "## Your laptop is running Windows."
   ]
  },
  {
   "cell_type": "code",
   "execution_count": 41,
   "metadata": {
    "collapsed": true
   },
   "outputs": [],
   "source": [
    "operating_system = {'windows': 10,\n",
    "                    'mac': 10,\n",
    "                    'linux': 3}"
   ]
  },
  {
   "cell_type": "markdown",
   "metadata": {
    "slideshow": {
     "slide_type": "subslide"
    }
   },
   "source": [
    "## Your Lab Uses Python"
   ]
  },
  {
   "cell_type": "code",
   "execution_count": 43,
   "metadata": {
    "collapsed": true
   },
   "outputs": [],
   "source": [
    "lab_languages = {'python': 16,\n",
    "                 'matlab': 20,\n",
    "                 'r': 6,\n",
    "                 'julia': 1,\n",
    "                 'other': 2}"
   ]
  },
  {
   "cell_type": "markdown",
   "metadata": {
    "slideshow": {
     "slide_type": "fragment"
    }
   },
   "source": [
    "## You Have Experience in Python."
   ]
  },
  {
   "cell_type": "code",
   "execution_count": 44,
   "metadata": {
    "collapsed": true
   },
   "outputs": [],
   "source": [
    "languages = {'python': 5,\n",
    "             'matlab': 10,\n",
    "             'r': 2,\n",
    "             'julia': 0,\n",
    "             'other': 2}"
   ]
  },
  {
   "cell_type": "code",
   "execution_count": 11,
   "metadata": {
    "collapsed": false,
    "slideshow": {
     "slide_type": "skip"
    }
   },
   "outputs": [
    {
     "data": {
      "application/javascript": [
       "/* Put everything inside the global mpl namespace */\n",
       "window.mpl = {};\n",
       "\n",
       "mpl.get_websocket_type = function() {\n",
       "    if (typeof(WebSocket) !== 'undefined') {\n",
       "        return WebSocket;\n",
       "    } else if (typeof(MozWebSocket) !== 'undefined') {\n",
       "        return MozWebSocket;\n",
       "    } else {\n",
       "        alert('Your browser does not have WebSocket support.' +\n",
       "              'Please try Chrome, Safari or Firefox ≥ 6. ' +\n",
       "              'Firefox 4 and 5 are also supported but you ' +\n",
       "              'have to enable WebSockets in about:config.');\n",
       "    };\n",
       "}\n",
       "\n",
       "mpl.figure = function(figure_id, websocket, ondownload, parent_element) {\n",
       "    this.id = figure_id;\n",
       "\n",
       "    this.ws = websocket;\n",
       "\n",
       "    this.supports_binary = (this.ws.binaryType != undefined);\n",
       "\n",
       "    if (!this.supports_binary) {\n",
       "        var warnings = document.getElementById(\"mpl-warnings\");\n",
       "        if (warnings) {\n",
       "            warnings.style.display = 'block';\n",
       "            warnings.textContent = (\n",
       "                \"This browser does not support binary websocket messages. \" +\n",
       "                    \"Performance may be slow.\");\n",
       "        }\n",
       "    }\n",
       "\n",
       "    this.imageObj = new Image();\n",
       "\n",
       "    this.context = undefined;\n",
       "    this.message = undefined;\n",
       "    this.canvas = undefined;\n",
       "    this.rubberband_canvas = undefined;\n",
       "    this.rubberband_context = undefined;\n",
       "    this.format_dropdown = undefined;\n",
       "\n",
       "    this.image_mode = 'full';\n",
       "\n",
       "    this.root = $('<div/>');\n",
       "    this._root_extra_style(this.root)\n",
       "    this.root.attr('style', 'display: inline-block');\n",
       "\n",
       "    $(parent_element).append(this.root);\n",
       "\n",
       "    this._init_header(this);\n",
       "    this._init_canvas(this);\n",
       "    this._init_toolbar(this);\n",
       "\n",
       "    var fig = this;\n",
       "\n",
       "    this.waiting = false;\n",
       "\n",
       "    this.ws.onopen =  function () {\n",
       "            fig.send_message(\"supports_binary\", {value: fig.supports_binary});\n",
       "            fig.send_message(\"send_image_mode\", {});\n",
       "            fig.send_message(\"refresh\", {});\n",
       "        }\n",
       "\n",
       "    this.imageObj.onload = function() {\n",
       "            if (fig.image_mode == 'full') {\n",
       "                // Full images could contain transparency (where diff images\n",
       "                // almost always do), so we need to clear the canvas so that\n",
       "                // there is no ghosting.\n",
       "                fig.context.clearRect(0, 0, fig.canvas.width, fig.canvas.height);\n",
       "            }\n",
       "            fig.context.drawImage(fig.imageObj, 0, 0);\n",
       "        };\n",
       "\n",
       "    this.imageObj.onunload = function() {\n",
       "        this.ws.close();\n",
       "    }\n",
       "\n",
       "    this.ws.onmessage = this._make_on_message_function(this);\n",
       "\n",
       "    this.ondownload = ondownload;\n",
       "}\n",
       "\n",
       "mpl.figure.prototype._init_header = function() {\n",
       "    var titlebar = $(\n",
       "        '<div class=\"ui-dialog-titlebar ui-widget-header ui-corner-all ' +\n",
       "        'ui-helper-clearfix\"/>');\n",
       "    var titletext = $(\n",
       "        '<div class=\"ui-dialog-title\" style=\"width: 100%; ' +\n",
       "        'text-align: center; padding: 3px;\"/>');\n",
       "    titlebar.append(titletext)\n",
       "    this.root.append(titlebar);\n",
       "    this.header = titletext[0];\n",
       "}\n",
       "\n",
       "\n",
       "\n",
       "mpl.figure.prototype._canvas_extra_style = function(canvas_div) {\n",
       "\n",
       "}\n",
       "\n",
       "\n",
       "mpl.figure.prototype._root_extra_style = function(canvas_div) {\n",
       "\n",
       "}\n",
       "\n",
       "mpl.figure.prototype._init_canvas = function() {\n",
       "    var fig = this;\n",
       "\n",
       "    var canvas_div = $('<div/>');\n",
       "\n",
       "    canvas_div.attr('style', 'position: relative; clear: both; outline: 0');\n",
       "\n",
       "    function canvas_keyboard_event(event) {\n",
       "        return fig.key_event(event, event['data']);\n",
       "    }\n",
       "\n",
       "    canvas_div.keydown('key_press', canvas_keyboard_event);\n",
       "    canvas_div.keyup('key_release', canvas_keyboard_event);\n",
       "    this.canvas_div = canvas_div\n",
       "    this._canvas_extra_style(canvas_div)\n",
       "    this.root.append(canvas_div);\n",
       "\n",
       "    var canvas = $('<canvas/>');\n",
       "    canvas.addClass('mpl-canvas');\n",
       "    canvas.attr('style', \"left: 0; top: 0; z-index: 0; outline: 0\")\n",
       "\n",
       "    this.canvas = canvas[0];\n",
       "    this.context = canvas[0].getContext(\"2d\");\n",
       "\n",
       "    var rubberband = $('<canvas/>');\n",
       "    rubberband.attr('style', \"position: absolute; left: 0; top: 0; z-index: 1;\")\n",
       "\n",
       "    var pass_mouse_events = true;\n",
       "\n",
       "    canvas_div.resizable({\n",
       "        start: function(event, ui) {\n",
       "            pass_mouse_events = false;\n",
       "        },\n",
       "        resize: function(event, ui) {\n",
       "            fig.request_resize(ui.size.width, ui.size.height);\n",
       "        },\n",
       "        stop: function(event, ui) {\n",
       "            pass_mouse_events = true;\n",
       "            fig.request_resize(ui.size.width, ui.size.height);\n",
       "        },\n",
       "    });\n",
       "\n",
       "    function mouse_event_fn(event) {\n",
       "        if (pass_mouse_events)\n",
       "            return fig.mouse_event(event, event['data']);\n",
       "    }\n",
       "\n",
       "    rubberband.mousedown('button_press', mouse_event_fn);\n",
       "    rubberband.mouseup('button_release', mouse_event_fn);\n",
       "    // Throttle sequential mouse events to 1 every 20ms.\n",
       "    rubberband.mousemove('motion_notify', mouse_event_fn);\n",
       "\n",
       "    rubberband.mouseenter('figure_enter', mouse_event_fn);\n",
       "    rubberband.mouseleave('figure_leave', mouse_event_fn);\n",
       "\n",
       "    canvas_div.on(\"wheel\", function (event) {\n",
       "        event = event.originalEvent;\n",
       "        event['data'] = 'scroll'\n",
       "        if (event.deltaY < 0) {\n",
       "            event.step = 1;\n",
       "        } else {\n",
       "            event.step = -1;\n",
       "        }\n",
       "        mouse_event_fn(event);\n",
       "    });\n",
       "\n",
       "    canvas_div.append(canvas);\n",
       "    canvas_div.append(rubberband);\n",
       "\n",
       "    this.rubberband = rubberband;\n",
       "    this.rubberband_canvas = rubberband[0];\n",
       "    this.rubberband_context = rubberband[0].getContext(\"2d\");\n",
       "    this.rubberband_context.strokeStyle = \"#000000\";\n",
       "\n",
       "    this._resize_canvas = function(width, height) {\n",
       "        // Keep the size of the canvas, canvas container, and rubber band\n",
       "        // canvas in synch.\n",
       "        canvas_div.css('width', width)\n",
       "        canvas_div.css('height', height)\n",
       "\n",
       "        canvas.attr('width', width);\n",
       "        canvas.attr('height', height);\n",
       "\n",
       "        rubberband.attr('width', width);\n",
       "        rubberband.attr('height', height);\n",
       "    }\n",
       "\n",
       "    // Set the figure to an initial 600x600px, this will subsequently be updated\n",
       "    // upon first draw.\n",
       "    this._resize_canvas(600, 600);\n",
       "\n",
       "    // Disable right mouse context menu.\n",
       "    $(this.rubberband_canvas).bind(\"contextmenu\",function(e){\n",
       "        return false;\n",
       "    });\n",
       "\n",
       "    function set_focus () {\n",
       "        canvas.focus();\n",
       "        canvas_div.focus();\n",
       "    }\n",
       "\n",
       "    window.setTimeout(set_focus, 100);\n",
       "}\n",
       "\n",
       "mpl.figure.prototype._init_toolbar = function() {\n",
       "    var fig = this;\n",
       "\n",
       "    var nav_element = $('<div/>')\n",
       "    nav_element.attr('style', 'width: 100%');\n",
       "    this.root.append(nav_element);\n",
       "\n",
       "    // Define a callback function for later on.\n",
       "    function toolbar_event(event) {\n",
       "        return fig.toolbar_button_onclick(event['data']);\n",
       "    }\n",
       "    function toolbar_mouse_event(event) {\n",
       "        return fig.toolbar_button_onmouseover(event['data']);\n",
       "    }\n",
       "\n",
       "    for(var toolbar_ind in mpl.toolbar_items) {\n",
       "        var name = mpl.toolbar_items[toolbar_ind][0];\n",
       "        var tooltip = mpl.toolbar_items[toolbar_ind][1];\n",
       "        var image = mpl.toolbar_items[toolbar_ind][2];\n",
       "        var method_name = mpl.toolbar_items[toolbar_ind][3];\n",
       "\n",
       "        if (!name) {\n",
       "            // put a spacer in here.\n",
       "            continue;\n",
       "        }\n",
       "        var button = $('<button/>');\n",
       "        button.addClass('ui-button ui-widget ui-state-default ui-corner-all ' +\n",
       "                        'ui-button-icon-only');\n",
       "        button.attr('role', 'button');\n",
       "        button.attr('aria-disabled', 'false');\n",
       "        button.click(method_name, toolbar_event);\n",
       "        button.mouseover(tooltip, toolbar_mouse_event);\n",
       "\n",
       "        var icon_img = $('<span/>');\n",
       "        icon_img.addClass('ui-button-icon-primary ui-icon');\n",
       "        icon_img.addClass(image);\n",
       "        icon_img.addClass('ui-corner-all');\n",
       "\n",
       "        var tooltip_span = $('<span/>');\n",
       "        tooltip_span.addClass('ui-button-text');\n",
       "        tooltip_span.html(tooltip);\n",
       "\n",
       "        button.append(icon_img);\n",
       "        button.append(tooltip_span);\n",
       "\n",
       "        nav_element.append(button);\n",
       "    }\n",
       "\n",
       "    var fmt_picker_span = $('<span/>');\n",
       "\n",
       "    var fmt_picker = $('<select/>');\n",
       "    fmt_picker.addClass('mpl-toolbar-option ui-widget ui-widget-content');\n",
       "    fmt_picker_span.append(fmt_picker);\n",
       "    nav_element.append(fmt_picker_span);\n",
       "    this.format_dropdown = fmt_picker[0];\n",
       "\n",
       "    for (var ind in mpl.extensions) {\n",
       "        var fmt = mpl.extensions[ind];\n",
       "        var option = $(\n",
       "            '<option/>', {selected: fmt === mpl.default_extension}).html(fmt);\n",
       "        fmt_picker.append(option)\n",
       "    }\n",
       "\n",
       "    // Add hover states to the ui-buttons\n",
       "    $( \".ui-button\" ).hover(\n",
       "        function() { $(this).addClass(\"ui-state-hover\");},\n",
       "        function() { $(this).removeClass(\"ui-state-hover\");}\n",
       "    );\n",
       "\n",
       "    var status_bar = $('<span class=\"mpl-message\"/>');\n",
       "    nav_element.append(status_bar);\n",
       "    this.message = status_bar[0];\n",
       "}\n",
       "\n",
       "mpl.figure.prototype.request_resize = function(x_pixels, y_pixels) {\n",
       "    // Request matplotlib to resize the figure. Matplotlib will then trigger a resize in the client,\n",
       "    // which will in turn request a refresh of the image.\n",
       "    this.send_message('resize', {'width': x_pixels, 'height': y_pixels});\n",
       "}\n",
       "\n",
       "mpl.figure.prototype.send_message = function(type, properties) {\n",
       "    properties['type'] = type;\n",
       "    properties['figure_id'] = this.id;\n",
       "    this.ws.send(JSON.stringify(properties));\n",
       "}\n",
       "\n",
       "mpl.figure.prototype.send_draw_message = function() {\n",
       "    if (!this.waiting) {\n",
       "        this.waiting = true;\n",
       "        this.ws.send(JSON.stringify({type: \"draw\", figure_id: this.id}));\n",
       "    }\n",
       "}\n",
       "\n",
       "\n",
       "mpl.figure.prototype.handle_save = function(fig, msg) {\n",
       "    var format_dropdown = fig.format_dropdown;\n",
       "    var format = format_dropdown.options[format_dropdown.selectedIndex].value;\n",
       "    fig.ondownload(fig, format);\n",
       "}\n",
       "\n",
       "\n",
       "mpl.figure.prototype.handle_resize = function(fig, msg) {\n",
       "    var size = msg['size'];\n",
       "    if (size[0] != fig.canvas.width || size[1] != fig.canvas.height) {\n",
       "        fig._resize_canvas(size[0], size[1]);\n",
       "        fig.send_message(\"refresh\", {});\n",
       "    };\n",
       "}\n",
       "\n",
       "mpl.figure.prototype.handle_rubberband = function(fig, msg) {\n",
       "    var x0 = msg['x0'];\n",
       "    var y0 = fig.canvas.height - msg['y0'];\n",
       "    var x1 = msg['x1'];\n",
       "    var y1 = fig.canvas.height - msg['y1'];\n",
       "    x0 = Math.floor(x0) + 0.5;\n",
       "    y0 = Math.floor(y0) + 0.5;\n",
       "    x1 = Math.floor(x1) + 0.5;\n",
       "    y1 = Math.floor(y1) + 0.5;\n",
       "    var min_x = Math.min(x0, x1);\n",
       "    var min_y = Math.min(y0, y1);\n",
       "    var width = Math.abs(x1 - x0);\n",
       "    var height = Math.abs(y1 - y0);\n",
       "\n",
       "    fig.rubberband_context.clearRect(\n",
       "        0, 0, fig.canvas.width, fig.canvas.height);\n",
       "\n",
       "    fig.rubberband_context.strokeRect(min_x, min_y, width, height);\n",
       "}\n",
       "\n",
       "mpl.figure.prototype.handle_figure_label = function(fig, msg) {\n",
       "    // Updates the figure title.\n",
       "    fig.header.textContent = msg['label'];\n",
       "}\n",
       "\n",
       "mpl.figure.prototype.handle_cursor = function(fig, msg) {\n",
       "    var cursor = msg['cursor'];\n",
       "    switch(cursor)\n",
       "    {\n",
       "    case 0:\n",
       "        cursor = 'pointer';\n",
       "        break;\n",
       "    case 1:\n",
       "        cursor = 'default';\n",
       "        break;\n",
       "    case 2:\n",
       "        cursor = 'crosshair';\n",
       "        break;\n",
       "    case 3:\n",
       "        cursor = 'move';\n",
       "        break;\n",
       "    }\n",
       "    fig.rubberband_canvas.style.cursor = cursor;\n",
       "}\n",
       "\n",
       "mpl.figure.prototype.handle_message = function(fig, msg) {\n",
       "    fig.message.textContent = msg['message'];\n",
       "}\n",
       "\n",
       "mpl.figure.prototype.handle_draw = function(fig, msg) {\n",
       "    // Request the server to send over a new figure.\n",
       "    fig.send_draw_message();\n",
       "}\n",
       "\n",
       "mpl.figure.prototype.handle_image_mode = function(fig, msg) {\n",
       "    fig.image_mode = msg['mode'];\n",
       "}\n",
       "\n",
       "mpl.figure.prototype.updated_canvas_event = function() {\n",
       "    // Called whenever the canvas gets updated.\n",
       "    this.send_message(\"ack\", {});\n",
       "}\n",
       "\n",
       "// A function to construct a web socket function for onmessage handling.\n",
       "// Called in the figure constructor.\n",
       "mpl.figure.prototype._make_on_message_function = function(fig) {\n",
       "    return function socket_on_message(evt) {\n",
       "        if (evt.data instanceof Blob) {\n",
       "            /* FIXME: We get \"Resource interpreted as Image but\n",
       "             * transferred with MIME type text/plain:\" errors on\n",
       "             * Chrome.  But how to set the MIME type?  It doesn't seem\n",
       "             * to be part of the websocket stream */\n",
       "            evt.data.type = \"image/png\";\n",
       "\n",
       "            /* Free the memory for the previous frames */\n",
       "            if (fig.imageObj.src) {\n",
       "                (window.URL || window.webkitURL).revokeObjectURL(\n",
       "                    fig.imageObj.src);\n",
       "            }\n",
       "\n",
       "            fig.imageObj.src = (window.URL || window.webkitURL).createObjectURL(\n",
       "                evt.data);\n",
       "            fig.updated_canvas_event();\n",
       "            fig.waiting = false;\n",
       "            return;\n",
       "        }\n",
       "        else if (typeof evt.data === 'string' && evt.data.slice(0, 21) == \"data:image/png;base64\") {\n",
       "            fig.imageObj.src = evt.data;\n",
       "            fig.updated_canvas_event();\n",
       "            fig.waiting = false;\n",
       "            return;\n",
       "        }\n",
       "\n",
       "        var msg = JSON.parse(evt.data);\n",
       "        var msg_type = msg['type'];\n",
       "\n",
       "        // Call the  \"handle_{type}\" callback, which takes\n",
       "        // the figure and JSON message as its only arguments.\n",
       "        try {\n",
       "            var callback = fig[\"handle_\" + msg_type];\n",
       "        } catch (e) {\n",
       "            console.log(\"No handler for the '\" + msg_type + \"' message type: \", msg);\n",
       "            return;\n",
       "        }\n",
       "\n",
       "        if (callback) {\n",
       "            try {\n",
       "                // console.log(\"Handling '\" + msg_type + \"' message: \", msg);\n",
       "                callback(fig, msg);\n",
       "            } catch (e) {\n",
       "                console.log(\"Exception inside the 'handler_\" + msg_type + \"' callback:\", e, e.stack, msg);\n",
       "            }\n",
       "        }\n",
       "    };\n",
       "}\n",
       "\n",
       "// from http://stackoverflow.com/questions/1114465/getting-mouse-location-in-canvas\n",
       "mpl.findpos = function(e) {\n",
       "    //this section is from http://www.quirksmode.org/js/events_properties.html\n",
       "    var targ;\n",
       "    if (!e)\n",
       "        e = window.event;\n",
       "    if (e.target)\n",
       "        targ = e.target;\n",
       "    else if (e.srcElement)\n",
       "        targ = e.srcElement;\n",
       "    if (targ.nodeType == 3) // defeat Safari bug\n",
       "        targ = targ.parentNode;\n",
       "\n",
       "    // jQuery normalizes the pageX and pageY\n",
       "    // pageX,Y are the mouse positions relative to the document\n",
       "    // offset() returns the position of the element relative to the document\n",
       "    var x = e.pageX - $(targ).offset().left;\n",
       "    var y = e.pageY - $(targ).offset().top;\n",
       "\n",
       "    return {\"x\": x, \"y\": y};\n",
       "};\n",
       "\n",
       "/*\n",
       " * return a copy of an object with only non-object keys\n",
       " * we need this to avoid circular references\n",
       " * http://stackoverflow.com/a/24161582/3208463\n",
       " */\n",
       "function simpleKeys (original) {\n",
       "  return Object.keys(original).reduce(function (obj, key) {\n",
       "    if (typeof original[key] !== 'object')\n",
       "        obj[key] = original[key]\n",
       "    return obj;\n",
       "  }, {});\n",
       "}\n",
       "\n",
       "mpl.figure.prototype.mouse_event = function(event, name) {\n",
       "    var canvas_pos = mpl.findpos(event)\n",
       "\n",
       "    if (name === 'button_press')\n",
       "    {\n",
       "        this.canvas.focus();\n",
       "        this.canvas_div.focus();\n",
       "    }\n",
       "\n",
       "    var x = canvas_pos.x;\n",
       "    var y = canvas_pos.y;\n",
       "\n",
       "    this.send_message(name, {x: x, y: y, button: event.button,\n",
       "                             step: event.step,\n",
       "                             guiEvent: simpleKeys(event)});\n",
       "\n",
       "    /* This prevents the web browser from automatically changing to\n",
       "     * the text insertion cursor when the button is pressed.  We want\n",
       "     * to control all of the cursor setting manually through the\n",
       "     * 'cursor' event from matplotlib */\n",
       "    event.preventDefault();\n",
       "    return false;\n",
       "}\n",
       "\n",
       "mpl.figure.prototype._key_event_extra = function(event, name) {\n",
       "    // Handle any extra behaviour associated with a key event\n",
       "}\n",
       "\n",
       "mpl.figure.prototype.key_event = function(event, name) {\n",
       "\n",
       "    // Prevent repeat events\n",
       "    if (name == 'key_press')\n",
       "    {\n",
       "        if (event.which === this._key)\n",
       "            return;\n",
       "        else\n",
       "            this._key = event.which;\n",
       "    }\n",
       "    if (name == 'key_release')\n",
       "        this._key = null;\n",
       "\n",
       "    var value = '';\n",
       "    if (event.ctrlKey && event.which != 17)\n",
       "        value += \"ctrl+\";\n",
       "    if (event.altKey && event.which != 18)\n",
       "        value += \"alt+\";\n",
       "    if (event.shiftKey && event.which != 16)\n",
       "        value += \"shift+\";\n",
       "\n",
       "    value += 'k';\n",
       "    value += event.which.toString();\n",
       "\n",
       "    this._key_event_extra(event, name);\n",
       "\n",
       "    this.send_message(name, {key: value,\n",
       "                             guiEvent: simpleKeys(event)});\n",
       "    return false;\n",
       "}\n",
       "\n",
       "mpl.figure.prototype.toolbar_button_onclick = function(name) {\n",
       "    if (name == 'download') {\n",
       "        this.handle_save(this, null);\n",
       "    } else {\n",
       "        this.send_message(\"toolbar_button\", {name: name});\n",
       "    }\n",
       "};\n",
       "\n",
       "mpl.figure.prototype.toolbar_button_onmouseover = function(tooltip) {\n",
       "    this.message.textContent = tooltip;\n",
       "};\n",
       "mpl.toolbar_items = [[\"Home\", \"Reset original view\", \"fa fa-home icon-home\", \"home\"], [\"Back\", \"Back to  previous view\", \"fa fa-arrow-left icon-arrow-left\", \"back\"], [\"Forward\", \"Forward to next view\", \"fa fa-arrow-right icon-arrow-right\", \"forward\"], [\"\", \"\", \"\", \"\"], [\"Pan\", \"Pan axes with left mouse, zoom with right\", \"fa fa-arrows icon-move\", \"pan\"], [\"Zoom\", \"Zoom to rectangle\", \"fa fa-square-o icon-check-empty\", \"zoom\"], [\"\", \"\", \"\", \"\"], [\"Download\", \"Download plot\", \"fa fa-floppy-o icon-save\", \"download\"]];\n",
       "\n",
       "mpl.extensions = [\"eps\", \"pdf\", \"png\", \"ps\", \"raw\", \"svg\"];\n",
       "\n",
       "mpl.default_extension = \"png\";var comm_websocket_adapter = function(comm) {\n",
       "    // Create a \"websocket\"-like object which calls the given IPython comm\n",
       "    // object with the appropriate methods. Currently this is a non binary\n",
       "    // socket, so there is still some room for performance tuning.\n",
       "    var ws = {};\n",
       "\n",
       "    ws.close = function() {\n",
       "        comm.close()\n",
       "    };\n",
       "    ws.send = function(m) {\n",
       "        //console.log('sending', m);\n",
       "        comm.send(m);\n",
       "    };\n",
       "    // Register the callback with on_msg.\n",
       "    comm.on_msg(function(msg) {\n",
       "        //console.log('receiving', msg['content']['data'], msg);\n",
       "        // Pass the mpl event to the overriden (by mpl) onmessage function.\n",
       "        ws.onmessage(msg['content']['data'])\n",
       "    });\n",
       "    return ws;\n",
       "}\n",
       "\n",
       "mpl.mpl_figure_comm = function(comm, msg) {\n",
       "    // This is the function which gets called when the mpl process\n",
       "    // starts-up an IPython Comm through the \"matplotlib\" channel.\n",
       "\n",
       "    var id = msg.content.data.id;\n",
       "    // Get hold of the div created by the display call when the Comm\n",
       "    // socket was opened in Python.\n",
       "    var element = $(\"#\" + id);\n",
       "    var ws_proxy = comm_websocket_adapter(comm)\n",
       "\n",
       "    function ondownload(figure, format) {\n",
       "        window.open(figure.imageObj.src);\n",
       "    }\n",
       "\n",
       "    var fig = new mpl.figure(id, ws_proxy,\n",
       "                           ondownload,\n",
       "                           element.get(0));\n",
       "\n",
       "    // Call onopen now - mpl needs it, as it is assuming we've passed it a real\n",
       "    // web socket which is closed, not our websocket->open comm proxy.\n",
       "    ws_proxy.onopen();\n",
       "\n",
       "    fig.parent_element = element.get(0);\n",
       "    fig.cell_info = mpl.find_output_cell(\"<div id='\" + id + \"'></div>\");\n",
       "    if (!fig.cell_info) {\n",
       "        console.error(\"Failed to find cell for figure\", id, fig);\n",
       "        return;\n",
       "    }\n",
       "\n",
       "    var output_index = fig.cell_info[2]\n",
       "    var cell = fig.cell_info[0];\n",
       "\n",
       "};\n",
       "\n",
       "mpl.figure.prototype.handle_close = function(fig, msg) {\n",
       "    fig.root.unbind('remove')\n",
       "\n",
       "    // Update the output cell to use the data from the current canvas.\n",
       "    fig.push_to_output();\n",
       "    var dataURL = fig.canvas.toDataURL();\n",
       "    // Re-enable the keyboard manager in IPython - without this line, in FF,\n",
       "    // the notebook keyboard shortcuts fail.\n",
       "    IPython.keyboard_manager.enable()\n",
       "    $(fig.parent_element).html('<img src=\"' + dataURL + '\">');\n",
       "    fig.close_ws(fig, msg);\n",
       "}\n",
       "\n",
       "mpl.figure.prototype.close_ws = function(fig, msg){\n",
       "    fig.send_message('closing', msg);\n",
       "    // fig.ws.close()\n",
       "}\n",
       "\n",
       "mpl.figure.prototype.push_to_output = function(remove_interactive) {\n",
       "    // Turn the data on the canvas into data in the output cell.\n",
       "    var dataURL = this.canvas.toDataURL();\n",
       "    this.cell_info[1]['text/html'] = '<img src=\"' + dataURL + '\">';\n",
       "}\n",
       "\n",
       "mpl.figure.prototype.updated_canvas_event = function() {\n",
       "    // Tell IPython that the notebook contents must change.\n",
       "    IPython.notebook.set_dirty(true);\n",
       "    this.send_message(\"ack\", {});\n",
       "    var fig = this;\n",
       "    // Wait a second, then push the new image to the DOM so\n",
       "    // that it is saved nicely (might be nice to debounce this).\n",
       "    setTimeout(function () { fig.push_to_output() }, 1000);\n",
       "}\n",
       "\n",
       "mpl.figure.prototype._init_toolbar = function() {\n",
       "    var fig = this;\n",
       "\n",
       "    var nav_element = $('<div/>')\n",
       "    nav_element.attr('style', 'width: 100%');\n",
       "    this.root.append(nav_element);\n",
       "\n",
       "    // Define a callback function for later on.\n",
       "    function toolbar_event(event) {\n",
       "        return fig.toolbar_button_onclick(event['data']);\n",
       "    }\n",
       "    function toolbar_mouse_event(event) {\n",
       "        return fig.toolbar_button_onmouseover(event['data']);\n",
       "    }\n",
       "\n",
       "    for(var toolbar_ind in mpl.toolbar_items){\n",
       "        var name = mpl.toolbar_items[toolbar_ind][0];\n",
       "        var tooltip = mpl.toolbar_items[toolbar_ind][1];\n",
       "        var image = mpl.toolbar_items[toolbar_ind][2];\n",
       "        var method_name = mpl.toolbar_items[toolbar_ind][3];\n",
       "\n",
       "        if (!name) { continue; };\n",
       "\n",
       "        var button = $('<button class=\"btn btn-default\" href=\"#\" title=\"' + name + '\"><i class=\"fa ' + image + ' fa-lg\"></i></button>');\n",
       "        button.click(method_name, toolbar_event);\n",
       "        button.mouseover(tooltip, toolbar_mouse_event);\n",
       "        nav_element.append(button);\n",
       "    }\n",
       "\n",
       "    // Add the status bar.\n",
       "    var status_bar = $('<span class=\"mpl-message\" style=\"text-align:right; float: right;\"/>');\n",
       "    nav_element.append(status_bar);\n",
       "    this.message = status_bar[0];\n",
       "\n",
       "    // Add the close button to the window.\n",
       "    var buttongrp = $('<div class=\"btn-group inline pull-right\"></div>');\n",
       "    var button = $('<button class=\"btn btn-mini btn-primary\" href=\"#\" title=\"Stop Interaction\"><i class=\"fa fa-power-off icon-remove icon-large\"></i></button>');\n",
       "    button.click(function (evt) { fig.handle_close(fig, {}); } );\n",
       "    button.mouseover('Stop Interaction', toolbar_mouse_event);\n",
       "    buttongrp.append(button);\n",
       "    var titlebar = this.root.find($('.ui-dialog-titlebar'));\n",
       "    titlebar.prepend(buttongrp);\n",
       "}\n",
       "\n",
       "mpl.figure.prototype._root_extra_style = function(el){\n",
       "    var fig = this\n",
       "    el.on(\"remove\", function(){\n",
       "\tfig.close_ws(fig, {});\n",
       "    });\n",
       "}\n",
       "\n",
       "mpl.figure.prototype._canvas_extra_style = function(el){\n",
       "    // this is important to make the div 'focusable\n",
       "    el.attr('tabindex', 0)\n",
       "    // reach out to IPython and tell the keyboard manager to turn it's self\n",
       "    // off when our div gets focus\n",
       "\n",
       "    // location in version 3\n",
       "    if (IPython.notebook.keyboard_manager) {\n",
       "        IPython.notebook.keyboard_manager.register_events(el);\n",
       "    }\n",
       "    else {\n",
       "        // location in version 2\n",
       "        IPython.keyboard_manager.register_events(el);\n",
       "    }\n",
       "\n",
       "}\n",
       "\n",
       "mpl.figure.prototype._key_event_extra = function(event, name) {\n",
       "    var manager = IPython.notebook.keyboard_manager;\n",
       "    if (!manager)\n",
       "        manager = IPython.keyboard_manager;\n",
       "\n",
       "    // Check for shift+enter\n",
       "    if (event.shiftKey && event.which == 13) {\n",
       "        this.canvas_div.blur();\n",
       "        event.shiftKey = false;\n",
       "        // Send a \"J\" for go to next cell\n",
       "        event.which = 74;\n",
       "        event.keyCode = 74;\n",
       "        manager.command_mode();\n",
       "        manager.handle_keydown(event);\n",
       "    }\n",
       "}\n",
       "\n",
       "mpl.figure.prototype.handle_save = function(fig, msg) {\n",
       "    fig.ondownload(fig, null);\n",
       "}\n",
       "\n",
       "\n",
       "mpl.find_output_cell = function(html_output) {\n",
       "    // Return the cell and output element which can be found *uniquely* in the notebook.\n",
       "    // Note - this is a bit hacky, but it is done because the \"notebook_saving.Notebook\"\n",
       "    // IPython event is triggered only after the cells have been serialised, which for\n",
       "    // our purposes (turning an active figure into a static one), is too late.\n",
       "    var cells = IPython.notebook.get_cells();\n",
       "    var ncells = cells.length;\n",
       "    for (var i=0; i<ncells; i++) {\n",
       "        var cell = cells[i];\n",
       "        if (cell.cell_type === 'code'){\n",
       "            for (var j=0; j<cell.output_area.outputs.length; j++) {\n",
       "                var data = cell.output_area.outputs[j];\n",
       "                if (data.data) {\n",
       "                    // IPython >= 3 moved mimebundle to data attribute of output\n",
       "                    data = data.data;\n",
       "                }\n",
       "                if (data['text/html'] == html_output) {\n",
       "                    return [cell, data, j];\n",
       "                }\n",
       "            }\n",
       "        }\n",
       "    }\n",
       "}\n",
       "\n",
       "// Register the function which deals with the matplotlib target/channel.\n",
       "// The kernel may be null if the page has been refreshed.\n",
       "if (IPython.notebook.kernel != null) {\n",
       "    IPython.notebook.kernel.comm_manager.register_target('matplotlib', mpl.mpl_figure_comm);\n",
       "}\n"
      ],
      "text/plain": [
       "<IPython.core.display.Javascript object>"
      ]
     },
     "metadata": {},
     "output_type": "display_data"
    },
    {
     "data": {
      "text/html": [
       "<img src=\"data:image/png;base64,iVBORw0KGgoAAAANSUhEUgAAAoAAAAHgCAYAAAA10dzkAAAgAElEQVR4XuxdB3hUxfb/3bvpoSQQeglNURGkSLWCNOWhUhYsqH9FRUWfiqjYEMQuiv3p86nPpz6fJAqKAhZQRLpYAJHepAVIQtskpOz9fwd2dU12s3d3zu69yZ75Pj+EnTlz5nfOzPndM3PnapAiCAgCgoAgIAgIAoKAIBBTCGgxNVoZrCAgCAgCgoAgIAgIAoIAhACKEwgCgoAgIAgIAoKAIBBjCAgBjDGDy3AFAUFAEBAEBAFBQBAQAig+IAgIAoKAICAICAKCQIwhIAQwxgwuwxUEBAFBQBAQBAQBQUAIoPiAICAICAKCgCAgCAgCMYaAEMAYM7gMVxAQBAQBQUAQEAQEASGA4gOCgCAgCAgCgoAgIAjEGAJCAGPM4DJcQUAQEAQEAUFAEBAEhACKDwgCgoAgIAgIAoKAIBBjCAgBjDGDy3AFAUFAEBAEBAFBQBAQAig+IAgIAoKAICAICAKCQIwhIAQwxgwuwxUEBAFBQBAQBAQBQUAIoPiAICAICAKCgCAgCAgCMYaAEMAYM7gMVxAQBAQBQUAQEAQEASGA4gOCgCAgCAgCgoAgIAjEGAJCAGPM4DJcQUAQEAQEAUFAEBAEhACKDwgCgoAgIAgIAoKAIBBjCAgBjDGDy3AFAUFAEBAEBAFBQBAQAig+IAgIAoKAICAICAKCQIwhIAQwxgwuwxUEBAFBQBAQBAQBQUAIoPiAICAICAKCgCAgCAgCMYaAEMAYM7gMVxAQBAQBQUAQEAQEASGA4gOCgCAgCAgCgoAgIAjEGAJCAGPM4DJcQUAQEAQEAUFAEBAEhACKDwgCgoAgIAgIAoKAIBBjCAgBjDGDy3AFAUFAEBAEBAFBQBAQAig+IAgIAoKAICAICAKCQIwhIAQwxgwuwxUEBAFBQBAQBAQBQUAIYPXygWsAvB1gSAcB1KlkuNQuE0AfCyG5BEArANPK6XAegG8AtACww0L9qnrX5f3jKIAtAN4A8BqAsqo+wCjrT3i+BcAR5X4nAZgIIA6AO8p9V9Yd6UWYtLSRTr6qeP2/jcfvVdT8FoAO4NwwhHjXs74A5ofRXpoIAiwICAFkgdE2QrwBaTiAXeW0KgXwo80JIJHQCwA0L6dnDQCnAfgJQIlt0K56ipT3j1oAnABuAPAIAArgUswjUBdAawDLzTdhqfmwhwDG24wAkl7kY/QQZ8fi9f+TGAggPZAS8Q+XABLx6ycE0I5uEjs6CQGsXrZWWeDskAEMRACrl5WsG00g/5gHoDOA9ACqUaaDgl00yHcSgCLrIKoSPQsBDM9MKutj+R5VCSC1lwxgeHaUVkwICAFkAtImYswucLTNOxXAqQB+B/AUgLPLbQH/n2d7i4K/b/G3zZPiyUhQ5rEpgHwA3wO4BcB+z79RO9r6aAJgH4DvANwDYK9HOJE/0t8A4PXLbZ5swvmeJ2XfLWDa/qJtsFEemZTxfBfAFACU7aRCW9pbAdzsySqOBkBZk68B3OTR0yami4oagfyD7D8eQAMABzyYkf1om4tsRFt6FKzIZlTnaQAXAqgJYL3Hfz4oNwKqT/XK+xjZsLenrncrjPxmEAA6AnDIk1VrB+ABAL0A1PdktOd6/u2wT1//9mSNhwJ4EcAZHp++G8CnAO71+GFtAER0yQfoOIS30BbqYwBI5m0AKKtH4ySsyPdf9mRqyKdfKHc8wd8c8crLA3AHgDQASwCMAbDdp99kAM95MrCJAL70zMlFAMjfSYdAxSwBJEwIhw4AigF8BeAuDz4k+3MADQF0KdcR/RutC6T/K57fyG6EE2WtKHP8G4DJAGb6tK0OGUBaBwmjrp4jM2Sz6Z6xE4be4iWANHceB3CyZ97QmpQdZDab2QIO1f9p7rwEoKPHz2i9Jb19y+WeNZNsuQHAQwDu9Oh9nadioG388gkCmvs0bu+ODc1byoTTerExjLWAmmQAeBTA3zz/T2s3zRE6ouIt3vWH1heaqzTPfgBA+tPaJSUEBIQAhgBWFajqDfCn+NnioMBE5Ip++9kzWZ8BQBkXWshpm3WTzxnAQOebyi/yRMQoWJ0O4AmPXAq2AwA861loKLt0JYCFnklKAZ3IIS1ERBAos0QkgxawMwEM9pDAYwB+8RBH2jKhOt4zgET2RngWZgqaZwF4EAAREdKdipcA0iJOdagN9U2LCpGJq6qATTlVDEQAszzkixZ1wpwW3gQPUaegT4v7rx7CTNvwRGru95AyIuBkWyJW3vOnZFOqt9TjA0RwKDCSX2z28TFvICTyPgvAxwCoLhGTgR7yt8LTbzNPYKbsIAVpb6E+ieiQX9BDzR6PH3TzBA46TkDnG4nUEIH7pJzdaV5QW/Kzf3jqPQ9gmScjSgSHxjHSs1VOBIiIJBV/c4Tkkb+t85AnwpH02lluu5B8kYgvzaeVnkBKAZr0JYKsSgDpAedVAG8C+MhD1mmeE75Ekun852UA3gdAZIP09RYiQGT3xp4ASw91dHyEHtZojlOgJTyu9fjNZ56G1YEA0ppAD6mrPQ8FtF18n8cfyNe9hQggraXkjzRuetClB016kCECT2tdoGKGAIbq/zSH6Ow0neklu5B96NiMl4wRYfrCQ9iJUNXzrPvkn/Tw4SWAgWxYngCSbxCBpLmQ45nbV3vmNs1/woOK2bWA1h4icuSfdByFHv4phpAv3u7zIEIPMbQWEFGlOUWEkEjok3I+PPRQIQQwdMzs3KKyl0AokFGgfA9Af0+g8W610QJPgZlIkvclELMEkBabf3me2uaYBIcyK0Q8aeEg8kCZGiqBtoBpwfQlgLSwrfEsQBSovIUyRrR4UMaDCIuXAFImy/flFlpU6EmTsjCxVMo/INCiS2cAifiQfxAhoUIEkJ7GiaDn+gA01pNlo3NP5CveQosyPQBQUKCHDCIVFHCIzBChpEIEjORSNsxrC28gJAJKAauyQlvQFJgpMFCWY5WPz1DgIVJIsqm09xA6yk6Sr5BOVIj40xjI97z/RoStfD16cKHMCPkTER4q1P9uD1G93vNvgQggPUhR4PO+VDPMk42heUYElbJFaz3ZSerLW4ig3spAAFM95JxwpfOd3kLzgTI/lKWhvrxzkLKcNFZvIfJOJPZSzz8QiaSsTNty2VMiDkQkOnnqVQcCWN4Hye49PS+h0cMjZYKpEAGkedADAD2kUKF1jdYdWteIBAYqZgigPz0q83/fhwYideSr5Fte/6X5SvOd1kZvoQdzIl2URQ+VAJbXj8ZOfIL8mrLGlI2nYnYtIDJJRJvWESKx3vJPjx/S+kFz9YinHvmsFEUEhAAqAmiz5t6ARAt3+ZdAaOGiAExEj55OafvKt3jfRguVAP7XZ2u3MjhoC4z+o0PztBBRoSBMk562CqmYJYCU3aBFht7mozF5i5fwURCl7If37xTwKAvjLUSAiaw28mS5bGbGiKnj7wGBSAo9FBDh8W6NEqZEYijb5Vv+5wmGhKtv8fodES8KAORjlMGihwPfQtkCWnPKE0DKulCg8C2UWaZtafqN+qNjBlTIZyhT5t3eIp8hgkXbkt5C2/xEPMlHaFvXW4gMUTaQMggUIKlQUAlUj7KIlJ3zFgqiLs8DFP1bIAJIvkc+6C1E+CjDRmSBtsloTBR06WUJ323hczzb7qoZQG+2x7tt79WDsKfxUFbIS/bpLWayB5F9Kl7yTL9TRpYKZVqI5HuJL/0byaItYtoCpcwuZRSrAwGknRAiw97jLJSRokJ+R0TQ+8IPEUDakfDi5sWYHkBp272yh0szBDAU/yddvWuqV4/Fnp0e2mkhclbo2bKlLLBvobm6IEwCSP3SukGZUO/5YcLpdc8OD/Vjdi2gIye0E0Q+61uGeOY6EVd66Kc4RTGEdq/o/2m9kRImAkIAwwTOps3MnAEs8Gy10tko30Jbp5ROD5UAUhaAtgQpWAYqFAxpe4KydUQ+iWjQQkEkjIIvLZpUzBJAb6aPFmta2LyFFmv6OwUiOgvoJYAUuCjQeUv5jKJNzcmuVvkHBHqaJgLie7aJOiUCSAty+S1yIgFEtLqX04y2amb7bH0F8jF6WKAn+fIE0Hdb1SuaCDs9MJAtafuRdKVARluz9PDynyA+Q8SOsry09ewt/uaH2Xoko/zB/0AEsHy/Xj/0nu2jBxLKzJT3Xy9RVD0DeIWH1PtzIJp3RM695zDpTyLm9CcRAXoYo+18spP3pR/yD8qE+YsXJM9LZKsDAaTze3SchIgSZfOI8FMmm7bRfYk5+QI9lJSfC94sOeHn3QYtbwczBFDV/0k/mseU2aPMJW3fk26U7fctRBTp4STUDCBlhGnnho7t0NynnQKaS5QtpgyyV57ZtYAy00TsAvkYrRnkn7QzQdu/RAwJYxoXjYnmnJQQERACGCJgNq9uhgCazQDSlhwFbNom8n37kyY8nXPxXvVgJgNIpI8mOAUWb6EsDS0ORNRCJYChZgCFAJ5A3Yx/eAkg2Yy2Vn1LsAwgbd/QywFmn/orC4T0EgJlEnwXdvI5ykxWdQIY6QwgEXJ6uCL7+cuQEJn2ng2jGEAPAXQ+7EbPOSo600fn2byFtq2JNNI5K38xg87L0RpR1QkgPUBSJpMy15QV9xYiH/TwU54A+ssA0npGmWvVDKCq//sSwFAygJQY+LvnuIXv3KczunS0wPvwRmdY6cgHnb/zLXSell6y8xJAs2sBHd+gl/eob38+Rsc0iIz7FtoBophCOpO/0nohJQQEhACGAFYVqGomwHvPAFJWwps9oy0xCqy+ZwBpu4r+Tm/Dee8PJNJGaXj600sAKRjTUx+9uEFPgv4KbTtR5oa2I7zFe0idnua8BJC252g7j84V+ZbyGTs6X0VP575ntKg+vZhAC7B3K1IygH/F0Yx/UAvKHPgjgLTI0tkb3/N2VJ+ywET+6IwSZYTIxyirR/h7z5nSdjud7Sl/BjDQfWiUUaDtRe/xAOqHCAhtr1GArsoZQMr0EVGmwOV7NIHOTVGWRnULmLYDaduWXmYhUhasUDaS5iO95ECBnuxLmSFvocw8rQd09tJ7ptOfzKpOACm7TbsT9HKM7xu09OBDZ2XLE0A6A0hvqdPaRiWUM4DB7gFU9X9fAki6UUafxhfsDCCNncgdzVfvW7X0AQF6YKAXpbwEkDKiRHIv8nEEenGFYoDvmUKzawH5Du0U0doe6tu8hBUlInyPewTzefk9ANMWYKouAt4zXrRYUQAoX+iwMgUfmsj0/3SOgp56afLRdpTvG5q05UNbA3Q9BpE0+jsROHorzrvtQ/LprAql5ol0UYCmxZAWGjpnR9u+lPmjLM44z3k/yhZQgKHtPcou0mF0LwGkpz9qQ0GQDicTeSDC6e9LIEQAKEtJ28oUrGghpreAaSHwnm+sjADG4pdFVAkgLfj0MEBb/oQ1+RiRBtpypCdxWvip0Jkg8jHyBSI4ZGeqT35BDxrecz6VZQApcFAmi0gSZRUo0FDmmZ76qzoBJIzIf2me0tyiByQKrN63gAkXCtiBivcaGArW5b8EQmd/6a1lyuYRWaeHM8oG0pvcRNBpe5myWfSCiLd4X6qitkTwCGPfQg+IZEuyN8mkF3HozBfNefqN5jKVqkAAicwSUfBeP+UdJxE/2gon3CmzRWeTCTOyCZ39o+3J8gTQ+xYw2ZC2e2l9JBJEtqzsLW6v39O6R+uhb6HtdiLhqv5fngBSpo7sTm/B04sV9JBN9qK5Sf7hPd9J5znJvuSTFB/o7/TQRVuv9GDoJYBUnx7Y6YGbxkoPBxM8/uObATS7FtDaQA+HFGcoBlDGjzKO1J625OkFRqpDsum8MMUmyjrTeXeKF3QNjvdt9KobwaOsuWQAowx4hLvzBvhA3dCkp3uTaBLT5KaFnxZ9yrTQIkcHmn3flqWnMTqjR1ezUDvKKNAkJILle9s/nYWhxYSuZaEnR3oio+whLYj0NEckkzI5FPAoO0ETnQghnSEh0uAlgCSHriigRZRIBm1NUT/+zuzRQkFvjtE2FwU2OtT/jmdB8r59SQSQsk50+F/OAJrfAibMKAPovU7H15/oPBH5C5ExsiUtxPR3ypL4Fgo45GPkQ14fo7sD6eGBsrxUvHb190UEIhj0cEBtKONMwZleOqDgVJ4Aks+WfzGFfIAePHwzYP4IsNl6pC8FVcrykN5U/J0B9CfP64e+BIICL72lSQ8x9NYmjY8CM12BQ9e0lCcGvth6CaC/eU4BnoIlFZpHFLzpnj96UCM7kF1pLtKDmW+hgE9BnOZi+RcFqB6RIiI6ZA9aR2iO08MZESqv7asCAfRdB3zHTw8s9FYsnfejYy6U3aMtSSJj9Hd6IC1PAMkXyMcpg0qkmXyT1iQz9wAG+gQckU7KuKn6f3kCSGOlBwayEa3z9CBGD2X0d6pLNyN4Cz1MEwmj64GI9JNP0ENb+fhA52vpwY/IIeFHBJB8hHDwbgGTTDNrAdUjskkyidTRmk6knIggZWMpDtE8oTXBe2et9w1+erv/Q3+TQf6tcgSEAIqHCAKCQDQQoAwzbSNRMKULZKVURIBeDiECQRfcln8xR/ASBLgRILJLBItIHO2cRKvIWhAtpIP0EzMEcPjw4S9omnaxJ1NwelZW1vHD0U6nk55maTuGUvxFmqbdPH36dN87zmxiKlFDEKiIgNPppKdmuufQe68dbZu0LCkpqT9z5kzfL15EGz46z0Zb85SZpfvvKHtHWRLKOpfffou2bnbojzKodG6SLmWnTAZtzVJWnDIclEmRIghwIkAZZ8qU0RYq7crQXKQHDsqukx/63qbA2S/JkrWAG1EmeTFDAJ1O59kOh2NLWVkZnfH4m5cADh8+/E1N07ZnZWU9MmzYsDN1Xc9u165dq0mTJpU/W8MEuX8xI0aMGDB9+nR6E882xW462U0fMpTddBo+fPhdmqadm5WVRWdiKi0R1p228ukcKG0Z01lOmnf0kk5lW5u2wzOCGNEWI20f0plcOltJ5xxpO5XO0XrJfAX7RVCfYO4S8Hc76hT2YKpvQyJ6tJVK19ZQhpnOdhMZ9J6xjeTIw1oLIqmQyD6BQMwQQK/BnU4nHWQd5JMBPFJaWtpixowZx7944HQ6l2qads/06dMrO8TL7j/Dhw9/Ljs7mzIAtil208lu+pCh7KaT0+n8VdO0CdOnT6ezS5UWu+luRzzthpHd9LGjzYL5vfwuCAgCQgDXOp1OOmy7Iysri84kHC/Dhw//UNf1WdOnT/e9Byri/iILe3CIBaPKMXI6nfQiz0ft2rVraiaDLXhWPZ8TmwW3mdQQBAQBcwjEdAZQlQAahkH40dtxdLGqUhkzZszjr7/+Om2R2abYTSe76UOGYtSJ3qjdrWlawO2/YI4xfPhweos0Lzs7O+gZMvLd8ePHvzZ16lR6S9Q2hRFPljGJPsFhHD9+/DNTp069ScV3g/ciNQQBQYAbgZgmgASm0+ksvwW8TNO0uwNtAdN5F7fbTfeTITMzM3Xq1Kl035YUQUAZgfHjx/9z+/btx2+713X9i1DOhA4ePDglKSlpj67rXT/88MPyV3wc1018V9lEIiAAAiq+K6AKAoKANQjEPAEcMWLEW263e3t2dvbkkSNHdnW73VlmXwIxDIPuxDu0d+9eGEbYiZvjlq9ZsyaOHFFOJJr2oridW3HsKbrrVK0k3vsESpvSF5EiX6KNkZkRceikaRoaNqTPWqK2pml0ODvk4nQ66W7G67KysujlgqCF03eDdhZCBQ48Q+guaFXRJzBExtEjMKbciSb/oasLw/fdoEaQCoKAIBARBGKGAA4fPvxlTdPozcgGntfgj2ZlZZ08ZMiQ+nFxcfTpG2IxdAv+zVlZWZXdwv+HIbxBdM+ePcoEsFatWjh8OKzYH5ZjxO3YjGNT7gyrrW+jxIemobQ53aAT+RJtjMyMiEMnIoCNGtH92eEHUafTucAwjDezs7O9n0irVH1O3zWDk9k6HHia7ctMPdEnMEruZQuA7+ai6TS6fz183zVjB6kjCAgC/AjEDAHkhw5E+o5nAIUACgFU8S8OAhhq/5y+G2rfldUXwlU5mnbCx/3mc9AaNEGTG48/SIadveb0H5ElCAgC5hEQAmgeqwo1OYNotBd2yQAqGN6nKYfdhAD+CSgHnjyWPSFF9PGPpuF2wz3+GjjGPoDG5xz/eqQQQE7HE1mCQBQQEAKoALIQQEC2gNW37oUACgE0uwzZhZAaWzfCPW0iHM+/j8ZN6UMvQgDN2lDqCQJ2QUAIoIIlhAAKAeQIyEIAhQCaXYY4/M1sX5XVc8/6H4xd2xB3833K51c59BEZgoAgEDoCQgBDx+yPFkIAhQByBGQhgEIAzS5DHP5mtq/K6pU9cTe0c/rDcU5/IYAcgIoMQcACBIQAKoAuBFAIIEdAFgIoBNDsMsThb2b7ClTPOHoY7ruuhv7Um9DTM4QAqgIq7QUBixAQAqgAvBBAIYAcAVkIoBBAs8sQh7+Z7StQPbr+xZj7MRwPvwArfFdVf2kvCAgCJxAQAqjgCUIAhQByBGQrgiin7ypMoQpNOfAUfTgRqCjL/eY0IL0O9KHXCAGMLNQiXRCIKAJCABXg5Qyi0Q58cg2MguF9mnLYTQigZADNeiOHv5nty1897/Uv+k33Qjv5dCGAKmBKW0HAYgSEACoYQAigZAA5ArIQQCGAZpchDn8z25dfArhtI9zPPQT9ufegxcUJAVQBU9oKAhYjIARQwQBCAIUAcgRkIYBCAM0uQxz+ZrYvf/Xcn/0Pxu/b4Lh5wvGfrfBdFf2lrSAgCPyJgBBABW8QAigEkCMgWxFEOX1XYQpVaMqBp+jDicBfZZU9eQ+0s/pCP6e/EMDIwSySBYGoICAEUAFmziAa7cAnZwAVDO/TlMNuQgAlA2jWGzn8zWxf5esZriNwj7sK+pNvQkuvKwQwXCClnSBgEwSEACoYQgigZAA5ArIQQCGAZpchDn8z21f5eu4VC2HMzoLj4Rf/+MkK3w1Xf2knCAgCf0VACKCCRwgBFALIEZCtCKKcvqswhSo05cBT9OFE4E9Z7reeB2qnQx92jRDAyEAsUgWBqCIgBFABbs4gGu3AJ1vACob3acphNyGAkgE0640c/ma2L996x69/ufv/oN94D7S2pwsBDAdEaSMI2AwBIYAKBhECKBlAjoAsBFAIoNlliMPfzPb1FwK4fTPczz7wx/Uv3t+s8N1w9Jc2goAgUBEBIYAKXiEEUAggR0C2Iohy+q7CFKrQlANP0YcTgROy3J9Ph7FjMxw33/cX4Vb4Lv/oRCITAucBSADwlUdeJoAfANQLIp/aTQXQlUkPEWMSASGAJoHyV40ziEY78MkWsILhfZpy2M2KIMrpuzxInpDCgafow4nACVllT90LrWcf6OcOEALID291kfgwgBoA7vYhgCsA1DdBAJ8B0K26AFFVxiEEUMFSnEE02oFPCKCC4YUA8oDnR0q050GwgYg+gOE6Cve4UdCf+Be0OhlCAIM5TdX83Q3gAQBDANAdPzcB6AOAGH8cACeA9QAaAPgAQE0ASQDmAbgDwBkA5tLd4AB2A/gYwLsAfAngewBO9mQJdwC4DsABAJQBfAHALwA6AygEcD2AVVUTyqqjtRBABVsJAZQtYA6CIBnAPychB54KU7pCU9EHcK/4HsbnH8Ix6aUK+Fjhu5z2FVl/IEAE8BYArwEYDuAdz59zPBm99gCu9pA3IoQFAHQAnwB420P4KAOYCuCeABlAIpa5nt/uBdAUwG0eAviN58+FHrJJsv5820gMFREEhAAqwCoEUAggB0GwIohy+q7CFBLCFSJ4HP4WYpdwv/0CULMW9OHXCgEMFbyqU58IIKV38wC0AvATgNoe9SkT+CiAXgCSAdB27dmebB+d7/sXgIkAghHA2wGMApDoyR7uBXCuh/j9E0BbH7jyAZwKgOpIiRACQgAVgOUMotFe2GULWMHwPk057CYEUDKAZr2Rw9/M9kX1jl//cs+10K+/C9opHYQAhgJe1apb5tnWpcwevbzhu3VLW7TeM3q0TdwOAF0GWQLgWToi6sn6VUYAiTC+BaCHh2QOBvCQ59wfyS9PAImIEgHMqVowVi1thQAq2EsIoGQAOQKyEEAhgGaXIQ5/M9vXcQK4YzPcT98P/fn3oMXFCwEMBbyqVZcygPQCh5cA+r6960sA6W1d2vodB6AhgOUA/uchgHcCOAXAGM/Qfd8C/psnQ9jdc6aQzgjSyyH04gfJn+/JBi7ybD0TmaRtZykRREAIoAK4QgCFAHIEZCGAQgDNLkMc/ma2L6p3/PqXbZvgGHu/32ZW+G4o+ktd0wiYzQA2A5ANIMXzssdOz7k+OvfXwnMWkDot/xIInRukl0C6eF78+NrzgomXAD4P4GfP78c8L4isNq29VAwLASGAYcF2opEQQCGAHAHZiiDK6bsKU6hCUw48RR8+BMqemgCt5/nQzx0oBJAPVpEkCNgCASGACmbgDKLRDnxyBlDB8D5NOewmBFAygGa9kcPfzPZlFByF+066/uUNaHX83+Vrhe+a1V/qCQKCQOUICAFU8BAhgJIB5AjIVgRRTt9VmEKSAQwRPA5/M9ul8cP3cM/6HxyTXw7YxArfNau/1BMEBAEhgBHzAc4gGs2FnQCRDCCPW3DYzYogyum7PEiekMKBp+jDg4D73y8AqbWgOyte/+LtwQrf5RmdSBEEBAHJACr4AGcQjXbgEwKoYHifphx2syKIcvouD5JCAM3gyOFvZvoxDAPuu6+FPvpOaKfSRx78Fyt814z+UkcQEASCIyAEMDhGAWtwBtFoLezewQgBVDC8EEAe8PxIifY8CDaQWNXH+H0r3E9NCHj9i2QAg3mO/C4I2B8BIYAKNhICKGcAOQiCFVkUTt9VmEIVmnLgKfqoI+Cekw1jy3o4xtK9v4GLFb6rPjqRIAgIAoSAEEAFP+AMotEOfJIBVDC8ZAB5wJMMYMg4RmudKHvmPmjdzoN+nv/rXwY3d3cAACAASURBVCQDGLLppIEgYDsEhAAqmEQIoGQAOQKyFVkUTt9VmEKSAQwRPA5/C9alUeCCe9wo6I/9E1pd/9e/CAEMhqL8LgjYHwEhgAo24gyi0VjYfYcqGUAFw0sGkAc8yQCGjGM01glj5WK4P3kfjkdeCaqfFQ8vQZWSCoKAIGAKASGApmDyX0kIoGQAOQKyFUGU03cVppBkAEMEj8PfgnXpfuclIDkF+ojRwarCCt8NqlQMVTAMQ8vJze2Wc7i4b3GZ0brU7W5QWGKkFJW5a5SUlqUkxuuumvFxeQnx2vb0pIQldVPjfzp69OiGZs2aFcYQTDLUAAgIAVRwDc4gGo2FXTKACsYO0JTDblYEUU7f5USVA0/RJ3wEjl//cs910K+9HdppHYMKssJ3gyoVAxUOHjzYcssB17jcgpJzv992qPmqPUfSDhSUoLDE7Xf0NRMdaFo7Ea3rJh86rX6N3GZpiesb1kx8sUWjel9qmua/UQzgGOtDFAKo4AGcQTTagU+2gBUM79OUw25WBFFO3+VB8oQUDjxFn/ARMHZuhfvJe6FPex9afHxQQVb4blClqmmFrVu3Jh01km7NKyoZtnrP0RafrzvQcL+rJKzRxusazmpR++iAk+tsbVgr8X9pjrJpkhUMC8oq3UgIoIL5OINotAOfEEAFwwsB5AHPj5Roz4NgA4k1fdxzPoKx+Tc4bn0wGDTHfxcCaAompUq0zbvu95zLdh8+9uC/f9jd9rd9BQ4lgeUat62XUnbZGQ02N6+d9O8OrRo9qWmawSlfZNkXASGACrYRAihnADkIghVBlNN3FaZQhaYceIo+4SNQ9sz90LqeDf38i0wJscJ3TSlWTSrl5eU137C/8N0Zv+Z0nLcpv1Ykh9W1Sc2C/+vaaGXrOsmXZ2Rk7IpkXyLbHggIAVSwA2cQjXbgkwygguElA8gDnmQAQ8YxkuuEUVgA951XQn/0NWgZDUzpJgTQFEwhV6Ks35rte8etzXHd+sri31sUBDjbF7LgIA1qJDhw29nNtp5cN/np9i0bv8YtX+TZCwEhgAr2EAIoGUCOgGxFEOX0XYUpJBnAEMHj8LdAXRo/LoZ7xntwTHnVtFZW+K5p5apoxd9//z15T5E+492Ve85asuNQDSuG0btN+uER7Rssbtug5qhatWrlWqGD9Bl5BIQAKmDMGUQjubD7G6JkABUMLxlAHvAkAxgyjpFcJ9z/eRlITIY+Mvj1L17FhQCGbMJKG+Tn56et3+ea+9j8rV33HCnWeaWHJq1OchzuOb/5xpMyag3JbFT319BaS+2qgIAQQAUrCQGUDCBHQLYiiHL6rsIUkgxgiOBx+Ju/Lv+8/uXv0E7rZForK3zXtHJVrOL+/fsbrTtQOHfK11s75BWW2kJ7elv4wQtabj2tXurQlk3r/2wLpUQJNgSEACpAyRlEI7WwBxqeZAAVDC8ZQB7wJAMYMo6RWieMndvgfuJu6M//19T1L5IBDNl0lTbYuX//yev3Fnz6yLytbV3FZbzCFaXF6Rru691iW/v6ySNbNWu0XFGcNLcRAkIAFYwhBFAygBwB2YosCqfvKkwhyQCGCB6Hv/nr0j33Ixgb18Jx20MhaWSF74akYBWovOX3Pd3WHij84PH521oVl9nzBhZdAyac32J7uwbJV7Vt3nhhFYBVVDSBgBBAEyAFqsIZRCO1sEsGUMHAJppy2M2KIMrpuyZgMl2FA0/TnZmoGCv6lE19AFqXs6D3Nnf9i2QATTiPiSqbd+8/86edhz56esH25m57cr8/RkEkcPy5mTvOaFjjuraZDeeZGJ5UsTkCQgAVDMQZRKMdaGQLWMHwPk057CYE8E9AOfDksewJKbGgj1FUAPcdV0Kf8g9o9RqGBJ8VvhuSgjaunJOT02DV/sLvHpyz+WSbJv4qoEeEYdw5zXd2blz78raZ9b+3MbyimgkEhACaAEkygIFBSnxoGkqbt1ZA0XxTuwVjLoJgRRDlfHgxb8HgNe1m41jQx/hpKdwfvwPHlH8EN1C5Glb4bshK2rCBYRiJyzbs+u6+uZu6HTlmrzN/weCiTOCjA1pv6Nmy7tk1a9bcH6y+/G5fBIQAKtiGM4hGO9BIBlDB8JIB5AHPj5Roz4NgA4kFfdzvvgIkJEIfeX0wOCpmhDQNjRo1on+vrWna4ZAFxGADuuT5p827sh+dv/2SHQeLWD/rFi04ayU68MTANou7ndzkPE3T7PHKcrQGX436EQKoYEwhgPISCAdBsCKLwum7ClOoQlMOPEUf8wgcv/5lwmjoV98GrZ3561+8PVjhu+ZHZ8+aP2/ZPeXN5bvvsOqSZy5UTs5IKR5/bvP/dG7T5AYumSInuggIAVTAmzOIRjvwSQZQwfCSAeQBTzKAIePIvU4Yu3bA/fg4z/UvCSHrIwQwNMjWbts9ZO6GvNf++3NO/dBa2rP24FMz8oacXv+uDi0b/dueGopWlSEgBFDBP4QASgaQIyBbEUQ5fVdhCkkGMETwOPzNt0v3FzNgrF8Nx98nhqjJiepW+G5YitqgUU5OTuvvdxyZ98Q32zNtoA6bCnef03xHjxZ1LsxsVHctm1ARFBUEhAAqwMwZRLkX9mDDkgxgMITM/c5hNyuCKKfvmkPKXC0OPM31ZK5Wdden7NkHoXXqAb3P38wBUq6WFb4blqIWNzIMQ1+6Yeeiuz/f1KOo1G2xNrzdxzs0PH1hmzWn1EvuVa9evSO80kVaJBEQAqiALmcQjXagEQKoYHifphx2syKIcvouD5InpHDgKfqYQ+DE9S+joD/yCrT6x1/kCLlY4bshK2mDBqu27p7wyuKdE1fuOpJsA3XYVahfIx5T+rX6qMtJTYezCxeBEUNACKACtJxBNNqBTwigguGFAPKA50dKtOdBsIFUZ32Mn5fCnfVvOB57LRgMAX8XAhgcutzc3KbzNuUvfHrB9hbBa1fdGsNOr5c7pH3DUac0qz+36o4itjQXAqhgbyGAcgaQgyCoBlGn00mn958FMADAMQA/ZWVlXV2Za3P6rsIUqtCUA0/RxxwC7ndfBeLjoV8W/kucqr5rTtOqW4uufFmxcdf8e2ZvOv+ozb7xy40qkYmnLmrz60m19a7NmjUr5JYv8vgREAKogClnEI124JMMoILhbZYBHDFixDQKNFlZWXeQapdffnmDDz74IEcIoLqNoz0vg2nMpc+J61+uh37VLdBO7xKsW8kAhonQr1t3j/nXD3umLtx6sEaYIqpUs2a1E90PXdDyLbkapmqYTQiggp2EAEoGkCMgq2RRBg8enJKUlLSrqKioyaxZswrMujOn75rt00w9DjzN9GO2TnXVx9i9A+5H6fqX96ElJJqFo0I9Fd8Nu9Mq0vDw4cMZCzblLp389ZbofCrJJriM7tp4z99OTR/QrGHD1TZRSdQIgIAQQAXX4Ayi0Q40kgFUMLyNMoBOp7M9gBkAsgBcAIC2XiZnZWXNlwyguo2jPS+Dacylj/vLGTB+WwXH7Q8H67LS34UABoZnxYadn933xeZBBwtj60MZCQ4Nzw06aUn3tk3P0jTNUHIwaRxRBIQAKsArBFAygBwBWSWIDhs2rJOu6ysNw7gqOzv7/WHDhnXQdf3r0tLSU2fMmJEbyL05fVdhClVoyoGn6BMcgbLnHoJ2RnfoF4R3/Yu3BxXfDa5l1a2xYeeeQf/9cd97n607kFZ1RxG+5mdl1nbd2KPxuHaZjf8ZvhRpGWkEhAAqIMwZRKMd+CQDqGB4G2UAhwwZUjcuLm5vVlYWvQhy/Gnb6XQu0zTt7unTp3/nO8oRI0YMcLvd9KII6tSpk/D666+PPXr0KA8QTFISEhJQXFzMJE1dTHXUh65/OTj6EtR69m04GjZVBqlGjRoYM2bMK3l5eccNp+v6F9OnT/9CWXAVFUB3/i387fcV4z/f2Nkdw/mvR/u3Wt+lSY2ucjegfR1ZCKCCbYQASgaQg7irZlGcTudcwzBeyM7OnjN06NBMh8OxPC4urkNlL4Jw+q7CFJIMYIjgcfib8fMyuLPeguOx10PsvWJ1Vd9VVsCGAn7dvvvGVxfvmrbs98MpNlQvaio1rZ1oTOrX8uWOrZr8PWqdSkchISAEMCS4/lqZM4hyLOyhDEUygKGgFbguh91Ug6jT6WwJ4C0AdQHQgaNJWVlZn1Y2Qk7f5UHyhBQOPEWfyhFwv/8PQHdAv/xGZahUfVdZAZsJMAwjcd6a7T9OmLP5NJupZok69/dusfn81uld6tSpc8gSBaTTShEQAqjgIJxBNNqBTwigguF9mnLYzYogyum7PEgKATSDo6q/Hb/+5b4boF95M7T24V//4tXVCt81g5NVdTbuyHn5iQXbxqzaczTOKh3s1G+TWonGw/1bvtxZsoB2MssfuggBVDALZxBVXdhDHYYQwFAR81+fw25WBFFO3+VBUgigGRxV/c3YsxPuKXcoX/8iBLCitXbv3p1SVhK39/1f96Zkr9nvMGPPWKhDWcDebeqcmZ6efjAWxluVxigEUMFanEFUdWEPdRhCAENFTAggD2KVS4n2PAg2puqmj/urT2Cs/QmO2ycFG7qp3614eDGlmAWVtm7e9+TKpYfGNzsjqWjs7A2pFqhgyy6PZwH7tnylc5smt9lSwRhWSgiggvGFAMpLIBwEwYogyum7ClOoQlMOPEWfwAiUTZsIrUNX6BcMZoHJCt9lUZxZyL59+2rk7Cr9cdE3+Sf16pfmum7OOiGAPhjf1ztzc582dSULyOx3quKEACogyBlEox34JAOoYHifphx2syKIcvouD5InpHDgKfr4R8A4VgT3HVdAf/glaA2bsMBkhe+yKM4sZPvWfU8s+ib/nsMHS/UOXWu6nlv3e+q2/CLmXqquuMa1EoxJfVtJFtBmJhQC6DGI0+kcAoCuxaebmxyGYUzNzs7+T2X24gyi0Q58QgB5ZiKH3awIopy+y4OkEEAzOKr4m/HLCrg/fAP6Y6+DfI6jWOG7HHpzyjAMI27t6j2/LPw6//ibv3Uy4o2y1jj27KLfkzj7qeqy7uuduaVPm7pd5CygfSzJswrYZzzhaqI5nc5Dbre750cfffSr5y61dUlJSRnvvvuuK5BQziCqsrCHM2ghgOGgVrENh92sCKKcvsuDpBBAMziq+Jv7/dcADdCvuMlMV6bqWOG7phSLYqXft+0bvXLpoZf37i4+TviIW3cfkOa6/jPZBvY1Q+NaCXi4X6tXu7RuMjaK5pGuKkFACOCfGcANhmGMzs7OXuj5nNbn+/fvb/ntt98G/JAjZxBVWdjD8XAhgOGgJgSQB7XAUqI9D4KNp7roc/z6l/tvPH73H50B5CqxTgANw9A2rMtZ/s2c3DN9Me3RJ81145frUt1cQFcTOQ/0abHxzAYJZzRr1oy+WS7FYgSEAHoMMHLkyB5ut/tzAEcA0Pcbh2ZlZc2vzD5CAOUlEA6CYEUQ5fRdzjWMA0/RpyICxt6dcE++Hfrz/4WWmMgGkRW+y6Y8g6A9e/aft3rl0ZlbNhT85Zu/rU9JKZxbkJe8YIvcfOIL82kNUkvvPr/F+PaZDV9ggF9EKCIgBBDAVVddlVpUVLRW1/WRH3744dJhw4adqev6zJKSktNnzpwZcAZzBtFoBz7JACrOHE9zDrtZEUQ5fZcHyRNSOPAUfSoi4P76Exirf4Tjzsmc8Bw/S9ioUSOSWVvTtMOswquAsA3r93797ZzcC9zlUn3JKTqad09x3f3VJnkbuJwdpw5qs+L8dpndqoB5q72KQgABjBw5sqvb7X47KyvrdK/FnU7ncgB3Z2VlLfD1ghEjRgxwu90D6N/q1KmT8Prrr489evSosqNE+6Pzx35bhYJJ6p9oTJn0IhJP7aA8fjMCoo1RNHWqUaMGxowZ80peXl4x9avr+hfTp0//wowO4dQRAmgOtepCSMumPQytfWfofS8xN3CTtWKZAB48eLD1ml8Of79m5ZGG/uDq1T/ddd3s34QAlgNnSLt6+dd1bjygUaOMFSbdTKpFCAEhgACuuOKK9JKSko26rvf68MMPNzidzjYAlpaVlbX/+OOP9wTCnjOIRjvQSAaQZ0Zx2M2KIMrpuzxInpDCgafo81cEjGPHPNe/vACtYVNOeGI6A7h5w74Pvvsq97Jjx/yf9Dvz7FquCUu3pB4sCniMnNUWVUVYcryOqRe1+aR722aXVhWdq6ueQgA9lnU6nRcD8F6PrxuG8Vh2dnZWZYbnDKLRDnxCAHmmNIfdhAD+aQsOPHksW30IqbFqBdwf/BP64/9ku/7Fi7EVvstp33Bl0WffcnZj1bLv8lsHktGoSWLJjrrH8M6Pe+PD7ae6tht/bvOtA9pmdJYrYay1sBBABfyFAMpLIByExYogyum7ClOoQlMOPEWfvyLg/u9rx2831a/ku/4l1gngjh05tyz/7tALB/aVxAXyN4cD6NS3tuumz9fLNnA5kFqkJxkT+7aY0qFlE7p7V4pFCAgBVACeM4hGO/BJBlDB8D5NOewmBFAygGa9MVR/O379ywNjoI+8AdoZfNe/xDoB3PDb3sXz5+T2DGa3nn3TXKPnyn2A/nB68sLWv1xwemYnTdPo4wtSLEBACKAC6EIAJQMYakD2525CAIUAml2GQvU3Y+8uuCff5rn+hf/DFFb4rlmsIlXv4MGDrdb8dGjxmp+ONgjWR7vONQr+tX1Pyq85Ab8nEExEtf2930l1jtzQrfGwVk0afFVtB2nzgQkBVDCQEEAhgKEGZCGAlU84DjwVpnSFplVdH/e8WaAzgI47H+GE5Q9ZsUgAt27Oee27r/LGFBYEv+a5dnockk+LK3h0wbaUiBigCguN1zVMHXzyV2e1bdq/Cg+jSqsuBFDBfEIAhQByEAQrgiin7ypMoWpHuDix8CcrVH8re2EStNM6Qe/He/2LVzcrfDfSGFcm3zAMfe3qPasWfp3fzqwePQemu0Z/JtfB+MPr1l5Ndgzt0LhLrVq1DpjFU+rxISAEUAFLziAa6sKuoPbxpnIGUBXBE+057GZFEOX0XR4k+fAUfU4gYBTT9S9XQn/oeWiNeK9/iVUCuHv3voE/LjuStXNrUQ2zfta9d5rr5nnrUkuDJwzNiqw29VrXTTYe6tNywuktGz1dbQZVhQYiBFDBWJxBlINIhDIUIYChoBW4LofdhAD+iS8HnjyWrfqE1Fi9Eu73/wH9iTfYr3+JVQK4af2eOfPn5A0s/+WPynwus03ysSXG4fjZ63N1Tt+sLrKeHXTSovPaNT+7uoynKo1DCKCCtYQAyhYwB2ERAigE0OwyFIq/0d1/cJdBv/Jms+JDrmeF74asJFOD3NzcWls3Ffz8w6LDLUMRmZioo+05qa6/z90o18H4Ae6mHk12Dm6bfmaDBg1yQsFV6qojIARQAUMhgEIAQwnIgVzNiiDK6bsKU6hCUw48RZ8TCJTR9S/O66B17M4JyV9kWeC7mQDopYE3fBTZCmAQgLURGyiAndv3j1m6MP+VA/tKHKH206t/muu62XIdjD/cWqQn4aF+LR88o0Xjx0LFVeqrISAEUAE/ziAa7cAnW8AKhvdpymE3C4IoOH2XB8kTUjjwFH0AY99uuB++Ffq096ElJXNCYjUBPB/AMwB8LzXkIIBE6soqA2rj+r3z5n2e2yccMDv1qOWa8su21L1Hjn/qW0o5BKYOarPk/HaZvQSY6CIgBFABb84gGu3AJwRQwfBCAHnA8yMl2vMg2ECqqj7ueZ/B+GUZHOOmBBui0u8RfngZCICyQkTO8gHcAuBjAM0AbACwAwB9T5YI4NsABgBoCOAtTzsaG93V9yIAyhzSRYgzfT75Se3+C6CvR95VgcDYu3dv6q4dpatWfH+oVTiA1WuQUHa4aVnpK8t2JYbTvrq3ubF7491DTss4s169enuq+1jtND4hgArWEAIoW8AcBCHCQdSvh3P6rsIUqtCUA0/RByh7YTK0UztA7z+EE44KsiLou/U8W7rnef68AsB9AMYCmAqgm48yROSIGN4FIAPAJgCnAiAyMRfAowC+9xDJzwC8BuATD3Gk34Mekty588DVyxfm/2vfnuKwvuur60DX/mmuGz6TbWB/Dtk8LQkP92s16YyWjSZH1GFF+F8QEAKo4BCcQTTagU8ygAqGlwwgD3iSAQwZRzPrxB/Xvzz4HLTGzUPuI5QGESSAfwPwd895P69KlAUksjbODwEcBuBHT0X681YAPwM4CGANAG+soxcx3gTwlIcAjgSwPNiYN67b+8X8Obn9DYWPlvW8IM01+gshgIGwfmbQSUt7t2se9PN6wWwlv5tHQAigeawq1BQCKBlAMwE5mItFMIgG7JrTd4ONL5TfOfAMpb9gdauiPsaalXC/+yr0J/8VsetfvLhF0HcDEcCbPJm+8hlA35dAVnjqEBGkC4bpKxz+buEzdXZw69atSQcPJKxetvBgm2D+UtnvbU9PLczK3Ze8/PcjKmKqbdvRXRvvcbav1zUjI2NXtR2kzQYmBFDBIJxBNNqBRjKACoaXDCAPeJIBDBlHM+uE+39vACUl0K+iI3ORLREkgLSV+yuAcwGsB3AZgPsBXA3gQwBtfUZWnsh5CeB3AOg7sws828DUpJEnG7jbkwEM+vbwnp37hi9ffPi9PTuPKZ3fq1HTgYzOiQUPztsin4Xz45ZNaydicr9Wj53RqvGDkfVakf7HA5xAET4CQgAlA2gmIAfzsAgGUckABgM/yO8c9lVU4S/NzehT9sBN0J3/B61jD86u/cqKsO/SdS9PAKALlGkrl7J/dL5vBgC6i2+z5yWQLQAoY+i9Boa2dMcDIAJYH8A0AO09A6D0G8lZDaB8O79j3LRh7+fzZ+deFMrlz4GA7zUg3XXd5/JZuED4PHNR62W9T28ReceN+MyoGh1IBlDBTkIAhQCaCcjBXCzCQdRv95y+G2x8ofzOgWco/QWrW9X0MfbtgXviWOjPvwctKfKJJit8N5jNOH83DCN+1crda5Z8d/BkDrndzq3tuuP7jakFxfJdOH943tyjyU5nx8ad5NvAHN4WXIYQwOAYRSWLEu1AI1vACob3acphNyuCqBBAc/bnsK+5nszVCqaPe/5nMH5aCsdd9OJr5IsVvhv5Uf3Zw4G9B/osW3Jo1u9bi1jYdNPMpOK1KQWO6av3hXyZdDTHbVVf7Rqkuu/v0+Kmts0a+l70bZU61b5fIYAKJuYMosEWdgU1/TYVAsiDKIfdrAiinL7Lg+QJKRx4xrI+ZS8+Aq1te+gDInv9ixdjK3yX077BZG3ZlPPON3Nzry4pVnj916eT+HgNp/eu6Ro7e4N8Fs4P+LoGvHDxyXN7tm12YTDbyO/qCAgBVMCQM4hGO/AJAVQwvE9TDrtZEUQ5fZcHSSGAZnCszN+MkmK477gC+v3PQWsS2etfYoUA/rp6zw8Lv8rrYsY2Zuv07JfmGj1HroMJhNfEvi3XDe7Usp2mabJPbtapwqwnBDBM4KgZZxDlIBKhDEUIYChoBa7LYTchgH/iy4Enj2WrHiE1fv0J7v+8BP3JNyN+/UssEMD9+/c33rC28IfVK4/Qm8NspUPXmq7n1/2euiW/iE1mdRJ0Ydu6h28/q2m/jIyMoPczVqdxWzEWIYAKqAsBlJdAOAiLEEAhgGaXocr8zf3hv4DiY9Cvoo9lRKdY4bvRGRmwffu+25d+e3Bafm4Ja5yskxFvuFtrx6Yu2kGfppNSDoGGNRLw5ICWWae3bjpCwIksAqyOHVlV7SddCKAQQCGAvPOSA09OjaqSPmUP3Qx96DXQOkXvFo3qTADp6x/zZufSVTSsRdOAHgPSXKPls3B+cf2/zg1czoaluxqc3tH3rkdWG4iwEwgIAVTwBCGAQgA5CIIVQZTTdxWmUIWmHHjGoj7G/r1wP3RL1K5/8WJshe9y2jeQLMMw9NW/7P518fyDp0Sivx590lw3frkuVQ65/RXdlHgdL/VuUNBw08r9cb0v6lC3bt3DkcBfZAoBVPYBziAa7cAnZwCVzX9cAIfdrAiinL7Lg+QJKRx4xqI+7m9mw1i5CI7xj3EOP6gsK3w3qFIMFfLz8zv+sOTgN5vXFaQxiKsgonXb5MIvC/OTvtlyUJIwPujc0r2xq9+sZ1P0OEdp0k33XF63ReuPIoG/yBQCqOwDnEE02oFPCKCy+dkIixVBlNN3eZAUAmgGx0DrRNlLU6CddBr0gcPMiGGrY4XvsilfiaBtW3Ke+e6r/PEFrrKIdJecoiOzR4pr/Jeb5DoYD8K1k+Lw/NnpBbUfvDYFCYlImTgtO6Nzd2dEDCBCjyMgTx8KjsAZRIUABjdEtDEKrhFPxsqKIMrpu2ZwMlvHbjauCvqcuP7lSuj3PQOtaQuzULPUs8J3WRQPImT9upzvvpl94JxI9tWrf7rrutnyWTgvxuPObuI697+PpLq30KefgaS7Hvup/gUDO0fSBrEuWwigggdwBtFoBxrJACoY3qcph92sCKKcvsuDpGQAzeDoz9+MtT/B/faL0J9+K2rXv3h1tcJ3zeCkUscwjLhfftz929IFB9uoyAnWtstZtVz3L9+Sml9YGqxqtf89IyUez3ar4ao56YY/MqIJo8bsSh18eaeaNWvur/YAWDRAIYAKwHMGUQ4iEcpQhACGglbguhx2syKIcvouD5JCAM3g6M/f3B++CRwrhH71rWZEsNaxwndZB+BH2MGDBzsv/z5//pYNBbUj2VfDJomlu+oWG2//uCc+kv1UBdn3ndukoOsbE1Kw5/c/1HWc3rksaex9l9fNbJVVFcZQFXUUAqhgNc4gykEkQhmKEMBQ0BICyINWcCnRngfBNKoK+pTR279DRkHr3CvYcNh/r44EcOvWnMmL5uVPPHo4Muf/vEZwOIDOfWu7xny+PqbPATaulWA81SGuMPXRW//6veWkZCQ/9Nz79Tp1G8XuuCLwOAJCABUcQQigXAPDQRCsCKKcvqswhSo07mKg7wAAIABJREFU5cAzlvQxDuTA/eBN0Ke9Dy35r/GTE4dAsqzw3UiPa+P6vV/O+zy3X6T7Ifk9+6a5Rs+N7c/CTe7TvKD987emIO9ABciT7n1qaf3z+vaMhi1isQ8hgApW5wyi0Q58kgFUMLxPUw67WRFEOX2XB8kTUjjwjCV93N/OhrHiezjufpxz2KZlWeG7ppULo6JhGNrqX/asXjw/v10YzUNu0q5jDdebv+9JXZPjCrltdWjQMj2pbMpJJcdSnr7L79NL4g3jtxafeXa7Zs2aFVaH8dptDEIAFSzCGUSjHfiEACoYXgggD3h+pER7HgQbiN31KXv5UWitT4V+YXSvf/HiVt0IYH5+fos1Px5e+usvRxsE8w2O32unxSG1XVzhIwu2JXPIq2oynuiXWdD2yRtTcOSQX9XjepxXkHzThAvT69f/rqqNrSroKwRQwUpCAGULmIMgWBFEOX1XYQpVaMqBZ6zoY5SUwH3nldAnPAWtaUvOYZuWZYXvmlYujIo7t+8fs3hB/j/yDvB+/7cyVXoOTHeN/iz2roM5tX5K6cRGB4sTX3gw4NkFLa0uku998sWMMzrfHoY5pUkQBIQAKrgIZxCNduCTDKCC4SUDyAOeZABDxtF3nTDW/gz32y9Ycv1Ldc0Abt6YM2Pe5wcudUfxG23dz6/tGjt/fWpxFPsM2fEi0GDqgMzCVg9fk4ziokqlJz807dt6Pc/tHQEVYl6kEEAFFxACKBlADuJuRRaF03cVppBkAEMEz9ff3NPfBAoLoF9zW4hS+Kpb4bt82leU9Ouq3T8s/Dq/SyT7KC87s3XSseXakbhZ63Id0ezXyr46N6lRMiF1R2ncP58MuvWddNuD6+sNvPQ0TdNijCJH3kJCABUw5gyiHEQilKFIBjAUtALX5bCbFUGU03d5kDwhhQPPWNGnbOJY6JdcCa1L9K9/qY4ZwPz8/LQNa4+u+mnZ4WacPhRMVkKihlPOqVnw97kbov8adzDlIvT7CwMzC5vdf2Uy3MEvwY4fMCQv8apbzqtTp86aCKkTs2KFACqYnjOIRjvwCQFUMLxPUw67CQH8E1AOPHksa29CauTuh/uBG6E/9x60FOuukbPCdznt6ysrNye336KF+Z/t3nEsIVJ9BJLbq3+a67rZsXEdzNmZtY/dXrrKcLz/SpIZnPXM1ki6/eHbM05p96KZ+lLHPAJCAM1jVaGmEEDZAuYgLFYEUU7fVZhCFZpy4BkL+rgXzIWxfAEcdz/BOdyQZVnhuyErabLBlk05Uxd+nXdXYUH0dxo79ajlevSXbal7jhSb1LZqViPC8fKFmYWN7h0ZdOv3jxE64pAy+aWPMjp3G141R21frYUAKtiGM4hGO/BJBlDB8JIB5AHPj5Roz4NgA7GrPmWvPAatVVvoF1obE6sTAdy4bu8X82bn9g/mE5H4vV6DBPeRZu6Sl5fuTIyEfLvI7H9SeuGY/Qt1beZ/Qhpn0oSnFtc/t+9ZdhlHddFDCKCCJYUASgaQgyBYEUQ5fVdhCkkGMETwyN8O5eXCfcco6Pc+Ca2ZNde/eNW2wndDhMx09TW/7P7p+3n5HU03YKyoaUC3AWmuGz6rvtvADg14eWBmYYNQsn8ejBNvuX9T/UFD28qLIIxOJ5+CUwOTM4hyEIlQRiMZwFDQClyXw25WBFFO3+VB8oQUDjyruz6Hli2E+81p0J95G+Q7VhYrfDcS4923b1+NbZuO/frj0sPNIyHfjMyeF6S5Rn9RfQng0HYZBaM2fBqPr2bGm8HDt078RcNz40Zef1a9evXWh9pW6gdGwNrVo4pbhjOIRjvwCQHkcT4Ou1kRRDl9lwdJIYBmcCR/O/jmC4DrMPT/s/5uXCt81wxOodbJy8s7a+mC/K92bC0yfzYt1E6C1D/59NSCj3L3pyz7/TCzZOvFxTs0vNK/aUHGvZeH9aaz3uZUJN/+8Oi6rU96y/rRVB8NhAAq2JIziHIQiVCGIgQwFLTsnQF0Op3bABQAOAbAMAzjiezs7KzKRsjpuzxICgE0gyOtE/l3Xg198GXQzjzbTJOI1qkuBHDr5pzJi+bnTzx6pCyieFUmPLWmAw06JxbcP29LWCTJMsVNdHzlGfULhq94N8FYPC/ORPWKVRKTkDxx2n/rdep2ZVjtpZFfBIQAKjgGZxAVAhjcENHGKLhGPFuWqkHU6XRu0XV90IcffvibGZ2pDqfvmu3TTD272dhu+tQoLsKh2y6DPo2uf6lhBtKI1lH13YgqF4LwTRv2fv71Z7kXhdAkIlV7DUh3Xfd59fosXHK8jpf6NCyoc98oJWKbdP/UhfXP7n1uRICPUaFCABUMzxlEox1oJAOoYHifphx2Uw2iTqdzK4BBWVlZa82OitN3zfZpph4Hnmb6MVvHbvokLl+Agm/mwHHvk2aHENF6qr4bUeVCEL521e4V332df2YITSJStes5tV13LtqYWlCNvgt3Y9dGrgu/eDHFWLVCiW8k/f2h9fUGXHKqpmlGRMCPQaFKBolBvP4yZM4gGu1AIwSQx3s57KYaRD0E8PjBIcMwlsXHx9//wQcfHKhshJy+y4PkCSkceFZnffR/Po3SJi2gDxrBOcywZan6btgdMzY0DCPxx+W71q1YdKgFo9iwRDXNTCxZl1qo/W/VvvC2SsPqNXKNaiY68MK5Ga60B65Rvq08fsionMRh13SrU6fOjshpHFuShQAq2JsziEY78AkBVDC8T1MOu6kG0aFDhzb9+OOPdzqdTodhGI9pmtY+KytrkBBAdRtz2FddixMSjNISuO8cBf3ux6E1b80lVkmOqu8qdc7U+ODBg52XLcz7ZuvGwlpMIsMWExevoUPvWq5bZq9XJkxhK8HY8PaejV29sx9PdW80vTkRsHfHaR3dSbdNvLxuZuZ0RhVjWpQQQAXzCwGUewA5CAJnEHU6nQ0BrM/Kyqpd3rVHjBgxwO12D6B/r1OnTsLrr78+9ujRowozgL9pQkICiovt8zUEO+lTsuYnFLz8KGr9I9vy6198LV+jRg2MGTPmlby8vOOG03X9i+nTp3/B7x2RkbhjR87NS7459Gp+bklkOghRaq9+aa7r5lT962DqJMdhWs9arpoTr2chs1qtNCROePrl+h273BYipFI9AAJCABVcQwigEECrCeDgwYNTkpKS4rOysg6RKzudznEALs7Kyjq/Mtfm9F2FKVShKQee1VUfd/bbiC8qRNmoWziHqCSL8+FFSRGFxls25bwzf3bu1aWl9jha1uHMmq4XNv6eujm3SGFU1je995ymrp7/vj/V/TtdUsBTkie/NLde114X8kgTKUIAFXyAM4hGO/DJFrCC4X2acthNJYg6nU76FMRHlHjxXOy+BcDtWVlZlZ6T4fRdHiRPSOHAs7rqUzbpNqQ6/w9F7bpwDlFJlorvKnXM2Hj9b3u/+mZObl9GkUqi0uvGG2ijHXtm0Y4kJUEWNm5QIwFTOye6Uh+5mSX75x1K8t2PL6vXe0APC4dWrboWAqhgTs4gGu3AJwRQwfA2IoDhjoLTd8PVwV+7aM+DYLrbRR8jbz/c992A2m98gqNue2SqCLvqQADX/LL7x+/n5XcK5gvR+p0+7tJjQJprdBX+LNzE3s1cHV8el4r9e1hhS7z1gY31LxxCn4SzzyRgHWF0hQkBVMCbM4hGO9AIAVQwvBBAHvD8SIn2PAg2ELvo4/7uCxhL5iP9sX/g8GH7fCmiqhNAwzDif1qxc/3y7w9b+1Hlco7Yo0+a68Yv16W6gzmoDX9vnpbofuJUozD5iTtYs3801IRh1+yNu+SKMzMyMnbZcOhVTiUhgAomEwIoZwA5CIIVQZTTdxWmUIWmHHhWR33K/vHE8Td/0y6/Xgggo4H3799/8pqVrkXr17oyGMUqi2rVNrno66KDifM351e5GP3YBc0LTn3mphQcPqiMQ3kBji69ihNvfXBQRoMGX7MLj0GBVc657GQjziAa7cAnGUAeT+KwmxDAP23BgSePZU9IsYM+Rmkp3ONGQb/rMdRu30kIIKOB9+zJHb7km7wP9+0tpjO0tinJKTpa9Ehx3fXlJvYsWiQHeVJGctkjzV3HEp+boPTVj0A6ag2aIGnc5Mn12neaFMlxxIpsIYAKlhYCKBlADoIgBFAIYGXLkLF+Ddz/fBr6M/9G7bQ0IYAKa3b5pls375u24MvcO4oK7bfZ2qt/uuu62VXrs3BT+2cWtJpybQoK6dPkESi6juTJr86s16XrkCDSfwTQ0/N99EBVvwHwDIDZACYDWAOg0m+oR2BElooUAqgAvxBAIYBCABUmkJ+mHHhyamQHfdwfvQMcyod+3R22yEj64mvFwwunfTdtzJn99awDtrxWpMtZtVwPLN+SmldYyjnkiMnq0DC15IE6e0viX50SkeyfV3HGbwL7EsCI4WJnwUIAFawjBFAIIAdBsCKIcvquwhSq0JQDz+qmT9nkv0O7yAm96zlCADmNC2Dt6j1Lvvsqz5bXijRonFC6p16J8dbKPfHMw46IuGkDWxRmThyVjAhf5J50+8Nr6g+4uH2QQVBKtwaAX+k76WRqT/0VAO4C8B0AXwL4NgD67VUAfQA8CiARAGH/HIB/RwQ0i4UKAVQwAGcQjXbgkzOACob3acphNyGAfwLKgSePZU9IsVofIz8X7gmjoT/3LrTUmpbrUx5bK3yXy76GYWirftz925IFB9tyyeSU43AAnfulucZUgetgujerdWy8Y53h+PfzEb+7MOHqW3+P73fx6XXr1q3sdfgyADXDJID0FSWSTVfNpAOg7WR6SMjhtK8dZAkBVLCCEEDJAHIQBCuCKKfvKkwhyQAGS2Ms/BLGoq/hmPC0LQhpdSKAhw8frvvrTwd/+WXlkSacPswpq2ffNNfoufb+LByRiBcvbFHY5L7LkuGO/FnKuD6DDiWPvvP89PT0nyvBWoUA0oe2acKdDID23+nvlwKYz2lbO8gSAqhgBc4gykEkQhmKZABDQStwXQ67CQGUDGAgDyv7x5PQmrWA/rfLhADyTNk/pBw8ePDMpd/lzd+2qZAyRbYsp3Ws4Xp7557U1XtdttSPlOrTOq3olsPLNT3rX7RlGvGin9IByXdMvKxu85YfmiCAvwAYCmC1py79OTbIFvBXAD4F8JKnzUoAD3leFon4+KLZgRBABbSFAEoGUAigwgTy05QDT06NrNTnj+tfxk2B1uIkIYCchgWwe/eBqxbPz/vPgX0lzJL5xNVKi0PN0+MKJn+7LaIvVoSrsa4BLw/MLGx478jkcGWE2k6rWw/Jdz/+VEaHzhNMEED6TObHAN4A0A3A9wDos3+VnQGks4BTPCTwXE/m72IhgKFaqprXFwIoBJCDIEgG8M+FggNPzmXHSn2MDWvgfu0p6FPfgaafuKbOSn384WqF73LZd+vmnOcWfJl3px2vgPEdY8+B6a7Rn9nzOpjBp9QtvHb7F3GYMz16L6poOpIefWVG/U7dKLMXqNBeNN2heBqAdwAQy1/mIYF3eAggbelO9RC7twD84HkJhAgivQxyFABtM9NW8ONCALlmXjWRIwRQCCBHQLYiiHL6Lud05sCzuujj/vgdID8P+ug7/xiS3fCxwne57LtlY87ML2cduIRLXqTkdD+/tmvs/PWpxZE/XhfSEOJ1DS8PaFZY797Lopb98yqY/MDUb+qd1Zve1vVX6gPY6iGAIY0p1irLFrCCxTmDaLQXdjkDqGB4n6YcdrMiiHL6Lg+SJ6Rw4Fld9CmbfDu0gUOhdz9PCCCnUT2yNm3avu7HJUUn5+0vtXUczGyddGyFfjTu098OOCIAQ9giR3aoVzDy5w8T8d3cqOuVdNeUH+tfcFEXP8qfCYDOBr7ueZEj7PHFQkNbO77dDcAZRKMd+IQA8ngXh92EAP5pCw48eSxrLSE1DubCfe9o6M/+B1qNWkIAOY3qkfXjjz+uKStztzqwq7Zj+5bihAh0wSIyIVHDKefWdP19zgbbfBYuKU7HS30bFdSdcKUlZxMTx96/ocGgYba8vofF6FESIgRQAWghgLIFzEFYhAAKASy/DLm//wrGwi/huI++VGVffKzwXYUl+4+mdAfg4sWL18+aNeukgf0HFsTpTbU1Px6L+lam2bH06p/mum62fa6Dua5Lg4KLv309yb1ysSXfUE686padcf0vbRfkLkCz8MZsPSGACqYXAigEUAigwgTy05QDT06NrNKn7LUnoTVpAX3wietfvMUqfQJhWlUJ4MGDB9OXLVu2ev78+cfvAOzWrZurVYuOWLagyDZZNl/MO/ao5Xpi1bbUXYeLOd07LFmpCQ68eH69gvT7r7Yk+0dKx/e7OD/h6lvPqVu3Ln3pQ0qYCAgBDBM4aiYEUAggR0C2Iohy+q7CFKrQlAPPqq6PUVYG952joN/5CLSWJ65/EQLIaVUgPz//jLlz5y74+eef6asPx0ubNm2KevXs7V709bGUKNxnHNKAMhoklLmauktfWrYzKnftVabc2O6NXf0+fSbV/RtdsWdNcXTo6k4e9/DgOvUbzbZGg+rRqxBAjx2dTiedAXkWwAAAxwD8lJWVdXVlZuYMotEOfHIGkGcCc9hNCKB9CQ6HfUP1NGPDr3C/9uRfrn8RAhgqipXX371796UzZ878ePv27X+JgfXr1y+9cODgkh++L0sucNnntVtNA7oNSHPdYPFn4dKS4jDtrLSC2g9dZ1n2jyyrN8lE4p2T76l3Wvu/npHgdZNqL00IoMfEI0aMmEbnQrKysuiOIFx++eUNPvjgg0q//ScEUDKAHARBCKAQQN9I457xLpC3H/rocRUCEIe/cUY1K3yXQ/+NGzdO/Oijjybn5+dXEJeamopLLx1atH5VfGLuPvu8IdzzgjTX6C+sPQd419lNCs557+EU97ZNHGYIX0ZyClIeeu7tjI5drwtfiLQUAghg8ODBKUlJSbuKioqazJo1q8CsWwgBFALIEZCtCKKcvmt2vpipx4GnmX7M1rFCn7Ipd0DrP+Qv179IBtCsxczVW7du3fvvvvvuFaWl9KnXiiU+Ph6XXHxpYW5Obce2jfZ4Q/jkdqkFM/L3pyzZcdjcIJlr1UuNx7NdU101Jt1oi3OSyY+8PLvemT0HMQ8zpsQJAQTgdDrbA5gBIAvABQAKAUzOysqq9OPPnEE02oFGtoB55jmH3YQASgbQi4BxKB/ue66FPvU/0Gr+ef2LEECe+eqVsnr16s/fe++9iyqTSvOyX7/+BUlxzbXVK61/Qzi1hgMNuyS57pu32RIC9sB5zQq6vDY+BTm7eI0RprSk+55eWP+cC+hTbVLCREAIIIBhw4Z10nV9pWEYV2VnZ78/bNiwDrquf11aWnrqjBkzcgNhKwRQMoBCAMNceQI048CTU6No6+NeNA/Ggjlw3E9fqKpYoq1PMCyteHgJppOZ33/++edvPvjgg/PN1O3atWtBm1adjKXfWv+GcK8B6a7rPo/+Z+Ga1Eo0nuqgF6Q8epsl5NOfnZLGPfJz/b6DOpmxodTxj4AQQABDhgypGxcXtzcrK4teBDEIKqfTuUzTtLunT59OH43+o4wYMWKA2+2mF0VQp06dhNdff33s0aP0yUC1kpCQgOLi6L3if+y3VSiY9Hc1pQGkTHoRiad2UJZTsncX3PkBufZx+RRsDOO4eQIWPb0u4hsev9khKoXLbjVq1MCYMWNeycvLO+4Euq5/MX369C8iNQjOhxdOHe1GcKKtj/v1p4FGTaFffIVfWKOtTzDbVlUCuGLFiqXZ2dndg43P+3vr1q2PndWrT9ni+cdSyvzvGpsVpVSv6zm1XXct2ph6NMrfhXukT/OC06eNTUGQNVppcCE2Thx7/8b6Fw1tq2la5UEhRLmxVF0IoMfaTqdzrmEYL2RnZ88ZOnRopsPhWB4XF9ehshdBOINotBd2u20B200fs4sAh92sCKKcvmsWKzP1OPA004/ZOtHU5/j1L+NGQb99ErRW/j9yEE19zGBkhe+a0StYnSVLlqyaOXMmHf0xXTIyMkoHDbq45IeFbsveEG7SPLF4Q40i/YNVOXGmFVes2KpOctmjrYuKkp652zbZPxpSwhVjdiUPHtmhdu3aeYpDjNnmQgD/JIAtAbwFoC4AesablJWV9WllnsEZRKO9sNuNcNlNH7MrAofdrAiinL5rFisz9TjwNNOP2TrR1MfYtBbuVx478fk33f/nVaOpjxmMrPBdM3oFq/P9999vnDVrVptg9cr/7n1DeMPqhMQDOSVRj59x8Ro69K7lumX2+qiRsSf7ZRac/Pj1KXAdCRWuiNaP739pXvyom8/OyMj4LaIdVWPhUXfg6oQlZxCN9sJuN8JlN33M+imH3awIopy+axYrM/U48DTTj9k60dTHPeM94EAO9BvuCqheNPUxg5EVvmtGr8rq7N27N3XNmjW/ffXVV83CkRUXF4dLLrm0MH9fbcfWDSVR/4Zwz35prtFzonMdzGn1U0onNswrTnhxoqX3/vmzU1zPPoWJt0zoU7du3aXh2FHaAEIAFbyAM4hGe2G3G+Gymz5m3YLDblYEUU7fNYuVmXoceJrpx2ydaOpTNuVOaP0uht6jtxBAswYKo15+fn6LBQsWLFuyZEn9MJr/0aRf334FKUktsGrFsaiSo/Zn1ih4aeOulE25dFlFZMuzAzILWz58TTKKiyLbURjSHR3ONJLHTRlUp379OWE0lyZ0rl5QCB8BziAazUBDI7Yb4bKbPma9gsNuQgD/RJsDT7O2M1MvWvocv/7l7muhP/sOtJp/fJ2sgorR0scMNlTHCt81q1ugegcOHOg6e/bs+b/++msNVVldunQpOLlNl6i+IZxeN97QT9aOPbVwR5Kq/pW179KkZsm9KdtK4954KjmS/YQrW299KpJun3htRpuT/x2ujFhvJwRQwQOEAPJdAyMEsBF5Ym1N06Jyyyun7ypMIdsTnGgRLvfieTC+mQ3HA/Q1ysAlWvqYtWlVJIB79+4dPGPGjE+2bdvGEv9atmxVdM45FxhL5h1LDnCvtFk4TdfrMTDNdX2EPwv34sAWBU3vvyIFbgtfe64EEa1xcyTfOen+jHZnPGEaOKn4FwRYJkCsYsoZRKO9sNuNcNlNH7M+zWE3K4Iop++axcpMPQ48zfRjtk609HH/8xmgQRPol/i//sWrb7T0MYuPFb5rVrdA9TZv3nz7zJkzn9+3b5+qqD/a161bt+xvgy4pXrnYnew6EvlvCPfonea6ad661NIIdXVui9pFtxX/Asd/X41ollHFAFpaHSTd8+S0eh27VPxmoorgGGorBFDB2JxBNNoLu90Il930MesWHHazIohy+q5ZrMzU48DTTD9m60RDnxPXv1wF/e8TobU+RTKAZo0TZr3169c/O3369HEc97f6qpCSkoIhlw4t3Lg2MXH/nhI9TPVMNWvVNrloftGhxK8357HHcF0DXhqYWdjo3pG23Pr9A6CERCRPeuHdeh27Xm0KNKlUAQF254kljDmDaDQCja9t7Ea47KaPWT/msJsQwD/R5sDTrO3M1IuGPsam3+B+5dFKr3+RDKAZa5mrs27duv+98847I91u/vQZvSE8ePDFBYdz6zi2rC9ONKdR6LWSknW06pXqGvfFRvbrYAaeXKfwhpxvHdon70X9DedQkUh+9NVP6nXufmmo7aT+CQSEACp4ghBAOQPIQRCEAMY2AXTPfA/Yvxf6DeODrkYc/ha0kxAqWOG7Iajnt6qZ7wCr9nHBBX0Laqa0xC/LI/eGcK/+6a7rZvN+Fs6hAa8MbF5Y/97L7J398xgo+eEX5tbrfvaFqvaK1fZCABUsLwRQCCBHQLYiiHL6rsIUqtCUA8+qpk/Zo+OgXTAYes/A179IBpDPqqF8B1il106dOhecesqZWDK/KCLXxHQ5q5brwRVbUnML+F7SGNouo3DUuk/iMO+TeJWxR6tt0v1Tv6l/du8+0eqvuvUjBFDBopxBNNqBz25brnbTx6xbcNhNCGDsZgCNw/lwj78W+tR/Q6uVFtTtOPwtaCchVLDCd0NQz2/VH374YUlWVlYPVTlm2mdmZh47/7z+7sXzjyWXlphpYb5Og8YJpXvrlbjfXLmHZas2waHh5X6NCzImXBkRwmp+ZOZrJt3zxOL65/c/y3wLqemLgBBABX8QAigZQI6AbEUQ5fRdhSkU8xlA95JvYMybBceDz5mCkcPfTHVkspIVvmtStYDVli9fvvKjjz7qrCrHbPs6deqUDf7bJcU/LjaSjzK+IUxfC+zSN8015nOer4Jc1alBwdAlbycYS7+N2neGzWIYqF7SuEdW1u876ExVObHaXgigguU5g2i0F3a7Zdzspo9Zt+CwmxVBlNN3zWJlph4Hnmb6MVsn0vq435gK1G8E/ZIrTakUaX1MKeFTyQrfDVXH8vWXLFmyaubMme1V5YTSPjk5md4QLtryW1JCDuMbwj37prlGz1UngCnxOl7s07Cgzn2jqkz2j/BPun3i6voDLukQii2k7p8ICAFU8AbOIBrthd1uhMtu+ph1Cw67WRFEOX3XLFZm6nHgaaYfs3UiqY/hputfroZ+20NBr3/x6htJfcxi4lvPCt8NR0/fNosWLfrt008/rfy+HdVO/LR3OBz0hnChKz9D37TuGMsbwqeeUcP1n117Un/Z61LSeEy3RgUD5zyfbKxeWaU4QeLY+zc0GDSsrdLgY7hxlTK23ezEGUSjvbDbjXDZTR+zvsZhNyuCKKfvmsXKTD0OPM30Y7ZOJPUxNq+D+8VHoE97Fxrt55kokdTHRPcVqljhu+Ho6dvm+++/3zRr1qzWqnLCbd+nT5+CtJqt8dNS9TeEa9WOQ6328YWTvt0a9lu7NRMdeOHcjIK0B66pUtk/wj/xxru3179kZGtN08rCtUcstxMCqGB9ziAa7YXdboTLbvqYdQsOu1kRRDl91yxWZupx4GmmH7N1IqmP+5P/Ajk/U4x4AAAgAElEQVS7oN94t1l1EEl9TCvhU9EK3w1HT28bwzDiFixYsGnOnDmZKnJU23bs0LGgXbtuxuL5Rcr3+PUamO667rPwr4O5vWdjV++sx1Pdm9aqDivq7RNG3bQr8cLhp6enpx+MeufVoEMhgApG5Ayi0V7Y7Ua47KaPWbfgsJsVQZTTd81iZaYeB55m+jFbJ5L6lD12F7TeF0HvdYFZdYQAmkbKf8W8vLzaK1asWDN//vymiqKUmzdr1qy4T+8BpUvmF6eUKLwh3P382q6x89enFodxr3WdlDhM617LVfPh65WJqDIgYQiIv/jyfUkjR3dPT0/fFkbzmG8iBFDBBTiDaCQDjb8h2o1w2U0fs27BYTchgH+izYGnWduZqRcpfYwjh+C+6xroU9+GVivdjCrH60RKH9MKlKtohe+Gqyu1O3DgQJPFixf/sGjRooYqcrjapqenuwcPvrT45yVIOnI4vF3M5q2Sjq10uOI++W2/uXMEPspPOLepq/ub96Uau7ZzDSmqcuL6DDqUPPrO89LT03+JasfVpDMhgAqGFAIo18BwBGQrgiin7ypMoQpNOfCsCvq4l34D46tP4XhoWkjq2g0fK3w3JMDKVd6/f//J33777aIffvghQ0UOZ1t6Q/jSS4cWbVufFL93V0nIJC4hUcOp59Z03TZnQ0hZvIY1E/BMx4SC1Cm3VLmzf178HV3PLk65Y1K/9PT07zhtEiuyhAAqWJoziEZ7Ybdbxs1u+ph1Cw67WRFEOX3XLFZm6nHgaaYfs3UipY/7jWeBjAbQh4wyq4pkAENCyn/lgwcPdv7ss8++Wb16dS0GcWwi6A3hv/1tcGHh4Qxt49ripFAF9+yX5ho9J7TrYB7u3azgjJfuSMGBnFC7s019x2kdkThu0rCMxs0+to1SVUgRIYAKxuIMopEKNIGGZzfCZTd9zLoFh92EAP6JNgeeZm1npl4k9Dl+/ctdV0Mf+wC0NqeZUeOPOpHQJyQFylW2wndV9M3Lyztn5syZX61fv57lGhYVXfy1Pf/83gV1ap+En5aG9vm4jj1quZ5YtS111+FiUyplpiW5HzulrCjlyTurbPaPBqq3OInuAhyb0fa0V00NXCr9BQEhgAoOIQRQtoA5ArIVQZTTdxWmUIWmHHjaXR9jy3q4X5gE/bn3oDlC2/GzGz5W+K6Kffft23fRRx999Nm2bdtsG/s6dOhQ0P707lg8z/w1MRn148sKmhulLy7daYrYPt63ecEpT9+UgsNV++VZrX4jJI1/dEq90ztOVPGLWG1r20lQFQzCGUSjvbDbLeNmN33M+h+H3awIopy+axYrM/U48DTTj9k6kdDH/el/gT07of8/e+cBHlXR9fEzdxOS0FIgdKkSxKAQUUEQLKCodLJ3AyLqa8Py2rGgoryCr12xl/dTkZrs3RCKijQLKgqIiJSEjvSa0FJJ7nzPhARDSLKzd2b3TrJnn+d7fD9y5syZ/zl757dz78wd/SRvGDVuBXD8+PHa+vXrHweAewCgpWmaHVNTU7fpuv4sIeRvt9s9zWdxOBrs2rXrlrS0tKl79uzhsLbPpHiH8LX9in79riDiFMeiHiEAl/eLyr77K++3geMa1i76z3nH88PefqZar/4VZ6dufYgY+/pHsQmX3m9ftqpvzwiAArmTOYn6Y6KpamiqAZdq8fCWhYy8IQD+o7YMPXlzx2Pnj3iK/jsGyFU3gtaT//iX0lj9EQ+PDpXZWK1dl8s1nlI6ghDC/vuZaZqdGAA6nU6dEPK4YRjdReKqrO3WrVsfTktLm3To0CF/uJfqMyoqyhw0aGj+mt9IxPFjhV59X9EnKvvOBd4B8PXrW+W2e/H2CMjL9epTeQOHA2pP/NBo2PlSl/KxKhggAqBAUhAA8RawjAnZ6iQqULogs3ZF4ijfVoaeKsdz5viX178AEsl//EtNA0Bd17cRQm53u91LdV0/YZpmZwaASUlJcaZprjAMI0pmHkt9bd68+QWPxzP+6NHqceszPDycvUM49+/NEaH7dp8KqUqTuAvr5Mw+drj2sr+PVWrWuWndU89E7SkM/egly28O8UdeRHxGTPxwTuwl3YaI+AjWtgiAApmXOYkGeuJTbcVNtXh4y0JG3hAAg2cF0PztB6CLZoNj3CTeEjvLTka9Weq4kkZWa1fX9RwAiDcMY3tZAExMTLxY07SfDcPwyy7djRs3vul2ux87efKkTBn86kvTNLZDOCc/u5G2aV1+pTuE69R1QNNLw7OfXry10uNgJt3QKrflcyMjoND7iqJfByXRecTEj+bGXnL5YIkug8YVAqBAqhEAcQVQxoRsdRIVKF1cAeQUT0Z+y3Zl/t+bAA0agTZ0FGcEZ5vJjsdSEGUaWa1dXde/p5R+5fF43mQACAAXMxh0Op2fEkJaGIZxk2hsFbXfuHHju8nJyQ/m5DD+rF6f3r2vym4UE0dW/Vr55pAe/aKz7/i64tfCXdGyfv5jkE4dU97x+ZgZlZWKmPDhvNiu3QapHKOqsSEACmQGARABUMaEbHUSFShdBEBO8WTkt7Qrapqnj3+5/xkg7X07/qXUh8x4OCWo0sxq7SYlJV1imuZCQsh3lNLBlNKZhBAmSjvTNHunpqaulxFfeR/p6envp6SkPJCbWz2ff7voootyO198Bf1lccXHxFzWKzL78V821zlZ7r1wbKJ/78ZWuc3GjogA08I74/yRDEk+I158/6vYS68YKMldULlBABRINwIgAqCMCdnqJCpQugiAnOLJyO8ZANy+GcxJz1s6/qWmASAbj67rMYSQBwDgIkppXQBYU1RU9MGsWbN2c6bHZ7OMjIwPZ86ceV9eXp7PbVVp0KJFi4I+195Q9Nv3BREF5XYIN2sZdmpLvTwyY82Bs54X7HN+dN59Wb8SLfVzrmNiVBkrTxwR/3nv69jLegzgsUWbsxVAABSoCARABEAZgIAA+M+XUIaeAl/pc5rKjMeclwyw52/Q7n3Kcogy47EcRJmGdtSuSNwZGRkfz5gxY3R+fr6IG9vbRkZGUrZDeO1KLfxY1j/P84WEEOh8bf3s+77ZeOY5QI0AfHBDq5zGTyVV/2NfKlA+4oX3v4ntdkV/25NSDQNAABRIGgIgAqCMCdmOSVRm7Qp8hfwKXDLikpHf0jiKXn4CSO9+oPXsazk0mfFYDkISAI4YMaJhUVHR5ZTSRoQQrWw8brf7cxnxlfeRkZHxv+nTp99VUH7pzB+d+dlnWFgYDB06LHfX1jqhe3cWnFnx69E3KvuOb/85DmZQxwa5t2+b74AFnlp+DskW9xHj3/k29vIrb7Sl82reKQKgQAJlTqKBvrCrtutWtXh4y0JG3mQBoNPpfIEQ8gIAdDIMY0NVY5BZu7xa8djJ0JOnH14bWfHQk8dPP//36udAomJ4u1cekK3Wrq7rSQDwBQCwB9IOAwAtM1hqGEZbyyJV0TAjI+Oz6dOn31ETAJANk+0Q7t9/QM6pnMbaxpIdwhd3rZv9/pY9dTYdyYVQjcD7/Vrkxj41osYc+1I+vbVfmLSgYbdeN/ijXmq6TwRAgQzLnERlTTS8w1ENuFSLh1dHGXmzOomWjTExMTFB07SXAOACABiAAMibwartZOSX9WAu/xHot7PA8cI7QoHJikcoiDKNrdauruvbKaWTCSETDcMokhWPNz8bN26cPHXq1NtOnTrlzbRa/b1Xr145jRt2pKuW5dWJbhBKHXEk75WfdkaM6NwoR181PQx+XuTbOwer0ejDn397YaPuvftVo5CVCRUBUCAVCIB4C1jGhGx1Ei0tXV3X2a2dHwBgOAD8CAD9EQAFvthlmsrIbzEAfvY2QHQMaMNuEwpMVjxCQcgBwOOmaXZhhz/LioXHT0ZGxpSpU6eOKqxB5+CVjjs+Pj7nki494Zfv8mp3uz4q+9/fbqrzXt+mOQ2eHlkjn/0rHXf4uEmLGl3R63qe/KPN2QogAApUBAIgAqCMCVkUAJ1O5yuapu1wu90fs5UVBECBL3W5pjLyW3z8y5jbijd/kLhOQsHJiEcogHKNrdauy+X6GAA2uN3ud2XG481XRkbG9ClTptxcVBSwRUdvIUn9e7NmzU5dd91NhWZRHfrLoSy46bsPw+kfv531fKXUDhVwFv7sW4sa9bwKAdBCLhAALYhW2gQBEAFQxoRsdRJldZiUlNTdNE12G614ZwECoMAXuoKmMvJLd2wG861xp49/CanybV5eg5cRj9dOfDCwWrsul+tVSuk9APALAKyllJ51T9bj8TzvQxjcpunp6TOnTJky3KxhZ+GVFaB+/fp06NBEWqdOHbPW/BSxguNW1j7DkO7XrIzt0vVy+yKovj0jAArkDgEQAVDGhGx1EmWl63K5nqKUPggA7EQw9n1uAQD7CSF3ud3uBWXL2+Vy9TNNs/hZmZiYmFqffPLJA6q9EqtWrVqg0gP6MuLJTZ0CRX9vgbqPvShwtTndVEY8wkGUc1C3bl0YPXr0B5mZmcWn0mmatqB87ZXvk70JpIo42CaQa2XHyfxlZGS4J0+erFNads+JP3qy12dERATcf+fwwtonVmiO3N01egUwv0n/36Oad77MXsWrZ+8IgAJ5QwBEALQbACuYWLdrmnZTSkpKelWlLbN2Bb5C5zSVoadq8RS98iSQnn1Bk/CYkmr6iPx4kZknXl8ZGRmeL774IpHXvjrbhYSEwD23JebEnlyihZ5YW6Ne/1Y2LzntHlwU2eIyvAVsoVgRAC2IVtpE5iQa6Au7artuVYuHtyxk5E3mJKrrOnuoHncB8ybQi51ofmn2CTAfGwXaK58BiW4gHJVoPMIBlHMgWruDBg2qFxYW1o65zc/P3zp37lz2XmC/fdLT02dNnjx5qN86UNDxLa7B2a3DN5Pww0tq5GaQnLYPLYw871LcBWyh9hAALYiGAPiPaGHj3obClsXXb6EPAmBTpl8kIeS4kJCcjWX+eOHskstMNcARjcdcsRTofA84XpCz10E0Hq4k+GBkFQAHDhxYOyIi4i1K6R0AUPqc2ilK6eeEkMcMw/DLy3qDEQBZOq/v0zv30jaERuxNqU3OOnLRh2QraprT9qEFkeddiucAWsgPAqAF0RAAEQBLFZAxIVudRAVKF98FzCmeaH7Nz98GiIwBLVHs+BeZ9cY5dC4zq7Wr6/r/AUBvQsiDoaGhv7LOCgoKegDAO5TSHz0eD9sgIv2TkZGR9sUXXwyR7rgaOOx8UfypG3q2K6y7e3IEMav3q/DKyp3d9uEFUed1RQC0UIMIgBZEQwBEAJQ5IVudRAVKFwGQUzwRADxz/Mvop4B0EDv+RWa9cQ6dy8xq7eq6nkkpHeDxeJaV7cjlcvWklM4zDMP661KqiDwjI8OYPHmys6ZvAqlMgmbNmtKRg3vn1dvzRYRWeIwrx6obZZ//yLdRzS/BV8FZSBQCoAXREAARAGVOyFYnUYHSRQDkFE8IAP/eAuabz0k5/kVmvXEOncvMau3qus6e9etlGMafZTtKSkq6xDTNHwzDqM8VgI9GGRkZ06ZMmTKypp4DyCMH27V99y0DcyMPukND8nZX+2Nists9+k1Ui4T+PGNHm7MVQAAUqAiZz1GJTDRWhqDaM3eqxcOrqYy8WZ1EeWOsyE5m7YrEUb6tDD1Vicf8KgXorm3guG+stJBU08dq7eq67gGA5gBwu2EYG5lAiYmJF2ia9jkA7DEMQ5cmWhlHGRkZ/zd9+vQ7VTpqyB/j9OaTvUN49G16TqPc70no8TXV+j3BJ9s9+nV0i4QB3saMfz9XAQRAgaqQOYkG+sKuGnCpFg9vWcjIm9VJlDdGBEDrSonkt+jVp4D06CPl+JeatgI4dOjQRiEhIdMAgB1gXrrxia36LSwsLLw1LS3toPWsVd4yPT39/ZSUlAdyc/2yx8QfIfvV5836gOy2tXeQsEOLaldXGMhp99i8yBZdBvlVqBrqvLrmXIl0IADiOYAigFBaxAiA/3ydZegp8+JgNR6afRLMx24B7eX/AxLTUFpIVuORFkA5R6K1q+t6BwBg/8c+G0tXA/0V78aNG99wu92Pq3YAur/Gy+O37zVX5l1+fqgZsSe5NgGTp4lSNgiA1tOBAGhdO6nPUQX6wq7aiptq8fCWhYy8iU6ivLGWtZP548VK/5W1kaGnCvGYK38G+nUKOMa/JzMcUE0fX2vX5XKxW7xVfkzTpB6P505vdlb+npGRMTE1NfXZ48cDctqSlRBtadOpU8fC/lfGnaq7+4tqt0M45/zH50Q27xyUO7tFiwUBUEBBmZNooC/sqgGXavHwloWMvPk6ifLGVpWdzNqVEU+pDxl6qhCP+cU7APUiQXPeLjOcag+ATqdzamWCaJoWxnYGA0CYYRgOqcKVONuyZcuzHo9nYlZWlj/cV2ufTZs2hZFDe+fV3zM5XDt1tNqMJfv8MbOjml8cVId7y0oOAqCAkjIn0UBPfKoBl2rx8JaFjLwhAP6jtgw9eXPHY2clnuLjX578F2h3jwHS4SKebrhtrMTD7dyCoYzaHT9+vLZ+/fp/AcDz7FXCADDBMIxPLYTjtcnWrVsfSUtLe/vQoUNebYPRoE6dOnD3qMG5UYfcISG5u0JV14ACgZz2TxhRzTq5VI9VxfgQAAWyggCIzwDKmJBlTKK+lrHM2vW176rsZehpdzx051YwX3sGtEnTgITInUNV00e0dp1O53BCyH/YW3Aopa9kZ2d/NH/+fL+dUrxjx447Zs+e/dm+fftklkmN8sV2CN9zmzOnce5SEnp8tdI7hKkWDjltH/osqnmnu2pUEgI0GARAAaFlTqKBvrCrtuKmWjy8ZSEjb6KTKG+sZe1k1q6V/itrI0NPu+Mxv3YD3bEFHA88IzOUYl+q6WO1dnVdZ7s2JwJAC0LIG2FhYe9MnTo1W7pg5Rzu3bs3cdasWZ5du3b5u6tq7394Yv+c8+vugrBDC5TdIWyGREJu69GvRzXv9GS1F9yGASAACogucxIN9IVdNeBSLR7espCRN6uTKG+MFdnJrF2ROMq3laGn3fEUvfo0kCuuBq23/LdTqaaPr7Xrcrn6UkoZ+F1ICGGvfXvDMIyAvZLiyJEj13k8nm+3bdvGbjXjx4sC117VI7dbXDitvWemkjuEi8IaQ07ru8bGNOnwCibTdwUQAH3X7EwLmZNooC/sqgGXavHwloWMvPk6ifLGVpWdzNqVEU+pDxl62hkPzTkJ5qPs+Jf/AYmJlRlKjVgB1HWdnTOSSwiZappmpWf9eTwe9jyg9E9mZuaVs2fPXrRx48Zw6c5rqMMLO3YsHHhVh5IdwnlKjbIooiXktbzj7qgmbdm7pfHjowIIgD4KVtZc5iQa6IlPNeBSLR7espCRNwTAf9SWoSdv7njsfI2H/v4zmPOSwfGf93nc+2zjazw+d+BjA19rV9f1HwCAeumGGoZxrY+hcJkfPXq061dfffX92rVr63E1QKNiBRo3bgyjhl2TW2/vl+GOU5nKcENhnfaQ1/ruIdENm8zBVPmugDKJ9D10+1sgAOImEBkTsq+TqIzKl1m7MuIp9SFDTzvjMSe/A1CnPmg629Qq/6OaPnbUroiqR44cuXDx4sU//fHHHzEifoKxbe3ateGeW4fkRh3yhITk/i13d5NFQU/Vv6ggv/Vd/aKjo9kPC/z4qAACoI+ClTWXOYkG+sKu2oqbavHwloWMvNkxicqsXV6teOxk6MnTD6+NL/FQSsF84l+g3fkokI6debvwyc6XeHxybNHYjtq1GGpxs6ysrFY//PDDit9++62RiJ9gbct2CN99a2JO4/xfSK1jq2zfIVwQffnxUy1vuTYqKmpVsOZEZNwIgALqyZxEA31hVw24VIuHtyxk5M2OSVRm7fJqxWMnQ0+efnhtfImH7twG5mtj/XL8S2m8vsTDO0YROztqVyTezMzMyJUrV6777rvvWoj4Cfa2ScNuzD6//j4IPzi/jp0QUdDw6sM5jQb2jI2N3RTsObEyfjtzZyVepdrInEQDfWFXDbhUi4e30GTkzY5JVGbt8mrFYydDT55+eG18icf8xgC6fRM4HniW173Pdr7E47NzCw3sqF0LYZ5pQinVfvrpp61ff/11axE/2Bbg6l5X5F5xQW1ae88M23YI5ze+cV9ug75dY2Nj8WBHC0WJAGhBtNImMifRQF/YVQMu1eLhLQsZebNjEpVZu7xa8djJ0JOnH14bX+Ipeu1pIN2uBu0q+ce/4Aogb8a82/3yyy/pc+fOvcC7JVp4U6Bjh7jCQdfGn6q7i71DONebufS/5zVL3JUX1SM+Njb2hBfn7NWCRdIDqOYOEQAFEihzEvVlohEI+UxT1YBLtXh4NZaRNwTAf9SWoSdv7njseOM5c/zLf/8HpIH8418QAHmyxWfz22+/rU5LS+vCZ41W3hSIjY2F25x98+rtnRwW6B3CuS1G7qjX9vp2hBB2vFD5D/u3FwBgIAB8DwBPeRtLsP0dAVAg4wiAuAuYFxCqKjMEwBoAgKt+AXPODHC8+IHAFcV7Uxn15r0Xfgs7apc/uootV65c+ZvH4+km6gfb/6NARERE8Q7h6CNpISE52wO2Qzj3vFs31m/bt7LVXAaAYwHgVcxVxQogAApUBgIgAqCMCdmOSVRm7Qp8hc5pKkNPO+Ixv3wPoHYd0PQ7ZHavvD521K6owKtXr/4hOTn5KlE/2P5sBdgO4btGDctpcupXUuvo7wHZIZzb8l9r6re5prLVXAaATQCg0gPHgz2HCIACFSBzEg30xKfaLVfV4uEtCxl5s2MSlVm7vFrx2MnQk6cfXhueeIqPf3nyDtDueMRvx7+UxssTD+/YZNjZUbuicf/1118Lpk+ffr2oH2xfsQL60BtzOkQegLCDX/v9HcI5re5eHtm6V/dKcsGe+WMHfudgrnAFUHoNyJxEA31hVw24VIuHt1hk5M2OSVRm7fJqxWMnQ0+efnhteOKhu7eD+cpToL09HUiof+9+8cTDOzYZdnbUrmjcGzZsmP3ll18OFvWD7StXoHfPbnk94+ubtfdMr02o//ZeZLd54Meolt2uriQStgJYFwGw8jzhCqDAt1jmJBroC7tqwKVaPLxlISNvdkyiMmuXVyseOxl68vTDa8MTjzk/FejWdHD8+zlet5bteOKx7NxCQztq10KYZzXJyMiYMnXq1FGFhYWirrB9FQrEtT+/cGjfi07V3T05ghT5ZxEuu+3DC6PO69oPVwCtlSICoDXdilvJnEQDfWFXDbhUi4e3LGTkzY5JVGbt8mrFYydDT55+eG144il6/Rkgl10J2tU38bq1bMcTj2XnFhraUbsWwiwPgK97PJ4xJ054OzlEtCdsX7JDOLfevi/DHQVHpPIGe6F07vlj5kY2vxhXcy2WmtSEWIyh2jaTOYkG+sKuGnCpFg9vUcrImx2TqMza5dWKx06Gnjz98Np4i4fm5oD56EjQJn4MpGFjXreW7bzFY9mxxYZ21K7FUM8027p162OzZs168/Dhw6KusD2HAuHh4XDPrUNzYzJnO0JyttXiaMJlQkktyD3/kSmRzTrdxtUAjc5RAAFQoChkTqKBvrCrBlyqxcNbFjLyZsckKrN2ebXisZOhJ08/vDbe4qF/LAMzbRo4JnzI61LIzls8Qs4tNLajdi2EeVaTPXv2JKWlpSXv2rVL1BW290GBu25NzGlatJKEZS2XskPYDI2C3Db3vBbVtBOe7+dDHsqaIgBaFI41kzmJBvrCrhpwqRYPb1nIyJsdk6jM2uXVisdOhp48/fDaeIvHnPI+QFgEaEl38roUsvMWj5BzC43tqF0LYZ7VJCsr66pZs2Yt3LRpk7TVKNGYgqV94uB+2RfEHIHwA/OE3yFcFN4Mclvd8Uh0k7h3gkU/2eNEACyjqNPpfIEQwk4O72QYxgZvYsucRAN9YVcNuFSLx1vuS/8uI292TKIya5dXKx47GXry9MNrU1U8Z45/+ddDQC5M4HUpZKeaPnbUrpCAAJCZmXnxwoULf1y9enWUqC9s77sCV/a4LK9Xp2hae8+0CJEdwoV1zoe81nclRjdsNsv3KLAFUwABsKQOEhMTEzRNewkA2KniAxAA+b4gYePehsKW7fiMq7BCAGzK1IkkhBwXFpPDAQIgh0gAUCUA7t4B5stPgDZpht+Pf5H5g4Nv5HxW1READx8+3PzXX3/9/eeff2aHBOPHBgXOb9e2aNj1CQX1dn9ueYfwqcgu+Xktb+8bExPzsw1DqBFdIgACgK7r7FbADwAwHAB+BID+CIB89Y0AWB+OHxdjNjsmUQRAvvquCgDNb1OBbt4AjgfH8TmTYIUrgOIiUkpDli5duvmbb75pLe4NPVhVoEGDBnC76/rc+vumhjkKDmm++ilo0Cszr+mw3g0aNFjva1u0P60AAiAAOJ3OVzRN2+F2uz/WdX07AiD/1wMBEAGQv1q8W6oGOFXFU/TGs0C69gTtGv8f/4IrgN5rxxeLZcuWrZszZ068L23QVr4CZ3YIZ811hGRv8emZzLwmg/cUNe5zUVRUVJb8yILDY9ADYFJSUnfTNCcahtGXpRwB0LfCRwBEAPStYqq2ri4AeOb4lwkfAYkN3J1E1fSxY/VaRr2tWLHi19TU1MpeISajC/ThgwJ3jkrMaWaugrCsX2vzNss9b9SWem36xhFC2JGA+LGgQNADoMvleopS+iAAFJSsiLYAgP2EkLvcbveC8pq6XK5+pmkWnzweExNT65NPPnng5MmTFqQ/u0mtWrWgoICFEJhPfvpfkDP+IeHOao9/F8I6XizsR7V4eAckK29169aF0aNHf5CZmVlcBJqmLaio/njj8maHt4C9KXT675UBF/3jVzDTpoBjwkd8jiRZIQDKEXLNmjWLZ8yY0UeON/QiQ4GhA6/PiW94FMIOzOF6h3BOqztXR7a+6hIZfQerj6AHwPKJZyuAmqbdlJKSku6tKGROooG+sKu26UK1eLzlvgUpyNsAACAASURBVPTvMvJmxyqKzNrl1YrHToaePP3w2lQWz+njX8JBS7qL15UUO9X0saN2ZQiZnp4+a/LkyUNl+EIf8hTo3q1r/tVdYs06u6dGEFr1q/qy29y/NKpl96vk9R58nhAAy+Vc1/VtuAuY/4uAt4DxFjB/tXi3VA1wKoqn+PiXp+4E7bYHgcQH5vgXmT84vGeB36K6AuCmTZsmJScnP5ydnc0/WLQMiAJt27Qpct5wyam6u78I14oqz8/Jdo9+Hd0iYUBAgqqhnSAACiRW5ipKoCc+1VbcVIuHtyxk5M2OSVRm7fJqxWMnQ0+efnhtKgTAPTvB/O/joE2aDiTUp+fWebut1E41feyoXWERAWD79u2jZ8+e/fH+/ftluEMfkhWIiYmBfyX1y6u/b1otR8HBc3YIUy0Mcto+8nlU8/jAnMAueXyquEMAFMiEzEk00Bd21YBLtXh4y0JG3uyYRGXWLq9WPHYy9OTph9emonjMBWlAN64Fx0PP87qRZqeaPnbUrgwxs7Kyrk5NTV2wefPmwBK8jOCDxAd7vnr0bYk5MUfnOUKzN4eVHXZRWBPIa3XXk1FN414PEjn8MkwEQAFZZU6igb6wqwZcqsXDWxYy8mbHJCqzdnm14rGToSdPP7w2FcVT9OZzQC65ArRr+vO6kWanmj521K4MMY8dO9Z+8eLFy1asWNFQhj/04T8F7rhlWHZz+icJy/rlzA7hwroXmLnn3TUwplGjb/zXc833jAAokGOZk2igL+yqAZdq8fCWhYy82TGJyqxdXq147GToydMPr035eGheDpiP3ALahA8DevxLabyq6WNH7fLmriq7vXv31k5PT09fuHBhSxn+0Id/FRjcv29OfKOTEHFgdm0CFApirszKa5bYCw+BFtMdAVBAP5mTaKAv7KoBl2rx8JaFjLzZMYnKrF1erXjsZOjJ0w+vzTkA+OdvYHq+BMfEwB7/ggDImzF+u19++SVj7ty5HfhboKWdCnS77JL8ay5pXLxDOL/JgN0FDXrHN2jQQOw1THYOSIG+EQAFkiBzEg30xKcacKkWD29ZyMgbAuA/asvQkzd3PHbl4zGnfggQGgra8Lt5mku3UU0fO2pXlqgrVqxYmZqaeqksf+jH/wq0bt3KdN14WX4IKTgc2aonrt4KSo4AKCAgAiAAHgODx8AIfIXOaaoa4JSNp/j4l6fvAm3U/UA6dZU5bG5fqulTnQFw9erV3ycnJ1/NLT4aKqFAdHQ0jBo+ZG/z1hc0VyKgahwEAqBA8hAAEQBlTMh2TKIya1fgK1S9AHDvTjAnPnb6+JdaZ21KlClBlb5k1JvMYO2oXVnxb9iwYd6XX36J58jJEjSAfkaMGPF9ly5drg1glzWyKwRAgbTKnEQDfWFX7ZaravHwloWMvNkxicqsXV6teOxk6MnTD69N2XjMhWlA0/8Cx8Mv8DaXbqeaPnbUrixR09PT309JSXkgNzdXlkv0EwAFWM3ddtttszp27JgYgO5qdBcIgALplTmJBvrCrhpwqRYPb1nIyJsdk6jM2uXVisdOhp48/fDalI2n6K1xQDp3A62PfYtGquljR+3y5s6b3a5du25JS0ubumfPHm+m+HeFFGDfAafT+UqHDh3GKhRWtQwFAVAgbTIn0UBf2FUDLtXi4S0LGXmzYxKVWbu8WvHYydCTpx9em9J4aF4umI+OBO0/7wNp1Iy3uXQ71fSxo3ZliZqZmXnxwoULf1y9enWULJ/ox/8KtGzZkg4bNszVtGlTj/97q9k9IAAK5FfmJBroC7tqwKVaPLxlISNvdkyiMmuXVyseOxl68vTDa3MGAP9cDqbxOThe+oS3qV/sVNPHjtqVJSw7CzAjIyN9wYIFuJtUlqgB8JOQkHD0+uuvvyomJuavAHRXo7tAABRIr8xJNNAXdtWAS7V4eMtCRt7smERl1i6vVjx2MvTk6YfXpjQec9qHAI4Q0Ebcw9vUL3aq6WNH7coU9tdff107e/bsTjJ9oi//KnDdddft6ty5c3xsbOwJ//ZU870jAArkWOYkGugLu2rApVo8vGUhI292TKIya5dXKx47GXry9MNrw+I5duwYmGPvBm3kfUAusuf4l9J4VdPHjtrlzR2P3R9//LE0JSWlF48t2qihwODBg9N79OhxoRrRVO8oEAAF8idzEg30hV014FItHt6ykJE3OyZRmbXLqxWPnQw9efrhtSkGwI3rwZzwqK3HvyAA8mbMN7sNGzbMnjJlymB2xiN+qocCSUlJyy655JKe1SNataNEABTIj8xJNNATn2rApVo8vGUhI28IgP+oLUNP3tzx2LF4jnqmAE3/ExwPj+dp4lcb1fSxo3ZlCrx58+b/ut3usceP4xvFZOrqL18lR8DM7dix42B/9RFMfhEABbKNAIgHQcuYkO2YRGXWrsBX6JymMvSUHU/W+IeBdL4ctD4DZbq25Es1feyoXUvCVdJo//79A9PS0mbv2LFDk+kXfflHgaioKHYEzIvt27e37zBO/wzNFq8IgAKyy5xEA31hV23FTbV4eMtCRt7smERl1i6vVjx2MvTk6YfXpl6tUDh650DQxr8PpLF9x7+UxquaPnbULm/ueOyOHj3absmSJb+uWLEilscebexVoH379gVDhgy5qWHDhkvsjaRm9I4AKJBHmZNooC/sqgGXavHwloWMvIlOorquLwCAxgDAHmTK1jTt0ZSUlJVVjUFm7fJqxWMnQ0+efnhtwjevg+wv3gXHfz/lbeJXO9X0Ea1dv4rF4ZxSGvLTTz9t+vrrr9twmKOJzQr07t1732WXXXZJo0aN9tscSo3oHgFQII0yJ9FAX9hVAy7V4uEtCxl5E51ER44cWX/69OnFDzE5nc7BhJAJhmFcjADIm8XK7UKMz6Hg1CnQbh4t7kyCBxn1JiGMMy5Ea1dmLFZ9LV++/I9Zs2YlWG2P7QKnwODBgzdeccUVHQkhuGtHguwIgAIiIgDiM4AyJmSZk6jL5bqNUjrKMIy+CIACX262nMp2hj53L8Dwu4FcdKmYM0mtZdSbpFCK3cisXZlx+eLrzz//XDJz5sxrfWmDtvYogDuA5eqOACigJwIgAqCMCVnGJOpyub6klF4DAJqmadempKRsQgAU+HIzANy/G8wXHwbt7RlAwsLEnElqLaPeJIVSYwAwPT19xtSpU0cUFRXJlAZ9SVYAdwBLFpT9gJPvMng8IgAiAMqYkGUAYOm3zul03koIedowjCoPSpVZuzK/8TL0lBWPuXA2ODauBfrgOFkuhf2opE9NWQHcvn37w7NmzZp08OBB4fygA/8pwHYAJyYmToiLi3vef70El2cEQIF8y5xEA31hV+2ZO9Xi4S0LGXmTCYAsbl3XcwCghWEYmWXH4XK5+pmm2Y/9W0xMTK1PPvnkgZMnT/IONSB2tWrVgoKCgoD0VeUKaV4uHHt0FNS77d/g6H617fGUBqCKPmUFqVu3LowePfqDzMzM4sRpmrbA7XazjUnV4pOVlZUwf/78H9asWVO/WgQcpEGW7ADu37Bhw8VBKoH0YSMACkiKAIgrgHYD4KBBg+rVrl27XnJy8t4S+BsKAK8ZhtG+SsChlE12x/bt23f6WTdFPjL0lDEUc+5MoOtWQdR/P4YTCkGyKvqUaiz7x4uM3Pnqg1Ia9uOPP2bMnz+/ta9t0T5wCuAOYPlaIwAKaIoAiAAoY0IWmUSHDRvWwuFwpAJAOACwh5gOaJr2WEpKSjoCoLUvN808DOa4+0B7bAJEJlwOKr0lQka9WVOl4lYitSszDlFfK1eu/N3j8dj7omfRQdTw9rgDWH6CEQAFNEUARACUMSHbMYnKrF2Br9A5TWXoKRqP+dlbACYF7e7HQYV4yo5HtXjsqF3R/FbUft26dd9OnTq1+PEI/KipgMvlWta1a1d8B7DE9CAACogpcxIN9IVdtWfuVIuHtyxk5M2OSVRm7fJqxWMnQ0+efiqzods3gfnGs6BN+BBITCwCoBcx7ahdkfxW1nbTpk2vud3uJ06cOOEP9+hTUAFWZ7feeuucCy+8cIigK2xeRgEEQIFykDmJBnriUw24VIuHtyxk5M2OSVRm7fJqxWMnQ0+efiqyYc9Cmq8+BaRjF9AG31xsYmc8FcWoWjx21K7V/FbV7sCBA9fNmzfvq82bN9fyh3/0KaZAo0aNYNiwYY+2adNmkpgnbF1WAQRAgXqQOYkG+sKuGnCpFg9vWcjImx2TqMza5dWKx06Gnjz9VGRjrlgK1PgctIkfAwljj1QiAHrT0o7a9RaTlb8fO3YsZvny5X8tWbKkuZX22Ma/CnTt2jWrb9++vWNiYtb5t6fg8o4AKJBvmZNooCc+1YBLtXh4y0JG3uyYRGXWLq9WPHYy9OTpp7wNLcgv3vhBhowC7Qp2nvbpj13xVDYG1eKxo3at5JenzfLly9fMmjWrylco8vhBG/kKDBo0aEuPHj0uIITgad0S5UUAFBBT5iQa6Au7asClWjy8ZSEjb3ZMojJrl1crHjsZevL0U97G/CoF6JoVoI19HYimIQByimhH7XKG5rPZ2rVrF02bNq3KVyj67BQbSFFg+PDhvyQkJFwpxRk6OaMAAqBAMcicRAM98akGXKrFw1sWMvJmxyQqs3Z5teKxk6EnTz9lbejRI2A+dx9oj4wHcv7ZL1CxI56q4lctHjtq19f88tpv3LjxLcMwHsWNILyKBcaOHX4+cuTI6RdccMEtgekxeHpBABTItcxJNNAXdtWAS7V4eMtCRt7smERl1i6vVjx2MvTk6aesjfn5JIDCU6Dd88Q5Te2IBwHQ1wzKsT9w4EDfefPmfY0bQeToKctLy5YtzSFDhtzSvHnzmbJ8op/TCiAAClSCzEk00BONasClWjy8ZSEjbwiA/6gtQ0/e3DE7umMzmK+PBe3FD4E0aIQA6It4bAIhBJo2bcpaRRJCjvvYXCnzrKysqJUrV65dsmRJC6UCC/JgevXqtb979+6XNmzYcE+QSyF9+AiAApIiAOJB0DKAxY5JVGbtCnyFbAWu4mNfXhsLJK4TaEMrvrskI7/VVR+euO2oXZ64rNqsWLHiz9TU1M5W22M7+QoMHTp0Q/fu3ePle0aPCIACNcA7iYYcywI4llllTw6HA4qKvGxwioyBwshogYj/aaraiptq8TClApU3OyZR3tqVUmw+OAkkcNHffwYz+X+nj30Jj6gwykDGwyOTavHYUbs8Olm12bBhw1dTpkzpr9L7sa2Opaa0Gzly5HcXX3xxn5oyHpXGgQAokA3eSVRJuNm5FfInPCow+tNNw8a9DYUt2wn7CWaN7JhEeWtXOLE+OggU4NBTBWCOux/IwBGg9ax8bglUPLwyqRaPHbXLq5UVu23btv17zpw57+3fv99Kc2wjWYG6detCUlLSO3FxcY9Ido3u8BlAsRrgnUSDGW54FQ5mjeyYRHlrlzd/suwCBTjmNwbQVctAe/bNs459KT+OQMXDq59q8dhRu7xaWbHLyspqvXTp0uXLli0794FQKw6xjZACcXFxef379x/QpEmTJUKOsHGFCuAKoEBh8E6iwQw3vPIGs0Z2TKK8tcubP1l2gQAcejTz9LEvDz0PJK7qR4sCEY8v2qkWjx2164tevtpSSsmKFSvWzpo1C58581U8P9hfd911uxISEjo1aNCgWm8w8oM0UlwiAArIyDuJBjPc8MobzBrZMYny1i5v/mTZBQJwzMnvAs3LAce9T3sNOxDxeA2ijIFq8dhRu77oZcV23bp1306dOrWflbbYRq4Cuq7/cemll3aV6xW9lSqAAChQC7yTaDDDDa+8wayRHZMob+3y5k+Wnb8Bh/69FczXngJt/PtAYpt4Ddvf8XgNoJyBavHYUbu+auar/ZYtW56YPXv2a4cOHfK1KdpLVCAkJARuvvnm1Pj4eKdEt+iqjAIIgALlwDuJBjPc8MobzBrZMYny1i5v/mTZ+RNwio99eeMZIO0uAG3YbVwh+zMergAQAK3IJNTm0KFDHZYuXfrLihUrGgg5wsZCCrRu3frUwIEDR7Zo0cIQcoSNK1UAAVCgOHgn0WCGG155g1kjBMB/qsSfwMU2fZgzPj597EtEba7S9Gc8XAEgAFqRSagNew5w+fLl69PS0joKOcLGQgpcf/31OxMSEi6OiYk5JuQIGyMA+qMGEADxGBieuvJ2VA4CoP8BkJ46Bebz9wO5SQet1/U8aSu2QQCsWio7apc7eQKG69atWzx16lQ8e05AQ9Gmw4cPX56QkNBd1A+2r1wBXAEUqA4EQARAnvJBAORR6bSNv4DL/DYV6IqloD33FhDNwR2Qv+LhDgBXAK1KJdRu8+bN42fNmvVCZmbVB/gLdYKNK1UgPDwcRowY8fkFF1xwJ8rkPwUQAAW0RQBEAOQpHwRAHpX8B4D0eBaYz94L2r+fA9LhIv5g/AikPgVRxlg1IK2pK4CZmZkXL1q06Mc//vgjymqusJ11BS644IKcG264YUDTpk2/t+4FW3pTAAHQm0JV/B0BEAGQp3wQAHlU8h8AmlPeB5p9Ahz3jeUPpMRSNeBSLZ6aCoCUUm3ZsmXpc+fOjfO5aLCBsAL9+/ff2qtXr3hCSL6wM3RQqQIIgALFgQCIAMhTPgiAPCr5BwDpzm1gvvokaC+8B6RRU/5AEAC5tKqpAMgGj88BcpWAX4xuvvnmnzp37tzbL87R6RkFEAAFigEBEAGQp3wQAHlUkg+Axce+vPkckNbng+b8F38QZSxVW3FTLZ6aDIDbt29/aPbs2ZP279+P86Slb4+1RqzGdV1/PS4u7klrHrAVrwJY2LxKVWCHAIgAyFM+CIA8KvkBAFf/BubUD04f+1K7Dn8QCIDcWtVkADxx4kSjZcuW/fHdd9815xYEDYUVSEhIONqvX79roqOj/xR2hg6qVAABUKBAEAARAHnKBwGQRyW5AFh87MsLDwC5YRhovW/gD6CcpWorbqrFU5MBkJXC6tWrf0tOTu5muYCwoc8KDBkyJKN79+7s+T/T58bYwCcFEAB9kutsYwRABECe8kEA5FFJLgCaC9KA/vY9aOPe9unYl/KRqgZcqsVT0wEwIyPjHY/H89CJEyf4ixgthRS49dZbF8XHx/Mf1inUW3A3RgAUyD8CIAIgT/kgAPKoJA8A6YljYD47GrT7xgLp2Jm/8wosVQMu1eKp6QCYmZl50eLFi39ctWpVtFAhYWMuBZo2bWoOGjTo4bZt277P1QCNhBRAABSQDwEQAZCnfBAAeVSSB4DmtA+BHssCxwPP8ndciaVqwKVaPDUdANlr4VauXPlXampqJ+FiQgdeFejbt++ubt26JdSvX/+IV2M0EFYAAVBAQgRABECe8kEA5FFJDgDS3TvA/O8Y0F54F0jjZvwdIwBa0qqmAyATJT09PXX69OnDTp06ZUkjbMSvwIgRI5Z16dKlJ38LtBRRAAFQQD0EQARAnvJBAORRSRwAi499eft5IOe1AU2/g7/TKixVW3FTLZ5gAMA9e/YMnD9/vrF58+YwKUWFTipUICYmBoYNG/Zi+/btX0CJAqMAAqCAzgiACIA85YMAyKOSBABcswLMye+C9hI79qUuf6cIgJa1CgYA3L59e/ju3bvXffXVV+0sC4UNvSrQq1ev/T169OgWExOz06sxGkhRAAFQQEYEQARAnvJBAORRSQwAaSE79uVBINcNAu3qm/g79GKp2oqbavEEAwCyElm7du1306ZNu0ZaYaGjcxRISkr6/ZJLLrkMpQmcAgiAAlojACIA8pQPAiCPSmIAaC6aA/TnRaA9/w4Qh4O/QwRAIa2CBQC3b9/+yOzZs9/Ct4IIlUuljUve/jEpLi7uUf/0gF4rUgABUKAuEAARAHnKBwGQRyXrAEhPHD997Mu9TwK5MIG/Mw5L1VbcVIsnWADw+PHjDVauXPnHwoULW3KUDZr4qECPHj0OXn311T0jIyO3+NgUzQUUQAAUEA8BEAGQp3wQAHlUsg6A5vSPgWYeAseD4/g74rRUDbhUiydYAJCVy7p164pvA7PNRviRqwDe/pWrJ683BEBepSqwQwBEAOQpHwRAHpWsASDdsxPMlx4D7flJQJq04O+I01I14FItnmACwB07dtz87bfffrF9+/ZanOWDZhwKsJp2Op1vd+jQ4TEOczSRqAACoICYCIAIgDzlgwDIo5LvAFh87Muk8UCanQda0l38nfhgqRpwqRZPMAEgpTRs2bJlf82dOzfOhxJCUy8K9OzZ82Dv3r2viIqK2oZiBVYBBEABvREAEQB5ygcBkEclCwC49ncwP3sbtJc+AVJHzrEv5SNVDbhUiyeYAJDVxoYNG1Jnzpw5rKCggL+o0bJKBW6++ebfO3fujLt/bagTBEAB0REAEQB5ygcBkEcl3wCQFhaC+Z8HgVw7ALRr+vN34KOlasClWjzBBoB79+698vvvv//6r7/+qu9jKaF5BQo0btzYHDx48LPt2rV7BQUKvAIIgAKaIwAiAPKUDwIgj0q+AaC5ZB7QH789/co3ice+4Aogf66YZbABIHs38KpVq9YYhnGRb0qhdUUK9O/ff3t8fHyXBg0aHEeFAq8AAqCA5giACIA85YMAyKMSPwDSk+zYl3tBu/txIJ268ju3YKnaiptq8QQbALIS2rhx4weGYdx/4sQJCxWFTUoVCA0NhREjRsyLj48fhKrYowACoIDuCIAIgDzlgwDIoxI/AJozPwV6cB84Hvb/K0NVAy7V4glGADx69Gjbn376adnPP//cmL+y0bK8AgkJCUd79eo1oHnz5r+gOvYogAAIADfeeGNY3bp1kwGgIwDkAMB+ALjXMIwq30mIAIgAyPO1RQDkUYkPAOm+XWBOeBS0cW8DaXoev2OLlqoBl2rxBCMAslJas2bNbzNmzOhmsaywGQAMHz58dZcuXboSQvBgRZsqAgHwHwC8xjCMb1keXC7XA5TSQYZh9KsqLwiACIA831sEQB6V+ACw6N0XgcQ2AW3EPfxOBSxVAy7V4glWANyyZcuTc+fOffnAgQOaQHkFbdOGDRvSIUOGvNi+ffvxQSuCAgNHAKwgCbqusweLZhqGUeV5TwiACIA832EEQB6VvAMgXbcKzP+9CdpLHwOpG5hNmKoBl2rxBCsAHjp0qF5GRsbqr776qh1/daNlqQI33HDDjoSEhEuioqKyUBX7FEAArBgApxBCDrrd7jG4Alh1cXqDG97SDtm5FfIniL8HXFY8LO5AxWTHJMr744U3f7LsKgMcWlQE5n8eAnLVDaD1GSirO69+VAMu1eKxo3a9Ji1ABunp6TNTUlKG5+bmBqjHmtFNSEgI3HzzzfPj4+Nvqhkjqr6jQAAslzuXy/UMpbR/nTp1+kyePDkPARABUPTr7Q1K7ZhEqxsAmt9/DfS7r0B74T0gISGiKeFurxpwqRaPHbXLnTw/Gx47duz8pUuX/oybQXwT+qKLLjp+9dVXD23RosV3vrVEa9kKIACWUdTlco2hlLry8/P7zJ07t8I9/i6Xq59pmsXPBsbExNT65JNPHjh58mSVeclP/wtyxj8knLva49+FsI4XC/thDlSLSbV4Aq1R3bp1YfTo0R9kZmYWv2JA07QFbrd7gZRkV+CkOgEgzT4J5rOjQbvjESAXB/aFAaoBl2rxBDMAsq/V+vXrf5g2bdpVpmn666ta4/wmJSWtSUhISMDNH/anFgGwJAe6rrMXUd8MAH0MwzjGkxreSTRQtxJ5Yi61US0m1eJhOgUqJjsmUd7a9aWmZNhWBDhmyv8B3bsLtEfGFx88HMiPasClWjx21G4g8++tr927d/dfsmRJ8oYNG/zzLkJvAVSzvzdr1qxwwIABz7dr1+7lahZ6jQw3sFdTRSXUdb05AOwCgK0AwFb+mC55hmFcUVXIvJNooEDCF3lVi0m1eBAAfakmebblAYfu3w3mi4+A9uxbQJq3lNcRpyfVgEu1eIIdANmbQdasWfPHzJkzu3CWVFCbJSYmZsTGxia0adOmyserglqkAA4eAVBAbARA3AXMUz74DCCPSqdtygNO0XsTgMTEgjbyXn4nEi1VAy7V4gl2AGSltm3btge++eabt3bt2lVLYunVOFeNGjUqGjhw4CtxcXHP1bjBVdMBIQAKJA4BEAGQp3wQAHlUOhcA6YbVYH78GmgvfQKkXmCOfSkfqWrApVo8CIAAlNLQVatW/WkYxoX8lR58lkOGDNncpk2bhCZNmmQH3+jVHDECoEBeEAARAHnKBwGQR6WzAbD42JcJjwDp2Re06wbzO5BsqRpwqRYPAuDpgtu0adPEuXPnjj106BAeDF3BdzAmJoYOHTr0nbi4OPGzviR/x4PZHQKgQPYRABEAecoHAZBHpbMB0PxhPtBFc0D7Dzv2JZTfgWRL1YBLtXgQAE8XHDsYevPmzX/MmTPnfMklWCPcDRw4cOuFF17YNSYmhmuDZY0YdDUYBAKgQJIQABEAecoHAZBHpX8A8Nj+vWA+ey9otz8EpPPl/I39YKkacKkWDwLgP0W3ZcuWV+fMmfP4wYMHHX4oxWrrktWs0+n8tEOHDqOr7SBqaOAIgAKJRQBEAOQpH38C4I033hhWt27dZADoCAA5ALAfAO41DGNnVbHx1i7P+GTasMni6GeTgO7aDtqjLwb82JfyY1ENuFSLBwHwn4rZtWtXxIEDB1YZhsG+i/gpUeCmm25ir327rH79+odRFLUUQAAUyAfvJBrMR5zwyhvMGolMoiUAeI1hGN8yrV0u1wOU0kGGYRQfVl7Zh7d2efMny65O9nE4/sQdoD3zBpAWrWW5texHNeBSLR6R2rWcFIUbbtmy5aHFixe/un379nCFwwxYaOyAe13Xp15wwQW3BqxT7IhbAQRAbqnONeSdRIMZbnjlDWaNZE6iuq53BYCZhmHEVUcA1D55FQpr1wNt1P28peNXO9WAS7V4ZNauXxMZIOeUUseaNWtWzZw5MKFD4QAAIABJREFUs3OAulS6G7b6d+GFF/aIjY3dp3SgQRocAqBA4hEA8RYwT/n48xZw+f51XZ9CCDnodrvHVDcApOlrwPzoFdAmfgSkfhSPtH63UQ24VIsHAfDcEty5c+eQH3/88ct169bZc3aR378VfB00adLk1IABA95s3779WL4WaBVoBRAABRRHAEQA5CmfQAGgy+V6hlLav06dOn0mT55c5Un7vLXLMz4ZNtQsKn7jR8Q1N0LBVTfJcCnFh2rApVo8CIAV3hki6enpP0+bNq1HUVGRlDqsjk5GjBixtnPnzpcSQorfb44f9RRAABTICe8kGsy3N3nlDWaNZEyiLpdrDKXUlZ+f32fu3LnsdYbnfFwuVz/TNIufDYyJian1ySefPHDy5EneFPnVLn/xPMibOxMavjcDTlG/duWT81q1akFBgTrzl2rxMDHZc16jR4/+IDMzs1goTdMWuN3uBT4JXcOM9+3bd/mKFSu+WrZsWWwNGxrXcLp06ZLVo0eP21q1ajWPqwEa2aIAAqCA7AiAuALIUz7+XgHUdf0xALgZAPoYhsF1zhZv7fKMT9SG5mSD+dy9oI16ACKvuh6OHz8u6lJae9VW3FSLR8aPF2nJUszRhg0bvklOTr4xPz9fscj8G05YWBgMHz580YUXXni9f3tC76IKIAAKKMg7iQbz6havvMGskcgkqut6cwDYBQBbAYCt/LHvdJ5hGFdUpT1v7fLmT8TO9EwGumMzaI9PhMjISATAKsREABSptMC2zcrKarVmzZql8+fPbxnYnu3trV+/frsSEhJ6RUdH/21vJNi7NwUQAL0pVMXfeSfRYIYbXnmDWSMRAOTVt7wdb+1a9c/bjh7cB+Z/HgTt6deBnNcGVAMcjKfqTNpRu7y1pYLd5s2bx3733XfPbdu2rbYK8fg7htjY2MJBgwZ9GBcX97C/+0L/4gogAApoyDuJBjPc8MobzBrZMYny1i5v/qzaFX30MpA69UC79d/FLhC4qlZSNX3sqF2rtWZHO0op2xDyY3Jycq9guBU8fPjwDVFRUV3btGlT5SY0O3KBfZ6rAAKgQFXwTqLBDDe88gazRnZMory1y5s/K3Z041ow358I2ksfA6kfjQDIISICIIdIipkcOXKkRXp6+k/z5s2z/2RzP2qTkJCQefnll49u27atx4/doGuJCiAACojJO4kGM9zwyhvMGgUjABYf+zLxMSCX9QbtxsQzZaIa4GA8VX+D7ahd3muKSnZbtmx58Mcff3xp06ZN9VSKS1YsMTEx5pAhQ1I6dOjANqPhp5oogAAokCgEQNwFzFM+/t4FzBNDeRve2rXim6eN+dNCoN8YoL34AZDQWgiAPKIpeIscAZAvcSW3ghe53e4+ubm5fI2qiZWmacDO/IuOju523nnn1azBVZMcWA0TAdCqcgDAO4kG8+oWr7zBrJEdkyhv7fLmzxc7mptz+tiXm+8F0rXHWU1xxa1qJVXTx47a9aXWVLI9cOBA423btv0ye/bsdirFJRpLnz599sTHxw9s3rz5alFf2D6wCiAACujNO4kGM9zwyhvMGtkxifLWLm/+fLEzZ30JdGsGaGP+C2zsZT+qAQ7GU3Vm7ahdX2pNNdutW7fesXz58jfXrFmjxrsOBQWKi4s70bt375fbt2//sqArbG6DAgiAAqLzTqLBDDe88gazRnZMory1y5s/Xjt6aD+Y4/8N2pOvAml17kIIAheuAPLWUnW127Rp04eLFi26fefOnRHVdQws7qioKHPo0KFzO3ToMIwQotD7e6qzqoGNHQFQQG/eSTSY4YZX3mDWKJgA0Pz4VYDwCNBuf6jC0kAARADkvWZUVzv2PODGjRvnzJ0796YjR444quM4QkJC2Ns+1jRo0KBHs2bNcqrjGDDm028NwI9FBRAAcRMIT+ngJpDTKtFN68F890XQJn4EJCoGAZCneMrZqAbIdvx4sSCbck0opWHp6enfszf25ORUL35yOBwwZMiQra1atbq+cePG25QTFwPiVgABkFuqcw0RABEAecoHARCAmiaYLz0O5JIrQOvvqlQ21QAH46m6whEAea4AFdscO3YsZseOHUsNw4g/deqUdUcBbMl2/A4ZMmRbq1atBjdp0mRdALvGrvygAAKggKgIgAiAPOWDAAhg/rIE6LyZp499qRWGAMhTOBXYqAakCIAWE1nSbP/+/W3+/vvvRWlpae0oVfsxOpbrQYMG7WjdunVis2bN/hAbObZWQQEEQIEsIAAiAPKUT7ADIM3LLT72hSTdDdplV1YpmWqAg/HgCiDPd1zE5u+//75yx44dM+fPn99CVQhk8DdgwIC/W7Vq5TrvvPNWiIwX26qjAAKgQC4QABEAecon2AHQTJsGdNNa0J585ZxjX8rrh8BVdUWppg+uAPJcAbzb7Ny5s/eePXsmz5s3r01RUZH3BgG2uOmmm3a1adNmZMuWLX8KcNfYnR8VQAAUEBcBEAGQp3yCGQDpkYNgPn8/aE+8DKR1e69yqQY4GA+uAHotWkkG+/bti9+3b9+stLS0uIKCAklexdywDR833njjrpYtW/6rVatWS8S8YWvVFEAAFMgIAiACIE/5BDMAmp++DhASCtodj/BIBQhcuALIVSg11Ojw4cPNDxw4MGfevHkJWVlZmp3DjI6ONm+66aZ1jRo1GokbPuzMhP/6RgAU0BYBEAGQp3yCFQDplnQwJ71QcuxLAx6pEAC9qKQaIOMtYK6y9slo165dEdnZ2TN/+umnPlu2bKnrU2NJxp06dTp22WWXLapfv/5teM6fJFEVdIMAKJAUBEAEQJ7yCUYALD725eUngHS+HLQBSTwyFduoBjgYD94C5i5eiYbssOjNmzc/t3///ju+//771oE6K5Ad8NyvX7+dzZs3f7ldu3YfSxwSulJQAQRAgaQgACIA8pRPMAKg+ev3QGdPBW3CR1Ue+1JePwQuvAXM850KFpuDBw82OXz48MebN2/u8dtvv8Wapum3obdq1argyiuvXN+0adPhsbGxm/zWETpWRgEEQIFUIAAiAPKUT7ABIM3PO33si/NfoHW7ikeiMzYIgAiAPhVMkBjv3r27+9GjR99dtmzZhVu3bq0jc9hxcXE5Xbt23VyvXr1P27Zt+z9CSPU4lVqmCEHqCwFQIPEIgAiAPOUTbABozpkBdMNq0J5+zeuxL7gCyFNB/9ioBsj4DKBv+ROxZreFt23bNvrYsWP3b926tXlGRkbMyZMnLblkb/S46KKLjnXq1GlTZGTkGy1btvQQQvy3vGgpSmzkbwUQAAUURgBEAOQpn2ACQHrk0OljXx6fCKRtBx55zrJRDXAwnqpTiADoc4kLN2AgmJWVFX/o0KF7s7OzL9+3b1+L9evXNz1y5EilvlmeIiMjoXXr1sdatmx5IDIycld0dPQrzZo1W0IIUfsVJMKKoYPKFEAAFKgNBEAEQJ7yCSYANP/3JoBGQLvzMR5pzrFB4MJbwJYKJ4gbHTly5LysrKzb8/PzLzNNs1ZhYWEtSumZ/4aGhmZHREQcDgkJ+TM2NnZOZGTkGkKIeqdNB3EO7Ro6AqCA8giACIA85RMsAEi3ZoD51rjTGz9iGvJIgwDoo0qqATKuAPqYQDRHBRRSAAFQIBkIgAiAPOUTDADI3mFafOxLp66gDRrBI0uFNqoBDsaDt4AtFzM2RAUUVwABUCBBCIAIgDzlEwwAaC7/EWjql6dX/8LCeGRBALSgkmpAGkQrgJ0BIA4AjDJpY5sm2EHNORZSiU1QAdsVQAAUSAECIAIgT/nUdACk+flgjrsPyLBbQet+NY8kldqoBjgYD64AlihwOwD0BwC9jCLsObp6CIBCX3lsbKMCCIAC4iMAIgDylE9NB0BzXjLQtb+fPvZFE3t9KQJX1RWlmj7VdAWQrdy9CACDAKA2AIwHgGQAeBwA2gPAvSVZiAKAzQDQEQBWlcDeDgD4DQDuBwDm52kAGAYAsQAwAQAml7S9FADeLfGfBwBsV9QyAGgFAL8DwIclQFkfAB4CgG95riVogwrIVAABUEBNBEAEQJ7yqckASDMPnz725dEXgbS7gEeOKm1UAxyMp0auADJwex4AJgJAGwBYAQBdAIAdqpdRcqv3RAm0Mfi7GwBuKwE2V7lbwAze3gcAVvzMD4NGBwBsAYA7AWAxAPQEAA8AtAWARgCwvQQ+vwKAfgDwTkl74e8POkAFfFEAAdAXtcrZIgAiAPKUT00GQPOztwHMItDuHsMjhVcbBC5cAfRaJOIGDACbAcD+EldpAJBSsgrIYG5jCdSx16ElAsBfVQAg2+6eWeKHHcR3EQDEAMCsEpAsjXZ1ycoi63Mte+11yR/Yfw8DQC3xYaEHVMA3BRAAfdPrLGsEQARAnvKpqQBIt28C841nQXvxQyAN2B0w8Q8CIAKgeBV59cAAsDkA7CsDgOwWMINAdnr5bABgv2jY7d1eJTYVrQCWfwbwEAB0LYG7qgBwZclKIHPNXut2vGTV0GvgaIAKyFQAAVBATQRABECe8qmJAFh87MurTwHp2Bm0wSN5ZOCyQQBEAOQqFDEjBoDjAOAlAGhdcus2AQD2lLidDwDxJRDoLvm3oSUreOyWbemn/C7gUgBkYMmeHWQbR34AgB4lu4fPLwE/9gxg6S8mBoDsdrPYw7NiemDrIFUAAVAg8QiACIA85VMTAdBcsRSo8fnpY1/CI3hk4LJBAEQA5CoUMSMGbmzjx5CSTRrsecBS0GOe2aaO9wCgJQCUvjGD3ar9pmTF7teSTSDlVwAPAgDb/LGzZCWQ+WCbTNgmkEcBgLVjm0BwBVAsf9hakgIIgAJCIgAiAPKUT00DQFrAjn25H8jgkaD1uJZHAm4bBEAEQO5isW7IAJCtvOVW4uIDANhbskJovRdsiQoorgACoECCEAARAHnKp6YBoPm1G+jq30B75g3hY1/K64cAiADI850StKns/L6mAPBdyaaMGwAgW7AfbI4KKK0AAqBAehAAEQB5yqcmASA9egTM5+4D7eHxQNpfyDN8n2wQABEAfSoYNEYFUAHLCiAAWpYOAAEQAZCnfGoSAJpfvANQkA/a6Cd5hu6zDQIgAqDPRYMNUAFUwJICCICWZDvdCAEQAZCnfGoKANK/t4D52tOg/ecDIA0b8wzdZxsEQARAn4sGG6ACqIAlBRAALcmGAFgqmze44ZU3ZOdWyJ/ANsqJfWTFw6IIVEx2vE6L98dLaTaKj315bSyQuHjQho4SS1IVrREAEQD9VlzoGBVABc5SAAFQoCB4J9FAgYQvQ1EtJtXiQQA8u5ro7z+Dmfw/0CayY1/YyRb++SAAIgD6p7LQKyqACpRXAAFQoCYQAPEWME/5eFuVVH0FkJ4qOH3sy8DhoPXsyzNkyzYIgAiAlosHG6ICqIBPCiAA+iRXuVURStnhoMf27dvHnges1FMwr27xyhvMGqkOgOY3BtBVv4D27FvSj30pXx8IgAiAvNcMtEMFUAExBRAABfTDFUBcAeQpn+q8AkiPZYH53L2gPTgOSFwnnuEK2SAAIgAKFRA2RgVQAW4FEAC5pTrXEAEQAZCnfKozAJpfvgc0Nxsc9z7NM1RhGwRABEDhIkIHqAAqwKUAAiCXTBUbIQAiAPKUT3UFQLpzK5ivPgXa+PeBxDbhGaqwDQIgAqBwEaEDVAAV4FIAAZBLJgTAymTyBje88uIzgOwtVBBJCDnOq5mInbcfL8XHvrzxLJC2HUBLvE2kK5/aIgAiAPpUMGiMCqAClhVAALQsHR4EzaRDAPReQN40UnETCP1jGZjTPgLtpU+ARPjv2Jfy6iEAIgB6/0ahBSqACshQAAFQQEVvqyilroN5dYtX3mDWSDUApKdOgfn8/UBu0kHrdT1vCqXYIQAiAEopJHSCCqACXhVAAPQqUeUGCIC4AshTPtVtBdD8NhXo8qWgjWPHvjh4hijNBgEQAVBaMaEjVAAVqFIBBECBAkEARADkKZ/qBID0eBaYz94L2gPPArngYp7hSbVBAEQAlFpQ6AwVQAUqVQABUKA4EAARAHnKpzoBoDn1A6AnjoHj/md4hibdBgEQAVB6UaFDVAAVqFABBECBwkAARADkKZ/qAoB013YwX34CtPHvAWlUvCs54B8EQATAgBcddogKBKkCCIACiUcARADkKZ/qAIDFx768+RyQVueDpv+LZ1h+sUEARAD0S2GhU1QAFThHAQRAgaJAAEQA5CmfagGAf/4G5pQPQJv4MZDadXiG5RcbBEAEQL8UFjpFBVABBECZNYAAiADIU0+qA6BZUADmCw8A6TcMtKtu4BmS32wQABEA/VZc6BgVQAXOUgBXAAUKAgEQAZCnfFQHwKIFs4Au+w60cZOAOAJ77Et5/RAAEQB5vlNogwqgAuIKIACWaKjr+vkA8CUANASALNM0b09NTc2oSmIEQARAnq+gPwHQ6XS+QwgZBACtAKCTYRgbeGIqrd29mzdC0di7QbtvLJCOnXma+tUGARAB0K8Fhs5RAVTgjAIIgP8A4BIAmGwYxlSXy5VIKX3cMIweCIBVf1u8wQ3vdw3fBGLtXcC6rl/pcDi2FRUV/QwAA3wFwD2TJoB5cB84/v0cb6r8aocAiADo1wJD56gAKoAAWLYGdF2PBYCN8fHxDcePH2+yv+m6vg8AuhmGsbOyesEVQFwB5LmWeINkGa+C03V9OwD09xUAd4/oC+TJV4A0bsYzFL/bIAAiAPq9yLADVAAVKFYAVwABICkp6RLTNKcYhtGptC50XV8OAGwVkK2sVPhBAEQA5LmOqAyAez58FciQUTzDCIgNAiACYEAKDTtBBVABBEBWA6IAuH//fmDnqFX2Cdm9HfJfHStcbmFPvQyFLdoI+2EOVItJtXgCqRFbAWzSpAnrMpIQctxKgq2uAO7bthUgoraVLv3Spl69enDixAm/+LbiFOOpWjUZtWslL9gGFUAFxBXAFcDTt3vZLeBN8fHxDbzdAna5XP1M0+zHpG/VqlWdN9544x7xNKAHVABgzJgxn/7999/ZTAtN0xa43e4FvLrwACDWLq+aaOerAiK162tfaI8KoAJyFEAALNFR1/XvCCFfut3uL3VddwLAYxybQJh+7OEp4SWL0aNH//eTTz6x5wWsldSSajGpFg+TTWJM9QBgLyGk8qXkKr7zPABYtjmllIwZM+bjN9544wk5lxI5XiTqKSUgjMe7jGPGjHn9jTfeuNdq7XrvAS1QAVTAHwogAJaompSUFGea5mQAaAAAxzRNuy0lJSXdH6JX5NPpdL7l8XgeC1R/PP2oFpNq8TAN7Y7J6XS+TwgZDACNAeAwAJw0DCOuOuZXBT3L62Z3flWPR8Wc8dQ+2qACqABuAlGmBlSbaFS8sKNGcssV9fSup2oaqRaPitcJ71lFC1QAFWAK4AqgInXAns/y5ZmvQIStWkyqxcNyoGJMvLWhYuyqxYTxeK8m1TTyHjFaoAKoAAIg1gAqgAqgAqgAKoAKoAJBqACuAAZh0nHIqAAqgAqgAqgAKhDcCiAABnf+cfSoACqACqACqAAqEIQKIAAGYdJxyKgAKoAKoAKoACoQ3AogAAZ3/nH0qAAqgAqgAqgAKhCECiAAVvOkjx8/Xit9e0nZ/x3IYdnRr9PpfKSoqGhqWlrakUCOFftCBVABKQqwucfSoedSekcnqAAqgMfAVOca0HXdYRhGERuDy+V6lFK61DCMVYEcUxn4I7quvwEArxiGccifMbBxA8B6AFgEAE8ahpHrz/5k+bYDlK3Gruv6tQ6HY1tycvIOqz5qcjtd1y8yDGNtTR6jv8ZW9rrlrz7QLyqACnhXAFcAvWuktMXVV18dEhsbO4ZSerHH4xlpx6/qkSNH1s/Pz2fwV+TxeO7zp2C6rtcyDKMgKSmpk2maaZTSDzwezyR/9inTd2Ji4qUOh2OY2+1W6rV/pXBa+l9d1/8khIx3u92zZY6/uvtitV5QUDANAHYfOnTooR9++KGwuo8pkPGXqa9alNLPHA7HuykpKb/bcd0K5LixL1RARQUQAFXMCmdM99xzT2hmZuZ/CSF6YWHh5WlpaQcZEAZyUtJ1PYZS+hwh5Prw8PBuU6dOzfZ3DOzgWdM0RxBC2PtzhwDAKMMwZnDKZpuZy+VyUUrHEkI+dLvd/7MtkCo61nW9iWEY+3Vdn6Vp2mspKSm/sTr79NNPGegE9S27ESNGNCwsLHQDwELDMF5RMX/VIabhw4e3LioqmkEpXenxeB6uDjFjjKhATVQAAbAaZbX8LUR2K4VSejUhZDoATArQpHTOszsul+sWSunjADDZMIx3SiT1yzM+JZPHQkLII263+xun0zmaEPICg2C32/2LqunUdb05AHxmmubjqamp7Pa1Kp/iPLFaIoS8QSntDgAGANwFAMmGYbyoSqB2x8Fu+wLAy4ZhDGCxlIDxKbvjqm7967o+iVL6h8fjmZKYmNiWENKfEPJXeHj47+wHZHUbD8aLClRXBRAAq0nmysKfruuDCCGFpmme8Hg8PzmdTp0Q8jSl9AWPx/OVH581OwN1bBMGAORqmnbc7XbPdLlcDwFAF9M053g8njmyZC0/lsTExARN0141DOP6klcZMnj5AgB6a5o2ICUlJV1W3yJ+KoB1BoBsVW1USkrKplJ40HW9rmEYJ0X6Em07dOjQBiEhIUeLioqahoSEtDVNsyEhhGlqAsB3AFCHQWF0dPSUTz/9NGiBJykpqbtpmi84HI4769evf4hpcfvtt4efPHnSxWBGNA81vb3T6WQ/VlcTQsZRSvsRQv6glB4GgCsA4KCmaWNV+f7W9Fzg+FABpgACYDWog3Lw9xoAXEMp/YkQcgcAPGIYxmRd1/8NALeZpnlPamrqan8Oy+VyTTNNUyOEMND7H6U0KTQ09I/CwsLRANCGUvqlx+P5QTSGsisspaA0atSoOnl5eesIIRPcbvfnrA+n0zmYEMLiGKPCRFyaLwYHRUVFjry8PJKXl2eGh4dPYc89RURELGUrHaVAUVhYeItdu5mHDx/ezDTNiQCw4cSJE+/Nnz8/n2mq6zr7tx8BYDshpF/JBqOg2/TgcrnuBoA9lNI1J0+ePFy3bt0FlNLFDofjm8jIyLVZWVluQshht9vN7PBTRoGyj4Louh7LVpjZD8ROnTrN3rBhw8uspthGrvj4+ML169cvNE3z6dTUVPY8IH5QAVQgAAogAAZAZKtdMNhxOBxFkydPzivZ+Xo5AIw3DOMGdtvO6XT2IYS4NU27NiUl5S+n08k2Q2zxeDzvWe3TWzuXyzXCNM1OHo/nWafT+RkhJDw6Ovp2thrCbudomsY2pKR6PJ4l3nxV9ndd1ztomhbNnj8bPnz4eUVFRZ+x1UZCyBK32/2u0+kcRgh5ueSW5V4AeJgQ8prb7V5stU/Z7RITEy/WNO0dQsghSmkDALiVUsryNZQQctw0zeWEkHtLdk0H7PnFilaH2Q5yALiQAZ/b7WYbHNiu8mnsGa0yt/RlS6S0P13XIwDATSk9SAiJJISYRUVF/6GUngwJCXmFUhoFALUBYJlhGGOVHozNwem63sYwjO26rj9PCGnmdrtZ3Rd/Sm6rv04p3eDxeB6zOVTsHhUIKgUQABVOt8vlepdSeq1hGJ1KLpajAOBewzB6lrmF+CEAFBiG8Yjs24nsF3yzZs3qzZgxI4v9ggeATErpjQDAbkG3AoB01i+Lzel0jszOzvbExMSETZ8+/biIrOx2MqWUwewlDJIopewoErb6lEwpvdvj8SSX3PYeUXJ78mPDMNJYn368/c07JJKYmHi+pmlz2bOJRUVFqx0Ox12U0pHR0dFtjh071pVSehUAMKhIS0lJWcnrWKad0+kcQCndzp5HHDhwYO2IiAiWR7Z66zYMY5HT6WRQOpdpLbPf6uCLrdxmZ2enMCA2DOMtXdfZj5lQANhaVFQ07uKLL967Zs2a6Fq1ajVgt/Orw5gCHWOZ3b5Mu1Zsxf7gwYPTY2NjN1NKH2SPqpQ8zzuZUjq7Ou3kD7SW2B8q4C8FEAD9pawEvyVHTswFgJ2GYdzKdtwCAAOd/zMMY2oJFL5GCPnb7XZ/IKHLMy7YBXz9+vVs1YqtcgAhZBgA3EEpTSCEvMRWR0o3CLhcrgmU0q6FhYWjBG9lln3G8H1CCAPe1wzDYP0xyBxOCHmTEOJiGz5YjMuXLw8tuW3pl00nPJrqun4PANxoGMbQkpywFdq7DcNILG2v6/o8SulfbOW05N+K4w0gsJ7RJykpqbNpmqxuFmmaNiM5OXlvySYVVlNHTdN8JjQ0NDs5OXkXz/hrog07ZqigoGBfSEiIQQj5hhDyrWma8wghSymlEwzD2FITxy1rTIMGDao3d+7cE7quJ1FK2Yp9+5IV1dpsFTA8PPxh9hjEsGHDms6aNWufrH7RDyqACvArgADIr1VALMsDQcmv5MWEkC/dbvcEp9P5L0IIe97vK0ppGCHkStM0b01NTd0mMcBiWEhMTGyvaRp7lo8dAXIXWxliq0Xh4eEfU0pNTdOySjYMRIeGho5iK4VWYyhzOOwZUGHQBAAdDcM4vwxIPQ8AY0JCQtrPnDnzgNX+ZLYruU39PXu+z+PxvFwCWFM0TRvNbmOzvlwu1xi2UstuYcvsm9NX6U7fMxtOXC7XEEopA+qFoaGhHrZqW/LcX4eS29IBPVCccxx+NXM6nT3Yj6lDhw4dYEcpseOGAOBOt9vtKgH7+ZTSX8LCwt4VXeX260DscV72e8seJ3iXPdMXEhLCrhEjHQ7HFPZ8MqWUPcbSwzTNS1JTUzPsCRV7RQVQAaYAAqBCdVD2hHxd19lFNJc9O1MyMc1it0PZwbzsLQ3s+BcAqBURETFB5tEJZQE0KSkpjlL6b0rpZewWzqlTp5azFT62EkkI6QkAxWDmdrvfFpSx7OTBjoQodLvdC0omXXbLaHHZA6ZdLtcdpRtABPsVal4uX+z5JXYczS0FW+aAAAAQaklEQVRut3uerutsha0+pZRtVNkJAHNKzv/7UqhTHxqXzaXL5bqJHdXDdl2y5ycNw/iTrVwSQtiGIrZzmr1Nhe2sftgwjA0+dFMjTHVdfxkARlJKf2WPOrB6c7lcTJux7LY42wgDAIcMw3gg2M9DLJ/w8m/2KLlzwTaE3UUIYc8EP0wpne/xeN5ku/gJIY9lZ2ffVbrhqEYUEA4CFaiGCiAAKpg0XdenU0oJIaQz21EbExPzdmZmpottdNA0bYi/nhsr89wOez6N/YKf7vF4Fuq6ficAjKCUvsb+f3YgLqU0QsYtwtLJgz2/yA7YZcdBAEBnQshiSul/CwsLs0NCQjay285ut5u9beTMJ4C3TyutkpJV0lS2I5pSyo6zYJs/rjJNM4tS+gghpC9b+WNnABqGwTazBPzjdDp7EUJeJ4Q8Rym9FQDY+ZHsDSrL2KYeALiSUtqOHW1nGAaD1aD66LrOnsu8lRDyrKZp7A0z4wBgeXx8/MQNGzY8xs5GJITscLvdbBUXP5V8B51O55OappGioqIfUlNTl7tcrkRKaTcAYKvKTFenv08owOSgAqgAvwIIgPxa+d2Sbbpo2LDhdEL+v71rDZKrqMLn9NzMrOyqAQ1IJL4wIMrLEETKWEYBS0Qx7t6eWQQLKKxEExG0UFAoXBRFLN6KCFqixJCd23cXEAwCKhaID0oQNSmM+AAFQYniK8nu7Ewf61t64mQT2Gzmue65P3fv7T79dc+9p0+f8328Dvl11locH6ISExx7qPr9DDMv7e7unofK4GYYFCKP1zLzrUmSDFT7yOfz4O46hIiQ9P4OY8wJxWLx/kbYgCPTSqXyTmPMRkQTe3t794qi6BxEYiCZFsfxW5GHVS6X50LtpBF9NqqNOI4vYeZHQ7FADxLcmflEIjrMOfdP5DhlMplyVR+5FU6rtfYoHNdjjHEcL4dKCzN/C1HTwFt3ETMbY8yXisXi2kZhMd3aQXUqM1/ovf8HM/8N1byBZmghEX1GRL6epulXlfD52Wd2yZIls2fNmoWiGeSMQpv8pSLyfeTrEtFLsAyJ6EJmfmMnk7VPt/Wr9ioC9SKgDmC9CDbw+UA9cW65XL40iiJQrPwhSZIPVfnkAnfcgkY5Xtsxna21AyLyJxABIxpSqVTeTkRPpGl6bRzHiB4dwMzDzjkclTXkstYuIiIk1y/FBxeN9vX1HWaMWeO9f/3Q0NBDICuus8Ckblt7e3tfmslkRiGVVigUDvXeg8h2ZXAAPwZH4amnntqLiJA3+U/n3IF1dzrFBgqFwoJKpfJmHLfhUTiD4eN7B+hLQkU3SKlBUfPnsbGx8zvNqZ7ikHfqdmwyjDEXG2MeRj4rEZ2KtY2Ui+AEouhpWRRFS/bdd9+/DwwM4B69nl5Tr2bmPZIkuROAgCvRe481956w6eg1xvRWKpULqqo3SCfRimldPopAZyGgDmB75oMXL16c2Z5mr7UWtCA4jvtgVd82juOrkJzeaKm37UWjrLWglXk5aC9E5OfGmL1QCey9/yyOdZoVwQqVtMucc4gyjl/W2jXGmFOLxeLvQr/Qom2LHi2qGru6uiABdoCI7A7+w1wut2zz5s3IDTvGGIMinbustc8XkXH5tDRNQa3SEnvBOxhF0Qg+skcffXSup6cHkeQrYFOQ6juJmS8RkTudc5v7+voWMvNuONJvz0+gfb2CZ5KIIBsITs0vBifmQhE5pru7eyGi68hjw9+12GPreQoR5CsQQSaia5xz9wYS+lc755bXpHRgg3g1SOpDC22r0m/fStOeFYHORkAdwDbMDz5Azrn1YbcMDd1scPCuB58eM68QkQtzudydpVLpEiLaa2xsrP/GG2/8R6PMnVAggB3848z8o5GRkZGuri7kG/4+ODSgnhk0xpzVxMhj1eGDnNY+qCAkon4iQrTNNmrMdbQz/vHK5/NHigiOuv4cRdGRqEIuFAr7ee9h67uChm6Bma+ryVdsyYcvyGx9Z2RkZLebb755UxzH1zAztGsLyOsLR/gLRASRv7udcziqm7FXPp//mojs45xD9Hl8QzZnzpzVyFdrR+R2OkxEDffoi5j5syICEnZsKl6FFAPv/VuGhoZ+GTZv0JOGNvi3p8PY1EZFYCYioA5gi2fdWnsMCHYD6e47mPkUZl4tIlAZOClNU2etPYmIwBf3CxFBRSJ45hp+hSPnoog8WVU78N5fhuIAdBaOYZG7c3eSJEiMb/aFI2hEZjwzn1mTL9QSJ+oZBreFQsV7j3y+ZSLyXIjXo8IX0bRwZLhYRA4Mx8HjHI1VreJmg1ZtvyoH6Jw7NHyEUyLqQjAVdlprQer8x1133fXsmazpW50bay2O8KFaA9k7RJxR3Y4K862KjVo1f9Oln5CLvICI3hAKw86HmoyI4LcBzkSkPvzFOXf8dBmT2qkIzEQE1AFsw6zn8/mLAjnqIIocYEKomCt67w9FpRxy3iqVSglkqs0wMTh/cAgmqh38xhhzWSaTeWxsbMyJCCqBr22GDdtrMxxfPiIiy9M0Ha7VE22VDRP7Ae0OEeEDd0GonAUhNhw+0NNcB0k+7/364eHhR6vPNuuofDIMrLXQG86laVqAA2qthZ4vFFuWAdt58+Z5df6eRjEofmCtfSRN01WTYTvT/4/jXeS8otAjTdP3BsUe/A7WIHcXvxNmfqH3vqsTNLln+nzp+BWByRBQB3AyhBrz/yrOgpfok08+ybvvvvtKEVnknJtX7SKO44+D7mTWrFkvqIdU+RlM3iaK9gxqB5AwuzuKotM3bdokjTx23lEogyrFr7PZ7ItXrVoFB7gleXTbsy+fz58IHjM4gM45OFMUnNQVzHyoiOyBo2po/VYrfXd0nE26D04fqrO/5Zz7pLUWVZj3QYpuJub7TYZxda2Njo7ObdZmazIbOvj/27wz8vn8N0TkK865H8Jua+1ZRHSyiJyzYcOGG7aX19zB41PTFIEZjYA6gM2f/lqSY0iFLeru7j5748aNkFj7QTheBbns+BXH8RczmcyXm0XPsSNqB0T042w2e1k7E+ARnWkW1c0kU1770eM4jkGJc9Po6Oh3u7q6joYWsojcn6bpFwJR8OLu7u4Lgq3tPKreMqyayNZHEYnp7++fC7m35i/16dlDG9daxwJWG8HGhgekzUEF6BaQmjvnLofxYa2tY+YUvJ2gPurYQalhioAisBUC6gC2aEFYa6EUAdLdT1Q52kCN4L1HkvRV4JFrkim1DqiqHTwLyBMVDYJDjqIJVCb/C1q+UINAkQ4RHQHKkGpz23u2SfO5Q82GyNb6bDY7d/78+f9RGpMdgk1vehqBLe+MOI5PNcZAug1KHkh3AKk48vw+ICLgKT1FRF6Qy+XOaOeGUSdOEVAEpo6AOoBTx2zKT1hrXwTKBLwscUxY6yyEytLbjTELG11lW7uLV7WDSadt/KN33HHH7TE2NgYC7CcQCWXmnxLRIVEUrQtVv1A0uLxcLh/X6fx5GtmadM71hmdBAMoezIyIN2QoTyaib2Kjms/n8yKCzexsZn4sSZITFEhFQBGYfgioA9iEOZtYANDf3/+ySqVyh/d+CYhRq4UNcAxBKgxOtqGhoZ81wRRU8r4ik8l8TtUOJkfXWnswEUGrFxGOvyGvCZGOJElWh6MuVDVCG3kgTdObJm9R71AEpgcCqICOosisXr16A95Pc+bMGWDmuSMjI6chNzKO415mPklE0mqBR/X9NT1GqFYqAorARATUAWzsmqgt9pgzMjKycfbs2bz33ntvXrdu3TUick+5XL4BhRXWWuQDroiiqB8v3caa8XRrqnYwNVTjOAZxMyocv4AnrbXHQsM3iqL9S6XS3Ewmc2qlUrm4qm4wtdb1bkWgcxGApKExZqhKvRTH8fVBi3xFmqZQtqnKCr5LRK7ef//9bxwYGGgbMXvnIqmWKQLTBwF1AJswV9batxHR+SjwIKLn7LLLLqiohTNxrIig6hcvVLxIT6++XBtthqodPDui28vZAzmw974bFCo1pLfDInJlmqbfq0Zu20Xx0ug1ou0pArX5fnhniEh/mqbnQfkml8uB8mVtJpP56uDg4MNhU3S2McaprJuuHUVg+iOgDmCD5zCfz4Mj7n2gBRERy8wfZObvJklyYm9v757GmGMho5TJZG4ZHByEeHrTLmst+Pvmq9rBNhDXFsaAmLuEwhzkSYKAO5ADrwq5m8Pe+w9DBi+00hGVvk1bNNrwjETAWvs6IoKW73tF5NNpml7W19f3KmMMpPLWVCqV1cPDw4/PSHB00IrA/ykC6gDWP7FbOQT5fP5MYwwInQ8XkY+C109EPszMd1VJn+vvcodbGOeEU7WD/+FVo1XaQ0TQwf0rER1ERLcw863e+12Z+fNENExEb5og67bDwOuNikAnIzAxAo73FjS/ReS2oEx0RlAlOoqIUAm/IkmSOzt5TGqbIqAITA0BdQCnhtdWd1trs865Ev5YrbjE8eCDDz74Su/9laOjo71IoLbWgjvrNaEK+Pt1dDnlR1XtYFvICoXCQZVK5Z3GmI1JklyKXMkois7x3j8KWbBCobCgUqm8kJmhRTxO/qzHvlNeevpAhyMAJ5CZoXDzTSL6DxE9gNMLY8xsqN4YY04uFos/QXTQOXdvhw9HzVMEFIEpIqAO4BQBw+3W2gO89yNDQ0MP9fX1zTfGXARnwXv/vVwut7pUKu1JRDeXy+VF2Wx2T+/9uUT0aefcAzvRXd2PqNrB1hBaaxcR0V0ishQSVvhvoVB4vff+FmPMYcVi8XcTQNdj37pXoTbQIQhsWctVCioiukFEBo0xG6B645xbYq29mIiO6urqOnzlypUbO8R2NUMRUAQaiIA6gDsBZhzHi5n52977g40xn4MzwcyPi8j7w7HiDWFn/Voiej6OgNM0vXUnumrYI8oJt40TuJSIljnnkPc3fllr16Ayu5bguWEToA0pAh2CAGipSqVSGdrV1tqrmfl2EfkQET1ERChSA1n9fdjoOud+1SFmqxmKgCLQYATUAdxJQOM4Xs7MA6FC9Dw0E8fxEfibMWbpfvvtt37t2rVvYObfO+ce28lu9LEmImCtvY6I9iGiK4ioH5q+zjnbxC61aUWgrQgcf/zxzyuVSp8iooVE9G7k9nnvBXmv4X2GvOWrkiTZIk/ZVoO1c0VAEWgaAuoA1gFtHMdXMfPhzrmDa2hDoIl5R5qmV9fRtD7aGgRQJHMPEXlmPrPKgVZLjdEaM7QXRaB1CFhre0Tkk5A4ZOYroOFrjDmhWCz+vK+v73WbNm16ANq/rbNIe1IEFIF2IKAOYH2oj1fZMvNNURRdLiKZcrl8BzOflSTJbfU1rU+3AgEI3ff09DwiIsvTNB2ucv21om/tQxFoJwLW2tOYeR7WvohcysznOucq7bRJ+1YEFIHWIaAOYJ1YhypbkKT+VkTuQy6gcw55gXpNEwSqRTLZbPbFq1at+jc0gaeJ6WqmIlAXAkEt6DxjzP1JklxZV2P6sCKgCEwrBNQBbMB0BcLgR4joQOfc+gY0qU20GAEtkmkx4NqdIqAIKAKKQFsRUAewQfCrA9EgILUZRUARUAQUAUVAEWg6AuoANh1i7UARUAQUAUVAEVAEFIHOQuC/mJkHYe4LBpEAAAAASUVORK5CYII=\">"
      ],
      "text/plain": [
       "<IPython.core.display.HTML object>"
      ]
     },
     "metadata": {},
     "output_type": "display_data"
    }
   ],
   "source": [
    "\n",
    "def plot_class_poll():\n",
    "    fig, axes = plt.subplots(ncols=3, nrows=1)\n",
    "#     axes = [ax for sublist in axes for ax in sublist]\n",
    "    polls = [education_level, operating_system, lab_languages]\n",
    "    plot_types = ['bar', 'line', 'pie']\n",
    "    titles = ['Education', 'Programming Level', 'Lab Languages']\n",
    "    for ax, poll, plot_type, title in zip(axes, polls, plot_types, titles):\n",
    "        pd.Series(poll).plot(kind=plot_type, ax=ax, rot=40)\n",
    "        ax.set_title(title)\n",
    "#         ax.set_ylim(-.1, max(poll.values()))\n",
    "        \n",
    "plot_class_poll()"
   ]
  },
  {
   "cell_type": "code",
   "execution_count": 45,
   "metadata": {
    "collapsed": false,
    "slideshow": {
     "slide_type": "subslide"
    }
   },
   "outputs": [
    {
     "data": {
      "application/javascript": [
       "/* Put everything inside the global mpl namespace */\n",
       "window.mpl = {};\n",
       "\n",
       "mpl.get_websocket_type = function() {\n",
       "    if (typeof(WebSocket) !== 'undefined') {\n",
       "        return WebSocket;\n",
       "    } else if (typeof(MozWebSocket) !== 'undefined') {\n",
       "        return MozWebSocket;\n",
       "    } else {\n",
       "        alert('Your browser does not have WebSocket support.' +\n",
       "              'Please try Chrome, Safari or Firefox ≥ 6. ' +\n",
       "              'Firefox 4 and 5 are also supported but you ' +\n",
       "              'have to enable WebSockets in about:config.');\n",
       "    };\n",
       "}\n",
       "\n",
       "mpl.figure = function(figure_id, websocket, ondownload, parent_element) {\n",
       "    this.id = figure_id;\n",
       "\n",
       "    this.ws = websocket;\n",
       "\n",
       "    this.supports_binary = (this.ws.binaryType != undefined);\n",
       "\n",
       "    if (!this.supports_binary) {\n",
       "        var warnings = document.getElementById(\"mpl-warnings\");\n",
       "        if (warnings) {\n",
       "            warnings.style.display = 'block';\n",
       "            warnings.textContent = (\n",
       "                \"This browser does not support binary websocket messages. \" +\n",
       "                    \"Performance may be slow.\");\n",
       "        }\n",
       "    }\n",
       "\n",
       "    this.imageObj = new Image();\n",
       "\n",
       "    this.context = undefined;\n",
       "    this.message = undefined;\n",
       "    this.canvas = undefined;\n",
       "    this.rubberband_canvas = undefined;\n",
       "    this.rubberband_context = undefined;\n",
       "    this.format_dropdown = undefined;\n",
       "\n",
       "    this.image_mode = 'full';\n",
       "\n",
       "    this.root = $('<div/>');\n",
       "    this._root_extra_style(this.root)\n",
       "    this.root.attr('style', 'display: inline-block');\n",
       "\n",
       "    $(parent_element).append(this.root);\n",
       "\n",
       "    this._init_header(this);\n",
       "    this._init_canvas(this);\n",
       "    this._init_toolbar(this);\n",
       "\n",
       "    var fig = this;\n",
       "\n",
       "    this.waiting = false;\n",
       "\n",
       "    this.ws.onopen =  function () {\n",
       "            fig.send_message(\"supports_binary\", {value: fig.supports_binary});\n",
       "            fig.send_message(\"send_image_mode\", {});\n",
       "            fig.send_message(\"refresh\", {});\n",
       "        }\n",
       "\n",
       "    this.imageObj.onload = function() {\n",
       "            if (fig.image_mode == 'full') {\n",
       "                // Full images could contain transparency (where diff images\n",
       "                // almost always do), so we need to clear the canvas so that\n",
       "                // there is no ghosting.\n",
       "                fig.context.clearRect(0, 0, fig.canvas.width, fig.canvas.height);\n",
       "            }\n",
       "            fig.context.drawImage(fig.imageObj, 0, 0);\n",
       "        };\n",
       "\n",
       "    this.imageObj.onunload = function() {\n",
       "        this.ws.close();\n",
       "    }\n",
       "\n",
       "    this.ws.onmessage = this._make_on_message_function(this);\n",
       "\n",
       "    this.ondownload = ondownload;\n",
       "}\n",
       "\n",
       "mpl.figure.prototype._init_header = function() {\n",
       "    var titlebar = $(\n",
       "        '<div class=\"ui-dialog-titlebar ui-widget-header ui-corner-all ' +\n",
       "        'ui-helper-clearfix\"/>');\n",
       "    var titletext = $(\n",
       "        '<div class=\"ui-dialog-title\" style=\"width: 100%; ' +\n",
       "        'text-align: center; padding: 3px;\"/>');\n",
       "    titlebar.append(titletext)\n",
       "    this.root.append(titlebar);\n",
       "    this.header = titletext[0];\n",
       "}\n",
       "\n",
       "\n",
       "\n",
       "mpl.figure.prototype._canvas_extra_style = function(canvas_div) {\n",
       "\n",
       "}\n",
       "\n",
       "\n",
       "mpl.figure.prototype._root_extra_style = function(canvas_div) {\n",
       "\n",
       "}\n",
       "\n",
       "mpl.figure.prototype._init_canvas = function() {\n",
       "    var fig = this;\n",
       "\n",
       "    var canvas_div = $('<div/>');\n",
       "\n",
       "    canvas_div.attr('style', 'position: relative; clear: both; outline: 0');\n",
       "\n",
       "    function canvas_keyboard_event(event) {\n",
       "        return fig.key_event(event, event['data']);\n",
       "    }\n",
       "\n",
       "    canvas_div.keydown('key_press', canvas_keyboard_event);\n",
       "    canvas_div.keyup('key_release', canvas_keyboard_event);\n",
       "    this.canvas_div = canvas_div\n",
       "    this._canvas_extra_style(canvas_div)\n",
       "    this.root.append(canvas_div);\n",
       "\n",
       "    var canvas = $('<canvas/>');\n",
       "    canvas.addClass('mpl-canvas');\n",
       "    canvas.attr('style', \"left: 0; top: 0; z-index: 0; outline: 0\")\n",
       "\n",
       "    this.canvas = canvas[0];\n",
       "    this.context = canvas[0].getContext(\"2d\");\n",
       "\n",
       "    var rubberband = $('<canvas/>');\n",
       "    rubberband.attr('style', \"position: absolute; left: 0; top: 0; z-index: 1;\")\n",
       "\n",
       "    var pass_mouse_events = true;\n",
       "\n",
       "    canvas_div.resizable({\n",
       "        start: function(event, ui) {\n",
       "            pass_mouse_events = false;\n",
       "        },\n",
       "        resize: function(event, ui) {\n",
       "            fig.request_resize(ui.size.width, ui.size.height);\n",
       "        },\n",
       "        stop: function(event, ui) {\n",
       "            pass_mouse_events = true;\n",
       "            fig.request_resize(ui.size.width, ui.size.height);\n",
       "        },\n",
       "    });\n",
       "\n",
       "    function mouse_event_fn(event) {\n",
       "        if (pass_mouse_events)\n",
       "            return fig.mouse_event(event, event['data']);\n",
       "    }\n",
       "\n",
       "    rubberband.mousedown('button_press', mouse_event_fn);\n",
       "    rubberband.mouseup('button_release', mouse_event_fn);\n",
       "    // Throttle sequential mouse events to 1 every 20ms.\n",
       "    rubberband.mousemove('motion_notify', mouse_event_fn);\n",
       "\n",
       "    rubberband.mouseenter('figure_enter', mouse_event_fn);\n",
       "    rubberband.mouseleave('figure_leave', mouse_event_fn);\n",
       "\n",
       "    canvas_div.on(\"wheel\", function (event) {\n",
       "        event = event.originalEvent;\n",
       "        event['data'] = 'scroll'\n",
       "        if (event.deltaY < 0) {\n",
       "            event.step = 1;\n",
       "        } else {\n",
       "            event.step = -1;\n",
       "        }\n",
       "        mouse_event_fn(event);\n",
       "    });\n",
       "\n",
       "    canvas_div.append(canvas);\n",
       "    canvas_div.append(rubberband);\n",
       "\n",
       "    this.rubberband = rubberband;\n",
       "    this.rubberband_canvas = rubberband[0];\n",
       "    this.rubberband_context = rubberband[0].getContext(\"2d\");\n",
       "    this.rubberband_context.strokeStyle = \"#000000\";\n",
       "\n",
       "    this._resize_canvas = function(width, height) {\n",
       "        // Keep the size of the canvas, canvas container, and rubber band\n",
       "        // canvas in synch.\n",
       "        canvas_div.css('width', width)\n",
       "        canvas_div.css('height', height)\n",
       "\n",
       "        canvas.attr('width', width);\n",
       "        canvas.attr('height', height);\n",
       "\n",
       "        rubberband.attr('width', width);\n",
       "        rubberband.attr('height', height);\n",
       "    }\n",
       "\n",
       "    // Set the figure to an initial 600x600px, this will subsequently be updated\n",
       "    // upon first draw.\n",
       "    this._resize_canvas(600, 600);\n",
       "\n",
       "    // Disable right mouse context menu.\n",
       "    $(this.rubberband_canvas).bind(\"contextmenu\",function(e){\n",
       "        return false;\n",
       "    });\n",
       "\n",
       "    function set_focus () {\n",
       "        canvas.focus();\n",
       "        canvas_div.focus();\n",
       "    }\n",
       "\n",
       "    window.setTimeout(set_focus, 100);\n",
       "}\n",
       "\n",
       "mpl.figure.prototype._init_toolbar = function() {\n",
       "    var fig = this;\n",
       "\n",
       "    var nav_element = $('<div/>')\n",
       "    nav_element.attr('style', 'width: 100%');\n",
       "    this.root.append(nav_element);\n",
       "\n",
       "    // Define a callback function for later on.\n",
       "    function toolbar_event(event) {\n",
       "        return fig.toolbar_button_onclick(event['data']);\n",
       "    }\n",
       "    function toolbar_mouse_event(event) {\n",
       "        return fig.toolbar_button_onmouseover(event['data']);\n",
       "    }\n",
       "\n",
       "    for(var toolbar_ind in mpl.toolbar_items) {\n",
       "        var name = mpl.toolbar_items[toolbar_ind][0];\n",
       "        var tooltip = mpl.toolbar_items[toolbar_ind][1];\n",
       "        var image = mpl.toolbar_items[toolbar_ind][2];\n",
       "        var method_name = mpl.toolbar_items[toolbar_ind][3];\n",
       "\n",
       "        if (!name) {\n",
       "            // put a spacer in here.\n",
       "            continue;\n",
       "        }\n",
       "        var button = $('<button/>');\n",
       "        button.addClass('ui-button ui-widget ui-state-default ui-corner-all ' +\n",
       "                        'ui-button-icon-only');\n",
       "        button.attr('role', 'button');\n",
       "        button.attr('aria-disabled', 'false');\n",
       "        button.click(method_name, toolbar_event);\n",
       "        button.mouseover(tooltip, toolbar_mouse_event);\n",
       "\n",
       "        var icon_img = $('<span/>');\n",
       "        icon_img.addClass('ui-button-icon-primary ui-icon');\n",
       "        icon_img.addClass(image);\n",
       "        icon_img.addClass('ui-corner-all');\n",
       "\n",
       "        var tooltip_span = $('<span/>');\n",
       "        tooltip_span.addClass('ui-button-text');\n",
       "        tooltip_span.html(tooltip);\n",
       "\n",
       "        button.append(icon_img);\n",
       "        button.append(tooltip_span);\n",
       "\n",
       "        nav_element.append(button);\n",
       "    }\n",
       "\n",
       "    var fmt_picker_span = $('<span/>');\n",
       "\n",
       "    var fmt_picker = $('<select/>');\n",
       "    fmt_picker.addClass('mpl-toolbar-option ui-widget ui-widget-content');\n",
       "    fmt_picker_span.append(fmt_picker);\n",
       "    nav_element.append(fmt_picker_span);\n",
       "    this.format_dropdown = fmt_picker[0];\n",
       "\n",
       "    for (var ind in mpl.extensions) {\n",
       "        var fmt = mpl.extensions[ind];\n",
       "        var option = $(\n",
       "            '<option/>', {selected: fmt === mpl.default_extension}).html(fmt);\n",
       "        fmt_picker.append(option)\n",
       "    }\n",
       "\n",
       "    // Add hover states to the ui-buttons\n",
       "    $( \".ui-button\" ).hover(\n",
       "        function() { $(this).addClass(\"ui-state-hover\");},\n",
       "        function() { $(this).removeClass(\"ui-state-hover\");}\n",
       "    );\n",
       "\n",
       "    var status_bar = $('<span class=\"mpl-message\"/>');\n",
       "    nav_element.append(status_bar);\n",
       "    this.message = status_bar[0];\n",
       "}\n",
       "\n",
       "mpl.figure.prototype.request_resize = function(x_pixels, y_pixels) {\n",
       "    // Request matplotlib to resize the figure. Matplotlib will then trigger a resize in the client,\n",
       "    // which will in turn request a refresh of the image.\n",
       "    this.send_message('resize', {'width': x_pixels, 'height': y_pixels});\n",
       "}\n",
       "\n",
       "mpl.figure.prototype.send_message = function(type, properties) {\n",
       "    properties['type'] = type;\n",
       "    properties['figure_id'] = this.id;\n",
       "    this.ws.send(JSON.stringify(properties));\n",
       "}\n",
       "\n",
       "mpl.figure.prototype.send_draw_message = function() {\n",
       "    if (!this.waiting) {\n",
       "        this.waiting = true;\n",
       "        this.ws.send(JSON.stringify({type: \"draw\", figure_id: this.id}));\n",
       "    }\n",
       "}\n",
       "\n",
       "\n",
       "mpl.figure.prototype.handle_save = function(fig, msg) {\n",
       "    var format_dropdown = fig.format_dropdown;\n",
       "    var format = format_dropdown.options[format_dropdown.selectedIndex].value;\n",
       "    fig.ondownload(fig, format);\n",
       "}\n",
       "\n",
       "\n",
       "mpl.figure.prototype.handle_resize = function(fig, msg) {\n",
       "    var size = msg['size'];\n",
       "    if (size[0] != fig.canvas.width || size[1] != fig.canvas.height) {\n",
       "        fig._resize_canvas(size[0], size[1]);\n",
       "        fig.send_message(\"refresh\", {});\n",
       "    };\n",
       "}\n",
       "\n",
       "mpl.figure.prototype.handle_rubberband = function(fig, msg) {\n",
       "    var x0 = msg['x0'];\n",
       "    var y0 = fig.canvas.height - msg['y0'];\n",
       "    var x1 = msg['x1'];\n",
       "    var y1 = fig.canvas.height - msg['y1'];\n",
       "    x0 = Math.floor(x0) + 0.5;\n",
       "    y0 = Math.floor(y0) + 0.5;\n",
       "    x1 = Math.floor(x1) + 0.5;\n",
       "    y1 = Math.floor(y1) + 0.5;\n",
       "    var min_x = Math.min(x0, x1);\n",
       "    var min_y = Math.min(y0, y1);\n",
       "    var width = Math.abs(x1 - x0);\n",
       "    var height = Math.abs(y1 - y0);\n",
       "\n",
       "    fig.rubberband_context.clearRect(\n",
       "        0, 0, fig.canvas.width, fig.canvas.height);\n",
       "\n",
       "    fig.rubberband_context.strokeRect(min_x, min_y, width, height);\n",
       "}\n",
       "\n",
       "mpl.figure.prototype.handle_figure_label = function(fig, msg) {\n",
       "    // Updates the figure title.\n",
       "    fig.header.textContent = msg['label'];\n",
       "}\n",
       "\n",
       "mpl.figure.prototype.handle_cursor = function(fig, msg) {\n",
       "    var cursor = msg['cursor'];\n",
       "    switch(cursor)\n",
       "    {\n",
       "    case 0:\n",
       "        cursor = 'pointer';\n",
       "        break;\n",
       "    case 1:\n",
       "        cursor = 'default';\n",
       "        break;\n",
       "    case 2:\n",
       "        cursor = 'crosshair';\n",
       "        break;\n",
       "    case 3:\n",
       "        cursor = 'move';\n",
       "        break;\n",
       "    }\n",
       "    fig.rubberband_canvas.style.cursor = cursor;\n",
       "}\n",
       "\n",
       "mpl.figure.prototype.handle_message = function(fig, msg) {\n",
       "    fig.message.textContent = msg['message'];\n",
       "}\n",
       "\n",
       "mpl.figure.prototype.handle_draw = function(fig, msg) {\n",
       "    // Request the server to send over a new figure.\n",
       "    fig.send_draw_message();\n",
       "}\n",
       "\n",
       "mpl.figure.prototype.handle_image_mode = function(fig, msg) {\n",
       "    fig.image_mode = msg['mode'];\n",
       "}\n",
       "\n",
       "mpl.figure.prototype.updated_canvas_event = function() {\n",
       "    // Called whenever the canvas gets updated.\n",
       "    this.send_message(\"ack\", {});\n",
       "}\n",
       "\n",
       "// A function to construct a web socket function for onmessage handling.\n",
       "// Called in the figure constructor.\n",
       "mpl.figure.prototype._make_on_message_function = function(fig) {\n",
       "    return function socket_on_message(evt) {\n",
       "        if (evt.data instanceof Blob) {\n",
       "            /* FIXME: We get \"Resource interpreted as Image but\n",
       "             * transferred with MIME type text/plain:\" errors on\n",
       "             * Chrome.  But how to set the MIME type?  It doesn't seem\n",
       "             * to be part of the websocket stream */\n",
       "            evt.data.type = \"image/png\";\n",
       "\n",
       "            /* Free the memory for the previous frames */\n",
       "            if (fig.imageObj.src) {\n",
       "                (window.URL || window.webkitURL).revokeObjectURL(\n",
       "                    fig.imageObj.src);\n",
       "            }\n",
       "\n",
       "            fig.imageObj.src = (window.URL || window.webkitURL).createObjectURL(\n",
       "                evt.data);\n",
       "            fig.updated_canvas_event();\n",
       "            fig.waiting = false;\n",
       "            return;\n",
       "        }\n",
       "        else if (typeof evt.data === 'string' && evt.data.slice(0, 21) == \"data:image/png;base64\") {\n",
       "            fig.imageObj.src = evt.data;\n",
       "            fig.updated_canvas_event();\n",
       "            fig.waiting = false;\n",
       "            return;\n",
       "        }\n",
       "\n",
       "        var msg = JSON.parse(evt.data);\n",
       "        var msg_type = msg['type'];\n",
       "\n",
       "        // Call the  \"handle_{type}\" callback, which takes\n",
       "        // the figure and JSON message as its only arguments.\n",
       "        try {\n",
       "            var callback = fig[\"handle_\" + msg_type];\n",
       "        } catch (e) {\n",
       "            console.log(\"No handler for the '\" + msg_type + \"' message type: \", msg);\n",
       "            return;\n",
       "        }\n",
       "\n",
       "        if (callback) {\n",
       "            try {\n",
       "                // console.log(\"Handling '\" + msg_type + \"' message: \", msg);\n",
       "                callback(fig, msg);\n",
       "            } catch (e) {\n",
       "                console.log(\"Exception inside the 'handler_\" + msg_type + \"' callback:\", e, e.stack, msg);\n",
       "            }\n",
       "        }\n",
       "    };\n",
       "}\n",
       "\n",
       "// from http://stackoverflow.com/questions/1114465/getting-mouse-location-in-canvas\n",
       "mpl.findpos = function(e) {\n",
       "    //this section is from http://www.quirksmode.org/js/events_properties.html\n",
       "    var targ;\n",
       "    if (!e)\n",
       "        e = window.event;\n",
       "    if (e.target)\n",
       "        targ = e.target;\n",
       "    else if (e.srcElement)\n",
       "        targ = e.srcElement;\n",
       "    if (targ.nodeType == 3) // defeat Safari bug\n",
       "        targ = targ.parentNode;\n",
       "\n",
       "    // jQuery normalizes the pageX and pageY\n",
       "    // pageX,Y are the mouse positions relative to the document\n",
       "    // offset() returns the position of the element relative to the document\n",
       "    var x = e.pageX - $(targ).offset().left;\n",
       "    var y = e.pageY - $(targ).offset().top;\n",
       "\n",
       "    return {\"x\": x, \"y\": y};\n",
       "};\n",
       "\n",
       "/*\n",
       " * return a copy of an object with only non-object keys\n",
       " * we need this to avoid circular references\n",
       " * http://stackoverflow.com/a/24161582/3208463\n",
       " */\n",
       "function simpleKeys (original) {\n",
       "  return Object.keys(original).reduce(function (obj, key) {\n",
       "    if (typeof original[key] !== 'object')\n",
       "        obj[key] = original[key]\n",
       "    return obj;\n",
       "  }, {});\n",
       "}\n",
       "\n",
       "mpl.figure.prototype.mouse_event = function(event, name) {\n",
       "    var canvas_pos = mpl.findpos(event)\n",
       "\n",
       "    if (name === 'button_press')\n",
       "    {\n",
       "        this.canvas.focus();\n",
       "        this.canvas_div.focus();\n",
       "    }\n",
       "\n",
       "    var x = canvas_pos.x;\n",
       "    var y = canvas_pos.y;\n",
       "\n",
       "    this.send_message(name, {x: x, y: y, button: event.button,\n",
       "                             step: event.step,\n",
       "                             guiEvent: simpleKeys(event)});\n",
       "\n",
       "    /* This prevents the web browser from automatically changing to\n",
       "     * the text insertion cursor when the button is pressed.  We want\n",
       "     * to control all of the cursor setting manually through the\n",
       "     * 'cursor' event from matplotlib */\n",
       "    event.preventDefault();\n",
       "    return false;\n",
       "}\n",
       "\n",
       "mpl.figure.prototype._key_event_extra = function(event, name) {\n",
       "    // Handle any extra behaviour associated with a key event\n",
       "}\n",
       "\n",
       "mpl.figure.prototype.key_event = function(event, name) {\n",
       "\n",
       "    // Prevent repeat events\n",
       "    if (name == 'key_press')\n",
       "    {\n",
       "        if (event.which === this._key)\n",
       "            return;\n",
       "        else\n",
       "            this._key = event.which;\n",
       "    }\n",
       "    if (name == 'key_release')\n",
       "        this._key = null;\n",
       "\n",
       "    var value = '';\n",
       "    if (event.ctrlKey && event.which != 17)\n",
       "        value += \"ctrl+\";\n",
       "    if (event.altKey && event.which != 18)\n",
       "        value += \"alt+\";\n",
       "    if (event.shiftKey && event.which != 16)\n",
       "        value += \"shift+\";\n",
       "\n",
       "    value += 'k';\n",
       "    value += event.which.toString();\n",
       "\n",
       "    this._key_event_extra(event, name);\n",
       "\n",
       "    this.send_message(name, {key: value,\n",
       "                             guiEvent: simpleKeys(event)});\n",
       "    return false;\n",
       "}\n",
       "\n",
       "mpl.figure.prototype.toolbar_button_onclick = function(name) {\n",
       "    if (name == 'download') {\n",
       "        this.handle_save(this, null);\n",
       "    } else {\n",
       "        this.send_message(\"toolbar_button\", {name: name});\n",
       "    }\n",
       "};\n",
       "\n",
       "mpl.figure.prototype.toolbar_button_onmouseover = function(tooltip) {\n",
       "    this.message.textContent = tooltip;\n",
       "};\n",
       "mpl.toolbar_items = [[\"Home\", \"Reset original view\", \"fa fa-home icon-home\", \"home\"], [\"Back\", \"Back to  previous view\", \"fa fa-arrow-left icon-arrow-left\", \"back\"], [\"Forward\", \"Forward to next view\", \"fa fa-arrow-right icon-arrow-right\", \"forward\"], [\"\", \"\", \"\", \"\"], [\"Pan\", \"Pan axes with left mouse, zoom with right\", \"fa fa-arrows icon-move\", \"pan\"], [\"Zoom\", \"Zoom to rectangle\", \"fa fa-square-o icon-check-empty\", \"zoom\"], [\"\", \"\", \"\", \"\"], [\"Download\", \"Download plot\", \"fa fa-floppy-o icon-save\", \"download\"]];\n",
       "\n",
       "mpl.extensions = [\"eps\", \"pdf\", \"png\", \"ps\", \"raw\", \"svg\"];\n",
       "\n",
       "mpl.default_extension = \"png\";var comm_websocket_adapter = function(comm) {\n",
       "    // Create a \"websocket\"-like object which calls the given IPython comm\n",
       "    // object with the appropriate methods. Currently this is a non binary\n",
       "    // socket, so there is still some room for performance tuning.\n",
       "    var ws = {};\n",
       "\n",
       "    ws.close = function() {\n",
       "        comm.close()\n",
       "    };\n",
       "    ws.send = function(m) {\n",
       "        //console.log('sending', m);\n",
       "        comm.send(m);\n",
       "    };\n",
       "    // Register the callback with on_msg.\n",
       "    comm.on_msg(function(msg) {\n",
       "        //console.log('receiving', msg['content']['data'], msg);\n",
       "        // Pass the mpl event to the overriden (by mpl) onmessage function.\n",
       "        ws.onmessage(msg['content']['data'])\n",
       "    });\n",
       "    return ws;\n",
       "}\n",
       "\n",
       "mpl.mpl_figure_comm = function(comm, msg) {\n",
       "    // This is the function which gets called when the mpl process\n",
       "    // starts-up an IPython Comm through the \"matplotlib\" channel.\n",
       "\n",
       "    var id = msg.content.data.id;\n",
       "    // Get hold of the div created by the display call when the Comm\n",
       "    // socket was opened in Python.\n",
       "    var element = $(\"#\" + id);\n",
       "    var ws_proxy = comm_websocket_adapter(comm)\n",
       "\n",
       "    function ondownload(figure, format) {\n",
       "        window.open(figure.imageObj.src);\n",
       "    }\n",
       "\n",
       "    var fig = new mpl.figure(id, ws_proxy,\n",
       "                           ondownload,\n",
       "                           element.get(0));\n",
       "\n",
       "    // Call onopen now - mpl needs it, as it is assuming we've passed it a real\n",
       "    // web socket which is closed, not our websocket->open comm proxy.\n",
       "    ws_proxy.onopen();\n",
       "\n",
       "    fig.parent_element = element.get(0);\n",
       "    fig.cell_info = mpl.find_output_cell(\"<div id='\" + id + \"'></div>\");\n",
       "    if (!fig.cell_info) {\n",
       "        console.error(\"Failed to find cell for figure\", id, fig);\n",
       "        return;\n",
       "    }\n",
       "\n",
       "    var output_index = fig.cell_info[2]\n",
       "    var cell = fig.cell_info[0];\n",
       "\n",
       "};\n",
       "\n",
       "mpl.figure.prototype.handle_close = function(fig, msg) {\n",
       "    fig.root.unbind('remove')\n",
       "\n",
       "    // Update the output cell to use the data from the current canvas.\n",
       "    fig.push_to_output();\n",
       "    var dataURL = fig.canvas.toDataURL();\n",
       "    // Re-enable the keyboard manager in IPython - without this line, in FF,\n",
       "    // the notebook keyboard shortcuts fail.\n",
       "    IPython.keyboard_manager.enable()\n",
       "    $(fig.parent_element).html('<img src=\"' + dataURL + '\">');\n",
       "    fig.close_ws(fig, msg);\n",
       "}\n",
       "\n",
       "mpl.figure.prototype.close_ws = function(fig, msg){\n",
       "    fig.send_message('closing', msg);\n",
       "    // fig.ws.close()\n",
       "}\n",
       "\n",
       "mpl.figure.prototype.push_to_output = function(remove_interactive) {\n",
       "    // Turn the data on the canvas into data in the output cell.\n",
       "    var dataURL = this.canvas.toDataURL();\n",
       "    this.cell_info[1]['text/html'] = '<img src=\"' + dataURL + '\">';\n",
       "}\n",
       "\n",
       "mpl.figure.prototype.updated_canvas_event = function() {\n",
       "    // Tell IPython that the notebook contents must change.\n",
       "    IPython.notebook.set_dirty(true);\n",
       "    this.send_message(\"ack\", {});\n",
       "    var fig = this;\n",
       "    // Wait a second, then push the new image to the DOM so\n",
       "    // that it is saved nicely (might be nice to debounce this).\n",
       "    setTimeout(function () { fig.push_to_output() }, 1000);\n",
       "}\n",
       "\n",
       "mpl.figure.prototype._init_toolbar = function() {\n",
       "    var fig = this;\n",
       "\n",
       "    var nav_element = $('<div/>')\n",
       "    nav_element.attr('style', 'width: 100%');\n",
       "    this.root.append(nav_element);\n",
       "\n",
       "    // Define a callback function for later on.\n",
       "    function toolbar_event(event) {\n",
       "        return fig.toolbar_button_onclick(event['data']);\n",
       "    }\n",
       "    function toolbar_mouse_event(event) {\n",
       "        return fig.toolbar_button_onmouseover(event['data']);\n",
       "    }\n",
       "\n",
       "    for(var toolbar_ind in mpl.toolbar_items){\n",
       "        var name = mpl.toolbar_items[toolbar_ind][0];\n",
       "        var tooltip = mpl.toolbar_items[toolbar_ind][1];\n",
       "        var image = mpl.toolbar_items[toolbar_ind][2];\n",
       "        var method_name = mpl.toolbar_items[toolbar_ind][3];\n",
       "\n",
       "        if (!name) { continue; };\n",
       "\n",
       "        var button = $('<button class=\"btn btn-default\" href=\"#\" title=\"' + name + '\"><i class=\"fa ' + image + ' fa-lg\"></i></button>');\n",
       "        button.click(method_name, toolbar_event);\n",
       "        button.mouseover(tooltip, toolbar_mouse_event);\n",
       "        nav_element.append(button);\n",
       "    }\n",
       "\n",
       "    // Add the status bar.\n",
       "    var status_bar = $('<span class=\"mpl-message\" style=\"text-align:right; float: right;\"/>');\n",
       "    nav_element.append(status_bar);\n",
       "    this.message = status_bar[0];\n",
       "\n",
       "    // Add the close button to the window.\n",
       "    var buttongrp = $('<div class=\"btn-group inline pull-right\"></div>');\n",
       "    var button = $('<button class=\"btn btn-mini btn-primary\" href=\"#\" title=\"Stop Interaction\"><i class=\"fa fa-power-off icon-remove icon-large\"></i></button>');\n",
       "    button.click(function (evt) { fig.handle_close(fig, {}); } );\n",
       "    button.mouseover('Stop Interaction', toolbar_mouse_event);\n",
       "    buttongrp.append(button);\n",
       "    var titlebar = this.root.find($('.ui-dialog-titlebar'));\n",
       "    titlebar.prepend(buttongrp);\n",
       "}\n",
       "\n",
       "mpl.figure.prototype._root_extra_style = function(el){\n",
       "    var fig = this\n",
       "    el.on(\"remove\", function(){\n",
       "\tfig.close_ws(fig, {});\n",
       "    });\n",
       "}\n",
       "\n",
       "mpl.figure.prototype._canvas_extra_style = function(el){\n",
       "    // this is important to make the div 'focusable\n",
       "    el.attr('tabindex', 0)\n",
       "    // reach out to IPython and tell the keyboard manager to turn it's self\n",
       "    // off when our div gets focus\n",
       "\n",
       "    // location in version 3\n",
       "    if (IPython.notebook.keyboard_manager) {\n",
       "        IPython.notebook.keyboard_manager.register_events(el);\n",
       "    }\n",
       "    else {\n",
       "        // location in version 2\n",
       "        IPython.keyboard_manager.register_events(el);\n",
       "    }\n",
       "\n",
       "}\n",
       "\n",
       "mpl.figure.prototype._key_event_extra = function(event, name) {\n",
       "    var manager = IPython.notebook.keyboard_manager;\n",
       "    if (!manager)\n",
       "        manager = IPython.keyboard_manager;\n",
       "\n",
       "    // Check for shift+enter\n",
       "    if (event.shiftKey && event.which == 13) {\n",
       "        this.canvas_div.blur();\n",
       "        event.shiftKey = false;\n",
       "        // Send a \"J\" for go to next cell\n",
       "        event.which = 74;\n",
       "        event.keyCode = 74;\n",
       "        manager.command_mode();\n",
       "        manager.handle_keydown(event);\n",
       "    }\n",
       "}\n",
       "\n",
       "mpl.figure.prototype.handle_save = function(fig, msg) {\n",
       "    fig.ondownload(fig, null);\n",
       "}\n",
       "\n",
       "\n",
       "mpl.find_output_cell = function(html_output) {\n",
       "    // Return the cell and output element which can be found *uniquely* in the notebook.\n",
       "    // Note - this is a bit hacky, but it is done because the \"notebook_saving.Notebook\"\n",
       "    // IPython event is triggered only after the cells have been serialised, which for\n",
       "    // our purposes (turning an active figure into a static one), is too late.\n",
       "    var cells = IPython.notebook.get_cells();\n",
       "    var ncells = cells.length;\n",
       "    for (var i=0; i<ncells; i++) {\n",
       "        var cell = cells[i];\n",
       "        if (cell.cell_type === 'code'){\n",
       "            for (var j=0; j<cell.output_area.outputs.length; j++) {\n",
       "                var data = cell.output_area.outputs[j];\n",
       "                if (data.data) {\n",
       "                    // IPython >= 3 moved mimebundle to data attribute of output\n",
       "                    data = data.data;\n",
       "                }\n",
       "                if (data['text/html'] == html_output) {\n",
       "                    return [cell, data, j];\n",
       "                }\n",
       "            }\n",
       "        }\n",
       "    }\n",
       "}\n",
       "\n",
       "// Register the function which deals with the matplotlib target/channel.\n",
       "// The kernel may be null if the page has been refreshed.\n",
       "if (IPython.notebook.kernel != null) {\n",
       "    IPython.notebook.kernel.comm_manager.register_target('matplotlib', mpl.mpl_figure_comm);\n",
       "}\n"
      ],
      "text/plain": [
       "<IPython.core.display.Javascript object>"
      ]
     },
     "metadata": {},
     "output_type": "display_data"
    },
    {
     "data": {
      "text/html": [
       "<img src=\"data:image/png;base64,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\">"
      ],
      "text/plain": [
       "<IPython.core.display.HTML object>"
      ]
     },
     "metadata": {},
     "output_type": "display_data"
    }
   ],
   "source": [
    "plot_class_poll()"
   ]
  },
  {
   "cell_type": "markdown",
   "metadata": {
    "slideshow": {
     "slide_type": "slide"
    }
   },
   "source": [
    "# Development Tools: IPython and Jupyter Notebook"
   ]
  },
  {
   "cell_type": "markdown",
   "metadata": {
    "slideshow": {
     "slide_type": "subslide"
    }
   },
   "source": [
    "# IPython (\"Interactive Python\")\n",
    "\n",
    "IPython is a Full-Featured interactive console for Python."
   ]
  },
  {
   "cell_type": "code",
   "execution_count": 13,
   "metadata": {
    "collapsed": false
   },
   "outputs": [
    {
     "data": {
      "text/html": [
       "<iframe src=\"https://ipython.org/ipython-doc/2/interactive/tutorial.html\" width=900 height=500></iframe>"
      ],
      "text/plain": [
       "<IPython.core.display.HTML object>"
      ]
     },
     "execution_count": 13,
     "metadata": {},
     "output_type": "execute_result"
    }
   ],
   "source": [
    "HTML('<iframe src=\"https://ipython.org/ipython-doc/2/interactive/tutorial.html\" width=900 height=500></iframe>')"
   ]
  },
  {
   "cell_type": "markdown",
   "metadata": {
    "slideshow": {
     "slide_type": "subslide"
    }
   },
   "source": [
    "# The Notebook (aka IPython Notebook, Jupyter Notebook)"
   ]
  },
  {
   "cell_type": "code",
   "execution_count": 14,
   "metadata": {
    "collapsed": false,
    "slideshow": {
     "slide_type": "-"
    }
   },
   "outputs": [
    {
     "data": {
      "text/html": [
       "<img src=\"http://jupyter.org/assets/jupyterpreview.png\" width=\"800\"/>"
      ],
      "text/plain": [
       "<IPython.core.display.Image object>"
      ]
     },
     "execution_count": 14,
     "metadata": {},
     "output_type": "execute_result"
    }
   ],
   "source": [
    "Image(url='http://jupyter.org/assets/jupyterpreview.png', width=800)"
   ]
  },
  {
   "cell_type": "markdown",
   "metadata": {
    "slideshow": {
     "slide_type": "subslide"
    }
   },
   "source": [
    "## Notebook Exercise:\n",
    "\n",
    "  1. Open a Notebook in Jupyter in a new folder on your computer.\n",
    "  2. Change the Title of the Notebook\n",
    "  3. Make an integer variable and a string variable in the first cell\n",
    "  4. Print the output of multiplying the two variables together\n",
    "  5. Add a markdown cell above the cell you just made, and make a Header title\n",
    "  6. Create an interactive console session with the **%qtconsole** magic."
   ]
  },
  {
   "cell_type": "markdown",
   "metadata": {
    "slideshow": {
     "slide_type": "subslide"
    }
   },
   "source": [
    "## Markdown CheatSheet"
   ]
  },
  {
   "cell_type": "code",
   "execution_count": 15,
   "metadata": {
    "collapsed": false
   },
   "outputs": [
    {
     "data": {
      "text/html": [
       "<iframe src=\"https://github.com/adam-p/markdown-here/wiki/Markdown-Cheatsheet\" width=900 height=500></iframe>"
      ],
      "text/plain": [
       "<IPython.core.display.HTML object>"
      ]
     },
     "execution_count": 15,
     "metadata": {},
     "output_type": "execute_result"
    }
   ],
   "source": [
    "\n",
    "HTML('<iframe src=\"https://github.com/adam-p/markdown-here/wiki/Markdown-Cheatsheet\" width=900 height=500></iframe>')"
   ]
  },
  {
   "cell_type": "markdown",
   "metadata": {
    "slideshow": {
     "slide_type": "slide"
    }
   },
   "source": [
    "# Python Variables and Variable Types"
   ]
  },
  {
   "cell_type": "code",
   "execution_count": 46,
   "metadata": {
    "collapsed": true
   },
   "outputs": [],
   "source": [
    "a_int = 3\n",
    "a_float = 4.4\n",
    "a_bool = True\n",
    "a_str = 'hello'\n",
    "a_list = [1, 2.4, 'goodbye']\n",
    "a_tuple = (4, 3.5, 'dog', 'cat')\n",
    "a_dict = {1: 5, 'a': 2, 'b': 'cat', 'dog': 8}\n",
    "a_set = {1, 1, 2}"
   ]
  },
  {
   "cell_type": "code",
   "execution_count": 50,
   "metadata": {
    "collapsed": false
   },
   "outputs": [
    {
     "data": {
      "text/plain": [
       "str"
      ]
     },
     "execution_count": 50,
     "metadata": {},
     "output_type": "execute_result"
    }
   ],
   "source": [
    "type(a_str)"
   ]
  },
  {
   "cell_type": "markdown",
   "metadata": {
    "slideshow": {
     "slide_type": "subslide"
    }
   },
   "source": [
    "## All **Instances** of **Types** can be formed with a **Constructor**"
   ]
  },
  {
   "cell_type": "code",
   "execution_count": 18,
   "metadata": {
    "collapsed": false
   },
   "outputs": [],
   "source": [
    "b_int = int(3)\n",
    "b_float = float(6.3)\n",
    "b_str = str('hi')\n",
    "b_list = list([1, 2, 3])\n",
    "b_tuple = tuple([1,2,3])\n",
    "\n",
    "c_int = int(b_float)"
   ]
  },
  {
   "cell_type": "code",
   "execution_count": 56,
   "metadata": {
    "collapsed": false
   },
   "outputs": [
    {
     "data": {
      "text/plain": [
       "5"
      ]
     },
     "execution_count": 56,
     "metadata": {},
     "output_type": "execute_result"
    }
   ],
   "source": [
    "s = int('5')\n",
    "s"
   ]
  },
  {
   "cell_type": "markdown",
   "metadata": {
    "slideshow": {
     "slide_type": "subslide"
    }
   },
   "source": [
    "## Operators (ex: +, -, /, * ) Do Different Things to Different Types"
   ]
  },
  {
   "cell_type": "code",
   "execution_count": 19,
   "metadata": {
    "collapsed": false
   },
   "outputs": [
    {
     "data": {
      "text/plain": [
       "8"
      ]
     },
     "execution_count": 19,
     "metadata": {},
     "output_type": "execute_result"
    }
   ],
   "source": [
    "3 + 5"
   ]
  },
  {
   "cell_type": "code",
   "execution_count": 57,
   "metadata": {
    "collapsed": false
   },
   "outputs": [
    {
     "data": {
      "text/plain": [
       "2.692307692307692"
      ]
     },
     "execution_count": 57,
     "metadata": {},
     "output_type": "execute_result"
    }
   ],
   "source": [
    "7 / 2.6"
   ]
  },
  {
   "cell_type": "code",
   "execution_count": 21,
   "metadata": {
    "collapsed": false
   },
   "outputs": [
    {
     "name": "stdout",
     "output_type": "stream",
     "text": [
      "HiHiHiHiHi\n"
     ]
    },
    {
     "data": {
      "text/plain": [
       "['Hi', 'Hi', 'Hi', 'Hi', 'Hi']"
      ]
     },
     "execution_count": 21,
     "metadata": {},
     "output_type": "execute_result"
    }
   ],
   "source": [
    "print('Hi' * 5)\n",
    "['Hi'] * 5"
   ]
  },
  {
   "cell_type": "markdown",
   "metadata": {
    "slideshow": {
     "slide_type": "subslide"
    }
   },
   "source": [
    "# Advanced Features"
   ]
  },
  {
   "cell_type": "markdown",
   "metadata": {
    "slideshow": {
     "slide_type": "fragment"
    }
   },
   "source": [
    "## Tuple Unpacking"
   ]
  },
  {
   "cell_type": "code",
   "execution_count": 61,
   "metadata": {
    "collapsed": false
   },
   "outputs": [
    {
     "data": {
      "text/plain": [
       "(3, 1)"
      ]
     },
     "execution_count": 61,
     "metadata": {},
     "output_type": "execute_result"
    }
   ],
   "source": [
    "a, (b, c) = (1, (3, 5))\n",
    "a, b = b, a\n",
    "a, b"
   ]
  },
  {
   "cell_type": "markdown",
   "metadata": {
    "slideshow": {
     "slide_type": "fragment"
    }
   },
   "source": [
    "## Assignment with Operators"
   ]
  },
  {
   "cell_type": "code",
   "execution_count": 63,
   "metadata": {
    "collapsed": false
   },
   "outputs": [
    {
     "data": {
      "text/plain": [
       "10"
      ]
     },
     "execution_count": 63,
     "metadata": {},
     "output_type": "execute_result"
    }
   ],
   "source": [
    "a = 5\n",
    "a = a + 2\n",
    "a"
   ]
  },
  {
   "cell_type": "markdown",
   "metadata": {
    "slideshow": {
     "slide_type": "subslide"
    }
   },
   "source": [
    "# Bool Rules: 0 and Empty are False, all else are True"
   ]
  },
  {
   "cell_type": "code",
   "execution_count": 24,
   "metadata": {
    "collapsed": false
   },
   "outputs": [
    {
     "data": {
      "text/plain": [
       "True"
      ]
     },
     "execution_count": 24,
     "metadata": {},
     "output_type": "execute_result"
    }
   ],
   "source": [
    "bool(3)\n",
    "bool(-4.2)\n",
    "bool(\"\")\n",
    "bool(['a', 'b', 'c'])"
   ]
  },
  {
   "cell_type": "code",
   "execution_count": 25,
   "metadata": {
    "collapsed": false
   },
   "outputs": [
    {
     "data": {
      "text/plain": [
       "False"
      ]
     },
     "execution_count": 25,
     "metadata": {},
     "output_type": "execute_result"
    }
   ],
   "source": [
    "bool(0)\n",
    "bool(0.0)\n",
    "bool('')\n",
    "bool([])\n"
   ]
  },
  {
   "cell_type": "markdown",
   "metadata": {
    "collapsed": true,
    "slideshow": {
     "slide_type": "slide"
    }
   },
   "source": [
    "# Python is an \"Object-Oriented\" Language\n",
    "\n",
    "  - This means that everything in Python is has functions and data inside of it, viewable using the **dir()** function or pressing Tab in IPython. \n",
    "  - **Note:** Ignore everything beginning with __ (ex: '____add__').  These are \"private\".\n",
    "  \n",
    "## Essential Function: type()"
   ]
  },
  {
   "cell_type": "code",
   "execution_count": 65,
   "metadata": {
    "collapsed": false
   },
   "outputs": [
    {
     "name": "stdout",
     "output_type": "stream",
     "text": [
      "['__add__', '__class__', '__contains__', '__delattr__', '__dir__', '__doc__', '__eq__', '__format__', '__ge__', '__getattribute__', '__getitem__', '__getnewargs__', '__gt__', '__hash__', '__init__', '__iter__', '__le__', '__len__', '__lt__', '__mod__', '__mul__', '__ne__', '__new__', '__reduce__', '__reduce_ex__', '__repr__', '__rmod__', '__rmul__', '__setattr__', '__sizeof__', '__str__', '__subclasshook__', 'capitalize', 'casefold', 'center', 'count', 'encode', 'endswith', 'expandtabs', 'find', 'format', 'format_map', 'index', 'isalnum', 'isalpha', 'isdecimal', 'isdigit', 'isidentifier', 'islower', 'isnumeric', 'isprintable', 'isspace', 'istitle', 'isupper', 'join', 'ljust', 'lower', 'lstrip', 'maketrans', 'partition', 'replace', 'rfind', 'rindex', 'rjust', 'rpartition', 'rsplit', 'rstrip', 'split', 'splitlines', 'startswith', 'strip', 'swapcase', 'title', 'translate', 'upper', 'zfill']\n"
     ]
    }
   ],
   "source": [
    "print(dir('helo'))"
   ]
  },
  {
   "cell_type": "markdown",
   "metadata": {
    "slideshow": {
     "slide_type": "subslide"
    }
   },
   "source": [
    "# Python is a \"Dynamically Typed\" Language\n",
    "\n",
    "  - This means that, unlike in other languages, you can change the type of a variable at any time you wish.\n",
    "  - To check that a variable is a certain type, use the **isinstance()** function or compare types directly"
   ]
  },
  {
   "cell_type": "code",
   "execution_count": 67,
   "metadata": {
    "collapsed": false
   },
   "outputs": [
    {
     "name": "stdout",
     "output_type": "stream",
     "text": [
      "False\n",
      "True\n"
     ]
    }
   ],
   "source": [
    "a = 3\n",
    "print(  isinstance(a, str)   )\n",
    "print(  type('Hello') == str  )"
   ]
  },
  {
   "cell_type": "markdown",
   "metadata": {},
   "source": [
    "## Exercise: Find the Type of variable obtained from dividing an int by a float"
   ]
  },
  {
   "cell_type": "markdown",
   "metadata": {
    "slideshow": {
     "slide_type": "subslide"
    }
   },
   "source": [
    "# More OOP Jargon\n",
    "\n",
    "  - **Class** is the **type** of a variable.\n",
    "  - **Instance** is a **constructed** variable of that class.\n",
    "      - Often, people will call the instance an **object**, although this isn't technically correct.\n",
    "  - **Attribute** or **Property** is data that belongs to an object.\n",
    "      - In Python, this is accessed via the **dot (.)**\n",
    "      - ex) my_float.real\n",
    "  - **Method** is a **Function** that belongs to an object.\n",
    "      - In Python, you **call** functions with the **parentheses**.  \n",
    "      - ex) 'Hello'.upper()\n",
    "      \n",
    "### In Python, Everything is an Object (to be explored)      "
   ]
  },
  {
   "cell_type": "markdown",
   "metadata": {
    "slideshow": {
     "slide_type": "slide"
    }
   },
   "source": [
    "# Read the Documentation!\n",
    "\n",
    "To understand what an object can do and how to use it, you have many possible sources of information:\n",
    "  \n",
    "  1. The Package's Documentation itself.  \n",
    "  2. The **help()** function\n",
    "  3. In IPython, the ?.\n",
    "     - Ex) sorted?\n",
    "  4. In IPython, the Tab button after the dot.\n",
    "  5. The **dir()** function."
   ]
  },
  {
   "cell_type": "markdown",
   "metadata": {
    "slideshow": {
     "slide_type": "subslide"
    }
   },
   "source": [
    "# Essential String Methods"
   ]
  },
  {
   "cell_type": "code",
   "execution_count": 70,
   "metadata": {
    "collapsed": false
   },
   "outputs": [],
   "source": [
    "example_string = 'Mary had a little lamb named Sue.'\n",
    "big_string = example_string.upper()"
   ]
  },
  {
   "cell_type": "code",
   "execution_count": 29,
   "metadata": {
    "collapsed": false
   },
   "outputs": [
    {
     "data": {
      "text/plain": [
       "'MARY HAD A LITTLE LAMB NAMED SUE.'"
      ]
     },
     "execution_count": 29,
     "metadata": {},
     "output_type": "execute_result"
    }
   ],
   "source": [
    "example_string.upper()"
   ]
  },
  {
   "cell_type": "code",
   "execution_count": 78,
   "metadata": {
    "collapsed": false
   },
   "outputs": [
    {
     "data": {
      "text/plain": [
       "-1"
      ]
     },
     "execution_count": 78,
     "metadata": {},
     "output_type": "execute_result"
    }
   ],
   "source": [
    "example_string.find('a', 2, 5)"
   ]
  },
  {
   "cell_type": "markdown",
   "metadata": {
    "slideshow": {
     "slide_type": "subslide"
    }
   },
   "source": [
    "### 5-Min Exercise: Find Out What the following methods do, and how to use them!"
   ]
  },
  {
   "cell_type": "code",
   "execution_count": 87,
   "metadata": {
    "collapsed": false,
    "slideshow": {
     "slide_type": "-"
    }
   },
   "outputs": [
    {
     "name": "stdout",
     "output_type": "stream",
     "text": [
      "Mtry htd t little ltmb ntmed sue.\n",
      "MTry hTd T little lTmb nTmed Sue.\n",
      "['MTry', 'hTd', 'T', 'little', 'lTmb', 'nTmed', 'Sue.']\n"
     ]
    },
    {
     "data": {
      "text/plain": [
       "'a/cat/is'"
      ]
     },
     "execution_count": 87,
     "metadata": {},
     "output_type": "execute_result"
    }
   ],
   "source": [
    "print( example_string.capitalize() )\n",
    "example_string = example_string.replace('a', 'T')\n",
    "print(example_string)\n",
    "example_string.count\n",
    "example_string.isalpha\n",
    "example_string.isdigit\n",
    "example_string.islower\n",
    "print(example_string.split(' '))\n",
    "'/'.join(['a', 'cat', 'is'])"
   ]
  },
  {
   "cell_type": "markdown",
   "metadata": {
    "slideshow": {
     "slide_type": "subslide"
    }
   },
   "source": [
    "# Essential List Methods"
   ]
  },
  {
   "cell_type": "code",
   "execution_count": 91,
   "metadata": {
    "collapsed": false
   },
   "outputs": [
    {
     "name": "stdout",
     "output_type": "stream",
     "text": [
      "None\n"
     ]
    },
    {
     "data": {
      "text/plain": [
       "<function list.count>"
      ]
     },
     "execution_count": 91,
     "metadata": {},
     "output_type": "execute_result"
    }
   ],
   "source": [
    "example_list = ['Python', 'Science', 'Awesome']\n",
    "\n",
    "new_list = example_list.reverse()\n",
    "print(new_list)\n",
    "example_list.append\n",
    "example_list.extend\n",
    "example_list.sort\n",
    "example_list.remove\n",
    "example_list.pop\n",
    "example_list.count\n"
   ]
  },
  {
   "cell_type": "markdown",
   "metadata": {
    "slideshow": {
     "slide_type": "slide"
    }
   },
   "source": [
    "# Homework\n",
    "\n",
    "  1. Finish Codeacademy Tutorial!\n",
    "  2. Get Everything running on your Laptop\n",
    "  \n",
    "Extra Challenge:  http://www.codewars.com\n",
    "\n",
    "This Script can be Downloaded at https://github.com/neuroneuro15/SciPyCourse2016"
   ]
  },
  {
   "cell_type": "markdown",
   "metadata": {
    "slideshow": {
     "slide_type": "slide"
    }
   },
   "source": [
    "# Quick Review"
   ]
  },
  {
   "cell_type": "markdown",
   "metadata": {
    "slideshow": {
     "slide_type": "fragment"
    }
   },
   "source": [
    "  - What are some good reasons to use Python?"
   ]
  },
  {
   "cell_type": "markdown",
   "metadata": {
    "slideshow": {
     "slide_type": "fragment"
    }
   },
   "source": [
    "  - How do you find out what **class** a variable belongs to?"
   ]
  },
  {
   "cell_type": "markdown",
   "metadata": {
    "slideshow": {
     "slide_type": "fragment"
    }
   },
   "source": [
    "  - How do you get more information about an object?"
   ]
  },
  {
   "cell_type": "markdown",
   "metadata": {
    "slideshow": {
     "slide_type": "slide"
    }
   },
   "source": [
    "# Extra Exploration: \"Everything is an Object\""
   ]
  },
  {
   "cell_type": "code",
   "execution_count": 33,
   "metadata": {
    "collapsed": false
   },
   "outputs": [
    {
     "data": {
      "text/plain": [
       "module"
      ]
     },
     "execution_count": 33,
     "metadata": {},
     "output_type": "execute_result"
    }
   ],
   "source": [
    "import math\n",
    "type(math)"
   ]
  },
  {
   "cell_type": "code",
   "execution_count": 34,
   "metadata": {
    "collapsed": false
   },
   "outputs": [
    {
     "data": {
      "text/plain": [
       "int"
      ]
     },
     "execution_count": 34,
     "metadata": {},
     "output_type": "execute_result"
    }
   ],
   "source": [
    "a = 3\n",
    "type(3)"
   ]
  },
  {
   "cell_type": "code",
   "execution_count": 35,
   "metadata": {
    "collapsed": false
   },
   "outputs": [
    {
     "data": {
      "text/plain": [
       "builtin_function_or_method"
      ]
     },
     "execution_count": 35,
     "metadata": {},
     "output_type": "execute_result"
    }
   ],
   "source": [
    "type(max)"
   ]
  },
  {
   "cell_type": "code",
   "execution_count": 36,
   "metadata": {
    "collapsed": false
   },
   "outputs": [
    {
     "data": {
      "text/plain": [
       "type"
      ]
     },
     "execution_count": 36,
     "metadata": {},
     "output_type": "execute_result"
    }
   ],
   "source": [
    "type(int)"
   ]
  },
  {
   "cell_type": "code",
   "execution_count": 37,
   "metadata": {
    "collapsed": false
   },
   "outputs": [
    {
     "data": {
      "text/plain": [
       "type"
      ]
     },
     "execution_count": 37,
     "metadata": {},
     "output_type": "execute_result"
    }
   ],
   "source": [
    "type(type)"
   ]
  },
  {
   "cell_type": "markdown",
   "metadata": {
    "slideshow": {
     "slide_type": "skip"
    }
   },
   "source": [
    "# if - elif - else Statements\n",
    " - **>**: \"is greater than\",   **<**: \"is less than\",  \n",
    " - **==**: \"is equal to,  **!=**: \"is *not* equal to\"\n"
   ]
  },
  {
   "cell_type": "code",
   "execution_count": 38,
   "metadata": {
    "collapsed": true,
    "slideshow": {
     "slide_type": "skip"
    }
   },
   "outputs": [],
   "source": [
    "a = 3\n",
    "b = 10"
   ]
  },
  {
   "cell_type": "code",
   "execution_count": 39,
   "metadata": {
    "collapsed": false,
    "slideshow": {
     "slide_type": "skip"
    }
   },
   "outputs": [
    {
     "name": "stdout",
     "output_type": "stream",
     "text": [
      "False\n"
     ]
    }
   ],
   "source": [
    "if a > b:\n",
    "    print('True')\n",
    "else:\n",
    "    print('False')"
   ]
  },
  {
   "cell_type": "markdown",
   "metadata": {
    "slideshow": {
     "slide_type": "skip"
    }
   },
   "source": [
    "## Aside: Python and \"Meaningful Whitespace\"\n",
    "  - Mixing spaces and tabs will result in errors!\n",
    "  - Same number of spaces on every line!\n",
    "  - Rule: If there's a colon, you must indent\n"
   ]
  },
  {
   "cell_type": "code",
   "execution_count": null,
   "metadata": {
    "collapsed": true,
    "slideshow": {
     "slide_type": "skip"
    }
   },
   "outputs": [],
   "source": []
  }
 ],
 "metadata": {
  "celltoolbar": "Slideshow",
  "kernelspec": {
   "display_name": "Python 3",
   "language": "python",
   "name": "python3"
  },
  "language_info": {
   "codemirror_mode": {
    "name": "ipython",
    "version": 3
   },
   "file_extension": ".py",
   "mimetype": "text/x-python",
   "name": "python",
   "nbconvert_exporter": "python",
   "pygments_lexer": "ipython3",
   "version": "3.4.3"
  }
 },
 "nbformat": 4,
 "nbformat_minor": 0
}
