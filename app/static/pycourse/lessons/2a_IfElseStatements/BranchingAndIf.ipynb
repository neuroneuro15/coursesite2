{
 "cells": [
  {
   "cell_type": "markdown",
   "metadata": {
    "slideshow": {
     "slide_type": "slide"
    }
   },
   "source": [
    "# Introduction to Scientific Programming in Python\n",
    "\n",
    "## Conditional Branching and If-Else Statements"
   ]
  },
  {
   "cell_type": "markdown",
   "metadata": {
    "slideshow": {
     "slide_type": "subslide"
    }
   },
   "source": [
    "## This Lecture's Learning Goals:\n",
    "\n",
    "  - What is the pattern for Python's **\"Meaningful Whitespace,\"** and Why does it exist?\n",
    "  - How do **if-else statements** work in Python?\n",
    "  - How do you perform **conditional variable assignment** in Python?\n",
    "  - How do you **Index** and **Slice** collections in Python?\n",
    "  - How can you **copy** lists and dicts?\n",
    "  - How do you perform **C-Style For Loops** in Python?\n",
    "  - How do you use **List Comprehensions** to **filter** lists?"
   ]
  },
  {
   "cell_type": "markdown",
   "metadata": {
    "slideshow": {
     "slide_type": "slide"
    }
   },
   "source": [
    "# Aside: Python and \"Meaningful Whitespace\"\n",
    "\n",
    "Python uses **indentation** and the **colon** to determine what statements belong inside one another.  Why?  \n",
    "  - It's easier to read, \n",
    "  - it promotes good coding style\n",
    "\n",
    "**Gotcha**: Be very careful about using the Tab button, though!  Make sure your editor is using spaces (convention is 4 spaces) whenever you press the tab key, or you'll eventially run into some difficult-to-troubleshoot errors.\n",
    "\n",
    "For a discussion on meaningful whitespace: http://www.secnetix.de/olli/Python/block_indentation.hawk\n",
    " "
   ]
  },
  {
   "cell_type": "markdown",
   "metadata": {
    "slideshow": {
     "slide_type": "subslide"
    }
   },
   "source": [
    "## Example of Meaningful Whitespace\n",
    "Can you tell which lines go together?"
   ]
  },
  {
   "cell_type": "code",
   "execution_count": 2,
   "metadata": {
    "collapsed": false
   },
   "outputs": [
    {
     "name": "stdout",
     "output_type": "stream",
     "text": [
      "goodbye\n",
      "finished\n"
     ]
    }
   ],
   "source": [
    "if 3 > 5:\n",
    "    print('hello')\n",
    "    print('there')\n",
    "else:\n",
    "    print('goodbye')\n",
    "print('finished')"
   ]
  },
  {
   "cell_type": "markdown",
   "metadata": {
    "slideshow": {
     "slide_type": "slide"
    }
   },
   "source": [
    "# Programmatic Control Flow: the If-elif-else statements\n",
    "When you want your program to do one thing **if** something is **True**, and something **else** **if** some other condition is **True**, or **else** do some final thing if all those conditions before were **False**..."
   ]
  },
  {
   "cell_type": "markdown",
   "metadata": {
    "slideshow": {
     "slide_type": "subslide"
    }
   },
   "source": [
    "# Comparison Always Comes down to True vs False\n",
    "\n",
    "## Comparison Operators: <, >, ==, !=, and, or"
   ]
  },
  {
   "cell_type": "code",
   "execution_count": 2,
   "metadata": {
    "collapsed": false
   },
   "outputs": [
    {
     "data": {
      "text/plain": [
       "True"
      ]
     },
     "execution_count": 2,
     "metadata": {},
     "output_type": "execute_result"
    }
   ],
   "source": [
    "a, b, c = -2, 0, 2 \n",
    "a < b \n",
    "a <= b  \n",
    "a != b  \n",
    "a < b and b < c \n",
    "b < a or b < c \n",
    "a < b < c\n",
    "# b == b < c\n",
    "# b == (b < c)"
   ]
  },
  {
   "cell_type": "markdown",
   "metadata": {
    "slideshow": {
     "slide_type": "subslide"
    }
   },
   "source": [
    "## To Be Safe, You Can Use Parentheses ( ) when performing multiple comparisons"
   ]
  },
  {
   "cell_type": "code",
   "execution_count": 75,
   "metadata": {
    "collapsed": false
   },
   "outputs": [
    {
     "data": {
      "text/plain": [
       "True"
      ]
     },
     "execution_count": 75,
     "metadata": {},
     "output_type": "execute_result"
    }
   ],
   "source": [
    "(a < b) or (b < c)"
   ]
  },
  {
   "cell_type": "markdown",
   "metadata": {},
   "source": [
    "But make sure both sides are comparisons!"
   ]
  },
  {
   "cell_type": "code",
   "execution_count": 104,
   "metadata": {
    "collapsed": false
   },
   "outputs": [
    {
     "data": {
      "text/plain": [
       "-2"
      ]
     },
     "execution_count": 104,
     "metadata": {},
     "output_type": "execute_result"
    }
   ],
   "source": [
    "a or b < c"
   ]
  },
  {
   "cell_type": "markdown",
   "metadata": {
    "slideshow": {
     "slide_type": "subslide"
    }
   },
   "source": [
    "## Conditional Assignment: Single-line \"if\" statements\n",
    "You can choose to assign one value to a variable if a condition is True, and another value if it is False!"
   ]
  },
  {
   "cell_type": "code",
   "execution_count": 1,
   "metadata": {
    "collapsed": false
   },
   "outputs": [
    {
     "data": {
      "text/plain": [
       "'Experimental'"
      ]
     },
     "execution_count": 1,
     "metadata": {},
     "output_type": "execute_result"
    }
   ],
   "source": [
    "subject_code = 20\n",
    "cond = \"Experimental\" if subject_code < 30 else \"Control\"\n",
    "cond"
   ]
  },
  {
   "cell_type": "markdown",
   "metadata": {
    "slideshow": {
     "slide_type": "subslide"
    }
   },
   "source": [
    "## Multi-line If-else Statements"
   ]
  },
  {
   "cell_type": "code",
   "execution_count": 2,
   "metadata": {
    "collapsed": false
   },
   "outputs": [
    {
     "name": "stdout",
     "output_type": "stream",
     "text": [
      "The second statement was True\n"
     ]
    }
   ],
   "source": [
    "a, b, c, a_string, a_bool = -2, 0, 2, 'hello', True\n",
    "\n",
    "if a > b:\n",
    "    print('The first statement was True!')\n",
    "elif c > a:\n",
    "    print('The second statement was True')\n",
    "else:\n",
    "    print('Nothing was True')\n"
   ]
  },
  {
   "cell_type": "markdown",
   "metadata": {
    "slideshow": {
     "slide_type": "subslide"
    }
   },
   "source": [
    "## Special Operator for collections: \"in\""
   ]
  },
  {
   "cell_type": "code",
   "execution_count": 6,
   "metadata": {
    "collapsed": false
   },
   "outputs": [
    {
     "data": {
      "text/plain": [
       "True"
      ]
     },
     "execution_count": 6,
     "metadata": {},
     "output_type": "execute_result"
    }
   ],
   "source": [
    "animals = ['dog', 'cat', 'mouse', 'rat', 'bat']\n",
    "'bat' in animals\n",
    "['bat'] in animals\n",
    "'o' in 'mouse'\n",
    "situation = 'Science' if 'rat' in animals else 'Pet'\n",
    "# situation"
   ]
  },
  {
   "cell_type": "markdown",
   "metadata": {
    "slideshow": {
     "slide_type": "slide"
    }
   },
   "source": [
    "## This Lecture's Learning Goals:\n",
    "\n",
    "  - What is the pattern for Python's **\"Meaningful Whitespace,\"** and Why does it exist?\n",
    "  - How do **if-else statements** work in Python?\n",
    "  - How do you perform **conditional variable assignment** in Python?\n",
    "  - How do you **Index** and **Slice** collections in Python?\n",
    "  - What are **Iterators**?  How do you iterate in Python?\n",
    "  - How do you perform **C-Style For Loops** in Python?\n",
    "  - How do you use **List Comprehensions** to **filter** lists?"
   ]
  },
  {
   "cell_type": "markdown",
   "metadata": {
    "slideshow": {
     "slide_type": "slide"
    }
   },
   "source": [
    "# Questions / Discussion"
   ]
  },
  {
   "cell_type": "code",
   "execution_count": null,
   "metadata": {
    "collapsed": true
   },
   "outputs": [],
   "source": []
  }
 ],
 "metadata": {
  "celltoolbar": "Slideshow",
  "kernelspec": {
   "display_name": "Python 3",
   "language": "python",
   "name": "python3"
  },
  "language_info": {
   "codemirror_mode": {
    "name": "ipython",
    "version": 3
   },
   "file_extension": ".py",
   "mimetype": "text/x-python",
   "name": "python",
   "nbconvert_exporter": "python",
   "pygments_lexer": "ipython3",
   "version": "3.5.1"
  }
 },
 "nbformat": 4,
 "nbformat_minor": 0
}
