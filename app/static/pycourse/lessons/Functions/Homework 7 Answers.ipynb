{
 "cells": [
  {
   "cell_type": "markdown",
   "metadata": {},
   "source": [
    "# Homework 7: Demonstrate Central Tendency and the Normal Distribution\n",
    "\n",
    "Useful Packages:\n",
    "  - numpy\n",
    "    - numpy.random\n",
    "  - ipywidgets\n",
    "    - ipywidgets.interact\n",
    "  - matplotlib"
   ]
  },
  {
   "cell_type": "markdown",
   "metadata": {},
   "source": [
    "## 1) Write a function that returns N random values taken from a uniform distribution of values between 0 and 1.\n",
    "```python\n",
    "def uniform_gen(N):\n",
    "   \"\"\"returns N random values\"\"\"\n",
    "\n",
    "uniform_gen(N=5)\n",
    ">> [.4, .9, .1, .2, .4]\n",
    "```"
   ]
  },
  {
   "cell_type": "code",
   "execution_count": 38,
   "metadata": {
    "collapsed": true
   },
   "outputs": [],
   "source": [
    "import numpy as np\n",
    "from numpy import random\n",
    "import matplotlib.pyplot as plt\n",
    "import ipywidgets as widg\n",
    "from ipywidgets import interact\n",
    "\n",
    "%matplotlib inline"
   ]
  },
  {
   "cell_type": "code",
   "execution_count": 13,
   "metadata": {
    "collapsed": true
   },
   "outputs": [],
   "source": [
    "def uniform_gen(N):\n",
    "    return random.uniform(low=0.0, high=1.0, size=N)"
   ]
  },
  {
   "cell_type": "markdown",
   "metadata": {},
   "source": [
    "### 1b) Demonstrate the function's working by plotting its output in a histogram."
   ]
  },
  {
   "cell_type": "code",
   "execution_count": 20,
   "metadata": {
    "collapsed": false
   },
   "outputs": [
    {
     "data": {
      "image/png": "[encoded data removed]",
      "text/plain": [
       "<matplotlib.figure.Figure at 0x7ff3f9861748>"
      ]
     },
     "metadata": {},
     "output_type": "display_data"
    }
   ],
   "source": [
    "_ = plt.hist(uniform_gen(300))"
   ]
  },
  {
   "cell_type": "markdown",
   "metadata": {},
   "source": [
    "### 1c) Make the plot interactive, allowing a user to move a slider widget to change the value of N"
   ]
  },
  {
   "cell_type": "code",
   "execution_count": 24,
   "metadata": {
    "collapsed": false
   },
   "outputs": [
    {
     "data": {
      "image/png": "[encoded data removed]",
      "text/plain": [
       "<matplotlib.figure.Figure at 0x7ff3f95ed3c8>"
      ]
     },
     "metadata": {},
     "output_type": "display_data"
    }
   ],
   "source": [
    "def uniform_plot(N):\n",
    "    plt.hist(uniform_gen(N), bins=7)\n",
    "    \n",
    "interact(uniform_plot, N=300)"
   ]
  },
  {
   "cell_type": "markdown",
   "metadata": {},
   "source": [
    "## 2) Write a function that takes an array of data and returns M random values from that array.\n",
    "```python\n",
    "def random_choice(data, M):\n",
    "    \"\"\"returns M random values from 'data'\"\"\"\n",
    "    \n",
    "random_choice(data=[.4, .9, .1, .2, .4], M=3)\n",
    ">> [.9, .1, .2]\n",
    "```"
   ]
  },
  {
   "cell_type": "code",
   "execution_count": 28,
   "metadata": {
    "collapsed": true
   },
   "outputs": [],
   "source": [
    "def random_choice(data, M):\n",
    "    return random.choice(data, M)"
   ]
  },
  {
   "cell_type": "markdown",
   "metadata": {},
   "source": [
    "## 3) Write a function that calls a given function P times and returns the mean of the function's output.\n",
    "\n",
    "```python\n",
    "def function_means(fun, P, *args, **kwargs):\n",
    "   \"\"\"calls fun(*args, **kwargs) P times, returning a list of means of fun's output.\"\"\"\n",
    "   \n",
    "function_means(fun=random_choice, P=7, data=[.4, .9, .1, .2, .4], M=3)\n",
    ">> [.43, .32, .71, .66, .54, .33, .59]\n",
    "```"
   ]
  },
  {
   "cell_type": "code",
   "execution_count": 29,
   "metadata": {
    "collapsed": true
   },
   "outputs": [],
   "source": [
    "def function_means(fun, P, *args, **kwargs):\n",
    "    return [np.mean(fun(*args, **kwargs)) for el in range(P)]"
   ]
  },
  {
   "cell_type": "markdown",
   "metadata": {},
   "source": [
    "## 4) Write the Mega-Function, which takes P means from random-choice samples of M length from N uniformly-generated random values.\n",
    "\n",
    "```python\n",
    "def means_from_uniform_data(N, M, P):\n",
    "   \"\"\"\n",
    "   returns a list of means of length P, obtained by getting \n",
    "   random subsets of length M from a randomly-generated sample of length N\n",
    "   \"\"\"\n",
    "   \n",
    "means_from_uniform_data(N=100, M=20, P=5)\n",
    ">> [.45, .72, .55, .46, .69]\n",
    "```\n"
   ]
  },
  {
   "cell_type": "code",
   "execution_count": 30,
   "metadata": {
    "collapsed": true
   },
   "outputs": [],
   "source": [
    "def means_from_uniform_data(N, M, P):\n",
    "    return function_means(random_choice, P=P, data=uniform_gen(N), M=M)"
   ]
  },
  {
   "cell_type": "markdown",
   "metadata": {},
   "source": [
    "### 4b) Plot a histogram of results from mean_from_uniform_data() when N=200, M=20, and P=2000.\n",
    "Note: The resulting histogram should have a gaussian distribution."
   ]
  },
  {
   "cell_type": "code",
   "execution_count": 35,
   "metadata": {
    "collapsed": false
   },
   "outputs": [
    {
     "data": {
      "text/plain": [
       "(array([   5.,   32.,  104.,  276.,  416.,  565.,  394.,  163.,   37.,    8.]),\n",
       " array([ 0.26590526,  0.30938469,  0.35286412,  0.39634355,  0.43982298,\n",
       "         0.48330241,  0.52678184,  0.57026127,  0.6137407 ,  0.65722013,\n",
       "         0.70069956]),\n",
       " <a list of 10 Patch objects>)"
      ]
     },
     "execution_count": 35,
     "metadata": {},
     "output_type": "execute_result"
    },
    {
     "data": {
      "image/png": "[encoded data removed]",
      "text/plain": [
       "<matplotlib.figure.Figure at 0x7ff3f9828550>"
      ]
     },
     "metadata": {},
     "output_type": "display_data"
    }
   ],
   "source": [
    "plt.hist(means_from_uniform_data(N=500, M=20, P=2000))"
   ]
  },
  {
   "cell_type": "markdown",
   "metadata": {},
   "source": [
    "## 5) Make the Plot from 4b interactive, allowing the user to change N, M, and P"
   ]
  },
  {
   "cell_type": "code",
   "execution_count": 48,
   "metadata": {
    "collapsed": false
   },
   "outputs": [
    {
     "data": {
      "image/png": "[encoded data removed]",
      "text/plain": [
       "<matplotlib.figure.Figure at 0x7ff3f94bd080>"
      ]
     },
     "metadata": {},
     "output_type": "display_data"
    }
   ],
   "source": [
    "def plot_means(N=500, M=20, P=2000):\n",
    "    plt.hist(means_from_uniform_data(N=N, M=M, P=P))\n",
    "    \n",
    "interact(plot_means, \n",
    "         N=widg.IntSlider(value=10, min=7, max=1000),\n",
    "         M=widg.IntSlider(value=10, min=7, max=1000),\n",
    "         P=widg.IntSlider(value=10, min=7, max=1000),\n",
    "        )    "
   ]
  }
 ],
 "metadata": {
  "kernelspec": {
   "display_name": "Python 3",
   "language": "python",
   "name": "python3"
  },
  "language_info": {
   "codemirror_mode": {
    "name": "ipython",
    "version": 3
   },
   "file_extension": ".py",
   "mimetype": "text/x-python",
   "name": "python",
   "nbconvert_exporter": "python",
   "pygments_lexer": "ipython3",
   "version": "3.4.3"
  }
 },
 "nbformat": 4,
 "nbformat_minor": 0
}
