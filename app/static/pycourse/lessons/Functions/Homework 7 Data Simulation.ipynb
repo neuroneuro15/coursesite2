{
 "cells": [
  {
   "cell_type": "markdown",
   "metadata": {},
   "source": [
    "# Homework 7: Demonstrate Central Tendency and the Normal Distribution\n",
    "\n",
    "Useful Packages:\n",
    "  - numpy\n",
    "    - numpy.random\n",
    "  - ipywidgets\n",
    "    - ipywidgets.interact\n",
    "  - matplotlib"
   ]
  },
  {
   "cell_type": "markdown",
   "metadata": {},
   "source": [
    "## 1) Write a function that returns N random values taken from a uniform distribution of values between 0 and 1.\n",
    "```python\n",
    "def uniform_gen(N):\n",
    "   \"\"\"returns N random values\"\"\"\n",
    "\n",
    "uniform_gen(N=5)\n",
    ">> [.4, .9, .1, .2, .4]\n",
    "```"
   ]
  },
  {
   "cell_type": "code",
   "execution_count": null,
   "metadata": {
    "collapsed": true
   },
   "outputs": [],
   "source": []
  },
  {
   "cell_type": "markdown",
   "metadata": {},
   "source": [
    "### 1b) Demonstrate the function's working by plotting its output in a histogram."
   ]
  },
  {
   "cell_type": "code",
   "execution_count": null,
   "metadata": {
    "collapsed": false
   },
   "outputs": [],
   "source": []
  },
  {
   "cell_type": "markdown",
   "metadata": {},
   "source": [
    "### 1c) Make the plot interactive, allowing a user to move a slider widget to change the value of N"
   ]
  },
  {
   "cell_type": "code",
   "execution_count": null,
   "metadata": {
    "collapsed": false
   },
   "outputs": [],
   "source": []
  },
  {
   "cell_type": "markdown",
   "metadata": {},
   "source": [
    "## 2) Write a function that takes an array of data and returns M random values from that array.\n",
    "```python\n",
    "def random_choice(data, M):\n",
    "    \"\"\"returns M random values from 'data'\"\"\"\n",
    "    \n",
    "random_choice(data=[.4, .9, .1, .2, .4], M=3)\n",
    ">> [.9, .1, .2]\n",
    "```"
   ]
  },
  {
   "cell_type": "code",
   "execution_count": null,
   "metadata": {
    "collapsed": true
   },
   "outputs": [],
   "source": []
  },
  {
   "cell_type": "markdown",
   "metadata": {},
   "source": [
    "## 3) Write a function that calls a given function P times and returns the mean of the function's output.\n",
    "\n",
    "```python\n",
    "def function_means(fun, P, *args, **kwargs):\n",
    "   \"\"\"calls fun(*args, **kwargs) P times, returning a list of means of fun's output.\"\"\"\n",
    "   \n",
    "function_means(fun=random_choice, P=7, data=[.4, .9, .1, .2, .4], M=3)\n",
    ">> [.43, .32, .71, .66, .54, .33, .59]\n",
    "```"
   ]
  },
  {
   "cell_type": "code",
   "execution_count": null,
   "metadata": {
    "collapsed": true
   },
   "outputs": [],
   "source": []
  },
  {
   "cell_type": "markdown",
   "metadata": {},
   "source": [
    "## 4) Write the Mega-Function, which takes P means from random-choice samples of M length from N uniformly-generated random values.\n",
    "\n",
    "```python\n",
    "def means_from_uniform_data(N, M, P):\n",
    "   \"\"\"\n",
    "   returns a list of means of length P, obtained by getting \n",
    "   random subsets of length M from a randomly-generated sample of length N\n",
    "   \"\"\"\n",
    "   \n",
    "means_from_uniform_data(N=100, M=20, P=5)\n",
    ">> [.45, .72, .55, .46, .69]\n",
    "```\n"
   ]
  },
  {
   "cell_type": "code",
   "execution_count": null,
   "metadata": {
    "collapsed": true
   },
   "outputs": [],
   "source": []
  },
  {
   "cell_type": "markdown",
   "metadata": {},
   "source": [
    "### 4b) Plot a histogram of results from mean_from_uniform_data() when N=200, M=20, and P=2000.\n",
    "Note: The resulting histogram should have a gaussian distribution."
   ]
  },
  {
   "cell_type": "code",
   "execution_count": null,
   "metadata": {
    "collapsed": false
   },
   "outputs": [],
   "source": []
  },
  {
   "cell_type": "markdown",
   "metadata": {},
   "source": [
    "## 5) Make the Plot from 4b interactive, allowing the user to change N, M, and P\n",
    "Which variable is the most effective at getting a nice gaussian distribution from the uniform one?"
   ]
  },
  {
   "cell_type": "code",
   "execution_count": null,
   "metadata": {
    "collapsed": false
   },
   "outputs": [],
   "source": []
  }
 ],
 "metadata": {
  "kernelspec": {
   "display_name": "Python 3",
   "language": "python",
   "name": "python3"
  },
  "language_info": {
   "codemirror_mode": {
    "name": "ipython",
    "version": 3
   },
   "file_extension": ".py",
   "mimetype": "text/x-python",
   "name": "python",
   "nbconvert_exporter": "python",
   "pygments_lexer": "ipython3",
   "version": "3.4.3"
  }
 },
 "nbformat": 4,
 "nbformat_minor": 0
}
