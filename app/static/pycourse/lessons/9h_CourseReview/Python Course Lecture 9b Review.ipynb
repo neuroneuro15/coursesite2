{
 "cells": [
  {
   "cell_type": "code",
   "execution_count": 2,
   "metadata": {
    "collapsed": false,
    "slideshow": {
     "slide_type": "skip"
    }
   },
   "outputs": [],
   "source": [
    "import numpy as np\n",
    "import pandas as pd\n",
    "import matplotlib\n",
    "import matplotlib.pyplot as plt\n",
    "%matplotlib inline\n",
    "matplotlib.style.use('ggplot')"
   ]
  },
  {
   "cell_type": "markdown",
   "metadata": {
    "slideshow": {
     "slide_type": "slide"
    }
   },
   "source": [
    "# Introduction to Scientific Programming in Python\n",
    "\n",
    "## Lecture 9b Review and Discussion"
   ]
  },
  {
   "cell_type": "markdown",
   "metadata": {
    "slideshow": {
     "slide_type": "slide"
    }
   },
   "source": [
    "# Review of Topics Covered\n",
    "After 13 Hours of Lecture Time and 7 Homework Assignments, What did we learn?"
   ]
  },
  {
   "cell_type": "markdown",
   "metadata": {
    "slideshow": {
     "slide_type": "subslide"
    }
   },
   "source": [
    "## Core Python\n",
    "  - What is Python?\n",
    "  - Built-In Types and Their Methods: int, float, str, bool, tuple, list, dict, set\n",
    "  - Iteration, Loops (For and While), and Branching (if-else)\n",
    "  - Operators: Math (+, -, /, \\*) and Logical (==, !=, >, <, and, or, &, |)\n",
    "  - Mutability and Python's ID storage model\n",
    "  - Ordered vs Labeled Collections\n",
    "  - List Comprehensions and Conditional Assignment\n",
    "  - Importing Packages and Modules\n",
    "  - Function Creation and Functional Programming\n",
    "  - Setting Files and Directories\n",
    "  - Errors and Debugging"
   ]
  },
  {
   "cell_type": "markdown",
   "metadata": {
    "slideshow": {
     "slide_type": "subslide"
    }
   },
   "source": [
    "## Scientific Python Stack\n",
    "  - NumPy Arrays and Matrices\n",
    "  - NumPy Math Functions\n",
    "  - Pandas DataFrames and Tabular Data\n",
    "  - Plotting in Matplotlib and Pandas\n",
    "  - Scipy.stats, .signal, .io, .ndimage, and scikit-image\n",
    "  - Indexing, Slicing, and Masking Operations\n",
    "  - Split-Apply-Combine and Join/Merge Operations\n",
    "  - Data File Formats and Relational Databases\n",
    "  - IPython, Jupyter Notebook, and Interactive Widgets"
   ]
  },
  {
   "cell_type": "markdown",
   "metadata": {
    "slideshow": {
     "slide_type": "subslide"
    }
   },
   "source": [
    "## Course Goals--Have We Met Them? (1)\n",
    "  - be familiar with core programming concepts and approaches to solving problems.\n",
    "    - Can you select a good data type to hold your data in?\n",
    "    - Do you understand what a function is? What an object is?\n",
    "    - Can you picture in your head the steps you need to do to get from loading data to making a plot?\n",
    "    - Can you use loops and make functions to reduce the amount of redundant code?"
   ]
  },
  {
   "cell_type": "markdown",
   "metadata": {
    "slideshow": {
     "slide_type": "subslide"
    }
   },
   "source": [
    "## Course Goals--Have We Met Them?  (2)\n",
    "  - be familiar with the core tools in python for performing scientific analysis.\n",
    "    - Can you start Python on your computer?\n",
    "    - Can you create scripts or notebooks to save your code?\n",
    "    - Can you import NumPy, Pandas, Matplotlib? Do you understand what they are for?\n",
    "    - Can you load your data?\n",
    "    - Do you know where to look for analysis functions to analyze your data?\n",
    "    - Can you plot your results?"
   ]
  },
  {
   "cell_type": "markdown",
   "metadata": {
    "slideshow": {
     "slide_type": "subslide"
    }
   },
   "source": [
    "## Course Goals--Have We Met Them?  (3)\n",
    "  - be comfortable discovering and using new python packages beyond the core tools.\n",
    "    - Do you know how to find and read documentation?\n",
    "    - Do you know how to install new packages? \n",
    "    - Can you import packages and get functions inside the packages?\n",
    "    - Do you understand the following Python patterns:\n",
    "      - Object Construction from a Class\n",
    "      - Iteration\n",
    "      - Apply(fun)\n",
    "      \n",
    "       "
   ]
  },
  {
   "cell_type": "markdown",
   "metadata": {
    "slideshow": {
     "slide_type": "subslide"
    }
   },
   "source": [
    "## Programming Tasks for Scientists: What Did We Cover?\n",
    "  - (Data Collection)\n",
    "  - **Data Management**\n",
    "  - **Data Munging**\n",
    "  - Signal Processing\n",
    "  - **Data Visualization**\n",
    "  - Statistical Analysis"
   ]
  },
  {
   "cell_type": "markdown",
   "metadata": {
    "slideshow": {
     "slide_type": "slide"
    }
   },
   "source": [
    "# Class Discussion and Evaluation\n",
    "  - Course Format\n",
    "  - Course Length\n",
    "  - Homework / Final Project\n",
    "  - Topics for Intermediate-Level Course  "
   ]
  },
  {
   "cell_type": "markdown",
   "metadata": {
    "slideshow": {
     "slide_type": "subslide"
    }
   },
   "source": [
    "## Discussion: Course Format (90-min lectures in Jupyter)\n",
    "  - What were the pros and cons of this format?\n",
    "  - Were the Jupyter Notebook Slides helpful?\n",
    "  - Would a more interactive session (less content, but more time spend on small problems in-class) be more effective?\n",
    "  - Pros/Cons of Jupyter Notebook?"
   ]
  },
  {
   "cell_type": "markdown",
   "metadata": {
    "slideshow": {
     "slide_type": "subslide"
    }
   },
   "source": [
    "## Discussion Questions: Course Length\n",
    "  - How did missing a course affect your ability to enjoy and keep up with the course?\n",
    "  - Would shorter courses (4-5 weeks) or workshops (2-3 Full Days) be an improvement here?"
   ]
  },
  {
   "cell_type": "code",
   "execution_count": 22,
   "metadata": {
    "collapsed": false,
    "slideshow": {
     "slide_type": "skip"
    }
   },
   "outputs": [
    {
     "data": {
      "text/plain": [
       "<matplotlib.text.Text at 0x7f1e8bb1c160>"
      ]
     },
     "execution_count": 22,
     "metadata": {},
     "output_type": "execute_result"
    },
    {
     "data": {
      "image/png": "[encoded data removed]",
      "text/plain": [
       "<matplotlib.figure.Figure at 0x7f1e8bbd3518>"
      ]
     },
     "metadata": {},
     "output_type": "display_data"
    }
   ],
   "source": [
    "attendance_fig, ax = plt.subplots(ncols=2)\n",
    "\n",
    "class_attendence = [20, 17, 10, 13, 10, 10, 10, 9]; \n",
    "ax[0].plot(class_attendence); \n",
    "ax[0].set_ylim(0, 21); \n",
    "ax[0].set_xlabel('Lecture Num')\n",
    "ax[0].set_ylabel('N Attended') \n",
    "ax[0].set_title('Attendence in Each Class')\n",
    "\n",
    "perc_attended = [1, 1, 3, 6, 3, 8, 8, 4, 6, 3, 6, 4, 8, 1, 5, 8, 4, 7, 6, 8, 1]\n",
    "ax[1].hist(perc_attended, bins=4)\n",
    "ax[1].set_xlabel('N Lectures Attended')\n",
    "ax[1].set_ylabel('Freq')\n",
    "ax[1].set_title('N Lectures Attended\\nby Each Student')"
   ]
  },
  {
   "cell_type": "code",
   "execution_count": 21,
   "metadata": {
    "collapsed": false
   },
   "outputs": [
    {
     "data": {
      "image/png": "[encoded data removed]",
      "text/plain": [
       "<matplotlib.figure.Figure at 0x7f1e8bc1eeb8>"
      ]
     },
     "execution_count": 21,
     "metadata": {},
     "output_type": "execute_result"
    }
   ],
   "source": [
    "attendance_fig"
   ]
  },
  {
   "cell_type": "markdown",
   "metadata": {
    "slideshow": {
     "slide_type": "subslide"
    }
   },
   "source": [
    "## Discussion Questions: Homework\n",
    "  - Number of Homework Assignments: 7\n",
    "  - Was the homework valuable to you?  Which assignments helped the most?\n",
    "  - Did not completing the homework make the next lecture(s) more challenging, or did you not notice an effect?\n",
    "  - How much time did the homework assignments usually take to complete?\n",
    "  - How challenging was the homework?  Were the tutoring sessions useful to you?\n",
    "  - Was the Final Project useful to you?"
   ]
  },
  {
   "cell_type": "markdown",
   "metadata": {
    "slideshow": {
     "slide_type": "subslide"
    }
   },
   "source": [
    "## Discussion Questions: Intermediate Course Topics\n",
    "  - Object-Oriented Programming\n",
    "  - Version Control with Git \n",
    "  - Unit Testing\n",
    "  - Statistical Model Fitting with statsmodels\n",
    "  - Machine Learning with scikit-learn\n",
    "  - Workflow Automation with doit\n",
    "  - Intermediate Python Features (decorators, context managers)\n",
    "  - Parallel Processing and Cluster Computing\n",
    "  - Creating Packages and Sharing your Code \n",
    "  - Data Security and Scientific Data Management Laws in Germany"
   ]
  },
  {
   "cell_type": "markdown",
   "metadata": {
    "slideshow": {
     "slide_type": "slide"
    }
   },
   "source": [
    "# Thank You for Your Participation!\n",
    "I very much enjoyed teaching this class, and I look forward to improving the course and teaching it again!\n",
    "\n",
    "## Happy Programming, Pythonistas!"
   ]
  }
 ],
 "metadata": {
  "celltoolbar": "Slideshow",
  "kernelspec": {
   "display_name": "Python 3",
   "language": "python",
   "name": "python3"
  },
  "language_info": {
   "codemirror_mode": {
    "name": "ipython",
    "version": 3
   },
   "file_extension": ".py",
   "mimetype": "text/x-python",
   "name": "python",
   "nbconvert_exporter": "python",
   "pygments_lexer": "ipython3",
   "version": "3.4.3"
  }
 },
 "nbformat": 4,
 "nbformat_minor": 0
}
