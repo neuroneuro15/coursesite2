{
 "cells": [
  {
   "cell_type": "markdown",
   "metadata": {},
   "source": [
    "Data Taken From: \n",
    "http://headit.ucsd.edu/studies/9d557882-a236-11e2-9420-0050563f2612\n"
   ]
  },
  {
   "cell_type": "code",
   "execution_count": 1,
   "metadata": {
    "collapsed": false
   },
   "outputs": [
    {
     "name": "stderr",
     "output_type": "stream",
     "text": [
      "/usr/local/lib/python2.7/dist-packages/matplotlib/font_manager.py:273: UserWarning: Matplotlib is building the font cache using fc-list. This may take a moment.\n",
      "  warnings.warn('Matplotlib is building the font cache using fc-list. This may take a moment.')\n"
     ]
    }
   ],
   "source": [
    "import mne\n",
    "import os\n",
    "from os import path\n",
    "import numpy as np\n",
    "import matplotlib.pyplot as plt"
   ]
  },
  {
   "cell_type": "code",
   "execution_count": 2,
   "metadata": {
    "collapsed": false
   },
   "outputs": [
    {
     "name": "stderr",
     "output_type": "stream",
     "text": [
      "/usr/local/lib/python2.7/dist-packages/ipykernel/pylab/config.py:66: DeprecationWarning: metadata {'config': True} was set from the constructor.  Metadata should be set using the .tag() method, e.g., Int().tag(key1='value1', key2='value2')\n",
      "  inline backend.\"\"\"\n",
      "/usr/local/lib/python2.7/dist-packages/ipykernel/pylab/config.py:71: DeprecationWarning: metadata {'config': True} was set from the constructor.  Metadata should be set using the .tag() method, e.g., Int().tag(key1='value1', key2='value2')\n",
      "  'retina', 'jpeg', 'svg', 'pdf'.\"\"\")\n",
      "/usr/local/lib/python2.7/dist-packages/ipykernel/pylab/config.py:85: DeprecationWarning: metadata {'config': True} was set from the constructor.  Metadata should be set using the .tag() method, e.g., Int().tag(key1='value1', key2='value2')\n",
      "  use `figure_formats` instead)\"\"\")\n",
      "/usr/local/lib/python2.7/dist-packages/ipykernel/pylab/config.py:95: DeprecationWarning: metadata {'config': True} was set from the constructor.  Metadata should be set using the .tag() method, e.g., Int().tag(key1='value1', key2='value2')\n",
      "  \"\"\"\n",
      "/usr/local/lib/python2.7/dist-packages/ipykernel/pylab/config.py:114: DeprecationWarning: metadata {'config': True} was set from the constructor.  Metadata should be set using the .tag() method, e.g., Int().tag(key1='value1', key2='value2')\n",
      "  \"\"\")\n",
      "/usr/local/lib/python2.7/dist-packages/ipykernel/pylab/config.py:44: DeprecationWarning: InlineBackend._config_changed is deprecated: use @observe and @unobserve instead.\n",
      "  def _config_changed(self, name, old, new):\n",
      "/usr/local/lib/python2.7/dist-packages/traitlets/traitlets.py:770: DeprecationWarning: A parent of InlineBackend._config_changed has adopted the new @observe(change) API\n",
      "  clsname, change_or_name), DeprecationWarning)\n",
      "/usr/local/lib/python2.7/dist-packages/IPython/core/formatters.py:98: DeprecationWarning: DisplayFormatter._formatters_default is deprecated: use @default decorator instead.\n",
      "  def _formatters_default(self):\n",
      "/usr/local/lib/python2.7/dist-packages/IPython/core/formatters.py:677: DeprecationWarning: PlainTextFormatter._deferred_printers_default is deprecated: use @default decorator instead.\n",
      "  def _deferred_printers_default(self):\n",
      "/usr/local/lib/python2.7/dist-packages/IPython/core/formatters.py:669: DeprecationWarning: PlainTextFormatter._singleton_printers_default is deprecated: use @default decorator instead.\n",
      "  def _singleton_printers_default(self):\n",
      "/usr/local/lib/python2.7/dist-packages/IPython/core/formatters.py:672: DeprecationWarning: PlainTextFormatter._type_printers_default is deprecated: use @default decorator instead.\n",
      "  def _type_printers_default(self):\n",
      "/usr/local/lib/python2.7/dist-packages/IPython/core/formatters.py:672: DeprecationWarning: PlainTextFormatter._type_printers_default is deprecated: use @default decorator instead.\n",
      "  def _type_printers_default(self):\n",
      "/usr/local/lib/python2.7/dist-packages/IPython/core/formatters.py:677: DeprecationWarning: PlainTextFormatter._deferred_printers_default is deprecated: use @default decorator instead.\n",
      "  def _deferred_printers_default(self):\n"
     ]
    }
   ],
   "source": [
    "%matplotlib inline"
   ]
  },
  {
   "cell_type": "markdown",
   "metadata": {},
   "source": [
    "## Load Data"
   ]
  },
  {
   "cell_type": "code",
   "execution_count": 3,
   "metadata": {
    "collapsed": false
   },
   "outputs": [
    {
     "name": "stdout",
     "output_type": "stream",
     "text": [
      "Extracting edf Parameters from /home/nicholas/Downloads/eeg_recording_1 (1).bdf...\n",
      "Setting channel info structure...\n",
      "Creating Raw.info structure...\n",
      "Ready.\n"
     ]
    }
   ],
   "source": [
    "data_dir = path.join('home', 'nicholas', 'Downloads')\n",
    "bdf_filename = 'eeg_recording_1 (1).bdf'\n",
    "\n",
    "raw = mne.io.read_raw_edf('/' + path.join(data_dir, bdf_filename))"
   ]
  },
  {
   "cell_type": "markdown",
   "metadata": {},
   "source": [
    "## Get Events\n"
   ]
  },
  {
   "cell_type": "code",
   "execution_count": 4,
   "metadata": {
    "collapsed": false
   },
   "outputs": [
    {
     "name": "stdout",
     "output_type": "stream",
     "text": [
      "Reading 0 ... 954623  =      0.000 ...  3728.996 secs...\n"
     ]
    },
    {
     "name": "stderr",
     "output_type": "stream",
     "text": [
      "/usr/local/lib/python2.7/dist-packages/scipy/special/__init__.py:627: RuntimeWarning: numpy.dtype size changed, may indicate binary incompatibility\n",
      "  from ._ufuncs import *\n",
      "/usr/local/lib/python2.7/dist-packages/scipy/special/_ellip_harm.py:7: RuntimeWarning: numpy.dtype size changed, may indicate binary incompatibility\n",
      "  from ._ellip_harm_2 import _ellipsoid, _ellipsoid_norm\n",
      "/usr/local/lib/python2.7/dist-packages/scipy/spatial/__init__.py:92: RuntimeWarning: numpy.dtype size changed, may indicate binary incompatibility\n",
      "  from .ckdtree import *\n",
      "/usr/local/lib/python2.7/dist-packages/scipy/spatial/__init__.py:93: RuntimeWarning: numpy.dtype size changed, may indicate binary incompatibility\n",
      "  from .qhull import *\n"
     ]
    },
    {
     "name": "stdout",
     "output_type": "stream",
     "text": [
      "[done]\n",
      "Removing orphaned offset at the beginning of the file.\n",
      "4455 events found\n",
      "Events id: [    1     2    10    11    20    21    25   100   101   150   151   200\n",
      "   201   250   251  4096 65536]\n"
     ]
    },
    {
     "name": "stderr",
     "output_type": "stream",
     "text": [
      "/usr/local/lib/python2.7/dist-packages/mne/viz/misc.py:453: UserWarning: event 1 missing from event_id will be ignored.\n",
      "  % this_event)\n",
      "/usr/local/lib/python2.7/dist-packages/mne/viz/misc.py:453: UserWarning: event 2 missing from event_id will be ignored.\n",
      "  % this_event)\n",
      "/usr/local/lib/python2.7/dist-packages/mne/viz/misc.py:453: UserWarning: event 10 missing from event_id will be ignored.\n",
      "  % this_event)\n",
      "/usr/local/lib/python2.7/dist-packages/mne/viz/misc.py:453: UserWarning: event 11 missing from event_id will be ignored.\n",
      "  % this_event)\n",
      "/usr/local/lib/python2.7/dist-packages/mne/viz/misc.py:453: UserWarning: event 20 missing from event_id will be ignored.\n",
      "  % this_event)\n",
      "/usr/local/lib/python2.7/dist-packages/mne/viz/misc.py:453: UserWarning: event 21 missing from event_id will be ignored.\n",
      "  % this_event)\n",
      "/usr/local/lib/python2.7/dist-packages/mne/viz/misc.py:453: UserWarning: event 25 missing from event_id will be ignored.\n",
      "  % this_event)\n",
      "/usr/local/lib/python2.7/dist-packages/mne/viz/misc.py:453: UserWarning: event 150 missing from event_id will be ignored.\n",
      "  % this_event)\n",
      "/usr/local/lib/python2.7/dist-packages/mne/viz/misc.py:453: UserWarning: event 151 missing from event_id will be ignored.\n",
      "  % this_event)\n",
      "/usr/local/lib/python2.7/dist-packages/mne/viz/misc.py:453: UserWarning: event 250 missing from event_id will be ignored.\n",
      "  % this_event)\n",
      "/usr/local/lib/python2.7/dist-packages/mne/viz/misc.py:453: UserWarning: event 251 missing from event_id will be ignored.\n",
      "  % this_event)\n",
      "/usr/local/lib/python2.7/dist-packages/mne/viz/misc.py:453: UserWarning: event 4096 missing from event_id will be ignored.\n",
      "  % this_event)\n",
      "/usr/local/lib/python2.7/dist-packages/mne/viz/misc.py:453: UserWarning: event 65536 missing from event_id will be ignored.\n",
      "  % this_event)\n",
      "/usr/local/lib/python2.7/dist-packages/mne/viz/misc.py:459: UserWarning: More events than colors available. You should pass a list of unique colors.\n",
      "  warnings.warn('More events than colors available. '\n",
      "/usr/local/lib/python2.7/dist-packages/IPython/core/formatters.py:92: DeprecationWarning: DisplayFormatter._ipython_display_formatter_default is deprecated: use @default decorator instead.\n",
      "  def _ipython_display_formatter_default(self):\n",
      "/usr/local/lib/python2.7/dist-packages/IPython/core/formatters.py:669: DeprecationWarning: PlainTextFormatter._singleton_printers_default is deprecated: use @default decorator instead.\n",
      "  def _singleton_printers_default(self):\n"
     ]
    },
    {
     "data": {
      "image/png": "[encoded data removed]",
      "text/plain": [
       "<matplotlib.figure.Figure at 0x7fafb620f4d0>"
      ]
     },
     "metadata": {},
     "output_type": "display_data"
    }
   ],
   "source": [
    "events = mne.find_events(raw)\n",
    "event_id = {'standard/short': 200, 'standard/long': 201, 'deviant/short': 100, 'deviant/long': 101}\n",
    "\n",
    "_ = mne.viz.plot_events(events, event_id=event_id)"
   ]
  },
  {
   "cell_type": "markdown",
   "metadata": {},
   "source": [
    "## Pick out data"
   ]
  },
  {
   "cell_type": "code",
   "execution_count": 5,
   "metadata": {
    "collapsed": false
   },
   "outputs": [
    {
     "data": {
      "text/plain": [
       "array([  0,  50, 100, 150, 200, 250])"
      ]
     },
     "execution_count": 5,
     "metadata": {},
     "output_type": "execute_result"
    }
   ],
   "source": [
    "picks = mne.pick_types(raw.info, meg=False, eeg=True, eog=False)\n",
    "picks = picks[::50]\n",
    "picks"
   ]
  },
  {
   "cell_type": "code",
   "execution_count": 6,
   "metadata": {
    "collapsed": false,
    "scrolled": false
   },
   "outputs": [
    {
     "name": "stdout",
     "output_type": "stream",
     "text": [
      "1320 matching events found\n",
      "Adding average EEG reference projection.\n",
      "Created an SSP operator (subspace dimension = 1)\n",
      "1 projection items activated\n"
     ]
    }
   ],
   "source": [
    "tmin, tmax = -0.2, 0.5\n",
    "baseline = (None, 0.0)\n",
    "\n",
    "epochs = mne.Epochs(raw, events=events, event_id=event_id, tmin=tmin,\n",
    "                    tmax=tmax, picks=picks)\n"
   ]
  },
  {
   "cell_type": "code",
   "execution_count": 7,
   "metadata": {
    "collapsed": false
   },
   "outputs": [
    {
     "data": {
      "text/plain": [
       "<Epochs  |  n_events : 120 (good & bad), tmin : -0.19921875 (s), tmax : 0.5 (s), baseline : (None, 0),\n",
       " 'deviant/long': 54, 'deviant/short': 66>"
      ]
     },
     "execution_count": 7,
     "metadata": {},
     "output_type": "execute_result"
    }
   ],
   "source": [
    "epochs_dev = epochs['deviant']\n",
    "epochs_dev"
   ]
  },
  {
   "cell_type": "code",
   "execution_count": 8,
   "metadata": {
    "collapsed": false
   },
   "outputs": [
    {
     "data": {
      "text/plain": [
       "<Epochs  |  n_events : 1200 (good & bad), tmin : -0.19921875 (s), tmax : 0.5 (s), baseline : (None, 0),\n",
       " 'standard/long': 610, 'standard/short': 590>"
      ]
     },
     "execution_count": 8,
     "metadata": {},
     "output_type": "execute_result"
    }
   ],
   "source": [
    "epochs_std = epochs['standard']\n",
    "epochs_std"
   ]
  },
  {
   "cell_type": "code",
   "execution_count": 9,
   "metadata": {
    "collapsed": false
   },
   "outputs": [
    {
     "name": "stdout",
     "output_type": "stream",
     "text": [
      "Reading 5719 ... 5898  =     22.340 ...    23.039 secs...\n",
      "[done]\n",
      "Applying baseline correction ... (mode: mean)\n",
      "Reading 10130 ... 10309  =     39.570 ...    40.270 secs...\n",
      "[done]\n",
      "Applying baseline correction ... (mode: mean)\n",
      "Reading 11320 ... 11499  =     44.219 ...    44.918 secs...\n",
      "[done]\n",
      "Applying baseline correction ... (mode: mean)\n",
      "Reading 14885 ... 15064  =     58.145 ...    58.844 secs...\n",
      "[done]\n",
      "Applying baseline correction ... (mode: mean)\n",
      "Reading 19372 ... 19551  =     75.672 ...    76.371 secs...\n",
      "[done]\n",
      "Applying baseline correction ... (mode: mean)\n",
      "Reading 30216 ... 30395  =    118.031 ...   118.730 secs...\n",
      "[done]\n",
      "Applying baseline correction ... (mode: mean)\n",
      "Reading 44824 ... 45003  =    175.094 ...   175.793 secs...\n",
      "[done]\n",
      "Applying baseline correction ... (mode: mean)\n",
      "Reading 49234 ... 49413  =    192.320 ...   193.020 secs...\n",
      "[done]\n",
      "Applying baseline correction ... (mode: mean)\n",
      "Reading 50460 ... 50639  =    197.109 ...   197.809 secs...\n",
      "[done]\n",
      "Applying baseline correction ... (mode: mean)\n",
      "Reading 54060 ... 54239  =    211.172 ...   211.871 secs...\n",
      "[done]\n",
      "Applying baseline correction ... (mode: mean)\n",
      "Reading 58461 ... 58640  =    228.363 ...   229.062 secs...\n",
      "[done]\n",
      "Applying baseline correction ... (mode: mean)\n",
      "Reading 69167 ... 69346  =    270.184 ...   270.883 secs...\n",
      "[done]\n",
      "Applying baseline correction ... (mode: mean)\n",
      "Reading 84480 ... 84659  =    330.000 ...   330.699 secs...\n",
      "[done]\n",
      "Applying baseline correction ... (mode: mean)\n",
      "Reading 88909 ... 89088  =    347.301 ...   348.000 secs...\n",
      "[done]\n",
      "Applying baseline correction ... (mode: mean)\n",
      "Reading 90183 ... 90362  =    352.277 ...   352.977 secs...\n",
      "[done]\n",
      "Applying baseline correction ... (mode: mean)\n",
      "Reading 93745 ... 93924  =    366.191 ...   366.891 secs...\n",
      "[done]\n",
      "Applying baseline correction ... (mode: mean)\n",
      "Reading 98210 ... 98389  =    383.633 ...   384.332 secs...\n",
      "[done]\n",
      "Applying baseline correction ... (mode: mean)\n",
      "Reading 109144 ... 109323  =    426.344 ...   427.043 secs...\n",
      "[done]\n",
      "Applying baseline correction ... (mode: mean)\n",
      "Reading 129010 ... 129189  =    503.945 ...   504.645 secs...\n",
      "[done]\n",
      "Applying baseline correction ... (mode: mean)\n",
      "Reading 133495 ... 133674  =    521.465 ...   522.164 secs...\n",
      "[done]\n",
      "Applying baseline correction ... (mode: mean)\n",
      "Reading 134703 ... 134882  =    526.184 ...   526.883 secs...\n",
      "[done]\n",
      "Applying baseline correction ... (mode: mean)\n",
      "Reading 138221 ... 138400  =    539.926 ...   540.625 secs...\n",
      "[done]\n",
      "Applying baseline correction ... (mode: mean)\n",
      "Reading 142626 ... 142805  =    557.133 ...   557.832 secs...\n",
      "[done]\n",
      "Applying baseline correction ... (mode: mean)\n",
      "Reading 153543 ... 153722  =    599.777 ...   600.477 secs...\n",
      "[done]\n",
      "Applying baseline correction ... (mode: mean)\n",
      "Reading 190085 ... 190264  =    742.520 ...   743.219 secs...\n",
      "[done]\n",
      "Applying baseline correction ... (mode: mean)\n",
      "Reading 194493 ... 194672  =    759.738 ...   760.438 secs...\n",
      "[done]\n",
      "Applying baseline correction ... (mode: mean)\n",
      "Reading 195729 ... 195908  =    764.566 ...   765.266 secs...\n",
      "[done]\n",
      "Applying baseline correction ... (mode: mean)\n",
      "Reading 199329 ... 199508  =    778.629 ...   779.328 secs...\n",
      "[done]\n",
      "Applying baseline correction ... (mode: mean)\n",
      "Reading 203800 ... 203979  =    796.094 ...   796.793 secs...\n",
      "[done]\n",
      "Applying baseline correction ... (mode: mean)\n",
      "Reading 214721 ... 214900  =    838.754 ...   839.453 secs...\n",
      "[done]\n",
      "Applying baseline correction ... (mode: mean)\n",
      "Reading 231977 ... 232156  =    906.160 ...   906.859 secs...\n",
      "[done]\n",
      "Applying baseline correction ... (mode: mean)\n",
      "Reading 236521 ... 236700  =    923.910 ...   924.609 secs...\n",
      "[done]\n",
      "Applying baseline correction ... (mode: mean)\n",
      "Reading 237775 ... 237954  =    928.809 ...   929.508 secs...\n",
      "[done]\n",
      "Applying baseline correction ... (mode: mean)\n",
      "Reading 241386 ... 241565  =    942.914 ...   943.613 secs...\n",
      "[done]\n",
      "Applying baseline correction ... (mode: mean)\n",
      "Reading 245827 ... 246006  =    960.262 ...   960.961 secs...\n",
      "[done]\n",
      "Applying baseline correction ... (mode: mean)\n",
      "Reading 256715 ... 256894  =   1002.793 ...  1003.492 secs...\n",
      "[done]\n",
      "Applying baseline correction ... (mode: mean)\n",
      "Reading 272258 ... 272437  =   1063.508 ...  1064.207 secs...\n",
      "[done]\n",
      "Applying baseline correction ... (mode: mean)\n",
      "Reading 276742 ... 276921  =   1081.023 ...  1081.723 secs...\n",
      "[done]\n",
      "Applying baseline correction ... (mode: mean)\n",
      "Reading 278004 ... 278183  =   1085.953 ...  1086.652 secs...\n",
      "[done]\n",
      "Applying baseline correction ... (mode: mean)\n",
      "Reading 281558 ... 281737  =   1099.836 ...  1100.535 secs...\n",
      "[done]\n",
      "Applying baseline correction ... (mode: mean)\n",
      "Reading 285897 ... 286076  =   1116.785 ...  1117.484 secs...\n",
      "[done]\n",
      "Applying baseline correction ... (mode: mean)\n",
      "Reading 296836 ... 297015  =   1159.516 ...  1160.215 secs...\n",
      "[done]\n",
      "Applying baseline correction ... (mode: mean)\n",
      "Reading 306487 ... 306666  =   1197.215 ...  1197.914 secs...\n",
      "[done]\n",
      "Applying baseline correction ... (mode: mean)\n",
      "Reading 310956 ... 311135  =   1214.672 ...  1215.371 secs...\n",
      "[done]\n",
      "Applying baseline correction ... (mode: mean)\n",
      "Reading 312151 ... 312330  =   1219.340 ...  1220.039 secs...\n",
      "[done]\n",
      "Applying baseline correction ... (mode: mean)\n",
      "Reading 315839 ... 316018  =   1233.746 ...  1234.445 secs...\n",
      "[done]\n",
      "Applying baseline correction ... (mode: mean)\n",
      "Reading 320232 ... 320411  =   1250.906 ...  1251.605 secs...\n",
      "[done]\n",
      "Applying baseline correction ... (mode: mean)\n",
      "Reading 331092 ... 331271  =   1293.328 ...  1294.027 secs...\n",
      "[done]\n",
      "Applying baseline correction ... (mode: mean)\n",
      "Reading 354708 ... 354887  =   1385.578 ...  1386.277 secs...\n",
      "[done]\n",
      "Applying baseline correction ... (mode: mean)\n",
      "Reading 359086 ... 359265  =   1402.680 ...  1403.379 secs...\n",
      "[done]\n",
      "Applying baseline correction ... (mode: mean)\n",
      "Reading 360250 ... 360429  =   1407.227 ...  1407.926 secs...\n",
      "[done]\n",
      "Applying baseline correction ... (mode: mean)\n",
      "Reading 363823 ... 364002  =   1421.184 ...  1421.883 secs...\n",
      "[done]\n",
      "Applying baseline correction ... (mode: mean)\n",
      "Reading 368169 ... 368348  =   1438.160 ...  1438.859 secs...\n",
      "[done]\n",
      "Applying baseline correction ... (mode: mean)\n",
      "Reading 379185 ... 379364  =   1481.191 ...  1481.891 secs...\n",
      "[done]\n",
      "Applying baseline correction ... (mode: mean)\n",
      "Reading 394527 ... 394706  =   1541.121 ...  1541.820 secs...\n",
      "[done]\n",
      "Applying baseline correction ... (mode: mean)\n",
      "Reading 399038 ... 399217  =   1558.742 ...  1559.441 secs...\n",
      "[done]\n",
      "Applying baseline correction ... (mode: mean)\n",
      "Reading 400281 ... 400460  =   1563.598 ...  1564.297 secs...\n",
      "[done]\n",
      "Applying baseline correction ... (mode: mean)\n",
      "Reading 403902 ... 404081  =   1577.742 ...  1578.441 secs...\n",
      "[done]\n",
      "Applying baseline correction ... (mode: mean)\n",
      "Reading 408259 ... 408438  =   1594.762 ...  1595.461 secs...\n",
      "[done]\n",
      "Applying baseline correction ... (mode: mean)\n",
      "Reading 418878 ... 419057  =   1636.242 ...  1636.941 secs...\n",
      "[done]\n",
      "Applying baseline correction ... (mode: mean)\n",
      "Reading 443551 ... 443730  =   1732.621 ...  1733.320 secs...\n",
      "[done]\n",
      "Applying baseline correction ... (mode: mean)\n",
      "Reading 448049 ... 448228  =   1750.191 ...  1750.891 secs...\n",
      "[done]\n",
      "Applying baseline correction ... (mode: mean)\n",
      "Reading 449290 ... 449469  =   1755.039 ...  1755.738 secs...\n",
      "[done]\n",
      "Applying baseline correction ... (mode: mean)\n",
      "Reading 452951 ... 453130  =   1769.340 ...  1770.039 secs...\n",
      "[done]\n",
      "Applying baseline correction ... (mode: mean)\n",
      "Reading 457321 ... 457500  =   1786.410 ...  1787.109 secs...\n",
      "[done]\n",
      "Applying baseline correction ... (mode: mean)\n",
      "Reading 468086 ... 468265  =   1828.461 ...  1829.160 secs...\n",
      "[done]\n",
      "Applying baseline correction ... (mode: mean)\n",
      "Reading 491048 ... 491227  =   1918.156 ...  1918.855 secs...\n",
      "[done]\n",
      "Applying baseline correction ... (mode: mean)\n",
      "Reading 495410 ... 495589  =   1935.195 ...  1935.895 secs...\n",
      "[done]\n",
      "Applying baseline correction ... (mode: mean)\n",
      "Reading 496604 ... 496783  =   1939.859 ...  1940.559 secs...\n",
      "[done]\n",
      "Applying baseline correction ... (mode: mean)\n",
      "Reading 500284 ... 500463  =   1954.234 ...  1954.934 secs...\n",
      "[done]\n",
      "Applying baseline correction ... (mode: mean)\n",
      "Reading 504710 ... 504889  =   1971.523 ...  1972.223 secs...\n",
      "[done]\n",
      "Applying baseline correction ... (mode: mean)\n",
      "Reading 515602 ... 515781  =   2014.070 ...  2014.770 secs...\n",
      "[done]\n",
      "Applying baseline correction ... (mode: mean)\n",
      "Reading 541772 ... 541951  =   2116.297 ...  2116.996 secs...\n",
      "[done]\n",
      "Applying baseline correction ... (mode: mean)\n",
      "Reading 546211 ... 546390  =   2133.637 ...  2134.336 secs...\n",
      "[done]\n",
      "Applying baseline correction ... (mode: mean)\n",
      "Reading 547383 ... 547562  =   2138.215 ...  2138.914 secs...\n",
      "[done]\n",
      "Applying baseline correction ... (mode: mean)\n",
      "Reading 551034 ... 551213  =   2152.477 ...  2153.176 secs...\n",
      "[done]\n",
      "Applying baseline correction ... (mode: mean)\n",
      "Reading 555551 ... 555730  =   2170.121 ...  2170.820 secs...\n",
      "[done]\n",
      "Applying baseline correction ... (mode: mean)\n",
      "Reading 566412 ... 566591  =   2212.547 ...  2213.246 secs...\n",
      "[done]\n",
      "Applying baseline correction ... (mode: mean)\n",
      "Reading 601918 ... 602097  =   2351.242 ...  2351.941 secs...\n",
      "[done]\n",
      "Applying baseline correction ... (mode: mean)\n",
      "Reading 606454 ... 606633  =   2368.961 ...  2369.660 secs...\n",
      "[done]\n",
      "Applying baseline correction ... (mode: mean)\n",
      "Reading 607651 ... 607830  =   2373.637 ...  2374.336 secs...\n",
      "[done]\n",
      "Applying baseline correction ... (mode: mean)\n",
      "Reading 611280 ... 611459  =   2387.812 ...  2388.512 secs...\n",
      "[done]\n",
      "Applying baseline correction ... (mode: mean)\n",
      "Reading 615650 ... 615829  =   2404.883 ...  2405.582 secs...\n",
      "[done]\n",
      "Applying baseline correction ... (mode: mean)\n",
      "Reading 626449 ... 626628  =   2447.066 ...  2447.766 secs...\n",
      "[done]\n",
      "Applying baseline correction ... (mode: mean)\n",
      "Reading 650407 ... 650586  =   2540.652 ...  2541.352 secs...\n",
      "[done]\n",
      "Applying baseline correction ... (mode: mean)\n",
      "Reading 654827 ... 655006  =   2557.918 ...  2558.617 secs...\n",
      "[done]\n",
      "Applying baseline correction ... (mode: mean)\n",
      "Reading 656046 ... 656225  =   2562.680 ...  2563.379 secs...\n",
      "[done]\n",
      "Applying baseline correction ... (mode: mean)\n",
      "Reading 659637 ... 659816  =   2576.707 ...  2577.406 secs...\n",
      "[done]\n",
      "Applying baseline correction ... (mode: mean)\n",
      "Reading 664127 ... 664306  =   2594.246 ...  2594.945 secs...\n",
      "[done]\n",
      "Applying baseline correction ... (mode: mean)\n",
      "Reading 675146 ... 675325  =   2637.289 ...  2637.988 secs...\n",
      "[done]\n",
      "Applying baseline correction ... (mode: mean)\n",
      "Reading 699212 ... 699391  =   2731.297 ...  2731.996 secs...\n",
      "[done]\n",
      "Applying baseline correction ... (mode: mean)\n",
      "Reading 703615 ... 703794  =   2748.496 ...  2749.195 secs...\n",
      "[done]\n",
      "Applying baseline correction ... (mode: mean)\n",
      "Reading 704805 ... 704984  =   2753.145 ...  2753.844 secs...\n",
      "[done]\n",
      "Applying baseline correction ... (mode: mean)\n",
      "Reading 708402 ... 708581  =   2767.195 ...  2767.895 secs...\n",
      "[done]\n",
      "Applying baseline correction ... (mode: mean)\n",
      "Reading 712818 ... 712997  =   2784.445 ...  2785.145 secs...\n",
      "[done]\n",
      "Applying baseline correction ... (mode: mean)\n",
      "Reading 723775 ... 723954  =   2827.246 ...  2827.945 secs...\n",
      "[done]\n",
      "Applying baseline correction ... (mode: mean)\n",
      "Reading 747457 ... 747636  =   2919.754 ...  2920.453 secs...\n",
      "[done]\n",
      "Applying baseline correction ... (mode: mean)\n",
      "Reading 751883 ... 752062  =   2937.043 ...  2937.742 secs...\n",
      "[done]\n",
      "Applying baseline correction ... (mode: mean)\n",
      "Reading 753126 ... 753305  =   2941.898 ...  2942.598 secs...\n",
      "[done]\n",
      "Applying baseline correction ... (mode: mean)\n",
      "Reading 756755 ... 756934  =   2956.074 ...  2956.773 secs...\n",
      "[done]\n",
      "Applying baseline correction ... (mode: mean)\n",
      "Reading 761289 ... 761468  =   2973.785 ...  2974.484 secs...\n",
      "[done]\n",
      "Applying baseline correction ... (mode: mean)\n",
      "Reading 771995 ... 772174  =   3015.605 ...  3016.305 secs...\n",
      "[done]\n",
      "Applying baseline correction ... (mode: mean)\n",
      "Reading 781280 ... 781459  =   3051.875 ...  3052.574 secs...\n",
      "[done]\n",
      "Applying baseline correction ... (mode: mean)\n",
      "Reading 785689 ... 785868  =   3069.098 ...  3069.797 secs...\n",
      "[done]\n",
      "Applying baseline correction ... (mode: mean)\n",
      "Reading 786847 ... 787026  =   3073.621 ...  3074.320 secs...\n",
      "[done]\n",
      "Applying baseline correction ... (mode: mean)\n",
      "Reading 790453 ... 790632  =   3087.707 ...  3088.406 secs...\n",
      "[done]\n",
      "Applying baseline correction ... (mode: mean)\n",
      "Reading 794952 ... 795131  =   3105.281 ...  3105.980 secs...\n",
      "[done]\n",
      "Applying baseline correction ... (mode: mean)\n",
      "Reading 805765 ... 805944  =   3147.520 ...  3148.219 secs...\n",
      "[done]\n",
      "Applying baseline correction ... (mode: mean)\n",
      "Reading 842967 ... 843146  =   3292.840 ...  3293.539 secs...\n",
      "[done]\n",
      "Applying baseline correction ... (mode: mean)\n",
      "Reading 847360 ... 847539  =   3310.000 ...  3310.699 secs...\n",
      "[done]\n",
      "Applying baseline correction ... (mode: mean)\n",
      "Reading 848624 ... 848803  =   3314.938 ...  3315.637 secs...\n",
      "[done]\n",
      "Applying baseline correction ... (mode: mean)\n",
      "Reading 852298 ... 852477  =   3329.289 ...  3329.988 secs...\n",
      "[done]\n",
      "Applying baseline correction ... (mode: mean)\n",
      "Reading 856770 ... 856949  =   3346.758 ...  3347.457 secs...\n",
      "[done]\n",
      "Applying baseline correction ... (mode: mean)\n",
      "Reading 867639 ... 867818  =   3389.215 ...  3389.914 secs...\n",
      "[done]\n",
      "Applying baseline correction ... (mode: mean)\n",
      "Reading 899191 ... 899370  =   3512.465 ...  3513.164 secs...\n",
      "[done]\n",
      "Applying baseline correction ... (mode: mean)\n",
      "Reading 903622 ... 903801  =   3529.773 ...  3530.473 secs...\n",
      "[done]\n",
      "Applying baseline correction ... (mode: mean)\n",
      "Reading 904815 ... 904994  =   3534.434 ...  3535.133 secs...\n",
      "[done]\n",
      "Applying baseline correction ... (mode: mean)\n",
      "Reading 908505 ... 908684  =   3548.848 ...  3549.547 secs...\n",
      "[done]\n",
      "Applying baseline correction ... (mode: mean)\n",
      "Reading 912945 ... 913124  =   3566.191 ...  3566.891 secs...\n",
      "[done]\n",
      "Applying baseline correction ... (mode: mean)\n",
      "Reading 923692 ... 923871  =   3608.172 ...  3608.871 secs...\n",
      "[done]\n",
      "Applying baseline correction ... (mode: mean)\n"
     ]
    },
    {
     "ename": "IndexError",
     "evalue": "list index out of range",
     "output_type": "error",
     "traceback": [
      "\u001b[1;31m---------------------------------------------------------------------------\u001b[0m",
      "\u001b[1;31mIndexError\u001b[0m                                Traceback (most recent call last)",
      "\u001b[1;32m<ipython-input-9-69c2088aabac>\u001b[0m in \u001b[0;36m<module>\u001b[1;34m()\u001b[0m\n\u001b[1;32m----> 1\u001b[1;33m \u001b[0mevoked_dev\u001b[0m \u001b[1;33m=\u001b[0m \u001b[0mepochs_dev\u001b[0m\u001b[1;33m.\u001b[0m\u001b[0maverage\u001b[0m\u001b[1;33m(\u001b[0m\u001b[0mpicks\u001b[0m\u001b[1;33m=\u001b[0m\u001b[1;33m[\u001b[0m\u001b[1;36m20\u001b[0m\u001b[1;33m,\u001b[0m \u001b[1;36m30\u001b[0m\u001b[1;33m]\u001b[0m\u001b[1;33m)\u001b[0m\u001b[1;33m\u001b[0m\u001b[0m\n\u001b[0m\u001b[0;32m      2\u001b[0m \u001b[0mevoked_std\u001b[0m \u001b[1;33m=\u001b[0m \u001b[0mepochs_std\u001b[0m\u001b[1;33m.\u001b[0m\u001b[0maverage\u001b[0m\u001b[1;33m(\u001b[0m\u001b[0mpicks\u001b[0m\u001b[1;33m=\u001b[0m\u001b[1;33m[\u001b[0m\u001b[1;36m20\u001b[0m\u001b[1;33m,\u001b[0m \u001b[1;36m30\u001b[0m\u001b[1;33m]\u001b[0m\u001b[1;33m)\u001b[0m\u001b[1;33m\u001b[0m\u001b[0m\n",
      "\u001b[1;32m/usr/local/lib/python2.7/dist-packages/mne/epochs.pyc\u001b[0m in \u001b[0;36maverage\u001b[1;34m(self, picks)\u001b[0m\n\u001b[0;32m    679\u001b[0m             \u001b[0mThe\u001b[0m \u001b[0maveraged\u001b[0m \u001b[0mepochs\u001b[0m\u001b[1;33m.\u001b[0m\u001b[1;33m\u001b[0m\u001b[0m\n\u001b[0;32m    680\u001b[0m         \"\"\"\n\u001b[1;32m--> 681\u001b[1;33m         \u001b[1;32mreturn\u001b[0m \u001b[0mself\u001b[0m\u001b[1;33m.\u001b[0m\u001b[0m_compute_mean_or_stderr\u001b[0m\u001b[1;33m(\u001b[0m\u001b[0mpicks\u001b[0m\u001b[1;33m,\u001b[0m \u001b[1;34m'ave'\u001b[0m\u001b[1;33m)\u001b[0m\u001b[1;33m\u001b[0m\u001b[0m\n\u001b[0m\u001b[0;32m    682\u001b[0m \u001b[1;33m\u001b[0m\u001b[0m\n\u001b[0;32m    683\u001b[0m     \u001b[1;32mdef\u001b[0m \u001b[0mstandard_error\u001b[0m\u001b[1;33m(\u001b[0m\u001b[0mself\u001b[0m\u001b[1;33m,\u001b[0m \u001b[0mpicks\u001b[0m\u001b[1;33m=\u001b[0m\u001b[0mNone\u001b[0m\u001b[1;33m)\u001b[0m\u001b[1;33m:\u001b[0m\u001b[1;33m\u001b[0m\u001b[0m\n",
      "\u001b[1;32m/usr/local/lib/python2.7/dist-packages/mne/epochs.pyc\u001b[0m in \u001b[0;36m_compute_mean_or_stderr\u001b[1;34m(self, picks, mode)\u001b[0m\n\u001b[0;32m    737\u001b[0m             \u001b[0mdata\u001b[0m \u001b[1;33m/=\u001b[0m \u001b[0mnp\u001b[0m\u001b[1;33m.\u001b[0m\u001b[0msqrt\u001b[0m\u001b[1;33m(\u001b[0m\u001b[0mn_events\u001b[0m\u001b[1;33m)\u001b[0m\u001b[1;33m\u001b[0m\u001b[0m\n\u001b[0;32m    738\u001b[0m         return self._evoked_from_epoch_data(data, self.info, picks, n_events,\n\u001b[1;32m--> 739\u001b[1;33m                                             _aspect_kind)\n\u001b[0m\u001b[0;32m    740\u001b[0m \u001b[1;33m\u001b[0m\u001b[0m\n\u001b[0;32m    741\u001b[0m     def _evoked_from_epoch_data(self, data, info, picks, n_events,\n",
      "\u001b[1;32m/usr/local/lib/python2.7/dist-packages/mne/epochs.pyc\u001b[0m in \u001b[0;36m_evoked_from_epoch_data\u001b[1;34m(self, data, info, picks, n_events, aspect_kind)\u001b[0m\n\u001b[0;32m    754\u001b[0m             \u001b[0mpicks\u001b[0m \u001b[1;33m=\u001b[0m \u001b[0m_pick_data_channels\u001b[0m\u001b[1;33m(\u001b[0m\u001b[0mevoked\u001b[0m\u001b[1;33m.\u001b[0m\u001b[0minfo\u001b[0m\u001b[1;33m,\u001b[0m \u001b[0mexclude\u001b[0m\u001b[1;33m=\u001b[0m\u001b[1;33m[\u001b[0m\u001b[1;33m]\u001b[0m\u001b[1;33m)\u001b[0m\u001b[1;33m\u001b[0m\u001b[0m\n\u001b[0;32m    755\u001b[0m \u001b[1;33m\u001b[0m\u001b[0m\n\u001b[1;32m--> 756\u001b[1;33m         \u001b[0mch_names\u001b[0m \u001b[1;33m=\u001b[0m \u001b[1;33m[\u001b[0m\u001b[0mevoked\u001b[0m\u001b[1;33m.\u001b[0m\u001b[0mch_names\u001b[0m\u001b[1;33m[\u001b[0m\u001b[0mp\u001b[0m\u001b[1;33m]\u001b[0m \u001b[1;32mfor\u001b[0m \u001b[0mp\u001b[0m \u001b[1;32min\u001b[0m \u001b[0mpicks\u001b[0m\u001b[1;33m]\u001b[0m\u001b[1;33m\u001b[0m\u001b[0m\n\u001b[0m\u001b[0;32m    757\u001b[0m         \u001b[0mevoked\u001b[0m\u001b[1;33m.\u001b[0m\u001b[0mpick_channels\u001b[0m\u001b[1;33m(\u001b[0m\u001b[0mch_names\u001b[0m\u001b[1;33m)\u001b[0m\u001b[1;33m\u001b[0m\u001b[0m\n\u001b[0;32m    758\u001b[0m \u001b[1;33m\u001b[0m\u001b[0m\n",
      "\u001b[1;31mIndexError\u001b[0m: list index out of range"
     ]
    }
   ],
   "source": [
    "evoked_dev = epochs_dev.average(picks=[20, 30])\n",
    "evoked_std = epochs_std.average(picks=[20, 30])"
   ]
  },
  {
   "cell_type": "code",
   "execution_count": null,
   "metadata": {
    "collapsed": false
   },
   "outputs": [],
   "source": [
    "fig, axes = plt.subplots(nrows=1, ncols=2)\n",
    "_ = evoked_std.plot(axes=axes[0])\n"
   ]
  },
  {
   "cell_type": "code",
   "execution_count": null,
   "metadata": {
    "collapsed": false
   },
   "outputs": [],
   "source": [
    "_ = evoked_dev.plot()"
   ]
  },
  {
   "cell_type": "code",
   "execution_count": null,
   "metadata": {
    "collapsed": false
   },
   "outputs": [],
   "source": [
    "dev = evoked_dev.copy()\n",
    "dev.detrend()\n",
    "dev.plot()"
   ]
  },
  {
   "cell_type": "code",
   "execution_count": null,
   "metadata": {
    "collapsed": false
   },
   "outputs": [],
   "source": [
    "std = evoked_std.copy()\n",
    "std.detrend()\n",
    "std.plot()"
   ]
  },
  {
   "cell_type": "code",
   "execution_count": null,
   "metadata": {
    "collapsed": false
   },
   "outputs": [],
   "source": [
    "epochs_dev."
   ]
  },
  {
   "cell_type": "code",
   "execution_count": null,
   "metadata": {
    "collapsed": false
   },
   "outputs": [],
   "source": [
    "df = epochs_dev.to_data_frame()\n",
    "df.head()"
   ]
  },
  {
   "cell_type": "code",
   "execution_count": null,
   "metadata": {
    "collapsed": false
   },
   "outputs": [],
   "source": [
    "data_dev = epochs_dev.get_data()\n",
    "data_std = epochs_std.get_data()"
   ]
  },
  {
   "cell_type": "code",
   "execution_count": null,
   "metadata": {
    "collapsed": false
   },
   "outputs": [],
   "source": [
    "data_dev.shape"
   ]
  },
  {
   "cell_type": "code",
   "execution_count": null,
   "metadata": {
    "collapsed": false
   },
   "outputs": [],
   "source": [
    "data_std.shape"
   ]
  },
  {
   "cell_type": "code",
   "execution_count": null,
   "metadata": {
    "collapsed": false
   },
   "outputs": [],
   "source": [
    "chnum = 4\n",
    "dd = data_dev[:, chnum, :]\n",
    "ss = data_std[:, chnum, :]\n",
    "plt.figure(chnum)\n",
    "plt.plot(np.mean(dd, axis=0))\n",
    "plt.plot(np.mean(ss, axis=0))"
   ]
  },
  {
   "cell_type": "markdown",
   "metadata": {},
   "source": [
    "Now, the trials are in the **dd** and **ss** numpy arrays"
   ]
  },
  {
   "cell_type": "code",
   "execution_count": null,
   "metadata": {
    "collapsed": false
   },
   "outputs": [],
   "source": [
    "times = evoked_dev.times\n",
    "times.shape"
   ]
  },
  {
   "cell_type": "markdown",
   "metadata": {},
   "source": [
    "## Okay, All the data I need for the homework is here.  Now to shuffle it up..."
   ]
  },
  {
   "cell_type": "code",
   "execution_count": null,
   "metadata": {
    "collapsed": false
   },
   "outputs": [],
   "source": [
    "dd.shape"
   ]
  },
  {
   "cell_type": "code",
   "execution_count": null,
   "metadata": {
    "collapsed": false
   },
   "outputs": [],
   "source": [
    "s_code = np.ones(ss.shape[0]) * 151\n",
    "d_code = np.ones(dd.shape[0]) * 251\n",
    "all_trials = np.vstack((dd, ss))\n",
    "all_codes = np.hstack((d_code, s_code))"
   ]
  },
  {
   "cell_type": "code",
   "execution_count": null,
   "metadata": {
    "collapsed": false
   },
   "outputs": [],
   "source": [
    "all_codes.shape"
   ]
  },
  {
   "cell_type": "code",
   "execution_count": null,
   "metadata": {
    "collapsed": false
   },
   "outputs": [],
   "source": [
    "all_trials.shape"
   ]
  },
  {
   "cell_type": "code",
   "execution_count": null,
   "metadata": {
    "collapsed": false
   },
   "outputs": [],
   "source": [
    "new_order = np.random.permutation(np.arange(all_trials.shape[0]))\n",
    "new_order"
   ]
  },
  {
   "cell_type": "code",
   "execution_count": null,
   "metadata": {
    "collapsed": true
   },
   "outputs": [],
   "source": [
    "trials_shuffled = all_trials[new_order, :]\n",
    "codes_shuffled = all_codes[new_order]\n"
   ]
  },
  {
   "cell_type": "markdown",
   "metadata": {},
   "source": [
    "## Randomly Un-baseline the data"
   ]
  },
  {
   "cell_type": "code",
   "execution_count": null,
   "metadata": {
    "collapsed": false
   },
   "outputs": [],
   "source": [
    "new_offsets = np.random.randn(all_trials.shape[0])\n",
    "new_offsets * np.std(all_trials)\n",
    "\n",
    "trials_shuffled_offset = (trials_shuffled.T + new_offsets).T"
   ]
  },
  {
   "cell_type": "code",
   "execution_count": null,
   "metadata": {
    "collapsed": false
   },
   "outputs": [],
   "source": [
    "trials_shuffled_offset.shape"
   ]
  },
  {
   "cell_type": "markdown",
   "metadata": {},
   "source": [
    "## ... and save it in a .mat file!"
   ]
  },
  {
   "cell_type": "code",
   "execution_count": null,
   "metadata": {
    "collapsed": false
   },
   "outputs": [],
   "source": [
    "from scipy import io"
   ]
  },
  {
   "cell_type": "markdown",
   "metadata": {},
   "source": []
  },
  {
   "cell_type": "code",
   "execution_count": null,
   "metadata": {
    "collapsed": false
   },
   "outputs": [],
   "source": [
    "\n",
    "home_data = {'eeg': trials_shuffled_offset,\n",
    "             'trial_labels': codes_shuffled,\n",
    "             'trial_time': times}\n",
    "\n",
    "save_dir = path.join('Homework Sample Data', 'Homework 4')\n",
    "# save_file = \n",
    "\n",
    "import pickle\n",
    "with open('eeg_data.p') as data_file:\n",
    "    pickle.dump(home_data, data_file)\n",
    "    \n",
    "io.savemat(path.join(save_dir, 'eeg_data.mat'), home_data)"
   ]
  },
  {
   "cell_type": "code",
   "execution_count": null,
   "metadata": {
    "collapsed": false
   },
   "outputs": [],
   "source": [
    "io.whosmat(path.join(save_dir, 'eeg_data.mat'))"
   ]
  },
  {
   "cell_type": "code",
   "execution_count": null,
   "metadata": {
    "collapsed": true
   },
   "outputs": [],
   "source": [
    "loaded = io.loadmat(path.join(save_dir, 'eeg_data.mat'))"
   ]
  },
  {
   "cell_type": "code",
   "execution_count": null,
   "metadata": {
    "collapsed": false
   },
   "outputs": [],
   "source": [
    "loaded"
   ]
  },
  {
   "cell_type": "code",
   "execution_count": null,
   "metadata": {
    "collapsed": true
   },
   "outputs": [],
   "source": []
  }
 ],
 "metadata": {
  "kernelspec": {
   "display_name": "Python 2",
   "language": "python",
   "name": "python2"
  },
  "language_info": {
   "codemirror_mode": {
    "name": "ipython",
    "version": 2
   },
   "file_extension": ".py",
   "mimetype": "text/x-python",
   "name": "python",
   "nbconvert_exporter": "python",
   "pygments_lexer": "ipython2",
   "version": "2.7.6"
  }
 },
 "nbformat": 4,
 "nbformat_minor": 0
}
