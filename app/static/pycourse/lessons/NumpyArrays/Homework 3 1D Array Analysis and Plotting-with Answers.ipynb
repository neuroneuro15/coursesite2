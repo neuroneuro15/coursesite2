{
 "cells": [
  {
   "cell_type": "code",
   "execution_count": null,
   "metadata": {
    "collapsed": true
   },
   "outputs": [],
   "source": [
    "%qtconsole"
   ]
  },
  {
   "cell_type": "code",
   "execution_count": 1,
   "metadata": {
    "collapsed": false
   },
   "outputs": [],
   "source": [
    "%matplotlib inline"
   ]
  },
  {
   "cell_type": "code",
   "execution_count": 1,
   "metadata": {
    "collapsed": false
   },
   "outputs": [
    {
     "ename": "ImportError",
     "evalue": "No module named 'seaborn'",
     "output_type": "error",
     "traceback": [
      "\u001b[1;31m---------------------------------------------------------------------------\u001b[0m",
      "\u001b[1;31mImportError\u001b[0m                               Traceback (most recent call last)",
      "\u001b[1;32m<ipython-input-1-a1eba4af5491>\u001b[0m in \u001b[0;36m<module>\u001b[1;34m()\u001b[0m\n\u001b[0;32m      5\u001b[0m \u001b[1;32mimport\u001b[0m \u001b[0mmatplotlib\u001b[0m\u001b[1;33m.\u001b[0m\u001b[0mpyplot\u001b[0m \u001b[1;32mas\u001b[0m \u001b[0mplt\u001b[0m\u001b[1;33m\u001b[0m\u001b[0m\n\u001b[0;32m      6\u001b[0m \u001b[1;32mimport\u001b[0m \u001b[0mpandas\u001b[0m \u001b[1;32mas\u001b[0m \u001b[0mpd\u001b[0m\u001b[1;33m\u001b[0m\u001b[0m\n\u001b[1;32m----> 7\u001b[1;33m \u001b[1;32mimport\u001b[0m \u001b[0mseaborn\u001b[0m \u001b[1;32mas\u001b[0m \u001b[0msns\u001b[0m\u001b[1;33m\u001b[0m\u001b[0m\n\u001b[0m",
      "\u001b[1;31mImportError\u001b[0m: No module named 'seaborn'"
     ]
    }
   ],
   "source": [
    "import os\n",
    "from os import path\n",
    "from glob import glob\n",
    "import numpy as np\n",
    "import matplotlib.pyplot as plt\n",
    "import pandas as pd\n",
    "import seaborn as sns"
   ]
  },
  {
   "cell_type": "markdown",
   "metadata": {},
   "source": [
    "# Set Paths"
   ]
  },
  {
   "cell_type": "code",
   "execution_count": 3,
   "metadata": {
    "collapsed": false
   },
   "outputs": [
    {
     "name": "stdout",
     "output_type": "stream",
     "text": [
      "[Errno 17] File exists: 'Homework Sample Data/Homework 3'\n"
     ]
    },
    {
     "data": {
      "text/plain": [
       "['stimword.txt',\n",
       " 'respcolor.txt',\n",
       " 'reaction_time.txt',\n",
       " 'StroopData.csv',\n",
       " 'stimcolor.txt',\n",
       " 'subject.txt',\n",
       " 'trialnum.txt']"
      ]
     },
     "execution_count": 3,
     "metadata": {},
     "output_type": "execute_result"
    }
   ],
   "source": [
    "data_dir = path.join(\"Homework Sample Data\", \"Homework 3\")\n",
    "try:\n",
    "    os.makedirs(data_dir)\n",
    "except OSError as err:\n",
    "    print(err)\n",
    "\n",
    "data_filename = 'StroopData.csv'\n",
    "os.listdir(data_dir)"
   ]
  },
  {
   "cell_type": "markdown",
   "metadata": {},
   "source": [
    "# Load Each Data File into NumPy Arrays\n",
    "\n",
    "These files are found inside the \"Homework 3\" Directory:\n",
    "  - 'subject.txt': subject numbers\n",
    "  - 'trialnum.txt', trial number for a given session\n",
    "  - 'stimword.txt', what the stimulus word said (i.e. \"YELLOW\")\n",
    "  - 'stimcolor.txt': what color the stimulus was (this is what the subject was asked to report)\n",
    "  - 'respcolor.txt',: what color the subject reported.  \n",
    "  - 'reaction_time.txt': response time (msecs)\n",
    "  \n",
    "Please use the numpy.loadtxt() function to load these files.  \n",
    "\n",
    "Note: for files containing strings, you'll need to set the dtype to **str** in the loadtxt function."
   ]
  },
  {
   "cell_type": "code",
   "execution_count": 4,
   "metadata": {
    "collapsed": false
   },
   "outputs": [
    {
     "data": {
      "text/plain": [
       "['Homework Sample Data/Homework 3/stimword.txt',\n",
       " 'Homework Sample Data/Homework 3/respcolor.txt',\n",
       " 'Homework Sample Data/Homework 3/reaction_time.txt',\n",
       " 'Homework Sample Data/Homework 3/stimcolor.txt',\n",
       " 'Homework Sample Data/Homework 3/subject.txt',\n",
       " 'Homework Sample Data/Homework 3/trialnum.txt']"
      ]
     },
     "execution_count": 4,
     "metadata": {},
     "output_type": "execute_result"
    }
   ],
   "source": [
    "filenames = glob(path.join(data_dir, \"*txt\"))\n",
    "for filename in filenames:\n",
    "    try:\n",
    "        data = np.loadtxt(filename)\n",
    "    except ValueError:\n",
    "        data = np.loadtxt(filename, dtype=str)\n",
    "        \n",
    "    globals()[path.splitext(path.basename(filename))[0]] = data\n",
    "\n",
    "subjects = np.loadtxt(path.join(data_dir, 'subject.txt'))\n",
    "resptime = reaction_time\n",
    "filenames"
   ]
  },
  {
   "cell_type": "code",
   "execution_count": 5,
   "metadata": {
    "collapsed": false
   },
   "outputs": [
    {
     "name": "stdout",
     "output_type": "stream",
     "text": [
      "Variable        Type        Data/Info\n",
      "-------------------------------------\n",
      "data            ndarray     2803: 2803 elems, type `float64`, 22424 bytes\n",
      "data_dir        str         Homework Sample Data/Homework 3\n",
      "data_filename   str         StroopData.csv\n",
      "filename        str         Homework Sample Data/Homework 3/trialnum.txt\n",
      "filenames       list        n=6\n",
      "glob            function    <function glob at 0x7fb8a6acbb70>\n",
      "np              module      <module 'numpy' from '/ho<...>kages/numpy/__init__.py'>\n",
      "os              module      <module 'os' from '/home/<...>es3/lib/python3.5/os.py'>\n",
      "path            module      <module 'posixpath' from <...>/python3.5/posixpath.py'>\n",
      "pd              module      <module 'pandas' from '/h<...>ages/pandas/__init__.py'>\n",
      "plt             module      <module 'matplotlib.pyplo<...>es/matplotlib/pyplot.py'>\n",
      "reaction_time   ndarray     2803: 2803 elems, type `float64`, 22424 bytes\n",
      "respcolor       ndarray     2803: 2803 elems, type `<U4`, 44848 bytes\n",
      "resptime        ndarray     2803: 2803 elems, type `float64`, 22424 bytes\n",
      "stimcolor       ndarray     2803: 2803 elems, type `<U4`, 44848 bytes\n",
      "stimword        ndarray     2803: 2803 elems, type `<U4`, 44848 bytes\n",
      "subject         ndarray     2803: 2803 elems, type `float64`, 22424 bytes\n",
      "subjects        ndarray     2803: 2803 elems, type `float64`, 22424 bytes\n",
      "trialnum        ndarray     2803: 2803 elems, type `float64`, 22424 bytes\n"
     ]
    }
   ],
   "source": [
    "%whos"
   ]
  },
  {
   "cell_type": "markdown",
   "metadata": {},
   "source": [
    "## How Many Trials were there in total across all subjects?"
   ]
  },
  {
   "cell_type": "code",
   "execution_count": 6,
   "metadata": {
    "collapsed": false
   },
   "outputs": [
    {
     "data": {
      "text/plain": [
       "2803"
      ]
     },
     "execution_count": 6,
     "metadata": {},
     "output_type": "execute_result"
    }
   ],
   "source": [
    "len(subject)"
   ]
  },
  {
   "cell_type": "markdown",
   "metadata": {},
   "source": [
    "## How Many Unique Subject IDs were there in this study?"
   ]
  },
  {
   "cell_type": "code",
   "execution_count": 7,
   "metadata": {
    "collapsed": false
   },
   "outputs": [
    {
     "data": {
      "text/plain": [
       "32"
      ]
     },
     "execution_count": 7,
     "metadata": {},
     "output_type": "execute_result"
    }
   ],
   "source": [
    "len(np.unique(subject))"
   ]
  },
  {
   "cell_type": "markdown",
   "metadata": {},
   "source": [
    "## What is the mean response time, across all subjects and conditions?"
   ]
  },
  {
   "cell_type": "markdown",
   "metadata": {
    "collapsed": false
   },
   "source": [
    "np.mean(resptime)"
   ]
  },
  {
   "cell_type": "markdown",
   "metadata": {},
   "source": [
    "## Max trials any subject did"
   ]
  },
  {
   "cell_type": "code",
   "execution_count": 10,
   "metadata": {
    "collapsed": false
   },
   "outputs": [
    {
     "data": {
      "text/plain": [
       "90.0"
      ]
     },
     "execution_count": 10,
     "metadata": {},
     "output_type": "execute_result"
    }
   ],
   "source": [
    "np.max(trialnum)"
   ]
  },
  {
   "cell_type": "markdown",
   "metadata": {},
   "source": [
    "unique subjects = [a, b, ...]\n",
    "for subj in unique subjects:\n",
    "\n",
    "{ }"
   ]
  },
  {
   "cell_type": "code",
   "execution_count": null,
   "metadata": {
    "collapsed": true
   },
   "outputs": [],
   "source": [
    "\n",
    "\n",
    "subjects"
   ]
  },
  {
   "cell_type": "markdown",
   "metadata": {},
   "source": [
    "## Plot a histogram of the response times\n",
    "(Don't forget to make sure that **%matplotlib inline** has been run already in this notebook, or the plot may not show up!)"
   ]
  },
  {
   "cell_type": "code",
   "execution_count": 12,
   "metadata": {
    "collapsed": false
   },
   "outputs": [
    {
     "data": {
      "image/png": "[encoded data removed]",
      "text/plain": [
       "<matplotlib.figure.Figure at 0x7fe559f8ad68>"
      ]
     },
     "metadata": {},
     "output_type": "display_data"
    }
   ],
   "source": [
    "_ = plt.hist(resptime, bins=40)"
   ]
  },
  {
   "cell_type": "markdown",
   "metadata": {},
   "source": [
    "## Transform the Response Times\n",
    "\n",
    "You should see that the responses are not normally distributed (if you can't see this, try using a higher number of **bins** in your histogram function).  While this isn't really a problem, it's very convenient when you have normally-distributed data.  Let's try transforming it to get something a bit nicer for statistical analysis...\n",
    "\n",
    "  - Make a new response time array that is the **log** of the response times.  \n",
    "  - Plot a new histogram!"
   ]
  },
  {
   "cell_type": "code",
   "execution_count": 13,
   "metadata": {
    "collapsed": false
   },
   "outputs": [
    {
     "data": {
      "image/png": "[encoded data removed]",
      "text/plain": [
       "<matplotlib.figure.Figure at 0x7fe559e7cb00>"
      ]
     },
     "metadata": {},
     "output_type": "display_data"
    }
   ],
   "source": [
    "log_rt = np.log(resptime)\n",
    "_ = plt.hist(log_rt, bins=60)"
   ]
  },
  {
   "cell_type": "markdown",
   "metadata": {},
   "source": [
    "## Reject Bad Data\n",
    "\n",
    "Now, that's a little nicer!  But wait... there's are some trials that seem to be **outliers** (data points that someone decides aren't representative of the data set): those with **log response times less than 5.7**.  After much consideration and deliberation with my supervisor, I've decided to remove those trials from my whole analysis.\n",
    "\n",
    "Let's do this in a few steps:\n",
    "\n",
    "### Select the the trials that we want to **Keep** (Not the outliers)\n",
    "(Hint: You will be making a boolean array here)"
   ]
  },
  {
   "cell_type": "code",
   "execution_count": 15,
   "metadata": {
    "collapsed": false
   },
   "outputs": [
    {
     "data": {
      "text/plain": [
       "array([ True,  True,  True, ...,  True,  True,  True], dtype=bool)"
      ]
     },
     "execution_count": 15,
     "metadata": {},
     "output_type": "execute_result"
    }
   ],
   "source": [
    "good_RTs = log_rt > 5.7\n",
    "good_RTs"
   ]
  },
  {
   "cell_type": "markdown",
   "metadata": {},
   "source": [
    "### Use Logical Indexing to get the response times from those trials into a new array, effectively removing the bad response times.\n",
    "plot the histogram of the new log response time array to be sure those trials are gone."
   ]
  },
  {
   "cell_type": "code",
   "execution_count": 16,
   "metadata": {
    "collapsed": false
   },
   "outputs": [
    {
     "data": {
      "image/png": "[encoded data removed]",
      "text/plain": [
       "<matplotlib.figure.Figure at 0x7fe58416a400>"
      ]
     },
     "metadata": {},
     "output_type": "display_data"
    }
   ],
   "source": [
    "log_rt_f = log_rt[good_RTs]\n",
    "_ = plt.hist(log_rt_f, bins=40)"
   ]
  },
  {
   "cell_type": "markdown",
   "metadata": {},
   "source": [
    "### Remove the bad trials from all of your other arrays, too.\n",
    "**Important:** Confirm that all of your arrays have the same length after filtering before moving on, so you can be sure that each index corresponds to the same trial!\n",
    "\n",
    "**Important:** It may be wise not to overwrite your old variable names.  While not a problem in principle, it can lead to issues when you try to re-run the same cell of code."
   ]
  },
  {
   "cell_type": "code",
   "execution_count": 17,
   "metadata": {
    "collapsed": false
   },
   "outputs": [
    {
     "data": {
      "text/plain": [
       "2766"
      ]
     },
     "execution_count": 17,
     "metadata": {},
     "output_type": "execute_result"
    }
   ],
   "source": [
    "subjf = subject[good_RTs]\n",
    "stimwordf = stimword[good_RTs]\n",
    "trialnumf = trialnum[good_RTs]\n",
    "stimcolorf = stimcolor[good_RTs]\n",
    "respcolorf = respcolor[good_RTs]\n",
    "\n",
    "len(stimcolorf)"
   ]
  },
  {
   "cell_type": "markdown",
   "metadata": {},
   "source": [
    "### From here on, use the Rejected data!"
   ]
  },
  {
   "cell_type": "markdown",
   "metadata": {},
   "source": [
    "## Overall, what was the accuracy of the responses? \n",
    "  - How many trials in total were correct (stimcolor matched respcolor), \n",
    "  - how many were incorrect, and \n",
    "  - what percent accuracy was there, overall?"
   ]
  },
  {
   "cell_type": "code",
   "execution_count": 18,
   "metadata": {
    "collapsed": false
   },
   "outputs": [
    {
     "data": {
      "text/plain": [
       "2684"
      ]
     },
     "execution_count": 18,
     "metadata": {},
     "output_type": "execute_result"
    }
   ],
   "source": [
    "np.sum(respcolorf == stimcolorf)"
   ]
  },
  {
   "cell_type": "code",
   "execution_count": 19,
   "metadata": {
    "collapsed": false
   },
   "outputs": [
    {
     "data": {
      "text/plain": [
       "108"
      ]
     },
     "execution_count": 19,
     "metadata": {},
     "output_type": "execute_result"
    }
   ],
   "source": [
    "np.sum(respcolor != stimcolor)"
   ]
  },
  {
   "cell_type": "code",
   "execution_count": 20,
   "metadata": {
    "collapsed": false
   },
   "outputs": [
    {
     "data": {
      "text/plain": [
       "0.96146985372814842"
      ]
     },
     "execution_count": 20,
     "metadata": {},
     "output_type": "execute_result"
    }
   ],
   "source": [
    "np.mean(respcolor == stimcolor)"
   ]
  },
  {
   "cell_type": "markdown",
   "metadata": {},
   "source": [
    "## Matched vs Unmatched Colors: \n",
    "\n",
    "  - What was the mean log response time for Congruent trials (the stimulus word and color matched each other)?  \n",
    "  - What was the mean log response time for Incongruent trials (when they did not match)?"
   ]
  },
  {
   "cell_type": "code",
   "execution_count": 21,
   "metadata": {
    "collapsed": false
   },
   "outputs": [
    {
     "data": {
      "text/plain": [
       "7.0560867512805396"
      ]
     },
     "execution_count": 21,
     "metadata": {},
     "output_type": "execute_result"
    }
   ],
   "source": [
    "isMatch = stimcolorf == stimwordf\n",
    "matchRT = log_rt_f[isMatch]\n",
    "nonmatchRT = log_rt_f[isMatch == False]\n",
    "\n",
    "np.mean(matchRT)"
   ]
  },
  {
   "cell_type": "code",
   "execution_count": 22,
   "metadata": {
    "collapsed": false
   },
   "outputs": [
    {
     "data": {
      "text/plain": [
       "7.6270282053908902"
      ]
     },
     "execution_count": 22,
     "metadata": {},
     "output_type": "execute_result"
    }
   ],
   "source": [
    "np.mean(nonmatchRT)"
   ]
  },
  {
   "cell_type": "markdown",
   "metadata": {},
   "source": [
    "## Make a Bar Graph of Log Response Time\n",
    "The bar graph should show Mean Log Response Times for the Congruent and Incongruent conditions, with Standard-Deviation Error Bars.  Put text labels on the x access showing which bars go with which condition.\n",
    "\n",
    "For help and an example, take a look at http://matplotlib.org/examples/api/barchart_demo.html"
   ]
  },
  {
   "cell_type": "code",
   "execution_count": 25,
   "metadata": {
    "collapsed": false
   },
   "outputs": [
    {
     "data": {
      "text/plain": [
       "<matplotlib.text.Text at 0x7fe559d0da90>"
      ]
     },
     "execution_count": 25,
     "metadata": {},
     "output_type": "execute_result"
    },
    {
     "data": {
      "image/png": "[encoded data removed]",
      "text/plain": [
       "<matplotlib.figure.Figure at 0x7fe559cdc908>"
      ]
     },
     "metadata": {},
     "output_type": "display_data"
    }
   ],
   "source": [
    "fig, ax = plt.subplots()\n",
    "\n",
    "ax.bar([0, 1], [np.mean(matchRT), np.mean(nonmatchRT)], \n",
    "       yerr= [np.std(matchRT), np.std(nonmatchRT)])\n",
    "ax.set_xticks([0.4, 1.4])\n",
    "ax.set_xticklabels(['Cong.', 'InCong.'])\n",
    "ax.set_ylabel('Log Reaction Time')"
   ]
  },
  {
   "cell_type": "markdown",
   "metadata": {},
   "source": [
    "# Make a Bar Graph of Response Time\n",
    "\n",
    "The logged data doesn't make a very good impression of just how big an effect this is, sadly.  Let's un-log it by taking the **exponent** (numpy.exp) of the logged response time data, and plot that bar graph to get the data in milliseconds!"
   ]
  },
  {
   "cell_type": "code",
   "execution_count": 26,
   "metadata": {
    "collapsed": false
   },
   "outputs": [
    {
     "data": {
      "text/plain": [
       "<matplotlib.text.Text at 0x7fe559d049e8>"
      ]
     },
     "execution_count": 26,
     "metadata": {},
     "output_type": "execute_result"
    },
    {
     "data": {
      "image/png": "[encoded data removed]",
      "text/plain": [
       "<matplotlib.figure.Figure at 0x7fe559c60518>"
      ]
     },
     "metadata": {},
     "output_type": "display_data"
    }
   ],
   "source": [
    "fig, ax = plt.subplots()\n",
    "\n",
    "ax.bar([0, 1], [np.exp(np.mean(matchRT)), np.exp(np.mean(nonmatchRT))], \n",
    "       yerr= [np.exp(np.std(matchRT)), np.exp(np.std(nonmatchRT))])\n",
    "ax.set_xticks([0.4, 1.4])\n",
    "ax.set_xticklabels(['Cong.', 'InCong.'])\n",
    "ax.set_ylabel('Reaction Time')"
   ]
  },
  {
   "cell_type": "markdown",
   "metadata": {},
   "source": [
    "# Change in Performance over Time\n",
    "\n",
    "In experiments like this, we assume that each trial is independent of each other.  Often, this isn't the case, and not taking that into account can sometimes lead to some wrong conclusions.  Let's see what we can find...\n",
    "\n",
    "### How did reaction time change over the course of each subject's session? \n",
    "\n",
    "Were earlier trials faster or slower than later trials in a session, overall?  Make a scatter plot of the response times over the course of a session!"
   ]
  },
  {
   "cell_type": "code",
   "execution_count": 28,
   "metadata": {
    "collapsed": false
   },
   "outputs": [
    {
     "data": {
      "text/plain": [
       "<matplotlib.text.Text at 0x7fe559bb84a8>"
      ]
     },
     "execution_count": 28,
     "metadata": {},
     "output_type": "execute_result"
    },
    {
     "data": {
      "image/png": "[encoded data removed]",
      "text/plain": [
       "<matplotlib.figure.Figure at 0x7fe559bb6128>"
      ]
     },
     "metadata": {},
     "output_type": "display_data"
    }
   ],
   "source": [
    "plt.scatter(trialnumf, log_rt_f)\n",
    "plt.xlabel('Trial Number')\n",
    "plt.ylabel('Log Response Time')"
   ]
  },
  {
   "cell_type": "markdown",
   "metadata": {},
   "source": [
    "### What about between each subject?  Do all subjects show this difference in response time between the Congruent and Incogruent conditions, or is this just coming from a few subjects?\n",
    "\n",
    "Make two arrays, one for each condition, which contains the mean log reaction times for each subject for that condition."
   ]
  },
  {
   "cell_type": "code",
   "execution_count": 35,
   "metadata": {
    "collapsed": false
   },
   "outputs": [],
   "source": [
    "con_mean = {}\n",
    "inc_mean = {}\n",
    "subject_u = set(subject)\n",
    "for subj in subject_u:\n",
    "    subj_rt_con = log_rt_f[(subjf == subj) & (stimwordf == stimcolorf)]\n",
    "    subj_rt_inc = log_rt_f[(subjf == subj) & (stimwordf != stimcolorf)]\n",
    "    con_mean[subj] = np.mean(subj_rt_con)\n",
    "    inc_mean[subj] = np.mean(subj_rt_inc)\n",
    "    \n",
    "con_mean = np.array(list(con_mean.values()))\n",
    "inc_mean = np.array(list(inc_mean.values()))"
   ]
  },
  {
   "cell_type": "code",
   "execution_count": 34,
   "metadata": {
    "collapsed": false
   },
   "outputs": [
    {
     "data": {
      "text/plain": [
       "{156772.0: 6.9711627070874176,\n",
       " 156839.0: 6.4559726420258272,\n",
       " 156856.0: 6.8716535058594204,\n",
       " 156857.0: 6.8973765946340686,\n",
       " 156858.0: 6.8973765946340686,\n",
       " 156859.0: 6.8973765946340686,\n",
       " 156860.0: 7.4180656298519621,\n",
       " 156861.0: 7.4180656298519621,\n",
       " 156862.0: 6.8973765946340686,\n",
       " 156863.0: 7.4180656298519621,\n",
       " 156864.0: 6.9751428480031565,\n",
       " 156865.0: 6.9751428480031565,\n",
       " 156866.0: 6.9751428480031565,\n",
       " 156867.0: 6.9751428480031565,\n",
       " 156868.0: 7.1935156116425265,\n",
       " 156869.0: 6.9751428480031565,\n",
       " 156870.0: 6.9751428480031565,\n",
       " 156871.0: 6.9751428480031565,\n",
       " 156872.0: 7.4666965404270416,\n",
       " 156873.0: 6.9751428480031565,\n",
       " 156874.0: 6.9751428480031565,\n",
       " 156875.0: 7.1105205904333451,\n",
       " 156876.0: 7.1105205904333451,\n",
       " 156877.0: 7.1105205904333451,\n",
       " 156878.0: 7.1105205904333451,\n",
       " 156879.0: 7.1105205904333451,\n",
       " 156880.0: 7.1105205904333451,\n",
       " 156881.0: 7.1105205904333451,\n",
       " 156882.0: 7.1105205904333451,\n",
       " 156883.0: 7.1105205904333451,\n",
       " 156884.0: 7.1105205904333451,\n",
       " 156885.0: 7.1105205904333451}"
      ]
     },
     "execution_count": 34,
     "metadata": {},
     "output_type": "execute_result"
    }
   ],
   "source": [
    "con_mean"
   ]
  },
  {
   "cell_type": "markdown",
   "metadata": {},
   "source": [
    "Plot a histogram of the difference in mean log reaction times between conditions for each subject!"
   ]
  },
  {
   "cell_type": "code",
   "execution_count": 36,
   "metadata": {
    "collapsed": false
   },
   "outputs": [
    {
     "data": {
      "text/plain": [
       "<matplotlib.text.Text at 0x7fe559b31908>"
      ]
     },
     "execution_count": 36,
     "metadata": {},
     "output_type": "execute_result"
    },
    {
     "data": {
      "image/png": "[encoded data removed]",
      "text/plain": [
       "<matplotlib.figure.Figure at 0x7fe559ba8240>"
      ]
     },
     "metadata": {},
     "output_type": "display_data"
    }
   ],
   "source": [
    "_ = plt.hist(inc_mean, bins=20)\n",
    "plt.xlabel('Mean Log Subject Response Times')\n",
    "plt.ylabel('Freq')"
   ]
  },
  {
   "cell_type": "markdown",
   "metadata": {},
   "source": [
    "What do you think, should anyone be rejected?  "
   ]
  },
  {
   "cell_type": "markdown",
   "metadata": {},
   "source": [
    "## Participant Response Speed vs. Size of Stroop Effect\n",
    "\n",
    "Make a scatter plot showing the relationship between how quickly subjects responded for congruent and incongruent stimuli!"
   ]
  },
  {
   "cell_type": "code",
   "execution_count": 37,
   "metadata": {
    "collapsed": false
   },
   "outputs": [
    {
     "data": {
      "text/plain": [
       "<matplotlib.text.Text at 0x7fe559a62198>"
      ]
     },
     "execution_count": 37,
     "metadata": {},
     "output_type": "execute_result"
    },
    {
     "data": {
      "image/png": "[encoded data removed]",
      "text/plain": [
       "<matplotlib.figure.Figure at 0x7fe559ab5358>"
      ]
     },
     "metadata": {},
     "output_type": "display_data"
    }
   ],
   "source": [
    "fig, ax = plt.subplots()\n",
    "ax.scatter(con_mean, inc_mean)\n",
    "ax.set_xlabel('Mean Log RT for Congruent Stimuli')\n",
    "ax.set_ylabel('Mean Log RT for Incongruent Stimuli')"
   ]
  },
  {
   "cell_type": "markdown",
   "metadata": {},
   "source": [
    "That's an interesting effect, don't you think? Anyway, I think that's enough analysis.  Let's publish that last figure and move on!"
   ]
  },
  {
   "cell_type": "markdown",
   "metadata": {},
   "source": [
    "## Save Figure to File\n",
    "\n",
    "Save the figure using **fig.savefig()** to your data directory as a png file!  Great job!"
   ]
  },
  {
   "cell_type": "code",
   "execution_count": null,
   "metadata": {
    "collapsed": true
   },
   "outputs": [],
   "source": [
    "fig.savefig(path.join(data_dir, 'corrfig.png'))"
   ]
  }
 ],
 "metadata": {
  "kernelspec": {
   "display_name": "Python 3",
   "language": "python",
   "name": "python3"
  },
  "language_info": {
   "codemirror_mode": {
    "name": "ipython",
    "version": 3
   },
   "file_extension": ".py",
   "mimetype": "text/x-python",
   "name": "python",
   "nbconvert_exporter": "python",
   "pygments_lexer": "ipython3",
   "version": "3.5.1"
  }
 },
 "nbformat": 4,
 "nbformat_minor": 0
}
