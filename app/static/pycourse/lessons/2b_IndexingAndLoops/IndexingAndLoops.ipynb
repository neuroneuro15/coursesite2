{
 "cells": [
  {
   "cell_type": "markdown",
   "metadata": {
    "slideshow": {
     "slide_type": "slide"
    }
   },
   "source": [
    "# Introduction to Scientific Programming in Python\n",
    "\n",
    "## Indexing, Iteration, and Loops"
   ]
  },
  {
   "cell_type": "markdown",
   "metadata": {
    "slideshow": {
     "slide_type": "subslide"
    }
   },
   "source": [
    "## This Lecture's Learning Goals:\n",
    "\n",
    "  - What is the pattern for Python's **\"Meaningful Whitespace,\"** and Why does it exist?\n",
    "  - How do **if-else statements** work in Python?\n",
    "  - How do you perform **conditional variable assignment** in Python?\n",
    "  - How do you **Index** and **Slice** collections in Python?\n",
    "  - How can you **copy** lists and dicts?\n",
    "  - How do you perform **C-Style For Loops** in Python?\n",
    "  - How do you use **List Comprehensions** to **filter** lists?"
   ]
  },
  {
   "cell_type": "markdown",
   "metadata": {
    "slideshow": {
     "slide_type": "slide"
    }
   },
   "source": [
    "# Indexing and Slicing Collections\n",
    "\n",
    "When you have a collection of something, you often will want to select a specific object from the collection.  If you know where the object is located in the collection (it's **index**, or **key**), you only need to give that index and you'll get your object!  In Python, you index a collection using the **square brackets: [ ]**\n",
    "\n",
    "**Note:** Python is a **Zero-Indexed** language, so the first **Element** of a collection has an index value of 0."
   ]
  },
  {
   "cell_type": "markdown",
   "metadata": {
    "slideshow": {
     "slide_type": "subslide"
    }
   },
   "source": [
    "## Indexing Ordered Collections: List and Tuple"
   ]
  },
  {
   "cell_type": "code",
   "execution_count": 8,
   "metadata": {
    "collapsed": false
   },
   "outputs": [
    {
     "data": {
      "text/plain": [
       "'A1'"
      ]
     },
     "execution_count": 8,
     "metadata": {},
     "output_type": "execute_result"
    }
   ],
   "source": [
    "subjects = ['A1', 'A2', 'B2', 'B3']\n",
    "subjects[0]"
   ]
  },
  {
   "cell_type": "code",
   "execution_count": 9,
   "metadata": {
    "collapsed": false
   },
   "outputs": [
    {
     "data": {
      "text/plain": [
       "'B2'"
      ]
     },
     "execution_count": 9,
     "metadata": {},
     "output_type": "execute_result"
    }
   ],
   "source": [
    "subjects[-2]"
   ]
  },
  {
   "cell_type": "markdown",
   "metadata": {
    "slideshow": {
     "slide_type": "subslide"
    }
   },
   "source": [
    "## Indexing Unordered Collections: Dict\n",
    "Unordered collections are indexed using the same **syntax**, but by inserting the **key** instead."
   ]
  },
  {
   "cell_type": "code",
   "execution_count": 4,
   "metadata": {
    "collapsed": false
   },
   "outputs": [
    {
     "data": {
      "text/plain": [
       "dict_keys(['control', 'knockout'])"
      ]
     },
     "execution_count": 4,
     "metadata": {},
     "output_type": "execute_result"
    }
   ],
   "source": [
    "conditions = {'knockout': [1, 2, 1, 2],\n",
    "             'control': [5, 6, 5],}\n",
    "\n",
    "conditions.keys()"
   ]
  },
  {
   "cell_type": "markdown",
   "metadata": {
    "slideshow": {
     "slide_type": "subslide"
    }
   },
   "source": [
    "## Slicing: Indexing multiple values in an Ordered Collection\n",
    "\n",
    "You can get a continuous subset of a collection by doing **Slicing**.  This is done using the **Colon :**\n",
    "\n",
    "**Note:** Python uses a **Half-Open** Slicing Convention, which means that the final index given is ignored, but the first value is used. This is very useful in concerning **Fenceposting Problems**, but can take a little while to get used to."
   ]
  },
  {
   "cell_type": "code",
   "execution_count": 14,
   "metadata": {
    "collapsed": false
   },
   "outputs": [
    {
     "data": {
      "text/plain": [
       "('B2', 'C3', 'D4', 'E5')"
      ]
     },
     "execution_count": 14,
     "metadata": {},
     "output_type": "execute_result"
    }
   ],
   "source": [
    "subjects = ('A1', 'B2', 'C3', 'D4', 'E5', 'F6', 'G7')\n",
    "subjects[1:-2]"
   ]
  },
  {
   "cell_type": "code",
   "execution_count": 10,
   "metadata": {
    "collapsed": false
   },
   "outputs": [
    {
     "data": {
      "text/plain": [
       "['A1', 'C3', 'E5', 'G7']"
      ]
     },
     "execution_count": 10,
     "metadata": {},
     "output_type": "execute_result"
    }
   ],
   "source": [
    "subjects[::2]"
   ]
  },
  {
   "cell_type": "code",
   "execution_count": 61,
   "metadata": {
    "collapsed": false,
    "slideshow": {
     "slide_type": "skip"
    }
   },
   "outputs": [
    {
     "data": {
      "text/plain": [
       "['B2', 'C3', 'D4', 'E5', 'F6', 'G7']"
      ]
     },
     "execution_count": 61,
     "metadata": {},
     "output_type": "execute_result"
    }
   ],
   "source": [
    "subjects[1:]"
   ]
  },
  {
   "cell_type": "code",
   "execution_count": 62,
   "metadata": {
    "collapsed": false,
    "slideshow": {
     "slide_type": "skip"
    }
   },
   "outputs": [
    {
     "data": {
      "text/plain": [
       "['B2', 'C3', 'D4', 'E5', 'F6']"
      ]
     },
     "execution_count": 62,
     "metadata": {},
     "output_type": "execute_result"
    }
   ],
   "source": [
    "subjects[1:-1]"
   ]
  },
  {
   "cell_type": "markdown",
   "metadata": {
    "slideshow": {
     "slide_type": "skip"
    }
   },
   "source": [
    "You can also skip values using a second colon:"
   ]
  },
  {
   "cell_type": "code",
   "execution_count": 63,
   "metadata": {
    "collapsed": false,
    "slideshow": {
     "slide_type": "skip"
    }
   },
   "outputs": [
    {
     "data": {
      "text/plain": [
       "['B2', 'D4', 'F6']"
      ]
     },
     "execution_count": 63,
     "metadata": {},
     "output_type": "execute_result"
    }
   ],
   "source": [
    "subjects[1:-1:2]"
   ]
  },
  {
   "cell_type": "code",
   "execution_count": 64,
   "metadata": {
    "collapsed": false,
    "slideshow": {
     "slide_type": "skip"
    }
   },
   "outputs": [
    {
     "data": {
      "text/plain": [
       "['A1', 'C3', 'E5', 'G7']"
      ]
     },
     "execution_count": 64,
     "metadata": {},
     "output_type": "execute_result"
    }
   ],
   "source": [
    "subjects[::2]"
   ]
  },
  {
   "cell_type": "markdown",
   "metadata": {
    "slideshow": {
     "slide_type": "subslide"
    }
   },
   "source": [
    "## Indexed Assignment\n",
    "\n",
    "With Mutable objects, you can modify an element of a collection in-place via indexing and slicing!"
   ]
  },
  {
   "cell_type": "code",
   "execution_count": 13,
   "metadata": {
    "collapsed": false
   },
   "outputs": [
    {
     "name": "stdout",
     "output_type": "stream",
     "text": [
      "['A1', 'B2', 'C3', 'D4', 'E5', 'F6', 'G7']\n",
      "['A1', 'B2', 'C3', 'New Subject', 'E5', 'F6', 'G7']\n"
     ]
    }
   ],
   "source": [
    "subjects = ['A1', 'B2', 'C3', 'D4', 'E5', 'F6', 'G7']\n",
    "print(subjects)\n",
    "subjects[3] = 'New Subject'\n",
    "print(subjects)"
   ]
  },
  {
   "cell_type": "markdown",
   "metadata": {
    "slideshow": {
     "slide_type": "slide"
    }
   },
   "source": [
    "# Mutability and Identity of Variables"
   ]
  },
  {
   "cell_type": "markdown",
   "metadata": {
    "slideshow": {
     "slide_type": "subslide"
    }
   },
   "source": [
    "## Object Memory Identity: \"id()\" and the \"is\" operator\n",
    "\n",
    "While the comparison operators above examine the **value** of a variable, one can also check to see if two variables are the same piece of data in memory.  \n",
    "\n",
    "We can get the numeric memory address of the variable using the built-in **id()** function"
   ]
  },
  {
   "cell_type": "code",
   "execution_count": 18,
   "metadata": {
    "collapsed": false
   },
   "outputs": [
    {
     "data": {
      "text/plain": [
       "[50.23, 1000]"
      ]
     },
     "execution_count": 18,
     "metadata": {},
     "output_type": "execute_result"
    }
   ],
   "source": [
    "a = [50.23, 10]\n",
    "b = a\n",
    "b[1] = 1000\n",
    "a"
   ]
  },
  {
   "cell_type": "code",
   "execution_count": 76,
   "metadata": {
    "collapsed": false
   },
   "outputs": [
    {
     "data": {
      "text/plain": [
       "27152832"
      ]
     },
     "execution_count": 76,
     "metadata": {},
     "output_type": "execute_result"
    }
   ],
   "source": [
    "id(a)"
   ]
  },
  {
   "cell_type": "markdown",
   "metadata": {
    "slideshow": {
     "slide_type": "subslide"
    }
   },
   "source": [
    "# Mutable vs Immutable\n",
    "  - **Immutable** types cannot be modified.  Even if just their value would be changing, the entire variable is created completely new, with a new memory address.  \n",
    "     - Important Immutable classes: str, int, float, tuple\n",
    "  - **Mutable** types can be modified.  When their value is changed, they retain their identity.  \n",
    "     - Important Immutable classes: list, dict"
   ]
  },
  {
   "cell_type": "markdown",
   "metadata": {
    "slideshow": {
     "slide_type": "subslide"
    }
   },
   "source": [
    "# Aside: Things to Consider When Choosing a Proper Data Collection Type\n",
    "  - Do these pieces of data belong together?\n",
    "  - Is the size of my collection conceivably variable?\n",
    "  - How independent are these values, in terms of what they represent?\n",
    "    - Essentially: Is it important for my collection to be mutable?\n",
    "  - What technical requirements do I have for working with this data?"
   ]
  },
  {
   "cell_type": "markdown",
   "metadata": {
    "slideshow": {
     "slide_type": "subslide"
    }
   },
   "source": [
    "## Constant IDs are a very useful feature of Mutable objects\n",
    "  - Helps you avoid copying data\n",
    "  - Keeps code more readable"
   ]
  },
  {
   "cell_type": "code",
   "execution_count": 6,
   "metadata": {
    "collapsed": false
   },
   "outputs": [
    {
     "data": {
      "text/plain": [
       "NoneType"
      ]
     },
     "execution_count": 6,
     "metadata": {},
     "output_type": "execute_result"
    }
   ],
   "source": [
    "a = [1, 2, 3]\n",
    "b = a\n",
    "b = [1,2, 3]\n",
    "c = a.append(4)\n",
    "type(c)"
   ]
  },
  {
   "cell_type": "markdown",
   "metadata": {
    "slideshow": {
     "slide_type": "skip"
    }
   },
   "source": [
    "### Gotcha: Ints and Floats Have Unusual id() assignment behaviors!\n",
    "Only rely on the id() of an object if it is expessly mutable.  Basically dicts and lists.  ints and floats, on the other hand, are treated as mostly immutable objects, except in certain cases.  See the examples below; do they behave as you'd expect?"
   ]
  },
  {
   "cell_type": "code",
   "execution_count": 28,
   "metadata": {
    "collapsed": false,
    "slideshow": {
     "slide_type": "skip"
    }
   },
   "outputs": [
    {
     "data": {
      "text/plain": [
       "True"
      ]
     },
     "execution_count": 28,
     "metadata": {},
     "output_type": "execute_result"
    }
   ],
   "source": [
    "a = 3\n",
    "b = a\n",
    "a is b"
   ]
  },
  {
   "cell_type": "code",
   "execution_count": 29,
   "metadata": {
    "collapsed": false,
    "slideshow": {
     "slide_type": "skip"
    }
   },
   "outputs": [
    {
     "data": {
      "text/plain": [
       "False"
      ]
     },
     "execution_count": 29,
     "metadata": {},
     "output_type": "execute_result"
    }
   ],
   "source": [
    "a = 3\n",
    "b = a\n",
    "a = 4\n",
    "a is b"
   ]
  },
  {
   "cell_type": "code",
   "execution_count": 26,
   "metadata": {
    "collapsed": false,
    "slideshow": {
     "slide_type": "skip"
    }
   },
   "outputs": [
    {
     "data": {
      "text/plain": [
       "True"
      ]
     },
     "execution_count": 26,
     "metadata": {},
     "output_type": "execute_result"
    }
   ],
   "source": [
    "3 is 3"
   ]
  },
  {
   "cell_type": "code",
   "execution_count": 30,
   "metadata": {
    "collapsed": false,
    "slideshow": {
     "slide_type": "skip"
    }
   },
   "outputs": [
    {
     "data": {
      "text/plain": [
       "True"
      ]
     },
     "execution_count": 30,
     "metadata": {},
     "output_type": "execute_result"
    }
   ],
   "source": [
    "a = 3\n",
    "b = 3\n",
    "a is b"
   ]
  },
  {
   "cell_type": "code",
   "execution_count": 27,
   "metadata": {
    "collapsed": false,
    "slideshow": {
     "slide_type": "skip"
    }
   },
   "outputs": [
    {
     "data": {
      "text/plain": [
       "True"
      ]
     },
     "execution_count": 27,
     "metadata": {},
     "output_type": "execute_result"
    }
   ],
   "source": [
    "a, b = 3, 3\n",
    "a is b"
   ]
  },
  {
   "cell_type": "code",
   "execution_count": 32,
   "metadata": {
    "collapsed": false,
    "slideshow": {
     "slide_type": "skip"
    }
   },
   "outputs": [
    {
     "data": {
      "text/plain": [
       "False"
      ]
     },
     "execution_count": 32,
     "metadata": {},
     "output_type": "execute_result"
    }
   ],
   "source": [
    "a = 500  # ints above 255 are treated different here.\n",
    "b = 500\n",
    "a is b"
   ]
  },
  {
   "cell_type": "code",
   "execution_count": 33,
   "metadata": {
    "collapsed": false,
    "slideshow": {
     "slide_type": "skip"
    }
   },
   "outputs": [
    {
     "data": {
      "text/plain": [
       "True"
      ]
     },
     "execution_count": 33,
     "metadata": {},
     "output_type": "execute_result"
    }
   ],
   "source": [
    "a, b = 500, 500\n",
    "a is b"
   ]
  },
  {
   "cell_type": "markdown",
   "metadata": {
    "slideshow": {
     "slide_type": "slide"
    }
   },
   "source": [
    "# Loops\n",
    "\n",
    "Loops are used to repeat lines of code.\n",
    "  - To repeat the code until a certain condition is fulfilled, use a **while** loop\n",
    "  - To repeat the code a predetermined number of times, use a **for** loop."
   ]
  },
  {
   "cell_type": "markdown",
   "metadata": {
    "slideshow": {
     "slide_type": "subslide"
    }
   },
   "source": [
    "## While Loops\n",
    "\n",
    "While loops work basically the same as the if statement. \n",
    "\n",
    "**Caution**: It is possible to get infinite loops if you aren't careful! Use the Ctrl-C command to stop the program, if you find yourself in that situation!"
   ]
  },
  {
   "cell_type": "code",
   "execution_count": 105,
   "metadata": {
    "collapsed": false
   },
   "outputs": [
    {
     "name": "stdout",
     "output_type": "stream",
     "text": [
      "var is currently 0!\n",
      "var is currently 1!\n",
      "var is currently 2!\n",
      "var is currently 3!\n",
      "var is currently 4!\n"
     ]
    }
   ],
   "source": [
    "var = 0\n",
    "while var < 5:\n",
    "    print('var is currently {}!'.format(var))\n",
    "    var += 1"
   ]
  },
  {
   "cell_type": "markdown",
   "metadata": {
    "slideshow": {
     "slide_type": "slide"
    }
   },
   "source": [
    "# Iteration and the \"For\" Loop\n",
    "\n",
    "###  Aside: Terminology\n",
    "  - **Iteration** is the process of going through each element of a group, one at a time. If you can iterate through the object, it is said to be **Iterable**.\n",
    "    - For example, a list is an iterable, since it is a collection of multiple items.  Strings are also iterable.\n",
    "  - An **Iterator** is an iterable object."
   ]
  },
  {
   "cell_type": "markdown",
   "metadata": {
    "slideshow": {
     "slide_type": "subslide"
    }
   },
   "source": [
    "### The \"For loop\" requests each element from an iterator, one at a time, until all elements have been requested."
   ]
  },
  {
   "cell_type": "code",
   "execution_count": 9,
   "metadata": {
    "collapsed": false,
    "scrolled": true,
    "slideshow": {
     "slide_type": "-"
    }
   },
   "outputs": [
    {
     "name": "stdout",
     "output_type": "stream",
     "text": [
      "['A1', 'B2', 'C3', '94', 'E5', 'F6', 'G7']\n",
      "A1\n",
      "B2\n",
      "C3\n",
      "94\n",
      "E5\n",
      "F6\n",
      "G7\n",
      "Finished!\n"
     ]
    }
   ],
   "source": [
    "subjects = ['A1', 'B2', 'C3', '94', 'E5', 'F6', 'G7']\n",
    "print(subjects)\n",
    "\n",
    "for subject in subjects:\n",
    "    print(aliens)\n",
    "\n",
    "print('Finished!')\n"
   ]
  },
  {
   "cell_type": "markdown",
   "metadata": {
    "slideshow": {
     "slide_type": "subslide"
    }
   },
   "source": [
    "## Generators\n",
    " \n",
    "A **Generator** is a function that can create iterators that are not collections.  This means that each value is calculated and given only at the time that is requested.  This has huge computational benefits!\n",
    "  - In Python 3, the **range()**, **dict.keys()**, and **dict.values()** functions are generators. To make it a list, use the list constructor: list(dict.keys())  "
   ]
  },
  {
   "cell_type": "code",
   "execution_count": 19,
   "metadata": {
    "collapsed": false
   },
   "outputs": [
    {
     "name": "stdout",
     "output_type": "stream",
     "text": [
      "['A1', 'B2', 'C3', '94', 'E5', 'F6', 'G7']\n"
     ]
    }
   ],
   "source": [
    "print(subjects)\n",
    "for subject in subjects:\n",
    "    subject"
   ]
  },
  {
   "cell_type": "code",
   "execution_count": 85,
   "metadata": {
    "collapsed": false,
    "slideshow": {
     "slide_type": "skip"
    }
   },
   "outputs": [
    {
     "data": {
      "text/plain": [
       "[0, 1, 2, 3, 4]"
      ]
     },
     "execution_count": 85,
     "metadata": {},
     "output_type": "execute_result"
    }
   ],
   "source": [
    "list(rr)"
   ]
  },
  {
   "cell_type": "markdown",
   "metadata": {
    "slideshow": {
     "slide_type": "subslide"
    }
   },
   "source": [
    "## Counting your Elements: the enumerate() function\n",
    "\n",
    "**enumerate()** takes an iterator as input, and outputs an iterator of tuples: (index, element)"
   ]
  },
  {
   "cell_type": "code",
   "execution_count": 22,
   "metadata": {
    "collapsed": false
   },
   "outputs": [
    {
     "name": "stdout",
     "output_type": "stream",
     "text": [
      "Subject 0: A1\n",
      "Subject 1: B2\n",
      "Subject 2: C3\n",
      "Subject 3: 94\n",
      "Subject 4: E5\n",
      "Subject 5: F6\n",
      "Subject 6: G7\n"
     ]
    }
   ],
   "source": [
    "for idx, subject in enumerate(subjects):\n",
    "    print( 'Subject {}: {}'.format(idx, subject))"
   ]
  },
  {
   "cell_type": "markdown",
   "metadata": {
    "slideshow": {
     "slide_type": "subslide"
    }
   },
   "source": [
    "## Iterating through Multiple Iterators: the zip() function\n",
    "\n",
    "The **zip()** function takes multiple iterators and returns the elements of each of them at a time!"
   ]
  },
  {
   "cell_type": "code",
   "execution_count": 27,
   "metadata": {
    "collapsed": false
   },
   "outputs": [
    {
     "name": "stdout",
     "output_type": "stream",
     "text": [
      "Subject A1 was in Condition Exp\n",
      "Subject B2 was in Condition Ctl\n",
      "Subject C3 was in Condition Exp\n",
      "Subject D4 was in Condition Ctl\n"
     ]
    }
   ],
   "source": [
    "subjects = ['A1', 'B2', 'C3', 'D4']\n",
    "conditions = ['Exp', 'Ctl', 'Exp', 'Ctl']\n",
    "\n",
    "for subject, condition in zip(subjects, conditions):\n",
    "    print( 'Subject {} was in Condition {}'.format(subject, condition))"
   ]
  },
  {
   "cell_type": "markdown",
   "metadata": {
    "slideshow": {
     "slide_type": "subslide"
    }
   },
   "source": [
    "## Advanced Example: Combining zip() and enumerate()"
   ]
  },
  {
   "cell_type": "code",
   "execution_count": 28,
   "metadata": {
    "collapsed": false
   },
   "outputs": [
    {
     "name": "stdout",
     "output_type": "stream",
     "text": [
      "[(0, ('A1', 'Exp')), (1, ('B2', 'Ctl')), (2, ('C3', 'Exp')), (3, ('D4', 'Ctl'))]\n"
     ]
    }
   ],
   "source": [
    "subjects = ['A1', 'B2', 'C3', 'D4']\n",
    "conditions = ['Exp', 'Ctl', 'Exp', 'Ctl']\n",
    "for index, (subject, condition) in enumerate(zip(subjects, conditions)):\n",
    "    print( '{}: Subject {} was in Condition {}'.format(index, subject, condition))"
   ]
  },
  {
   "cell_type": "markdown",
   "metadata": {
    "slideshow": {
     "slide_type": "subslide"
    }
   },
   "source": [
    "## Iterating through Dicts\n",
    "By default, each element of a dict will simply give its key.  For example:"
   ]
  },
  {
   "cell_type": "code",
   "execution_count": 29,
   "metadata": {
    "collapsed": false
   },
   "outputs": [
    {
     "name": "stdout",
     "output_type": "stream",
     "text": [
      "2\n",
      "8\n",
      "6\n"
     ]
    }
   ],
   "source": [
    "subj_count = {'A': 6, 'B': 8, 'C': 2}\n",
    "for condition in subj_count:\n",
    "    print(subj_count[condition])"
   ]
  },
  {
   "cell_type": "markdown",
   "metadata": {
    "slideshow": {
     "slide_type": "subslide"
    }
   },
   "source": [
    "To get values alone, use **dict.values()**:"
   ]
  },
  {
   "cell_type": "code",
   "execution_count": 100,
   "metadata": {
    "collapsed": false
   },
   "outputs": [
    {
     "name": "stdout",
     "output_type": "stream",
     "text": [
      "6\n",
      "2\n",
      "8\n"
     ]
    }
   ],
   "source": [
    "subj_count = {'A': 6, 'B': 8, 'C': 2}\n",
    "for total in subj_count.values():\n",
    "    print(total)"
   ]
  },
  {
   "cell_type": "markdown",
   "metadata": {
    "slideshow": {
     "slide_type": "subslide"
    }
   },
   "source": [
    "To get the key, value pairs, use **dict.items()**:"
   ]
  },
  {
   "cell_type": "code",
   "execution_count": 101,
   "metadata": {
    "collapsed": false
   },
   "outputs": [
    {
     "name": "stdout",
     "output_type": "stream",
     "text": [
      "6 Subjects were in Condition A\n",
      "2 Subjects were in Condition C\n",
      "8 Subjects were in Condition B\n"
     ]
    }
   ],
   "source": [
    "subj_count = {'A': 6, 'B': 8, 'C': 2}\n",
    "for condition, total in subj_count.items():\n",
    "    print('{} Subjects were in Condition {}'.format(total, condition))"
   ]
  },
  {
   "cell_type": "markdown",
   "metadata": {
    "slideshow": {
     "slide_type": "slide"
    }
   },
   "source": [
    "# List Comprehensions: Single-Line For Loops\n",
    "\n",
    "Sometimes, you just want to do a simple calculation and build a new list out of an old list!  Python's **List Comprehensions** feature is really great for this!"
   ]
  },
  {
   "cell_type": "code",
   "execution_count": 32,
   "metadata": {
    "collapsed": false
   },
   "outputs": [
    {
     "data": {
      "text/plain": [
       "['A', 'B', 'C', 'D']"
      ]
     },
     "execution_count": 32,
     "metadata": {},
     "output_type": "execute_result"
    }
   ],
   "source": [
    "subjects = ['A1', 'B2', 'C3', 'D4']\n",
    "subject_letter = [subject[0] for subject in subjects]\n",
    "subject_letter"
   ]
  },
  {
   "cell_type": "code",
   "execution_count": 94,
   "metadata": {
    "collapsed": false
   },
   "outputs": [
    {
     "data": {
      "text/plain": [
       "['SubjA1', 'SubjB2', 'SubjC3', 'SubjD4']"
      ]
     },
     "execution_count": 94,
     "metadata": {},
     "output_type": "execute_result"
    }
   ],
   "source": [
    "full_subject_names = ['Subj' + subject for subject in subjects]\n",
    "full_subject_names"
   ]
  },
  {
   "cell_type": "markdown",
   "metadata": {
    "slideshow": {
     "slide_type": "subslide"
    }
   },
   "source": [
    "# Conditional List Comprehensions\n",
    "You can also only include values for going in the new list if a given statement is True!"
   ]
  },
  {
   "cell_type": "code",
   "execution_count": 36,
   "metadata": {
    "collapsed": false
   },
   "outputs": [
    {
     "data": {
      "text/plain": [
       "{'A1': 2, 'B2': 2, 'C3': 2, 'D4': 2}"
      ]
     },
     "execution_count": 36,
     "metadata": {},
     "output_type": "execute_result"
    }
   ],
   "source": [
    "subjects = ['A1', 'B2', 'C3', 'D4']\n",
    "high_subjects = {subject: 2 for subject in subjects if int(subject[1])}\n",
    "high_subjects"
   ]
  },
  {
   "cell_type": "markdown",
   "metadata": {
    "slideshow": {
     "slide_type": "slide"
    }
   },
   "source": [
    "## This Lecture's Learning Goals:\n",
    "\n",
    "  - What is the pattern for Python's **\"Meaningful Whitespace,\"** and Why does it exist?\n",
    "  - How do **if-else statements** work in Python?\n",
    "  - How do you perform **conditional variable assignment** in Python?\n",
    "  - How do you **Index** and **Slice** collections in Python?\n",
    "  - What are **Iterators**?  How do you iterate in Python?\n",
    "  - How do you perform **C-Style For Loops** in Python?\n",
    "  - How do you use **List Comprehensions** to **filter** lists?"
   ]
  },
  {
   "cell_type": "markdown",
   "metadata": {
    "slideshow": {
     "slide_type": "slide"
    }
   },
   "source": [
    "# Questions / Discussion"
   ]
  },
  {
   "cell_type": "code",
   "execution_count": null,
   "metadata": {
    "collapsed": true
   },
   "outputs": [],
   "source": []
  }
 ],
 "metadata": {
  "celltoolbar": "Slideshow",
  "kernelspec": {
   "display_name": "Python 3",
   "language": "python",
   "name": "python3"
  },
  "language_info": {
   "codemirror_mode": {
    "name": "ipython",
    "version": 3
   },
   "file_extension": ".py",
   "mimetype": "text/x-python",
   "name": "python",
   "nbconvert_exporter": "python",
   "pygments_lexer": "ipython3",
   "version": "3.5.1"
  }
 },
 "nbformat": 4,
 "nbformat_minor": 0
}
