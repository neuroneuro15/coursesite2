{
 "cells": [
  {
   "cell_type": "markdown",
   "metadata": {},
   "source": [
    "# Homework 6: Stroop Test Analysis with Pandas\n",
    "\n",
    "Perform the same analysis as in Homework 3, on the same data.  While this is the same dataset, and the same analysis sequence, the different data organization (a data frame) will have a different \"feel\" to it than before.  As you work through the notebook, notice the differences and similarities in your code as when you were just working with 1D Numpy arrays."
   ]
  },
  {
   "cell_type": "code",
   "execution_count": 1,
   "metadata": {
    "collapsed": true
   },
   "outputs": [],
   "source": [
    "from os import path\n",
    "import pandas as pd\n",
    "import numpy as np\n",
    "import matplotlib\n",
    "import matplotlib.pyplot as plt\n",
    "\n",
    "%matplotlib inline\n",
    "matplotlib.style.use('ggplot')"
   ]
  },
  {
   "cell_type": "markdown",
   "metadata": {},
   "source": [
    "While exploring pandas, you may have |also noticed pandas.np.  Yep, it's NumPy! "
   ]
  },
  {
   "cell_type": "code",
   "execution_count": 2,
   "metadata": {
    "collapsed": false
   },
   "outputs": [
    {
     "name": "stdout",
     "output_type": "stream",
     "text": [
      "numpy\n"
     ]
    }
   ],
   "source": [
    "print(pd.np.__name__)"
   ]
  },
  {
   "cell_type": "markdown",
   "metadata": {},
   "source": [
    " Don't worry about whether you use the numpy that pandas imports or that you import--they are exactly the same, and numpy will only actually be imported once.  This is a general rule for all python packages."
   ]
  },
  {
   "cell_type": "code",
   "execution_count": 3,
   "metadata": {
    "collapsed": false
   },
   "outputs": [
    {
     "data": {
      "text/plain": [
       "True"
      ]
     },
     "execution_count": 3,
     "metadata": {},
     "output_type": "execute_result"
    }
   ],
   "source": [
    "pd.np is np"
   ]
  },
  {
   "cell_type": "markdown",
   "metadata": {},
   "source": [
    "# Set Paths\n",
    "The Data for this homework assignment is actually the same as the data from last week, except we'll be working directly from the original CSV File, which contains all of the data.  CSV Files are text files that store data in rows and columns.\n",
    "\n",
    "The Data File: 'Homework Sample Data/Homework 6'/'StroopData.csv'"
   ]
  },
  {
   "cell_type": "code",
   "execution_count": 2,
   "metadata": {
    "collapsed": false
   },
   "outputs": [
    {
     "data": {
      "text/plain": [
       "'Homework Sample Data/Homework 6/StroopData.csv'"
      ]
     },
     "execution_count": 2,
     "metadata": {},
     "output_type": "execute_result"
    }
   ],
   "source": [
    "data_dir = path.join('Homework Sample Data', 'Homework 6')\n",
    "filename =  path.join(data_dir, 'StroopData.csv')\n",
    "filename"
   ]
  },
  {
   "cell_type": "markdown",
   "metadata": {},
   "source": [
    "# Load the CSV File into an Pandas DataFrame\n",
    "\n",
    "This is a lot of data! To display just the first 5 rows of the data (useful in these notebooks), use the **head()** method on the dataframe.  Note: The **Condition** column says whether the word displayed matches (Congruent) or doesn't match (Incongruent) its color."
   ]
  },
  {
   "cell_type": "code",
   "execution_count": 3,
   "metadata": {
    "collapsed": false
   },
   "outputs": [
    {
     "data": {
      "text/html": [
       "<div>\n",
       "<table border=\"1\" class=\"dataframe\">\n",
       "  <thead>\n",
       "    <tr style=\"text-align: right;\">\n",
       "      <th></th>\n",
       "      <th>ClassID</th>\n",
       "      <th>UserID</th>\n",
       "      <th>NumTrial</th>\n",
       "      <th>Condition</th>\n",
       "      <th>ColorORWord</th>\n",
       "      <th>WordDisplayed</th>\n",
       "      <th>ColorOfStimulus</th>\n",
       "      <th>ColorOfResponse</th>\n",
       "      <th>ReactionTime</th>\n",
       "      <th>Gender</th>\n",
       "      <th>Age</th>\n",
       "    </tr>\n",
       "  </thead>\n",
       "  <tbody>\n",
       "    <tr>\n",
       "      <th>0</th>\n",
       "      <td>6110</td>\n",
       "      <td>156772</td>\n",
       "      <td>1</td>\n",
       "      <td>ConW</td>\n",
       "      <td>C</td>\n",
       "      <td>YELLOW</td>\n",
       "      <td>Y</td>\n",
       "      <td>Y</td>\n",
       "      <td>1389.0</td>\n",
       "      <td>M</td>\n",
       "      <td>26</td>\n",
       "    </tr>\n",
       "    <tr>\n",
       "      <th>1</th>\n",
       "      <td>6110</td>\n",
       "      <td>156772</td>\n",
       "      <td>2</td>\n",
       "      <td>ConW</td>\n",
       "      <td>C</td>\n",
       "      <td>GREEN</td>\n",
       "      <td>G</td>\n",
       "      <td>G</td>\n",
       "      <td>2043.0</td>\n",
       "      <td>M</td>\n",
       "      <td>26</td>\n",
       "    </tr>\n",
       "    <tr>\n",
       "      <th>2</th>\n",
       "      <td>6110</td>\n",
       "      <td>156772</td>\n",
       "      <td>3</td>\n",
       "      <td>ConW</td>\n",
       "      <td>C</td>\n",
       "      <td>RED</td>\n",
       "      <td>R</td>\n",
       "      <td>R</td>\n",
       "      <td>1389.0</td>\n",
       "      <td>M</td>\n",
       "      <td>26</td>\n",
       "    </tr>\n",
       "    <tr>\n",
       "      <th>3</th>\n",
       "      <td>6110</td>\n",
       "      <td>156772</td>\n",
       "      <td>4</td>\n",
       "      <td>ConW</td>\n",
       "      <td>C</td>\n",
       "      <td>YELLOW</td>\n",
       "      <td>Y</td>\n",
       "      <td>Y</td>\n",
       "      <td>1092.0</td>\n",
       "      <td>M</td>\n",
       "      <td>26</td>\n",
       "    </tr>\n",
       "    <tr>\n",
       "      <th>4</th>\n",
       "      <td>6110</td>\n",
       "      <td>156772</td>\n",
       "      <td>5</td>\n",
       "      <td>ConW</td>\n",
       "      <td>C</td>\n",
       "      <td>GREEN</td>\n",
       "      <td>G</td>\n",
       "      <td>G</td>\n",
       "      <td>1310.0</td>\n",
       "      <td>M</td>\n",
       "      <td>26</td>\n",
       "    </tr>\n",
       "  </tbody>\n",
       "</table>\n",
       "</div>"
      ],
      "text/plain": [
       "   ClassID  UserID  NumTrial Condition ColorORWord WordDisplayed  \\\n",
       "0     6110  156772         1      ConW           C        YELLOW   \n",
       "1     6110  156772         2      ConW           C         GREEN   \n",
       "2     6110  156772         3      ConW           C           RED   \n",
       "3     6110  156772         4      ConW           C        YELLOW   \n",
       "4     6110  156772         5      ConW           C         GREEN   \n",
       "\n",
       "  ColorOfStimulus ColorOfResponse  ReactionTime Gender  Age  \n",
       "0               Y               Y        1389.0      M   26  \n",
       "1               G               G        2043.0      M   26  \n",
       "2               R               R        1389.0      M   26  \n",
       "3               Y               Y        1092.0      M   26  \n",
       "4               G               G        1310.0      M   26  "
      ]
     },
     "execution_count": 3,
     "metadata": {},
     "output_type": "execute_result"
    }
   ],
   "source": [
    "df = pd.read_csv(filename)\n",
    "df.head()"
   ]
  },
  {
   "cell_type": "markdown",
   "metadata": {},
   "source": [
    "## How Many Trials were there in total across all subjects?"
   ]
  },
  {
   "cell_type": "code",
   "execution_count": 4,
   "metadata": {
    "collapsed": false
   },
   "outputs": [
    {
     "data": {
      "text/plain": [
       "2880"
      ]
     },
     "execution_count": 4,
     "metadata": {},
     "output_type": "execute_result"
    }
   ],
   "source": [
    "len(df)"
   ]
  },
  {
   "cell_type": "markdown",
   "metadata": {},
   "source": [
    "## How Many Unique Subject IDs were there in this study?"
   ]
  },
  {
   "cell_type": "code",
   "execution_count": 7,
   "metadata": {
    "collapsed": false
   },
   "outputs": [
    {
     "data": {
      "text/plain": [
       "32"
      ]
     },
     "execution_count": 7,
     "metadata": {},
     "output_type": "execute_result"
    }
   ],
   "source": [
    "len(pd.unique(df['UserID']))"
   ]
  },
  {
   "cell_type": "markdown",
   "metadata": {},
   "source": [
    "New Approach: If you change a column's type to **Category**, python will treat numbers the same way it treats strings!  (Note: this isn't completely implemented by Pandas yet, but is a standard feature in dataframes across languages and statistical software) "
   ]
  },
  {
   "cell_type": "code",
   "execution_count": 8,
   "metadata": {
    "collapsed": false
   },
   "outputs": [
    {
     "data": {
      "text/plain": [
       "count       2880\n",
       "unique        32\n",
       "top       156885\n",
       "freq          90\n",
       "Name: UserIDCat, dtype: int64"
      ]
     },
     "execution_count": 8,
     "metadata": {},
     "output_type": "execute_result"
    }
   ],
   "source": [
    "df['UserIDCat'] = df['UserID'].astype('category')\n",
    "df['UserIDCat'].describe()"
   ]
  },
  {
   "cell_type": "markdown",
   "metadata": {},
   "source": [
    "## What is the mean response time, across all subjects and conditions?"
   ]
  },
  {
   "cell_type": "code",
   "execution_count": 5,
   "metadata": {
    "collapsed": false
   },
   "outputs": [
    {
     "data": {
      "text/plain": [
       "2136.1878472222224"
      ]
     },
     "execution_count": 5,
     "metadata": {},
     "output_type": "execute_result"
    }
   ],
   "source": [
    "df['ReactionTime'].mean()"
   ]
  },
  {
   "cell_type": "markdown",
   "metadata": {},
   "source": [
    "## Plot a histogram of the response times\n",
    "(Don't forget to make sure that **%matplotlib inline** has been run already in this notebook, or the plot may not show up!)"
   ]
  },
  {
   "cell_type": "code",
   "execution_count": 7,
   "metadata": {
    "collapsed": false
   },
   "outputs": [
    {
     "data": {
      "text/plain": [
       "<matplotlib.axes._subplots.AxesSubplot at 0x7f6ffc456a20>"
      ]
     },
     "execution_count": 7,
     "metadata": {},
     "output_type": "execute_result"
    },
    {
     "data": {
      "image/png": "[encoded data removed]",
      "text/plain": [
       "<matplotlib.figure.Figure at 0x7f6ffc471fd0>"
      ]
     },
     "metadata": {},
     "output_type": "display_data"
    }
   ],
   "source": [
    "df.plot.hist(y='ReactionTime', bins=100)"
   ]
  },
  {
   "cell_type": "markdown",
   "metadata": {},
   "source": [
    "## Remove Outliers\n",
    "Make a \"Good Trials\" column, with False values for response times greater than 5000 msecs.  There is no way they should have taken that long!  Then, plot the RT histogram with only the good columns!"
   ]
  },
  {
   "cell_type": "code",
   "execution_count": 9,
   "metadata": {
    "collapsed": false
   },
   "outputs": [
    {
     "data": {
      "text/html": [
       "<div>\n",
       "<table border=\"1\" class=\"dataframe\">\n",
       "  <thead>\n",
       "    <tr style=\"text-align: right;\">\n",
       "      <th></th>\n",
       "      <th>ClassID</th>\n",
       "      <th>UserID</th>\n",
       "      <th>NumTrial</th>\n",
       "      <th>Condition</th>\n",
       "      <th>ColorORWord</th>\n",
       "      <th>WordDisplayed</th>\n",
       "      <th>ColorOfStimulus</th>\n",
       "      <th>ColorOfResponse</th>\n",
       "      <th>ReactionTime</th>\n",
       "      <th>Gender</th>\n",
       "      <th>Age</th>\n",
       "      <th>GoodTrials</th>\n",
       "    </tr>\n",
       "  </thead>\n",
       "  <tbody>\n",
       "    <tr>\n",
       "      <th>0</th>\n",
       "      <td>6110</td>\n",
       "      <td>156772</td>\n",
       "      <td>1</td>\n",
       "      <td>ConW</td>\n",
       "      <td>C</td>\n",
       "      <td>YELLOW</td>\n",
       "      <td>Y</td>\n",
       "      <td>Y</td>\n",
       "      <td>1389.0</td>\n",
       "      <td>M</td>\n",
       "      <td>26</td>\n",
       "      <td>True</td>\n",
       "    </tr>\n",
       "    <tr>\n",
       "      <th>1</th>\n",
       "      <td>6110</td>\n",
       "      <td>156772</td>\n",
       "      <td>2</td>\n",
       "      <td>ConW</td>\n",
       "      <td>C</td>\n",
       "      <td>GREEN</td>\n",
       "      <td>G</td>\n",
       "      <td>G</td>\n",
       "      <td>2043.0</td>\n",
       "      <td>M</td>\n",
       "      <td>26</td>\n",
       "      <td>True</td>\n",
       "    </tr>\n",
       "    <tr>\n",
       "      <th>2</th>\n",
       "      <td>6110</td>\n",
       "      <td>156772</td>\n",
       "      <td>3</td>\n",
       "      <td>ConW</td>\n",
       "      <td>C</td>\n",
       "      <td>RED</td>\n",
       "      <td>R</td>\n",
       "      <td>R</td>\n",
       "      <td>1389.0</td>\n",
       "      <td>M</td>\n",
       "      <td>26</td>\n",
       "      <td>True</td>\n",
       "    </tr>\n",
       "    <tr>\n",
       "      <th>3</th>\n",
       "      <td>6110</td>\n",
       "      <td>156772</td>\n",
       "      <td>4</td>\n",
       "      <td>ConW</td>\n",
       "      <td>C</td>\n",
       "      <td>YELLOW</td>\n",
       "      <td>Y</td>\n",
       "      <td>Y</td>\n",
       "      <td>1092.0</td>\n",
       "      <td>M</td>\n",
       "      <td>26</td>\n",
       "      <td>True</td>\n",
       "    </tr>\n",
       "    <tr>\n",
       "      <th>4</th>\n",
       "      <td>6110</td>\n",
       "      <td>156772</td>\n",
       "      <td>5</td>\n",
       "      <td>ConW</td>\n",
       "      <td>C</td>\n",
       "      <td>GREEN</td>\n",
       "      <td>G</td>\n",
       "      <td>G</td>\n",
       "      <td>1310.0</td>\n",
       "      <td>M</td>\n",
       "      <td>26</td>\n",
       "      <td>True</td>\n",
       "    </tr>\n",
       "  </tbody>\n",
       "</table>\n",
       "</div>"
      ],
      "text/plain": [
       "   ClassID  UserID  NumTrial Condition ColorORWord WordDisplayed  \\\n",
       "0     6110  156772         1      ConW           C        YELLOW   \n",
       "1     6110  156772         2      ConW           C         GREEN   \n",
       "2     6110  156772         3      ConW           C           RED   \n",
       "3     6110  156772         4      ConW           C        YELLOW   \n",
       "4     6110  156772         5      ConW           C         GREEN   \n",
       "\n",
       "  ColorOfStimulus ColorOfResponse  ReactionTime Gender  Age GoodTrials  \n",
       "0               Y               Y        1389.0      M   26       True  \n",
       "1               G               G        2043.0      M   26       True  \n",
       "2               R               R        1389.0      M   26       True  \n",
       "3               Y               Y        1092.0      M   26       True  \n",
       "4               G               G        1310.0      M   26       True  "
      ]
     },
     "execution_count": 9,
     "metadata": {},
     "output_type": "execute_result"
    }
   ],
   "source": [
    "df['GoodTrials'] = df['ReactionTime'] < 5000\n",
    "df.head()"
   ]
  },
  {
   "cell_type": "code",
   "execution_count": 8,
   "metadata": {
    "collapsed": false
   },
   "outputs": [
    {
     "data": {
      "text/plain": [
       "<matplotlib.axes._subplots.AxesSubplot at 0x7f6ffc3fdcf8>"
      ]
     },
     "execution_count": 8,
     "metadata": {},
     "output_type": "execute_result"
    },
    {
     "data": {
      "image/png": "[encoded data removed]",
      "text/plain": [
       "<matplotlib.figure.Figure at 0x7f6ffbeaf630>"
      ]
     },
     "metadata": {},
     "output_type": "display_data"
    }
   ],
   "source": [
    "df[df['GoodTrials']].plot.hist(y='ReactionTime', title='Response Times over all Subjects')"
   ]
  },
  {
   "cell_type": "markdown",
   "metadata": {},
   "source": [
    "## Transform the Response Times\n",
    "\n",
    "You should see that the responses are not normally distributed (if you can't see this, try using a higher number of **bins** in your histogram function).  While this isn't really a problem, it's very convenient when you have normally-distributed data.  Let's try transforming it to get something a bit nicer for statistical analysis...\n",
    "\n",
    "  - Make a new column with the **log** of the response times.  \n",
    "  - Plot a new histogram!"
   ]
  },
  {
   "cell_type": "code",
   "execution_count": 11,
   "metadata": {
    "collapsed": false
   },
   "outputs": [
    {
     "data": {
      "text/plain": [
       "<matplotlib.axes._subplots.AxesSubplot at 0x7f6ffbd06e48>"
      ]
     },
     "execution_count": 11,
     "metadata": {},
     "output_type": "execute_result"
    },
    {
     "data": {
      "image/png": "[encoded data removed]",
      "text/plain": [
       "<matplotlib.figure.Figure at 0x7f6ffbd03f98>"
      ]
     },
     "metadata": {},
     "output_type": "display_data"
    }
   ],
   "source": [
    "df['LogRT'] = np.log(df['ReactionTime'])\n",
    "df[df['GoodTrials']].plot.hist(y='LogRT', title='Response Times over all Subjects')"
   ]
  },
  {
   "cell_type": "markdown",
   "metadata": {},
   "source": [
    "## Reject Bad Data\n",
    "\n",
    "Now, that's a little nicer!  But wait... there's are some trials that seem to be on the low end, as well-- those with **log response times less than 5.7**.  After much consideration and deliberation with my supervisor, I've decided to remove those trials from my whole analysis, too! \n",
    "\n",
    "Make those too-slow trials also \"False\" in the \"Good Trials\" column, and plot the new, cleaner histogram!"
   ]
  },
  {
   "cell_type": "code",
   "execution_count": 12,
   "metadata": {
    "collapsed": false
   },
   "outputs": [
    {
     "data": {
      "text/plain": [
       "<matplotlib.axes._subplots.AxesSubplot at 0x7f6ffbca3160>"
      ]
     },
     "execution_count": 12,
     "metadata": {},
     "output_type": "execute_result"
    },
    {
     "data": {
      "image/png": "[encoded data removed]",
      "text/plain": [
       "<matplotlib.figure.Figure at 0x7f6ffbc094e0>"
      ]
     },
     "metadata": {},
     "output_type": "display_data"
    }
   ],
   "source": [
    "df['GoodTrials'] &= df['LogRT'] > 5.7\n",
    "df[df['GoodTrials']].plot.hist(y='LogRT', title='Response Time Distribution over all Subjects\\nafter Outlier Removal')"
   ]
  },
  {
   "cell_type": "markdown",
   "metadata": {},
   "source": [
    "## Overall, what was the accuracy of the responses? \n",
    "  - How many trials in total were correct (stimcolor matched respcolor), \n",
    "  - how many were incorrect, and \n",
    "  - what percent accuracy was there, overall?"
   ]
  },
  {
   "cell_type": "code",
   "execution_count": 13,
   "metadata": {
    "collapsed": false
   },
   "outputs": [
    {
     "name": "stdout",
     "output_type": "stream",
     "text": [
      "   ClassID  UserID  NumTrial Condition ColorORWord WordDisplayed  \\\n",
      "0     6110  156772         1      ConW           C        YELLOW   \n",
      "1     6110  156772         2      ConW           C         GREEN   \n",
      "2     6110  156772         3      ConW           C           RED   \n",
      "3     6110  156772         4      ConW           C        YELLOW   \n",
      "4     6110  156772         5      ConW           C         GREEN   \n",
      "\n",
      "  ColorOfStimulus ColorOfResponse  ReactionTime Gender  Age GoodTrials  \\\n",
      "0               Y               Y        1389.0      M   26       True   \n",
      "1               G               G        2043.0      M   26       True   \n",
      "2               R               R        1389.0      M   26       True   \n",
      "3               Y               Y        1092.0      M   26       True   \n",
      "4               G               G        1310.0      M   26       True   \n",
      "\n",
      "      LogRT Correct  \n",
      "0  7.236339    True  \n",
      "1  7.622175    True  \n",
      "2  7.236339    True  \n",
      "3  6.995766    True  \n",
      "4  7.177782    True  \n"
     ]
    }
   ],
   "source": [
    "df['Correct'] = df['ColorOfStimulus'] == df['ColorOfResponse']\n",
    "print(df.head())\n",
    "df = df[df['GoodTrials']]  # Analyze only the kept trials"
   ]
  },
  {
   "cell_type": "markdown",
   "metadata": {},
   "source": [
    "### Correct"
   ]
  },
  {
   "cell_type": "code",
   "execution_count": 14,
   "metadata": {
    "collapsed": false
   },
   "outputs": [
    {
     "data": {
      "text/plain": [
       "2629"
      ]
     },
     "execution_count": 14,
     "metadata": {},
     "output_type": "execute_result"
    }
   ],
   "source": [
    "df['Correct'].sum()"
   ]
  },
  {
   "cell_type": "markdown",
   "metadata": {},
   "source": [
    "### Incorrect"
   ]
  },
  {
   "cell_type": "code",
   "execution_count": 15,
   "metadata": {
    "collapsed": false
   },
   "outputs": [
    {
     "data": {
      "text/plain": [
       "81"
      ]
     },
     "execution_count": 15,
     "metadata": {},
     "output_type": "execute_result"
    }
   ],
   "source": [
    "(df['Correct'] == False).sum()"
   ]
  },
  {
   "cell_type": "markdown",
   "metadata": {},
   "source": [
    "### Accuracy"
   ]
  },
  {
   "cell_type": "code",
   "execution_count": 16,
   "metadata": {
    "collapsed": false
   },
   "outputs": [
    {
     "data": {
      "text/plain": [
       "0.97011070110701103"
      ]
     },
     "execution_count": 16,
     "metadata": {},
     "output_type": "execute_result"
    }
   ],
   "source": [
    "df['Correct'].mean()"
   ]
  },
  {
   "cell_type": "markdown",
   "metadata": {},
   "source": [
    "Rather than using section headers for every single result, it's probably better to use formatted strings to report your results in a nicer format."
   ]
  },
  {
   "cell_type": "code",
   "execution_count": 17,
   "metadata": {
    "collapsed": false
   },
   "outputs": [
    {
     "data": {
      "text/plain": [
       "'Accuracy: 97.01%'"
      ]
     },
     "execution_count": 17,
     "metadata": {},
     "output_type": "execute_result"
    }
   ],
   "source": [
    "accuracy = df['Correct'].mean()\n",
    "'Accuracy: {:.2%}'.format(accuracy)"
   ]
  },
  {
   "cell_type": "markdown",
   "metadata": {},
   "source": [
    "## Matched vs Unmatched Colors: \n",
    "\n",
    "  - What was the mean log response time for Congruent trials (the stimulus word and color matched each other)?  \n",
    "  - What was the mean log response time for Incongruent trials (when they did not match)?"
   ]
  },
  {
   "cell_type": "code",
   "execution_count": 19,
   "metadata": {
    "collapsed": false
   },
   "outputs": [
    {
     "data": {
      "text/plain": [
       "Condition\n",
       "ConW    7.043540\n",
       "IncW    7.594469\n",
       "Name: LogRT, dtype: float64"
      ]
     },
     "execution_count": 19,
     "metadata": {},
     "output_type": "execute_result"
    }
   ],
   "source": [
    "conds = df.groupby('Condition')\n",
    "conds.LogRT.mean()"
   ]
  },
  {
   "cell_type": "markdown",
   "metadata": {},
   "source": [
    "## Make a Bar Graph of Log Response Time\n",
    "The bar graph should show Mean Log Response Times for the Congruent and Incongruent conditions, with Standard-Deviation Error Bars.  Put text labels on the x access showing which bars go with which condition.\n",
    "\n",
    "For help and an example, take a look at http://matplotlib.org/examples/api/barchart_demo.html"
   ]
  },
  {
   "cell_type": "code",
   "execution_count": 20,
   "metadata": {
    "collapsed": false
   },
   "outputs": [
    {
     "data": {
      "text/plain": [
       "Condition\n",
       "ConW    0.335484\n",
       "IncW    0.354580\n",
       "Name: LogRT, dtype: float64"
      ]
     },
     "execution_count": 20,
     "metadata": {},
     "output_type": "execute_result"
    },
    {
     "data": {
      "image/png": "[encoded data removed]",
      "text/plain": [
       "<matplotlib.figure.Figure at 0x7fa1d7d62358>"
      ]
     },
     "metadata": {},
     "output_type": "display_data"
    }
   ],
   "source": [
    "cond_rt = conds.LogRT\n",
    "cond_rt.mean().plot.bar(legend=True, yerr=cond_rt.std(), \n",
    "                        title='Mean Response Times by Condition')\n",
    "cond_rt.std()"
   ]
  },
  {
   "cell_type": "markdown",
   "metadata": {},
   "source": [
    "# Make a Bar Graph of Response Time\n",
    "\n",
    "The logged data doesn't make a very good impression of just how big an effect this is, sadly.  Let's make the same bar graph, but this time with the original response times, in milliseconds."
   ]
  },
  {
   "cell_type": "code",
   "execution_count": 21,
   "metadata": {
    "collapsed": false
   },
   "outputs": [
    {
     "data": {
      "text/plain": [
       "<matplotlib.axes._subplots.AxesSubplot at 0x7fa1d7e80b70>"
      ]
     },
     "execution_count": 21,
     "metadata": {},
     "output_type": "execute_result"
    },
    {
     "data": {
      "image/png": "[encoded data removed]",
      "text/plain": [
       "<matplotlib.figure.Figure at 0x7fa1d7d2e710>"
      ]
     },
     "metadata": {},
     "output_type": "display_data"
    }
   ],
   "source": [
    "cond_rt = conds.ReactionTime\n",
    "cond_rt.mean().plot.bar(legend=True, yerr=cond_rt.std(), \n",
    "                        title='Mean Response Times by Condition')"
   ]
  },
  {
   "cell_type": "markdown",
   "metadata": {},
   "source": [
    "# Change in Performance over Time\n",
    "\n",
    "In experiments like this, we assume that each trial is independent of each other.  Often, this isn't the case, and not taking that into account can sometimes lead to some wrong conclusions.  Let's see what we can find...\n",
    "\n",
    "### How did reaction time change over the course of a session? \n",
    "\n",
    "Were earlier trials faster or slower than later trials in a session, overall?  Make a scatter plot of the response times over the trial numbers!"
   ]
  },
  {
   "cell_type": "code",
   "execution_count": 25,
   "metadata": {
    "collapsed": false
   },
   "outputs": [
    {
     "data": {
      "text/plain": [
       "<matplotlib.axes._subplots.AxesSubplot at 0x7fa1d7bfec88>"
      ]
     },
     "execution_count": 25,
     "metadata": {},
     "output_type": "execute_result"
    },
    {
     "data": {
      "image/png": "[encoded data removed]",
      "text/plain": [
       "<matplotlib.figure.Figure at 0x7fa1d7bf4400>"
      ]
     },
     "metadata": {},
     "output_type": "display_data"
    }
   ],
   "source": [
    "df.plot.scatter(x='NumTrial', y='LogRT', title='Response Time Over Session Trials')"
   ]
  },
  {
   "cell_type": "markdown",
   "metadata": {},
   "source": [
    "### What about between each subject?  Do all subjects show this difference in response time between the Congruent and Incogruent conditions, or is this just coming from a few subjects?\n",
    "\n",
    "We could use **Masking** and **For-Loops** to split up the data into each user's responses, then reassemble the processed data into a new array or dataframe. This would look very similar, practice, to what we've done up until now (see Homework 2 Answers for example of this approach).  \n",
    "\n",
    "However, this means creating a lot of new variables and essentially breaking apart our nicely-organized data.  Instead, I'll demonstrate a different approach, called **Split-Apply-Combine**.  There are lots of ways to do this; here, I'll demonstrate a simple pipeline that will perform it in two steps:\n",
    "   1. Use **groupby()** to split the data into the groups you're interested in.\n",
    "   2. Use **agg(functions)** or aggregation shortcut functions like **mean()** or **std()** to compute values from each group and produce a new Series or DataFrame from them.\n",
    "      \n",
    "For more information on different approaches for **Split-Apply-Combine** in Pandas: see https://pandas-docs.github.io/pandas-docs-travis/groupby.html"
   ]
  },
  {
   "cell_type": "markdown",
   "metadata": {},
   "source": [
    "#### Split"
   ]
  },
  {
   "cell_type": "code",
   "execution_count": 19,
   "metadata": {
    "collapsed": false
   },
   "outputs": [
    {
     "data": {
      "text/plain": [
       "[(156874, 'IncW'),\n",
       " (156863, 'ConW'),\n",
       " (156856, 'ConW'),\n",
       " (156772, 'IncW'),\n",
       " (156871, 'IncW'),\n",
       " (156880, 'IncW')]"
      ]
     },
     "execution_count": 19,
     "metadata": {},
     "output_type": "execute_result"
    }
   ],
   "source": [
    "subjrt = df.groupby(('UserID', 'Condition')).LogRT\n",
    "list(subjrt.groups.keys())[:6]"
   ]
  },
  {
   "cell_type": "markdown",
   "metadata": {},
   "source": [
    "#### Apply / Combine"
   ]
  },
  {
   "cell_type": "code",
   "execution_count": 20,
   "metadata": {
    "collapsed": false
   },
   "outputs": [
    {
     "data": {
      "text/plain": [
       "UserID  Condition\n",
       "156772  ConW         6.971163\n",
       "        IncW         7.351251\n",
       "156839  ConW         6.455973\n",
       "        IncW         6.759741\n",
       "156856  ConW         6.871654\n",
       "        IncW         7.014764\n",
       "Name: LogRT, dtype: float64"
      ]
     },
     "execution_count": 20,
     "metadata": {},
     "output_type": "execute_result"
    }
   ],
   "source": [
    "subjrt = subjrt.agg(np.mean)\n",
    "subjrt.head(6)"
   ]
  },
  {
   "cell_type": "code",
   "execution_count": 21,
   "metadata": {
    "collapsed": false
   },
   "outputs": [
    {
     "data": {
      "text/html": [
       "<div>\n",
       "<table border=\"1\" class=\"dataframe\">\n",
       "  <thead>\n",
       "    <tr style=\"text-align: right;\">\n",
       "      <th></th>\n",
       "      <th></th>\n",
       "      <th>LogRT</th>\n",
       "    </tr>\n",
       "    <tr>\n",
       "      <th>UserID</th>\n",
       "      <th>Condition</th>\n",
       "      <th></th>\n",
       "    </tr>\n",
       "  </thead>\n",
       "  <tbody>\n",
       "    <tr>\n",
       "      <th rowspan=\"2\" valign=\"top\">156772</th>\n",
       "      <th>ConW</th>\n",
       "      <td>6.971163</td>\n",
       "    </tr>\n",
       "    <tr>\n",
       "      <th>IncW</th>\n",
       "      <td>7.351251</td>\n",
       "    </tr>\n",
       "    <tr>\n",
       "      <th rowspan=\"2\" valign=\"top\">156839</th>\n",
       "      <th>ConW</th>\n",
       "      <td>6.455973</td>\n",
       "    </tr>\n",
       "    <tr>\n",
       "      <th>IncW</th>\n",
       "      <td>6.759741</td>\n",
       "    </tr>\n",
       "    <tr>\n",
       "      <th>156856</th>\n",
       "      <th>ConW</th>\n",
       "      <td>6.871654</td>\n",
       "    </tr>\n",
       "  </tbody>\n",
       "</table>\n",
       "</div>"
      ],
      "text/plain": [
       "                     LogRT\n",
       "UserID Condition          \n",
       "156772 ConW       6.971163\n",
       "       IncW       7.351251\n",
       "156839 ConW       6.455973\n",
       "       IncW       6.759741\n",
       "156856 ConW       6.871654"
      ]
     },
     "execution_count": 21,
     "metadata": {},
     "output_type": "execute_result"
    }
   ],
   "source": [
    "subjrt = pd.DataFrame(subjrt)\n",
    "subjrt.head()"
   ]
  },
  {
   "cell_type": "markdown",
   "metadata": {},
   "source": [
    "#### Now we have many-dimensional data: UserID x Condition x MeanLogRT. However, DataFrames only let you view data in 2D.  Use stack(), unstack(), and pivot() to transpose multidimensional data.  "
   ]
  },
  {
   "cell_type": "code",
   "execution_count": 24,
   "metadata": {
    "collapsed": false
   },
   "outputs": [
    {
     "data": {
      "text/html": [
       "<div>\n",
       "<table border=\"1\" class=\"dataframe\">\n",
       "  <thead>\n",
       "    <tr>\n",
       "      <th></th>\n",
       "      <th colspan=\"2\" halign=\"left\">LogRT</th>\n",
       "    </tr>\n",
       "    <tr>\n",
       "      <th>Condition</th>\n",
       "      <th>ConW</th>\n",
       "      <th>IncW</th>\n",
       "    </tr>\n",
       "    <tr>\n",
       "      <th>UserID</th>\n",
       "      <th></th>\n",
       "      <th></th>\n",
       "    </tr>\n",
       "  </thead>\n",
       "  <tbody>\n",
       "    <tr>\n",
       "      <th>156772</th>\n",
       "      <td>6.971163</td>\n",
       "      <td>7.351251</td>\n",
       "    </tr>\n",
       "    <tr>\n",
       "      <th>156839</th>\n",
       "      <td>6.455973</td>\n",
       "      <td>6.759741</td>\n",
       "    </tr>\n",
       "    <tr>\n",
       "      <th>156856</th>\n",
       "      <td>6.871654</td>\n",
       "      <td>7.014764</td>\n",
       "    </tr>\n",
       "    <tr>\n",
       "      <th>156857</th>\n",
       "      <td>6.897377</td>\n",
       "      <td>7.475482</td>\n",
       "    </tr>\n",
       "    <tr>\n",
       "      <th>156858</th>\n",
       "      <td>6.897377</td>\n",
       "      <td>7.475482</td>\n",
       "    </tr>\n",
       "  </tbody>\n",
       "</table>\n",
       "</div>"
      ],
      "text/plain": [
       "              LogRT          \n",
       "Condition      ConW      IncW\n",
       "UserID                       \n",
       "156772     6.971163  7.351251\n",
       "156839     6.455973  6.759741\n",
       "156856     6.871654  7.014764\n",
       "156857     6.897377  7.475482\n",
       "156858     6.897377  7.475482"
      ]
     },
     "execution_count": 24,
     "metadata": {},
     "output_type": "execute_result"
    }
   ],
   "source": [
    "subjrt.unstack().head()"
   ]
  },
  {
   "cell_type": "markdown",
   "metadata": {},
   "source": [
    "### All at Once: What does Split-Apply-Combine look like in practice?"
   ]
  },
  {
   "cell_type": "code",
   "execution_count": 26,
   "metadata": {
    "collapsed": false
   },
   "outputs": [
    {
     "data": {
      "text/html": [
       "<div>\n",
       "<table border=\"1\" class=\"dataframe\">\n",
       "  <thead>\n",
       "    <tr>\n",
       "      <th></th>\n",
       "      <th colspan=\"2\" halign=\"left\">STD</th>\n",
       "      <th colspan=\"2\" halign=\"left\">Mean</th>\n",
       "    </tr>\n",
       "    <tr>\n",
       "      <th>Condition</th>\n",
       "      <th>ConW</th>\n",
       "      <th>IncW</th>\n",
       "      <th>ConW</th>\n",
       "      <th>IncW</th>\n",
       "    </tr>\n",
       "    <tr>\n",
       "      <th>UserID</th>\n",
       "      <th></th>\n",
       "      <th></th>\n",
       "      <th></th>\n",
       "      <th></th>\n",
       "    </tr>\n",
       "  </thead>\n",
       "  <tbody>\n",
       "    <tr>\n",
       "      <th>156772</th>\n",
       "      <td>0.268299</td>\n",
       "      <td>0.144569</td>\n",
       "      <td>6.971163</td>\n",
       "      <td>7.351251</td>\n",
       "    </tr>\n",
       "    <tr>\n",
       "      <th>156839</th>\n",
       "      <td>0.498677</td>\n",
       "      <td>0.592312</td>\n",
       "      <td>6.455973</td>\n",
       "      <td>6.759741</td>\n",
       "    </tr>\n",
       "    <tr>\n",
       "      <th>156856</th>\n",
       "      <td>0.305584</td>\n",
       "      <td>0.314003</td>\n",
       "      <td>6.871654</td>\n",
       "      <td>7.014764</td>\n",
       "    </tr>\n",
       "    <tr>\n",
       "      <th>156857</th>\n",
       "      <td>0.228352</td>\n",
       "      <td>0.380566</td>\n",
       "      <td>6.897377</td>\n",
       "      <td>7.475482</td>\n",
       "    </tr>\n",
       "  </tbody>\n",
       "</table>\n",
       "</div>"
      ],
      "text/plain": [
       "                STD                Mean          \n",
       "Condition      ConW      IncW      ConW      IncW\n",
       "UserID                                           \n",
       "156772     0.268299  0.144569  6.971163  7.351251\n",
       "156839     0.498677  0.592312  6.455973  6.759741\n",
       "156856     0.305584  0.314003  6.871654  7.014764\n",
       "156857     0.228352  0.380566  6.897377  7.475482"
      ]
     },
     "execution_count": 26,
     "metadata": {},
     "output_type": "execute_result"
    }
   ],
   "source": [
    "subjRTs = df.groupby(('UserID', 'Condition')).LogRT.agg({'Mean': np.mean, 'STD': np.std}).unstack()\n",
    "subjRTs.head(4)"
   ]
  },
  {
   "cell_type": "markdown",
   "metadata": {},
   "source": [
    "Plot a histogram of the difference in mean log reaction times between conditions for each subject!"
   ]
  },
  {
   "cell_type": "code",
   "execution_count": 261,
   "metadata": {
    "collapsed": false
   },
   "outputs": [
    {
     "data": {
      "text/plain": [
       "<matplotlib.axes._subplots.AxesSubplot at 0x7fa1d621dcc0>"
      ]
     },
     "execution_count": 261,
     "metadata": {},
     "output_type": "execute_result"
    },
    {
     "data": {
      "image/png": "[encoded data removed]",
      "text/plain": [
       "<matplotlib.figure.Figure at 0x7fa1d6202eb8>"
      ]
     },
     "metadata": {},
     "output_type": "display_data"
    }
   ],
   "source": [
    "(subjRTs.Mean.ConW - subjRTs.Mean.IncW).plot.hist(label='RT Difference\\n(Con - Inc)', \n",
    "                                                  legend=True,\n",
    "                                                 title='Condition RT Differences by Subject')"
   ]
  },
  {
   "cell_type": "markdown",
   "metadata": {},
   "source": [
    "What do you think, should anyone be rejected?  "
   ]
  },
  {
   "cell_type": "markdown",
   "metadata": {},
   "source": [
    "## Participant Response Speed vs. Size of Stroop Effect\n",
    "\n",
    "Make a scatter plot showing the relationship between how quickly subjects responded for congruent and incongruent stimuli!"
   ]
  },
  {
   "cell_type": "code",
   "execution_count": 265,
   "metadata": {
    "collapsed": false
   },
   "outputs": [
    {
     "data": {
      "text/plain": [
       "<matplotlib.axes._subplots.AxesSubplot at 0x7fa1d6090d68>"
      ]
     },
     "execution_count": 265,
     "metadata": {},
     "output_type": "execute_result"
    },
    {
     "data": {
      "image/png": "[encoded data removed]",
      "text/plain": [
       "<matplotlib.figure.Figure at 0x7fa1d642d6a0>"
      ]
     },
     "metadata": {},
     "output_type": "display_data"
    }
   ],
   "source": [
    "fig, ax = plt.subplots()\n",
    "subjRTs['Mean'].plot.scatter(x='ConW', y='IncW', s=50, ax=ax,\n",
    "                      title='Mean Log Subject Response Time by Condition')"
   ]
  },
  {
   "cell_type": "markdown",
   "metadata": {},
   "source": [
    "## Save Figure to File\n",
    "\n",
    "Save the figure using **fig.savefig()** to your data directory as a png file!  Great job!"
   ]
  },
  {
   "cell_type": "code",
   "execution_count": 268,
   "metadata": {
    "collapsed": true
   },
   "outputs": [],
   "source": [
    "fig.savefig(path.join(data_dir, 'myfig.svg'))"
   ]
  }
 ],
 "metadata": {
  "kernelspec": {
   "display_name": "Python 3",
   "language": "python",
   "name": "python3"
  },
  "language_info": {
   "codemirror_mode": {
    "name": "ipython",
    "version": 3
   },
   "file_extension": ".py",
   "mimetype": "text/x-python",
   "name": "python",
   "nbconvert_exporter": "python",
   "pygments_lexer": "ipython3",
   "version": "3.5.1"
  }
 },
 "nbformat": 4,
 "nbformat_minor": 0
}
