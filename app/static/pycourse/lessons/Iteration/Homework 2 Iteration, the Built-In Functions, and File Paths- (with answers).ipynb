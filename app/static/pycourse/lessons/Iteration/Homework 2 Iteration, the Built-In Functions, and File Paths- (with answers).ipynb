{
 "cells": [
  {
   "cell_type": "markdown",
   "metadata": {
    "slideshow": {
     "slide_type": "slide"
    }
   },
   "source": [
    "# Homework 2: Iteration, the Built-In Functions, and File Paths"
   ]
  },
  {
   "cell_type": "markdown",
   "metadata": {
    "slideshow": {
     "slide_type": "subslide"
    }
   },
   "source": [
    "# Indexing Exercises\n",
    "\n",
    "Using the example dataset, select only the described elements from each list"
   ]
  },
  {
   "cell_type": "code",
   "execution_count": 26,
   "metadata": {
    "collapsed": true
   },
   "outputs": [],
   "source": [
    "scores = [0.2, 0.3, 0.9, 1.1, 2.2, 2.9, 0.0, 0.7, 1.3, 0.3, 0.5, 0.1, 0.0]"
   ]
  },
  {
   "cell_type": "markdown",
   "metadata": {
    "slideshow": {
     "slide_type": "subslide"
    }
   },
   "source": [
    "1) The third score"
   ]
  },
  {
   "cell_type": "code",
   "execution_count": 28,
   "metadata": {
    "collapsed": false
   },
   "outputs": [
    {
     "data": {
      "text/plain": [
       "0.9"
      ]
     },
     "execution_count": 28,
     "metadata": {},
     "output_type": "execute_result"
    }
   ],
   "source": [
    "scores[2]"
   ]
  },
  {
   "cell_type": "markdown",
   "metadata": {
    "slideshow": {
     "slide_type": "fragment"
    }
   },
   "source": [
    "2) The last score"
   ]
  },
  {
   "cell_type": "code",
   "execution_count": 29,
   "metadata": {
    "collapsed": false
   },
   "outputs": [
    {
     "data": {
      "text/plain": [
       "0.0"
      ]
     },
     "execution_count": 29,
     "metadata": {},
     "output_type": "execute_result"
    }
   ],
   "source": [
    "scores[-1]"
   ]
  },
  {
   "cell_type": "markdown",
   "metadata": {
    "slideshow": {
     "slide_type": "subslide"
    }
   },
   "source": [
    "3) The 2nd through 5th score"
   ]
  },
  {
   "cell_type": "code",
   "execution_count": 33,
   "metadata": {
    "collapsed": false
   },
   "outputs": [
    {
     "name": "stdout",
     "output_type": "stream",
     "text": [
      "[0.2, 0.3, 0.9, 1.1, 2.2, 2.9, 0.0, 0.7, 1.3, 0.3, 0.5, 0.1, 0.0]\n"
     ]
    },
    {
     "data": {
      "text/plain": [
       "[0.3, 0.9, 1.1, 2.2]"
      ]
     },
     "execution_count": 33,
     "metadata": {},
     "output_type": "execute_result"
    }
   ],
   "source": [
    "print(scores)\n",
    "scores[1:5]"
   ]
  },
  {
   "cell_type": "markdown",
   "metadata": {
    "slideshow": {
     "slide_type": "fragment"
    }
   },
   "source": [
    "4) Every second score (the first, third, fifth, etc)"
   ]
  },
  {
   "cell_type": "code",
   "execution_count": 31,
   "metadata": {
    "collapsed": false
   },
   "outputs": [
    {
     "data": {
      "text/plain": [
       "[0.2, 0.9, 2.2, 0.0, 1.3, 0.5, 0.0]"
      ]
     },
     "execution_count": 31,
     "metadata": {},
     "output_type": "execute_result"
    }
   ],
   "source": [
    "scores[::2]"
   ]
  },
  {
   "cell_type": "markdown",
   "metadata": {
    "slideshow": {
     "slide_type": "subslide"
    }
   },
   "source": [
    "5) Every score after the 4th score"
   ]
  },
  {
   "cell_type": "code",
   "execution_count": 34,
   "metadata": {
    "collapsed": false
   },
   "outputs": [
    {
     "data": {
      "text/plain": [
       "[1.1, 2.2, 2.9, 0.0, 0.7, 1.3, 0.3, 0.5, 0.1, 0.0]"
      ]
     },
     "execution_count": 34,
     "metadata": {},
     "output_type": "execute_result"
    }
   ],
   "source": [
    "scores[3:]"
   ]
  },
  {
   "cell_type": "markdown",
   "metadata": {
    "slideshow": {
     "slide_type": "fragment"
    }
   },
   "source": [
    "6) Every second score from the 2nd to the 8th."
   ]
  },
  {
   "cell_type": "code",
   "execution_count": 35,
   "metadata": {
    "collapsed": false
   },
   "outputs": [
    {
     "data": {
      "text/plain": [
       "[0.3, 1.1, 2.9, 0.7]"
      ]
     },
     "execution_count": 35,
     "metadata": {},
     "output_type": "execute_result"
    }
   ],
   "source": [
    "scores[1:8:2]"
   ]
  },
  {
   "cell_type": "markdown",
   "metadata": {
    "slideshow": {
     "slide_type": "slide"
    }
   },
   "source": [
    "# Pure Iteration Exercises\n",
    "\n",
    "These exercises don't have anything to do with the files.  Each exercise stands alone!"
   ]
  },
  {
   "cell_type": "markdown",
   "metadata": {
    "slideshow": {
     "slide_type": "subslide"
    }
   },
   "source": [
    "## Exercise 6: A List of Squares\n",
    "\n",
    "Calculate the square of each integer from 0 to 30, and put those squares in a list.  \n",
    "\n",
    "ex) squares = [0, 1, 4, 9, 16, ...]"
   ]
  },
  {
   "cell_type": "code",
   "execution_count": 38,
   "metadata": {
    "collapsed": false
   },
   "outputs": [
    {
     "name": "stdout",
     "output_type": "stream",
     "text": [
      "[0, 1, 4, 9, 16, 25, 36, 49, 64, 81, 100, 121, 144, 169, 196, 225, 256, 289, 324, 361, 400, 441, 484, 529, 576, 625, 676, 729, 784, 841, 900]\n"
     ]
    }
   ],
   "source": [
    "print([el * el for el in range(31)])"
   ]
  },
  {
   "cell_type": "markdown",
   "metadata": {
    "slideshow": {
     "slide_type": "subslide"
    }
   },
   "source": [
    "## Exercise 7: Calculating the Mean\n",
    "Without importing any python packages, how could you compute the mean of a list of numbers?"
   ]
  },
  {
   "cell_type": "code",
   "execution_count": 39,
   "metadata": {
    "collapsed": false
   },
   "outputs": [
    {
     "data": {
      "text/plain": [
       "1.0399999999999998"
      ]
     },
     "execution_count": 39,
     "metadata": {},
     "output_type": "execute_result"
    }
   ],
   "source": [
    "data = [0.3, 0.2, 2.5, 0.6, 1.5, 0.1, 0.7, 0.5, 1.9, 2.1]\n",
    "sum(data) / float(len(data))"
   ]
  },
  {
   "cell_type": "markdown",
   "metadata": {
    "slideshow": {
     "slide_type": "subslide"
    }
   },
   "source": [
    "## Exercise 8: Summing two Lists\n",
    "\n",
    "Make a new list that is the sum of the elements in listA and listB.  "
   ]
  },
  {
   "cell_type": "code",
   "execution_count": 42,
   "metadata": {
    "collapsed": false
   },
   "outputs": [
    {
     "data": {
      "text/plain": [
       "[2, 7, 6, 9, 5, 1, 0, 7, 5, 5]"
      ]
     },
     "execution_count": 42,
     "metadata": {},
     "output_type": "execute_result"
    }
   ],
   "source": [
    "lista = [2, 3, 4, 5, 0, 0, 0, 2, 2, 0]\n",
    "listb = [0, 4, 2, 4, 5, 1, 0, 5, 3, 5]\n",
    "\n",
    "[a + b for (a, b) in zip(lista, listb)]"
   ]
  },
  {
   "cell_type": "markdown",
   "metadata": {
    "slideshow": {
     "slide_type": "subslide"
    }
   },
   "source": [
    "## Exercise 9: More Descriptive Labels\n",
    "\n",
    "You have a list of single-charachter strings that represent conditions in your experiment: 'L', 'R', and 'C'.  You want to change those labels to full words so they are easier to read and understand, to 'Left', 'Right', and 'Center'.   How could you go about it?\n",
    "\n",
    "**Hint**: A dictionary may be very useful here."
   ]
  },
  {
   "cell_type": "code",
   "execution_count": 44,
   "metadata": {
    "collapsed": false
   },
   "outputs": [
    {
     "data": {
      "text/plain": [
       "['Center',\n",
       " 'Left',\n",
       " 'Center',\n",
       " 'Right',\n",
       " 'Center',\n",
       " 'Center',\n",
       " 'Center',\n",
       " 'Right',\n",
       " 'Right',\n",
       " 'Right']"
      ]
     },
     "execution_count": 44,
     "metadata": {},
     "output_type": "execute_result"
    }
   ],
   "source": [
    "conds = ['C', 'L', 'C', 'R', 'C', 'C', 'C', 'R', 'R', 'R']\n",
    "labels = {'L': 'Left', 'R': 'Right', 'C': 'Center'}\n",
    "[labels[el] for el in conds]\n"
   ]
  },
  {
   "cell_type": "markdown",
   "metadata": {
    "slideshow": {
     "slide_type": "subslide"
    }
   },
   "source": [
    "## Exercise 10: Mean of Each Condition\n",
    "\n",
    "Now you have two lists: a list of what group each patient was in, and a list of their performance scores.  Calculate the mean of each group's scores and put the means into a dictionary\n",
    "\n",
    "**Sample**: means = {'A': 2.1, 'B': 4.2}"
   ]
  },
  {
   "cell_type": "code",
   "execution_count": 46,
   "metadata": {
    "collapsed": false
   },
   "outputs": [
    {
     "data": {
      "text/plain": [
       "{'A': 0.725, 'B': 1.1666666666666667}"
      ]
     },
     "execution_count": 46,
     "metadata": {},
     "output_type": "execute_result"
    }
   ],
   "source": [
    "groups = ['A', 'B', 'B', 'A', 'B', 'B', 'B', 'B', 'A', 'A']\n",
    "scores = [0.2, 0.3, 0.9, 1.1, 2.2, 2.9, 0.0, 0.7, 1.3, 0.3]\n",
    "\n",
    "means = {'A': 0., 'B': 0.}\n",
    "counts = {'A': 0, 'B': 0}\n",
    "for group, score in zip(groups, scores):\n",
    "    means[group] += score\n",
    "    counts[group] += 1\n",
    "\n",
    "for group in means:\n",
    "    means[group] /= counts[group]\n",
    "    \n",
    "means    \n",
    "    "
   ]
  },
  {
   "cell_type": "markdown",
   "metadata": {
    "slideshow": {
     "slide_type": "subslide"
    }
   },
   "source": [
    "## Exercise 11: Get the Public Functions\n",
    "\n",
    "The dir() function returns a list of strings!  Use list comprehension to make a new list that contains only the names that don't begin with an underscore."
   ]
  },
  {
   "cell_type": "code",
   "execution_count": 50,
   "metadata": {
    "collapsed": false
   },
   "outputs": [
    {
     "name": "stdout",
     "output_type": "stream",
     "text": [
      "['In', 'Out', 'a', 'b', 'choice', 'conds', 'counts', 'data', 'data_dir', 'el', 'exit', 'file', 'files', 'get_ipython', 'glob', 'group', 'groups', 'labels', 'lista', 'listb', 'means', 'name', 'names', 'os', 'path', 'quit', 'randint', 'score', 'scores']\n"
     ]
    }
   ],
   "source": [
    "print([el for el in dir() if '_' not in el[0]])"
   ]
  },
  {
   "cell_type": "markdown",
   "metadata": {
    "slideshow": {
     "slide_type": "slide"
    }
   },
   "source": [
    "## File Paths\n",
    "\n",
    "Soon, we will be loading data and analyzing it!  To tell Python which file to load, though, we need to be able to give it the full filename.  Filenames are composed of three elements:\n",
    "\n",
    "  - The **Directory**: Which folder on our computer the file can be found in.\n",
    "     - **Absolute Directories** say the exact folder location, no matter where Python is being run from. \n",
    "       - In Windows: 'C:\\\\Users\\NickDG\\Desktop\\MyExperiment\\Data'\n",
    "       - In Mac/Linux: '/usr/Desktop/MyExperiment/Data'\n",
    "     - **Relative Directories** are the address relative to where the program is being run.  This can be convenient when you know that a directory is, for example, found in the same location as the program.\n",
    "       - If this Python is being run from 'C://Users/NickDG/Desktop/MyExperiment' in Windows, I could simply give the directory name 'Data/'!\n",
    "       \n",
    "  - The **Base File Name**: The name of your file.  \n",
    "     - 'data121.mat' has the base name 'data121'\n",
    "  - The **Extension**: the part of the filename that tells you what *kind* of file type it is.\n",
    "     - 'data121.mat' has the extension '.mat'\n",
    "     \n",
    "While these filenames are basically strings in Python, working with them is such a common activity that Python has included specific packages to make it easy and reliable.  These packages are **os**, **os.path**, and **glob**\n",
    "\n",
    "To Import these packages into Python:"
   ]
  },
  {
   "cell_type": "code",
   "execution_count": 51,
   "metadata": {
    "collapsed": false,
    "slideshow": {
     "slide_type": "subslide"
    }
   },
   "outputs": [],
   "source": [
    "import os\n",
    "from os import path\n",
    "import glob"
   ]
  },
  {
   "cell_type": "markdown",
   "metadata": {
    "slideshow": {
     "slide_type": "skip"
    }
   },
   "source": [
    "We haven't discussed using packages yet in class, but I hope you'll find them not so bad after our discussion of dot notation on the first day!  To review the practical side:\n",
    "  - The dir() function on a package will give you a list of everything in a package.  This may seem like a long list sometimes, but you can safely ignore everything that starts with an underscore (and in this case anything that is all capital letters) which narrows the list by a lot.\n",
    "     -ex: dir(path)\n",
    "  - In the notebook and IPython, you can simply press the Tab key after getting to the dot to bring up a filtered list of functions. \n",
    "     -ex: path.\n",
    "\n",
    "\n",
    "Usage examples Below:"
   ]
  },
  {
   "cell_type": "code",
   "execution_count": 3,
   "metadata": {
    "collapsed": false,
    "scrolled": true,
    "slideshow": {
     "slide_type": "subslide"
    }
   },
   "outputs": [
    {
     "data": {
      "text/plain": [
       "'/home/nicholas/Dropbox/Teaching/Pzthon Course/Notebooks'"
      ]
     },
     "execution_count": 3,
     "metadata": {},
     "output_type": "execute_result"
    }
   ],
   "source": [
    "os.getcwd()"
   ]
  },
  {
   "cell_type": "code",
   "execution_count": 57,
   "metadata": {
    "collapsed": false,
    "scrolled": true
   },
   "outputs": [
    {
     "data": {
      "text/plain": [
       "'my_folder/my_data.txt'"
      ]
     },
     "execution_count": 57,
     "metadata": {},
     "output_type": "execute_result"
    }
   ],
   "source": [
    "data_dir = 'my_folder'\n",
    "data_file = 'my_data.txt'\n",
    "path.join(data_dir, data_file)"
   ]
  },
  {
   "cell_type": "code",
   "execution_count": 54,
   "metadata": {
    "collapsed": false,
    "scrolled": true
   },
   "outputs": [
    {
     "data": {
      "text/plain": [
       "['Python Course Lecture 5 Matrices and Image Analysis.ipynb',\n",
       " 'Homework 6 Pandas DataFrames.ipynb',\n",
       " 'Python Course Lecture 2.ipynb',\n",
       " 'Homework 3 1D Array Analysis and Plotting-with Answers.ipynb',\n",
       " 'Python Course Lecture 3.ipynb',\n",
       " 'Homework 6 Pandas DataFrames-with Answers.ipynb',\n",
       " 'Homework 3 1D Array Analysis and Plotting.ipynb',\n",
       " 'Stroop Data Processing to numpy.ipynb',\n",
       " 'Homework 1 Jupyter Notebook and Builtin Type Methods.ipynb',\n",
       " 'Homework 2 Iteration, the Built-In Functions, and File Paths.ipynb',\n",
       " 'Python Course Lecture 4 Functions, Scripts, and Modules.ipynb',\n",
       " 'Python Course Lecture 2.5.ipynb',\n",
       " 'Python Course Lecture 1.ipynb']"
      ]
     },
     "execution_count": 54,
     "metadata": {},
     "output_type": "execute_result"
    }
   ],
   "source": [
    "# The glob() function is pretty much the only function you need from the glob package (Confusing naming, I know.)\n",
    "glob.glob('*.ipynb')"
   ]
  },
  {
   "cell_type": "markdown",
   "metadata": {
    "slideshow": {
     "slide_type": "skip"
    }
   },
   "source": [
    "### To learn how to build and parse filenames in order to complete the exercises,  Read the file handling Tutorial which covers the os, path, and glob packages at the link below and review the packages' documentation\n",
    "\n",
    "Tutorial: http://www.diveintopython.net/file_handling/os_module.html\n",
    "\n",
    "os Documentation: https://docs.python.org/2/library/os.html\n",
    "\n",
    "os.path Documentation: https://docs.python.org/2/library/os.path.html"
   ]
  },
  {
   "cell_type": "markdown",
   "metadata": {
    "slideshow": {
     "slide_type": "subslide"
    }
   },
   "source": [
    "# Filename and Iteration Exercises\n",
    "\n",
    "To complete the exercises, first run the following code cell in order to generate a sample directory with empty datafiles.  If you get stuck, the **Pure Iteration Exercises** section below is a bit easier and focuses only on material covered on the lecture:\n",
    "\n",
    "**Warning:** The following code cell creates files on your computer! This can be a dangerous thing to do with untrusted code, so make sure you understand the code before running it! \n",
    "\n",
    "**Note:** This code uses a new class, the **file** class, which represents a file object.  A short file creation/reading/handling tutorial can be found at http://www.python-course.eu/python3_file_management.php"
   ]
  },
  {
   "cell_type": "markdown",
   "metadata": {
    "slideshow": {
     "slide_type": "subslide"
    }
   },
   "source": [
    "### Generate Sample Data"
   ]
  },
  {
   "cell_type": "code",
   "execution_count": 58,
   "metadata": {
    "collapsed": false
   },
   "outputs": [
    {
     "ename": "OSError",
     "evalue": "[Errno 17] File exists: 'Homework Sample Data/Homework 2'",
     "output_type": "error",
     "traceback": [
      "\u001b[1;31m---------------------------------------------------------------------------\u001b[0m",
      "\u001b[1;31mOSError\u001b[0m                                   Traceback (most recent call last)",
      "\u001b[1;32m<ipython-input-58-29203ad38d65>\u001b[0m in \u001b[0;36m<module>\u001b[1;34m()\u001b[0m\n\u001b[0;32m      3\u001b[0m \u001b[1;31m# Make a new file directory.\u001b[0m\u001b[1;33m\u001b[0m\u001b[1;33m\u001b[0m\u001b[0m\n\u001b[0;32m      4\u001b[0m \u001b[0mdata_dir\u001b[0m \u001b[1;33m=\u001b[0m \u001b[0mpath\u001b[0m\u001b[1;33m.\u001b[0m\u001b[0mjoin\u001b[0m\u001b[1;33m(\u001b[0m\u001b[1;34m'Homework Sample Data'\u001b[0m\u001b[1;33m,\u001b[0m \u001b[1;34m'Homework 2'\u001b[0m\u001b[1;33m)\u001b[0m\u001b[1;33m\u001b[0m\u001b[0m\n\u001b[1;32m----> 5\u001b[1;33m \u001b[0mos\u001b[0m\u001b[1;33m.\u001b[0m\u001b[0mmakedirs\u001b[0m\u001b[1;33m(\u001b[0m\u001b[0mdata_dir\u001b[0m\u001b[1;33m)\u001b[0m\u001b[1;33m\u001b[0m\u001b[0m\n\u001b[0m\u001b[0;32m      6\u001b[0m \u001b[1;33m\u001b[0m\u001b[0m\n\u001b[0;32m      7\u001b[0m \u001b[1;31m# Fill the directory with empty files named random things\u001b[0m\u001b[1;33m\u001b[0m\u001b[1;33m\u001b[0m\u001b[0m\n",
      "\u001b[1;32m/usr/lib/python2.7/os.pyc\u001b[0m in \u001b[0;36mmakedirs\u001b[1;34m(name, mode)\u001b[0m\n\u001b[0;32m    155\u001b[0m         \u001b[1;32mif\u001b[0m \u001b[0mtail\u001b[0m \u001b[1;33m==\u001b[0m \u001b[0mcurdir\u001b[0m\u001b[1;33m:\u001b[0m           \u001b[1;31m# xxx/newdir/. exists if xxx/newdir exists\u001b[0m\u001b[1;33m\u001b[0m\u001b[0m\n\u001b[0;32m    156\u001b[0m             \u001b[1;32mreturn\u001b[0m\u001b[1;33m\u001b[0m\u001b[0m\n\u001b[1;32m--> 157\u001b[1;33m     \u001b[0mmkdir\u001b[0m\u001b[1;33m(\u001b[0m\u001b[0mname\u001b[0m\u001b[1;33m,\u001b[0m \u001b[0mmode\u001b[0m\u001b[1;33m)\u001b[0m\u001b[1;33m\u001b[0m\u001b[0m\n\u001b[0m\u001b[0;32m    158\u001b[0m \u001b[1;33m\u001b[0m\u001b[0m\n\u001b[0;32m    159\u001b[0m \u001b[1;32mdef\u001b[0m \u001b[0mremovedirs\u001b[0m\u001b[1;33m(\u001b[0m\u001b[0mname\u001b[0m\u001b[1;33m)\u001b[0m\u001b[1;33m:\u001b[0m\u001b[1;33m\u001b[0m\u001b[0m\n",
      "\u001b[1;31mOSError\u001b[0m: [Errno 17] File exists: 'Homework Sample Data/Homework 2'"
     ]
    }
   ],
   "source": [
    "from random import randint, choice\n",
    "\n",
    "# Make a new file directory.\n",
    "data_dir = path.join('Homework Sample Data', 'Homework 2')\n",
    "os.makedirs(data_dir)\n",
    "    \n",
    "# Fill the directory with empty files named random things\n",
    "nfiles = 30\n",
    "for datafile in range(nfiles):\n",
    "    filename = 'data{num}.{ext}'.format(num=randint(0, 100000), ext=choice(['txt', 'mat']))\n",
    "    newfile = open(path.join(data_dir, filename), 'a')\n",
    "    newfile.close()\n",
    "        \n"
   ]
  },
  {
   "cell_type": "markdown",
   "metadata": {
    "slideshow": {
     "slide_type": "subslide"
    }
   },
   "source": [
    "## Exercise 1\n",
    "Make a list of all the sample data filenames that end in \".txt\" and calculate how many .txt files there are."
   ]
  },
  {
   "cell_type": "code",
   "execution_count": 60,
   "metadata": {
    "collapsed": false
   },
   "outputs": [
    {
     "data": {
      "text/plain": [
       "['Homework Sample Data/Homework 2/data6225.txt',\n",
       " 'Homework Sample Data/Homework 2/data9790.txt',\n",
       " 'Homework Sample Data/Homework 2/data8000.txt',\n",
       " 'Homework Sample Data/Homework 2/data5157.txt',\n",
       " 'Homework Sample Data/Homework 2/data6657.txt',\n",
       " 'Homework Sample Data/Homework 2/data1228.txt',\n",
       " 'Homework Sample Data/Homework 2/data4758.txt',\n",
       " 'Homework Sample Data/Homework 2/data1889.txt',\n",
       " 'Homework Sample Data/Homework 2/data1054.txt',\n",
       " 'Homework Sample Data/Homework 2/data7300.txt',\n",
       " 'Homework Sample Data/Homework 2/data2255.txt',\n",
       " 'Homework Sample Data/Homework 2/data6308.txt']"
      ]
     },
     "execution_count": 60,
     "metadata": {},
     "output_type": "execute_result"
    }
   ],
   "source": [
    "data_dir = path.join('Homework Sample Data', 'Homework 2')\n",
    "glob.glob(path.join(data_dir, '*.txt'))"
   ]
  },
  {
   "cell_type": "markdown",
   "metadata": {
    "slideshow": {
     "slide_type": "subslide"
    }
   },
   "source": [
    "## Exercise 2\n",
    "\n",
    "Make a list of all the data filenames, without their file extensions.\n",
    "\n",
    "ex) ['data2432', 'data2232', 'data8382', ...]"
   ]
  },
  {
   "cell_type": "code",
   "execution_count": 64,
   "metadata": {
    "collapsed": false
   },
   "outputs": [],
   "source": [
    "names = [path.splitext(name)[0] for name in os.listdir(data_dir)]"
   ]
  },
  {
   "cell_type": "markdown",
   "metadata": {
    "slideshow": {
     "slide_type": "subslide"
    }
   },
   "source": [
    "## Exercise 3\n",
    "How many data files have the number 7 in their name?"
   ]
  },
  {
   "cell_type": "code",
   "execution_count": 65,
   "metadata": {
    "collapsed": false
   },
   "outputs": [
    {
     "data": {
      "text/plain": [
       "['data9790',\n",
       " 'data5157',\n",
       " 'data6657',\n",
       " 'data4758',\n",
       " 'data3753',\n",
       " 'data2757',\n",
       " 'data5573',\n",
       " 'data5273',\n",
       " 'data7300',\n",
       " 'data2557',\n",
       " 'data4879',\n",
       " 'data7260',\n",
       " 'data7869',\n",
       " 'data6748',\n",
       " 'data5187']"
      ]
     },
     "execution_count": 65,
     "metadata": {},
     "output_type": "execute_result"
    }
   ],
   "source": [
    "[name for name in names if '7' in name]"
   ]
  },
  {
   "cell_type": "markdown",
   "metadata": {
    "slideshow": {
     "slide_type": "subslide"
    }
   },
   "source": [
    "## Exercise 4\n",
    "\n",
    "Make two new folders inside the \"Homework 2\" folder, one called \"mat files\" and one called \"txt files\".  Move the files with the .txt extension to the \"txt files\" folder and the files with the .mat extension to the \"mat files\" folder."
   ]
  },
  {
   "cell_type": "code",
   "execution_count": 87,
   "metadata": {
    "collapsed": false
   },
   "outputs": [
    {
     "data": {
      "text/plain": [
       "['data6225.txt',\n",
       " 'data9790.txt',\n",
       " 'data8000.txt',\n",
       " 'data5157.txt',\n",
       " 'data6657.txt',\n",
       " 'data1228.txt',\n",
       " 'data4758.txt',\n",
       " 'data1889.txt',\n",
       " 'data1054.txt',\n",
       " 'data7300.txt',\n",
       " 'data2255.txt',\n",
       " 'data6308.txt']"
      ]
     },
     "execution_count": 87,
     "metadata": {},
     "output_type": "execute_result"
    }
   ],
   "source": [
    "# os.makedirs(path.join(data_dir, 'mat files'))\n",
    "\n",
    "# txt_dir = path.join(data_dir, 'txt files')\n",
    "# # os.makedirs(txt_dir)\n",
    "# txt_files = glob.glob(path.join(data_dir, '*.txt'))\n",
    "# base_txt = [path.basename(filename) for filename in txt_files]\n",
    "# new_txt_files = [path.join(txt_dir, filename) for filename in base_txt]\n",
    "os.listdir(txt_dir)"
   ]
  },
  {
   "cell_type": "markdown",
   "metadata": {
    "slideshow": {
     "slide_type": "subslide"
    }
   },
   "source": [
    "## Exercise 5\n",
    "\n",
    "Print the index and name of each .mat file using the example format string"
   ]
  },
  {
   "cell_type": "code",
   "execution_count": null,
   "metadata": {
    "collapsed": true
   },
   "outputs": [],
   "source": []
  },
  {
   "cell_type": "markdown",
   "metadata": {
    "slideshow": {
     "slide_type": "subslide"
    }
   },
   "source": [
    "## Questions? "
   ]
  },
  {
   "cell_type": "code",
   "execution_count": null,
   "metadata": {
    "collapsed": true
   },
   "outputs": [],
   "source": []
  }
 ],
 "metadata": {
  "celltoolbar": "Slideshow",
  "kernelspec": {
   "display_name": "Python 3",
   "language": "python",
   "name": "python3"
  },
  "language_info": {
   "codemirror_mode": {
    "name": "ipython",
    "version": 3
   },
   "file_extension": ".py",
   "mimetype": "text/x-python",
   "name": "python",
   "nbconvert_exporter": "python",
   "pygments_lexer": "ipython3",
   "version": "3.5.1"
  }
 },
 "nbformat": 4,
 "nbformat_minor": 0
}
