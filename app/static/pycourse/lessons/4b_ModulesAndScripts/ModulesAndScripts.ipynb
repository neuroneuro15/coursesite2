{
 "cells": [
  {
   "cell_type": "code",
   "execution_count": 1,
   "metadata": {
    "collapsed": true,
    "slideshow": {
     "slide_type": "skip"
    }
   },
   "outputs": [],
   "source": [
    "import numpy as np\n",
    "from IPython.display import HTML"
   ]
  },
  {
   "cell_type": "markdown",
   "metadata": {
    "slideshow": {
     "slide_type": "slide"
    }
   },
   "source": [
    "# Introduction to Scientific Programming in Python\n",
    "\n",
    "## Python Course Lecture 4: Functions Scripts, and Modules"
   ]
  },
  {
   "cell_type": "markdown",
   "metadata": {
    "slideshow": {
     "slide_type": "slide"
    }
   },
   "source": [
    "# Python Modules: .py files that are Imported"
   ]
  },
  {
   "cell_type": "markdown",
   "metadata": {
    "slideshow": {
     "slide_type": "fragment"
    }
   },
   "source": [
    "A **module** is any text file with python code in it. If you **import** it, that code will run, and you can access its functions and data!\n",
    "\n",
    "  - Python scripts are given the **.py** file extension: example_script.py\n",
    "  "
   ]
  },
  {
   "cell_type": "markdown",
   "metadata": {
    "slideshow": {
     "slide_type": "subslide"
    }
   },
   "source": [
    "## .pyc Files\n",
    "\n",
    "  - The Python interpreter will generate a **.pyc** file automatically when it runs it.  This is a \"compiled\" version of the script.  It will be regenerated automatically whenever you make changes to the .py file.\n",
    "  - You can safely ignore these files--you don't need to interact with them.\n",
    "  - Side effect: Running a script will be faster the second time you run it, since the .pyc file won't be generated twice."
   ]
  },
  {
   "cell_type": "markdown",
   "metadata": {
    "slideshow": {
     "slide_type": "subslide"
    }
   },
   "source": [
    "## Exercise: Make a Sample Module"
   ]
  },
  {
   "cell_type": "markdown",
   "metadata": {
    "slideshow": {
     "slide_type": "slide"
    }
   },
   "source": [
    "# Python Scripts: .py files that are Run.\n",
    "\n",
    "A **Script** is any text file with code in it, meant to be run/interpreted/compiled as code.  These scripts are usually meant to be run from **outside** the programming language, which makes them different from functions.\n",
    "\n",
    "  - Python scripts are given the **.py** file extension: example_script.py\n",
    "  - The Python interpreter will generate a **.pyc** file automatically when it runs it.  This is a \"compiled\" version of the script.  It will be regenerated automatically whenever you make changes to the .py file.\n",
    "    - You can safely ignore these files--you don't need to interact with them.\n",
    "    - Side effect: Running a script will be faster the second time you run it, since the .pyc file won't be generated twice.\n",
    "    \n",
    "### A File can be both a script and a module! Super Useful!"
   ]
  },
  {
   "cell_type": "markdown",
   "metadata": {
    "slideshow": {
     "slide_type": "subslide"
    }
   },
   "source": [
    "## Why Scripts?\n",
    "\n",
    "  - Easy for others to use--they don't have to know Python!\n",
    "  - Easy to chain different tools together\n",
    "     - ex) Bash Script to copy Files -> Matlab to Read Them -> Python Analysis Script to Compute Statistics -> Python Makes Plots -> Latex Puts them into a PDF -> Bash emails the pdf to you"
   ]
  },
  {
   "cell_type": "markdown",
   "metadata": {
    "slideshow": {
     "slide_type": "subslide"
    }
   },
   "source": [
    "## How to Run a Script: Many Options\n",
    "  - navigate to the file from your terminal, and type **python script_name.py**.\n",
    "  - associate .py files with the Python interpreter, and just double-click the file.\n",
    "  - use the **%run** magick from with IPython:  **%run script_name.py**."
   ]
  },
  {
   "cell_type": "markdown",
   "metadata": {
    "slideshow": {
     "slide_type": "subslide"
    }
   },
   "source": [
    "## Script-Only Code\n",
    "\n",
    "Sometimes, you want some code to run only if it's in the script: That is, if it's in the **main** namespace.  To find out what namespace you're in, check the built-in **\\_\\_name\\_\\_** variable.  If it is **'\\_\\_main\\_\\_'**, you're in the main namespace!"
   ]
  },
  {
   "cell_type": "code",
   "execution_count": null,
   "metadata": {
    "collapsed": false
   },
   "outputs": [],
   "source": [
    "__name__"
   ]
  },
  {
   "cell_type": "code",
   "execution_count": null,
   "metadata": {
    "collapsed": false
   },
   "outputs": [],
   "source": [
    "np.__name__"
   ]
  },
  {
   "cell_type": "code",
   "execution_count": null,
   "metadata": {
    "collapsed": false
   },
   "outputs": [],
   "source": [
    "if __name__ == '__main__':\n",
    "    print('This code only runs in a script, or in the interpreter!')"
   ]
  },
  {
   "cell_type": "markdown",
   "metadata": {
    "slideshow": {
     "slide_type": "subslide"
    }
   },
   "source": [
    "## The argparse package: Adding Arguments to Scripts\n",
    "https://docs.python.org/3/howto/argparse.html"
   ]
  },
  {
   "cell_type": "code",
   "execution_count": null,
   "metadata": {
    "collapsed": false
   },
   "outputs": [],
   "source": [
    "if __name__ == '__main__':\n",
    "    \n",
    "    import argparse\n",
    "    parser = argparse.ArgumentParser()\n",
    "\n",
    "    parser.add_argument(\"msg\", help='a message to display', type=str)\n",
    "    parser.add_argument(\"--repeat\", help='number of times to print the message', default=1, type=int)\n",
    "    parser.add_argument(\"--capitalize\", help='make the message capitalized.', action=\"store_true\")\n",
    "    \n",
    "    args = parser.parse_args()\n",
    "    \n",
    "    for rep in range(args.repeat):\n",
    "        message = args.msg.capitalize() if args.capitalize else args.msg\n",
    "        print(message)"
   ]
  },
  {
   "cell_type": "markdown",
   "metadata": {
    "slideshow": {
     "slide_type": "slide"
    }
   },
   "source": [
    "## (Aside) Advanced Tool Tip: Workflow Automation Tools\n",
    "\n",
    "You can easily string together the inputs and outputs of functions and scripts using an **automation tool**.  The best one I've found for scientific research is **doit** http://pydoit.org/\n",
    "\n",
    "This has many benefits:\n",
    "  - Your Analysis Pipeline is made **Explicit**\n",
    "  - The Analysis Pipeline is kept **Flexible**\n",
    "  - The automator knows which files and scripts still need to be run, or re-run.\n",
    "  - The automator can determine which tasks can be run in **parallel**.\n",
    "  "
   ]
  },
  {
   "cell_type": "markdown",
   "metadata": {
    "slideshow": {
     "slide_type": "slide"
    }
   },
   "source": [
    "# Review\n",
    "  - What is the DRY Principle, and why is it important?\n",
    "  - What are some ways you can implement the DRY Principle in your code?\n",
    "  - How do you run Python functions, modules, and scripts?  How do you create them?\n",
    "  - What are side effects?  What are some ways to avoid them in your functions?\n",
    "  - What is scope?"
   ]
  }
 ],
 "metadata": {
  "celltoolbar": "Slideshow",
  "kernelspec": {
   "display_name": "Python 3",
   "language": "python",
   "name": "python3"
  },
  "language_info": {
   "codemirror_mode": {
    "name": "ipython",
    "version": 3
   },
   "file_extension": ".py",
   "mimetype": "text/x-python",
   "name": "python",
   "nbconvert_exporter": "python",
   "pygments_lexer": "ipython3",
   "version": "3.5.1"
  }
 },
 "nbformat": 4,
 "nbformat_minor": 0
}
