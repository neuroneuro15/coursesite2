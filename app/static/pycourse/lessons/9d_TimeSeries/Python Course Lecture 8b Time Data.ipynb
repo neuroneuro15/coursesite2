{
 "cells": [
  {
   "cell_type": "code",
   "execution_count": 1,
   "metadata": {
    "collapsed": true
   },
   "outputs": [],
   "source": [
    "import pandas as pd\n",
    "import numpy as np\n",
    "import matplotlib.pyplot as plt\n",
    "%matplotlib inline"
   ]
  },
  {
   "cell_type": "markdown",
   "metadata": {
    "slideshow": {
     "slide_type": "slide"
    }
   },
   "source": [
    "# Introduction to Scientific Programming in Python\n",
    "## Lecture 8b: Time Data and Time Series Analysis"
   ]
  },
  {
   "cell_type": "markdown",
   "metadata": {
    "slideshow": {
     "slide_type": "slide"
    }
   },
   "source": [
    "# Datetimes: Core Python"
   ]
  },
  {
   "cell_type": "markdown",
   "metadata": {
    "slideshow": {
     "slide_type": "subslide"
    }
   },
   "source": [
    "## The Datetime Package has a Datetime Type\n",
    "```python\n",
    "datetime(year, month, day[, hour[, minute[, second[, microsecond[,tzinfo]]]]])\n",
    "```"
   ]
  },
  {
   "cell_type": "code",
   "execution_count": 2,
   "metadata": {
    "collapsed": false,
    "slideshow": {
     "slide_type": "-"
    }
   },
   "outputs": [],
   "source": [
    "from datetime import datetime\n",
    "datetime(year=2016, month=6, day=6, \n",
    "         hour=12, minute=3, second=5, microsecond=1)\n",
    "# now = datetime.now()"
   ]
  },
  {
   "cell_type": "markdown",
   "metadata": {
    "slideshow": {
     "slide_type": "subslide"
    }
   },
   "source": [
    "## Datetime Properties and Methods"
   ]
  },
  {
   "cell_type": "code",
   "execution_count": 3,
   "metadata": {
    "collapsed": false
   },
   "outputs": [
    {
     "data": {
      "text/plain": [
       "(13, 2016)"
      ]
     },
     "execution_count": 3,
     "metadata": {},
     "output_type": "execute_result"
    }
   ],
   "source": [
    "now = datetime.now()\n",
    "now.hour, now.year"
   ]
  },
  {
   "cell_type": "code",
   "execution_count": 4,
   "metadata": {
    "collapsed": false
   },
   "outputs": [
    {
     "data": {
      "text/plain": [
       "(1, '2016-06-07T13:23:00.791760')"
      ]
     },
     "execution_count": 4,
     "metadata": {},
     "output_type": "execute_result"
    }
   ],
   "source": [
    "now.weekday(), now.isoformat()"
   ]
  },
  {
   "cell_type": "markdown",
   "metadata": {
    "slideshow": {
     "slide_type": "subslide"
    }
   },
   "source": [
    "## Datetimes can be printed and read nicely"
   ]
  },
  {
   "cell_type": "code",
   "execution_count": 5,
   "metadata": {
    "collapsed": false
   },
   "outputs": [
    {
     "data": {
      "text/plain": [
       "'2016-06-07 13:23:00.821273'"
      ]
     },
     "execution_count": 5,
     "metadata": {},
     "output_type": "execute_result"
    }
   ],
   "source": [
    "str(datetime.now())"
   ]
  },
  {
   "cell_type": "code",
   "execution_count": 6,
   "metadata": {
    "collapsed": false
   },
   "outputs": [
    {
     "data": {
      "text/plain": [
       "'It is 13:23, on Jun 07, 2016.'"
      ]
     },
     "execution_count": 6,
     "metadata": {},
     "output_type": "execute_result"
    }
   ],
   "source": [
    "datetime.now().strftime('It is %H:%M, on %h %d, %Y.')"
   ]
  },
  {
   "cell_type": "code",
   "execution_count": 7,
   "metadata": {
    "collapsed": false,
    "slideshow": {
     "slide_type": "subslide"
    }
   },
   "outputs": [
    {
     "data": {
      "text/plain": [
       "datetime.datetime(1986, 1, 14, 0, 0)"
      ]
     },
     "execution_count": 7,
     "metadata": {},
     "output_type": "execute_result"
    }
   ],
   "source": [
    "datetime.strptime('1.14.86', '%m.%d.%y')"
   ]
  },
  {
   "cell_type": "code",
   "execution_count": 8,
   "metadata": {
    "collapsed": false
   },
   "outputs": [
    {
     "data": {
      "text/html": [
       "<iFrame src=\"https://docs.python.org/3/library/datetime.html#strftime-and-strptime-behavior\" width=900 height400></iFrame>"
      ],
      "text/plain": [
       "<IPython.core.display.HTML object>"
      ]
     },
     "metadata": {},
     "output_type": "display_data"
    }
   ],
   "source": [
    "%%HTML\n",
    "<iFrame src=\"https://docs.python.org/3/library/datetime.html#strftime-and-strptime-behavior\" width=900 height400></iFrame>"
   ]
  },
  {
   "cell_type": "markdown",
   "metadata": {
    "slideshow": {
     "slide_type": "subslide"
    }
   },
   "source": [
    "## Datetime Math produces TimeDeltas"
   ]
  },
  {
   "cell_type": "code",
   "execution_count": 9,
   "metadata": {
    "collapsed": false
   },
   "outputs": [
    {
     "data": {
      "text/plain": [
       "datetime.timedelta(200, 38219, 125625)"
      ]
     },
     "execution_count": 9,
     "metadata": {},
     "output_type": "execute_result"
    }
   ],
   "source": [
    "now = datetime.now()\n",
    "christmas = datetime(2016, 12, 25, 0, 0, 0)\n",
    "christmas - now"
   ]
  },
  {
   "cell_type": "code",
   "execution_count": 10,
   "metadata": {
    "collapsed": false
   },
   "outputs": [
    {
     "data": {
      "text/plain": [
       "'200 days, 10:36:59.125625'"
      ]
     },
     "execution_count": 10,
     "metadata": {},
     "output_type": "execute_result"
    }
   ],
   "source": [
    "str(christmas - now)"
   ]
  },
  {
   "cell_type": "markdown",
   "metadata": {
    "slideshow": {
     "slide_type": "subslide"
    }
   },
   "source": [
    "## TimeDeltas Can Also Be Created Directly"
   ]
  },
  {
   "cell_type": "code",
   "execution_count": 11,
   "metadata": {
    "collapsed": false
   },
   "outputs": [
    {
     "data": {
      "text/plain": [
       "datetime.datetime(2016, 6, 8, 13, 23, 0, 874375)"
      ]
     },
     "execution_count": 11,
     "metadata": {},
     "output_type": "execute_result"
    }
   ],
   "source": [
    "from datetime import timedelta\n",
    "a_day = timedelta(days=1)\n",
    "now + a_day"
   ]
  },
  {
   "cell_type": "code",
   "execution_count": 12,
   "metadata": {
    "collapsed": false
   },
   "outputs": [
    {
     "data": {
      "text/plain": [
       "(1, datetime.timedelta(0, 0, 1))"
      ]
     },
     "execution_count": 12,
     "metadata": {},
     "output_type": "execute_result"
    }
   ],
   "source": [
    "a_day.days, a_day.resolution"
   ]
  },
  {
   "cell_type": "markdown",
   "metadata": {
    "slideshow": {
     "slide_type": "subslide"
    }
   },
   "source": [
    "## Dates and Times can also be Created Seperately"
   ]
  },
  {
   "cell_type": "code",
   "execution_count": 13,
   "metadata": {
    "collapsed": false
   },
   "outputs": [
    {
     "data": {
      "text/plain": [
       "(datetime.date(2015, 4, 5), datetime.time(4, 2, 1))"
      ]
     },
     "execution_count": 13,
     "metadata": {},
     "output_type": "execute_result"
    }
   ],
   "source": [
    "from datetime import date, time\n",
    "date(2015, 4, 5), time(4, 2, 1)"
   ]
  },
  {
   "cell_type": "code",
   "execution_count": 14,
   "metadata": {
    "collapsed": false
   },
   "outputs": [
    {
     "name": "stdout",
     "output_type": "stream",
     "text": [
      "2015-04-05 and 04:02:01\n"
     ]
    }
   ],
   "source": [
    "print(date(2015, 4, 5), 'and', time(4, 2, 1))"
   ]
  },
  {
   "cell_type": "markdown",
   "metadata": {
    "slideshow": {
     "slide_type": "subslide"
    }
   },
   "source": [
    "## Caution: There is also a different Time package, which is for measuring time passing on the computer, not representing data!"
   ]
  },
  {
   "cell_type": "code",
   "execution_count": 15,
   "metadata": {
    "collapsed": false
   },
   "outputs": [
    {
     "data": {
      "text/plain": [
       "1.15702"
      ]
     },
     "execution_count": 15,
     "metadata": {},
     "output_type": "execute_result"
    }
   ],
   "source": [
    "import time\n",
    "time.clock()"
   ]
  },
  {
   "cell_type": "code",
   "execution_count": 16,
   "metadata": {
    "collapsed": false
   },
   "outputs": [
    {
     "name": "stdout",
     "output_type": "stream",
     "text": [
      "waiting...done!"
     ]
    }
   ],
   "source": [
    "print('waiting...', end='')\n",
    "time.sleep(2)\n",
    "print('done!', end='')"
   ]
  },
  {
   "cell_type": "markdown",
   "metadata": {
    "slideshow": {
     "slide_type": "slide"
    }
   },
   "source": [
    "# Datetime in NumPy, and Pandas"
   ]
  },
  {
   "cell_type": "markdown",
   "metadata": {
    "slideshow": {
     "slide_type": "subslide"
    }
   },
   "source": [
    "## NumPy has a Datetime64 dtype, converted from strings"
   ]
  },
  {
   "cell_type": "code",
   "execution_count": 17,
   "metadata": {
    "collapsed": false
   },
   "outputs": [
    {
     "data": {
      "text/plain": [
       "numpy.datetime64('2015-04-21')"
      ]
     },
     "execution_count": 17,
     "metadata": {},
     "output_type": "execute_result"
    }
   ],
   "source": [
    "np.datetime64('2015-04-09') + 12"
   ]
  },
  {
   "cell_type": "code",
   "execution_count": 18,
   "metadata": {
    "collapsed": false
   },
   "outputs": [
    {
     "data": {
      "text/plain": [
       "array(['2016-06-07T13:23:02.960833+0200',\n",
       "       '2016-06-07T13:23:03.960867+0200', '2016-06-07T13:23:04.960878+0200'], dtype='datetime64[us]')"
      ]
     },
     "execution_count": 18,
     "metadata": {},
     "output_type": "execute_result"
    }
   ],
   "source": [
    "mins = np.array([str(datetime.now() + timedelta(seconds=el)) for el in range(100)],\n",
    "               dtype=np.datetime64)\n",
    "mins[:3]"
   ]
  },
  {
   "cell_type": "markdown",
   "metadata": {
    "slideshow": {
     "slide_type": "subslide"
    }
   },
   "source": [
    "## Pandas Uses NumPy's Datetime dtype\n",
    "However, hdf5 files don't understand datetimes, so we need to convert after reading."
   ]
  },
  {
   "cell_type": "code",
   "execution_count": 19,
   "metadata": {
    "collapsed": false
   },
   "outputs": [
    {
     "data": {
      "text/html": [
       "<div>\n",
       "<table border=\"1\" class=\"dataframe\">\n",
       "  <thead>\n",
       "    <tr style=\"text-align: right;\">\n",
       "      <th></th>\n",
       "      <th>Time</th>\n",
       "      <th>X</th>\n",
       "      <th>Y</th>\n",
       "      <th>Z</th>\n",
       "      <th>Session</th>\n",
       "    </tr>\n",
       "  </thead>\n",
       "  <tbody>\n",
       "    <tr>\n",
       "      <th>0</th>\n",
       "      <td>136.783342</td>\n",
       "      <td>-0.168612</td>\n",
       "      <td>0.497566</td>\n",
       "      <td>-0.384482</td>\n",
       "      <td>1448890319922000000</td>\n",
       "    </tr>\n",
       "    <tr>\n",
       "      <th>100</th>\n",
       "      <td>137.616675</td>\n",
       "      <td>-0.146270</td>\n",
       "      <td>0.289156</td>\n",
       "      <td>-0.308755</td>\n",
       "      <td>1448890319922000000</td>\n",
       "    </tr>\n",
       "    <tr>\n",
       "      <th>200</th>\n",
       "      <td>138.450009</td>\n",
       "      <td>-0.043644</td>\n",
       "      <td>0.256933</td>\n",
       "      <td>-0.290230</td>\n",
       "      <td>1448890319922000000</td>\n",
       "    </tr>\n",
       "    <tr>\n",
       "      <th>300</th>\n",
       "      <td>139.283342</td>\n",
       "      <td>0.060798</td>\n",
       "      <td>0.259256</td>\n",
       "      <td>-0.454783</td>\n",
       "      <td>1448890319922000000</td>\n",
       "    </tr>\n",
       "    <tr>\n",
       "      <th>400</th>\n",
       "      <td>140.116676</td>\n",
       "      <td>-0.051600</td>\n",
       "      <td>0.284099</td>\n",
       "      <td>-0.572804</td>\n",
       "      <td>1448890319922000000</td>\n",
       "    </tr>\n",
       "  </tbody>\n",
       "</table>\n",
       "</div>"
      ],
      "text/plain": [
       "           Time         X         Y         Z              Session\n",
       "0    136.783342 -0.168612  0.497566 -0.384482  1448890319922000000\n",
       "100  137.616675 -0.146270  0.289156 -0.308755  1448890319922000000\n",
       "200  138.450009 -0.043644  0.256933 -0.290230  1448890319922000000\n",
       "300  139.283342  0.060798  0.259256 -0.454783  1448890319922000000\n",
       "400  140.116676 -0.051600  0.284099 -0.572804  1448890319922000000"
      ]
     },
     "execution_count": 19,
     "metadata": {},
     "output_type": "execute_result"
    }
   ],
   "source": [
    "data = pd.read_hdf('rel_data.h5', 'behav')\n",
    "data.head()"
   ]
  },
  {
   "cell_type": "markdown",
   "metadata": {
    "slideshow": {
     "slide_type": "subslide"
    }
   },
   "source": [
    "### After Conversion..."
   ]
  },
  {
   "cell_type": "code",
   "execution_count": 20,
   "metadata": {
    "collapsed": false
   },
   "outputs": [
    {
     "data": {
      "text/html": [
       "<div>\n",
       "<table border=\"1\" class=\"dataframe\">\n",
       "  <thead>\n",
       "    <tr style=\"text-align: right;\">\n",
       "      <th></th>\n",
       "      <th>Time</th>\n",
       "      <th>X</th>\n",
       "      <th>Y</th>\n",
       "      <th>Z</th>\n",
       "      <th>Session</th>\n",
       "    </tr>\n",
       "  </thead>\n",
       "  <tbody>\n",
       "    <tr>\n",
       "      <th>0</th>\n",
       "      <td>136.783342</td>\n",
       "      <td>-0.168612</td>\n",
       "      <td>0.497566</td>\n",
       "      <td>-0.384482</td>\n",
       "      <td>2015-11-30 13:31:59.922</td>\n",
       "    </tr>\n",
       "    <tr>\n",
       "      <th>100</th>\n",
       "      <td>137.616675</td>\n",
       "      <td>-0.146270</td>\n",
       "      <td>0.289156</td>\n",
       "      <td>-0.308755</td>\n",
       "      <td>2015-11-30 13:31:59.922</td>\n",
       "    </tr>\n",
       "    <tr>\n",
       "      <th>200</th>\n",
       "      <td>138.450009</td>\n",
       "      <td>-0.043644</td>\n",
       "      <td>0.256933</td>\n",
       "      <td>-0.290230</td>\n",
       "      <td>2015-11-30 13:31:59.922</td>\n",
       "    </tr>\n",
       "    <tr>\n",
       "      <th>300</th>\n",
       "      <td>139.283342</td>\n",
       "      <td>0.060798</td>\n",
       "      <td>0.259256</td>\n",
       "      <td>-0.454783</td>\n",
       "      <td>2015-11-30 13:31:59.922</td>\n",
       "    </tr>\n",
       "    <tr>\n",
       "      <th>400</th>\n",
       "      <td>140.116676</td>\n",
       "      <td>-0.051600</td>\n",
       "      <td>0.284099</td>\n",
       "      <td>-0.572804</td>\n",
       "      <td>2015-11-30 13:31:59.922</td>\n",
       "    </tr>\n",
       "  </tbody>\n",
       "</table>\n",
       "</div>"
      ],
      "text/plain": [
       "           Time         X         Y         Z                 Session\n",
       "0    136.783342 -0.168612  0.497566 -0.384482 2015-11-30 13:31:59.922\n",
       "100  137.616675 -0.146270  0.289156 -0.308755 2015-11-30 13:31:59.922\n",
       "200  138.450009 -0.043644  0.256933 -0.290230 2015-11-30 13:31:59.922\n",
       "300  139.283342  0.060798  0.259256 -0.454783 2015-11-30 13:31:59.922\n",
       "400  140.116676 -0.051600  0.284099 -0.572804 2015-11-30 13:31:59.922"
      ]
     },
     "execution_count": 20,
     "metadata": {},
     "output_type": "execute_result"
    }
   ],
   "source": [
    "data['Session'] = pd.DatetimeIndex(data['Session'])\n",
    "data.head()"
   ]
  },
  {
   "cell_type": "markdown",
   "metadata": {
    "slideshow": {
     "slide_type": "subslide"
    }
   },
   "source": [
    "## Experiment Time is More Accurately Described As a TimeDelta"
   ]
  },
  {
   "cell_type": "code",
   "execution_count": 21,
   "metadata": {
    "collapsed": false
   },
   "outputs": [
    {
     "data": {
      "text/html": [
       "<div>\n",
       "<table border=\"1\" class=\"dataframe\">\n",
       "  <thead>\n",
       "    <tr style=\"text-align: right;\">\n",
       "      <th></th>\n",
       "      <th>X</th>\n",
       "      <th>Y</th>\n",
       "      <th>Z</th>\n",
       "      <th>Session</th>\n",
       "    </tr>\n",
       "    <tr>\n",
       "      <th>Time</th>\n",
       "      <th></th>\n",
       "      <th></th>\n",
       "      <th></th>\n",
       "      <th></th>\n",
       "    </tr>\n",
       "  </thead>\n",
       "  <tbody>\n",
       "    <tr>\n",
       "      <th>1970-01-01 00:02:16.783342</th>\n",
       "      <td>-0.168612</td>\n",
       "      <td>0.497566</td>\n",
       "      <td>-0.384482</td>\n",
       "      <td>2015-11-30 13:31:59.922</td>\n",
       "    </tr>\n",
       "    <tr>\n",
       "      <th>1970-01-01 00:02:17.616675</th>\n",
       "      <td>-0.146270</td>\n",
       "      <td>0.289156</td>\n",
       "      <td>-0.308755</td>\n",
       "      <td>2015-11-30 13:31:59.922</td>\n",
       "    </tr>\n",
       "    <tr>\n",
       "      <th>1970-01-01 00:02:18.450009</th>\n",
       "      <td>-0.043644</td>\n",
       "      <td>0.256933</td>\n",
       "      <td>-0.290230</td>\n",
       "      <td>2015-11-30 13:31:59.922</td>\n",
       "    </tr>\n",
       "    <tr>\n",
       "      <th>1970-01-01 00:02:19.283342</th>\n",
       "      <td>0.060798</td>\n",
       "      <td>0.259256</td>\n",
       "      <td>-0.454783</td>\n",
       "      <td>2015-11-30 13:31:59.922</td>\n",
       "    </tr>\n",
       "    <tr>\n",
       "      <th>1970-01-01 00:02:20.116676</th>\n",
       "      <td>-0.051600</td>\n",
       "      <td>0.284099</td>\n",
       "      <td>-0.572804</td>\n",
       "      <td>2015-11-30 13:31:59.922</td>\n",
       "    </tr>\n",
       "  </tbody>\n",
       "</table>\n",
       "</div>"
      ],
      "text/plain": [
       "                                   X         Y         Z  \\\n",
       "Time                                                       \n",
       "1970-01-01 00:02:16.783342 -0.168612  0.497566 -0.384482   \n",
       "1970-01-01 00:02:17.616675 -0.146270  0.289156 -0.308755   \n",
       "1970-01-01 00:02:18.450009 -0.043644  0.256933 -0.290230   \n",
       "1970-01-01 00:02:19.283342  0.060798  0.259256 -0.454783   \n",
       "1970-01-01 00:02:20.116676 -0.051600  0.284099 -0.572804   \n",
       "\n",
       "                                           Session  \n",
       "Time                                                \n",
       "1970-01-01 00:02:16.783342 2015-11-30 13:31:59.922  \n",
       "1970-01-01 00:02:17.616675 2015-11-30 13:31:59.922  \n",
       "1970-01-01 00:02:18.450009 2015-11-30 13:31:59.922  \n",
       "1970-01-01 00:02:19.283342 2015-11-30 13:31:59.922  \n",
       "1970-01-01 00:02:20.116676 2015-11-30 13:31:59.922  "
      ]
     },
     "execution_count": 21,
     "metadata": {},
     "output_type": "execute_result"
    }
   ],
   "source": [
    "data_t = data.copy()\n",
    "data_t['Time'] = pd.to_datetime(data['Time'], unit='s')\n",
    "data_t = data_t.set_index('Time')\n",
    "data_t.head()"
   ]
  },
  {
   "cell_type": "markdown",
   "metadata": {
    "collapsed": true,
    "slideshow": {
     "slide_type": "subslide"
    }
   },
   "source": [
    "## Plotting Data with Time Axis"
   ]
  },
  {
   "cell_type": "code",
   "execution_count": 22,
   "metadata": {
    "collapsed": false
   },
   "outputs": [
    {
     "data": {
      "text/plain": [
       "<matplotlib.axes._subplots.AxesSubplot at 0x7fb0dd0829b0>"
      ]
     },
     "execution_count": 22,
     "metadata": {},
     "output_type": "execute_result"
    },
    {
     "data": {
      "image/png": "[encoded data removed]",
      "text/plain": [
       "<matplotlib.figure.Figure at 0x7fb0dc02e1d0>"
      ]
     },
     "metadata": {},
     "output_type": "display_data"
    }
   ],
   "source": [
    "sess = data_t[data_t['Session'] == data_t.ix[0, 'Session']]\n",
    "fg, ax = plt.subplots()\n",
    "sess.plot(y='X', ax=ax)\n",
    "# tick_labels = ax.xaxis.major.formatter.seq\n",
    "# ax.xaxis.major.formatter.seq = [label.split(':')[-1] if label else \"\" for label in tick_labels]"
   ]
  },
  {
   "cell_type": "markdown",
   "metadata": {
    "slideshow": {
     "slide_type": "subslide"
    }
   },
   "source": [
    "## Resampling Data"
   ]
  },
  {
   "cell_type": "code",
   "execution_count": 23,
   "metadata": {
    "collapsed": false
   },
   "outputs": [
    {
     "name": "stdout",
     "output_type": "stream",
     "text": [
      "<class 'pandas.tseries.resample.DatetimeIndexResampler'>\n"
     ]
    },
    {
     "data": {
      "text/plain": [
       "<matplotlib.axes._subplots.AxesSubplot at 0x7fb0d9c2ff28>"
      ]
     },
     "execution_count": 23,
     "metadata": {},
     "output_type": "execute_result"
    },
    {
     "data": {
      "image/png": "[encoded data removed]",
      "text/plain": [
       "<matplotlib.figure.Figure at 0x7fb0d9772dd8>"
      ]
     },
     "metadata": {},
     "output_type": "display_data"
    }
   ],
   "source": [
    "resampler = sess.resample('5s')\n",
    "print(type(resampler))\n",
    "sess_r = resampler.bfill()\n",
    "sess_r.head()\n",
    "sess_r.plot(y='X')  # Timedeltas seem to still have some bugs regarding plotting"
   ]
  },
  {
   "cell_type": "code",
   "execution_count": 24,
   "metadata": {
    "collapsed": true,
    "slideshow": {
     "slide_type": "subslide"
    }
   },
   "outputs": [],
   "source": [
    "del sess['Session']"
   ]
  },
  {
   "cell_type": "markdown",
   "metadata": {
    "slideshow": {
     "slide_type": "subslide"
    }
   },
   "source": [
    "## Rolling Mean: rolling() works like agg() "
   ]
  },
  {
   "cell_type": "code",
   "execution_count": 26,
   "metadata": {
    "collapsed": false
   },
   "outputs": [
    {
     "data": {
      "text/plain": [
       "<matplotlib.axes._subplots.AxesSubplot at 0x7fb0d9677f98>"
      ]
     },
     "execution_count": 26,
     "metadata": {},
     "output_type": "execute_result"
    },
    {
     "data": {
      "image/png": "[encoded data removed]",
      "text/plain": [
       "<matplotlib.figure.Figure at 0x7fb0d96f8780>"
      ]
     },
     "metadata": {},
     "output_type": "display_data"
    }
   ],
   "source": [
    "sess_rm = sess.rolling(window=50, center=True).mean()\n",
    "sess_rm.head(10)\n",
    "sess_rm.plot()"
   ]
  },
  {
   "cell_type": "markdown",
   "metadata": {
    "slideshow": {
     "slide_type": "subslide"
    }
   },
   "source": [
    "## Conclusions\n",
    "  - Timeseries Analysis Works in Tabular Data\n",
    "  - Datetime and TimeDelta Representation has nice features, but still Needs to be fully implemented in Numpy and Pandas"
   ]
  },
  {
   "cell_type": "code",
   "execution_count": null,
   "metadata": {
    "collapsed": true
   },
   "outputs": [],
   "source": []
  },
  {
   "cell_type": "markdown",
   "metadata": {
    "slideshow": {
     "slide_type": "slide"
    }
   },
   "source": [
    "## Discussion/Questions"
   ]
  },
  {
   "cell_type": "code",
   "execution_count": null,
   "metadata": {
    "collapsed": true
   },
   "outputs": [],
   "source": []
  }
 ],
 "metadata": {
  "celltoolbar": "Slideshow",
  "kernelspec": {
   "display_name": "Python 3",
   "language": "python",
   "name": "python3"
  },
  "language_info": {
   "codemirror_mode": {
    "name": "ipython",
    "version": 3
   },
   "file_extension": ".py",
   "mimetype": "text/x-python",
   "name": "python",
   "nbconvert_exporter": "python",
   "pygments_lexer": "ipython3",
   "version": "3.5.1"
  }
 },
 "nbformat": 4,
 "nbformat_minor": 0
}
